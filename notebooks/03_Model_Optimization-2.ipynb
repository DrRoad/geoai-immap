{
 "cells": [
  {
   "cell_type": "markdown",
   "metadata": {},
   "source": [
    "# Model Experimentation: Hyperparameter Optimization\n",
    "This notebook conducts experiments on hyperparameter optimization."
   ]
  },
  {
   "cell_type": "markdown",
   "metadata": {},
   "source": [
    "## Imports and Setup"
   ]
  },
  {
   "cell_type": "code",
   "execution_count": 1,
   "metadata": {},
   "outputs": [],
   "source": [
    "import pandas as pd\n",
    "import numpy as np\n",
    "\n",
    "import matplotlib.pyplot as plt\n",
    "import seaborn as sns\n",
    "sns.set(style=\"whitegrid\")\n",
    "\n",
    "import sys\n",
    "sys.path.insert(0, '../utils')\n",
    "import model_utils\n",
    "import geoutils\n",
    "\n",
    "import logging\n",
    "import warnings\n",
    "logging.getLogger().setLevel(logging.ERROR)\n",
    "warnings.filterwarnings(\"ignore\")\n",
    "\n",
    "SEED = 42\n",
    "\n",
    "%load_ext autoreload\n",
    "%autoreload 2"
   ]
  },
  {
   "cell_type": "markdown",
   "metadata": {},
   "source": [
    "## File Location"
   ]
  },
  {
   "cell_type": "code",
   "execution_count": 2,
   "metadata": {},
   "outputs": [],
   "source": [
    "data_dir = \"../data/\"\n",
    "input_file = data_dir + '20200409_dataset.csv'\n",
    "\n",
    "pos_mask_dir = data_dir + 'pos_masks/'\n",
    "neg_mask_dir = data_dir + 'neg_masks/'\n",
    "sentinel_dir = data_dir + 'sentinel2/'\n",
    "false_pos_dir = data_dir + 'false_pos/'\n",
    "\n",
    "areas = ['maicao', 'riohacha', 'uribia']"
   ]
  },
  {
   "cell_type": "markdown",
   "metadata": {},
   "source": [
    "## Load Dataset"
   ]
  },
  {
   "cell_type": "code",
   "execution_count": 3,
   "metadata": {},
   "outputs": [
    {
     "name": "stdout",
     "output_type": "stream",
     "text": [
      "Data dimensions: (690163, 112)\n"
     ]
    },
    {
     "data": {
      "text/html": [
       "<div>\n",
       "<style scoped>\n",
       "    .dataframe tbody tr th:only-of-type {\n",
       "        vertical-align: middle;\n",
       "    }\n",
       "\n",
       "    .dataframe tbody tr th {\n",
       "        vertical-align: top;\n",
       "    }\n",
       "\n",
       "    .dataframe thead th {\n",
       "        text-align: right;\n",
       "    }\n",
       "</style>\n",
       "<table border=\"1\" class=\"dataframe\">\n",
       "  <thead>\n",
       "    <tr style=\"text-align: right;\">\n",
       "      <th></th>\n",
       "      <th>B1_2016</th>\n",
       "      <th>B2_2016</th>\n",
       "      <th>B3_2016</th>\n",
       "      <th>B4_2016</th>\n",
       "      <th>B5_2016</th>\n",
       "      <th>B6_2016</th>\n",
       "      <th>B7_2016</th>\n",
       "      <th>B8_2016</th>\n",
       "      <th>B9_2016</th>\n",
       "      <th>B10_2016</th>\n",
       "      <th>...</th>\n",
       "      <th>savi_2020</th>\n",
       "      <th>mndwi_2020</th>\n",
       "      <th>ui_2020</th>\n",
       "      <th>nbi_2020</th>\n",
       "      <th>brba_2020</th>\n",
       "      <th>nbai_2020</th>\n",
       "      <th>mbi_2020</th>\n",
       "      <th>baei_2020</th>\n",
       "      <th>target</th>\n",
       "      <th>area</th>\n",
       "    </tr>\n",
       "  </thead>\n",
       "  <tbody>\n",
       "    <tr>\n",
       "      <th>0</th>\n",
       "      <td>0.15970</td>\n",
       "      <td>0.13735</td>\n",
       "      <td>0.1531</td>\n",
       "      <td>0.18700</td>\n",
       "      <td>0.2090</td>\n",
       "      <td>0.26320</td>\n",
       "      <td>0.30515</td>\n",
       "      <td>0.26965</td>\n",
       "      <td>0.3327</td>\n",
       "      <td>0.0411</td>\n",
       "      <td>...</td>\n",
       "      <td>0.187614</td>\n",
       "      <td>-0.509745</td>\n",
       "      <td>0.105128</td>\n",
       "      <td>0.239614</td>\n",
       "      <td>0.449106</td>\n",
       "      <td>-0.718433</td>\n",
       "      <td>-0.042537</td>\n",
       "      <td>0.901237</td>\n",
       "      <td>3</td>\n",
       "      <td>0</td>\n",
       "    </tr>\n",
       "    <tr>\n",
       "      <th>1</th>\n",
       "      <td>0.15970</td>\n",
       "      <td>0.13905</td>\n",
       "      <td>0.1454</td>\n",
       "      <td>0.17845</td>\n",
       "      <td>0.2090</td>\n",
       "      <td>0.26320</td>\n",
       "      <td>0.30515</td>\n",
       "      <td>0.26395</td>\n",
       "      <td>0.3327</td>\n",
       "      <td>0.0411</td>\n",
       "      <td>...</td>\n",
       "      <td>0.177058</td>\n",
       "      <td>-0.507485</td>\n",
       "      <td>0.105128</td>\n",
       "      <td>0.247826</td>\n",
       "      <td>0.464498</td>\n",
       "      <td>-0.716955</td>\n",
       "      <td>-0.039760</td>\n",
       "      <td>0.911490</td>\n",
       "      <td>3</td>\n",
       "      <td>0</td>\n",
       "    </tr>\n",
       "    <tr>\n",
       "      <th>2</th>\n",
       "      <td>0.16675</td>\n",
       "      <td>0.14875</td>\n",
       "      <td>0.1589</td>\n",
       "      <td>0.18605</td>\n",
       "      <td>0.2258</td>\n",
       "      <td>0.27945</td>\n",
       "      <td>0.32070</td>\n",
       "      <td>0.28085</td>\n",
       "      <td>0.3452</td>\n",
       "      <td>0.0416</td>\n",
       "      <td>...</td>\n",
       "      <td>0.179191</td>\n",
       "      <td>-0.524371</td>\n",
       "      <td>0.073259</td>\n",
       "      <td>0.262348</td>\n",
       "      <td>0.446475</td>\n",
       "      <td>-0.722188</td>\n",
       "      <td>-0.033995</td>\n",
       "      <td>0.875915</td>\n",
       "      <td>3</td>\n",
       "      <td>0</td>\n",
       "    </tr>\n",
       "  </tbody>\n",
       "</table>\n",
       "<p>3 rows × 112 columns</p>\n",
       "</div>"
      ],
      "text/plain": [
       "   B1_2016  B2_2016  B3_2016  B4_2016  B5_2016  B6_2016  B7_2016  B8_2016  \\\n",
       "0  0.15970  0.13735   0.1531  0.18700   0.2090  0.26320  0.30515  0.26965   \n",
       "1  0.15970  0.13905   0.1454  0.17845   0.2090  0.26320  0.30515  0.26395   \n",
       "2  0.16675  0.14875   0.1589  0.18605   0.2258  0.27945  0.32070  0.28085   \n",
       "\n",
       "   B9_2016  B10_2016  ...  savi_2020  mndwi_2020   ui_2020  nbi_2020  \\\n",
       "0   0.3327    0.0411  ...   0.187614   -0.509745  0.105128  0.239614   \n",
       "1   0.3327    0.0411  ...   0.177058   -0.507485  0.105128  0.247826   \n",
       "2   0.3452    0.0416  ...   0.179191   -0.524371  0.073259  0.262348   \n",
       "\n",
       "   brba_2020  nbai_2020  mbi_2020  baei_2020  target  area  \n",
       "0   0.449106  -0.718433 -0.042537   0.901237       3     0  \n",
       "1   0.464498  -0.716955 -0.039760   0.911490       3     0  \n",
       "2   0.446475  -0.722188 -0.033995   0.875915       3     0  \n",
       "\n",
       "[3 rows x 112 columns]"
      ]
     },
     "execution_count": 3,
     "metadata": {},
     "output_type": "execute_result"
    }
   ],
   "source": [
    "data = pd.read_csv(input_file).reset_index(drop=True)\n",
    "print('Data dimensions: {}'.format(data.shape))\n",
    "data.head(3)"
   ]
  },
  {
   "cell_type": "markdown",
   "metadata": {},
   "source": [
    "## Resample Dataset\n",
    "Resamples 30,000 negative examples per area."
   ]
  },
  {
   "cell_type": "code",
   "execution_count": 4,
   "metadata": {},
   "outputs": [
    {
     "name": "stdout",
     "output_type": "stream",
     "text": [
      "Data dimensions: (223439, 113)\n"
     ]
    },
    {
     "data": {
      "text/html": [
       "<div>\n",
       "<style scoped>\n",
       "    .dataframe tbody tr th:only-of-type {\n",
       "        vertical-align: middle;\n",
       "    }\n",
       "\n",
       "    .dataframe tbody tr th {\n",
       "        vertical-align: top;\n",
       "    }\n",
       "\n",
       "    .dataframe thead th {\n",
       "        text-align: right;\n",
       "    }\n",
       "</style>\n",
       "<table border=\"1\" class=\"dataframe\">\n",
       "  <thead>\n",
       "    <tr style=\"text-align: right;\">\n",
       "      <th></th>\n",
       "      <th>B1_2016</th>\n",
       "      <th>B2_2016</th>\n",
       "      <th>B3_2016</th>\n",
       "      <th>B4_2016</th>\n",
       "      <th>B5_2016</th>\n",
       "      <th>B6_2016</th>\n",
       "      <th>B7_2016</th>\n",
       "      <th>B8_2016</th>\n",
       "      <th>B9_2016</th>\n",
       "      <th>B10_2016</th>\n",
       "      <th>...</th>\n",
       "      <th>mndwi_2020</th>\n",
       "      <th>ui_2020</th>\n",
       "      <th>nbi_2020</th>\n",
       "      <th>brba_2020</th>\n",
       "      <th>nbai_2020</th>\n",
       "      <th>mbi_2020</th>\n",
       "      <th>baei_2020</th>\n",
       "      <th>la_guajira</th>\n",
       "      <th>target</th>\n",
       "      <th>area</th>\n",
       "    </tr>\n",
       "  </thead>\n",
       "  <tbody>\n",
       "    <tr>\n",
       "      <th>0</th>\n",
       "      <td>0.1809</td>\n",
       "      <td>0.17790</td>\n",
       "      <td>0.1972</td>\n",
       "      <td>0.2371</td>\n",
       "      <td>0.2427</td>\n",
       "      <td>0.3009</td>\n",
       "      <td>0.33460</td>\n",
       "      <td>0.2913</td>\n",
       "      <td>0.3655</td>\n",
       "      <td>0.04435</td>\n",
       "      <td>...</td>\n",
       "      <td>-0.388713</td>\n",
       "      <td>0.040390</td>\n",
       "      <td>0.386829</td>\n",
       "      <td>0.574649</td>\n",
       "      <td>-0.603260</td>\n",
       "      <td>-0.010778</td>\n",
       "      <td>0.810930</td>\n",
       "      <td>1</td>\n",
       "      <td>4</td>\n",
       "      <td>0</td>\n",
       "    </tr>\n",
       "    <tr>\n",
       "      <th>1</th>\n",
       "      <td>0.1684</td>\n",
       "      <td>0.13690</td>\n",
       "      <td>0.1425</td>\n",
       "      <td>0.1458</td>\n",
       "      <td>0.1686</td>\n",
       "      <td>0.2696</td>\n",
       "      <td>0.30675</td>\n",
       "      <td>0.2652</td>\n",
       "      <td>0.3501</td>\n",
       "      <td>0.03810</td>\n",
       "      <td>...</td>\n",
       "      <td>-0.602441</td>\n",
       "      <td>0.098756</td>\n",
       "      <td>0.199285</td>\n",
       "      <td>0.318486</td>\n",
       "      <td>-0.752879</td>\n",
       "      <td>-0.057824</td>\n",
       "      <td>0.809911</td>\n",
       "      <td>1</td>\n",
       "      <td>4</td>\n",
       "      <td>0</td>\n",
       "    </tr>\n",
       "    <tr>\n",
       "      <th>2</th>\n",
       "      <td>0.1635</td>\n",
       "      <td>0.13655</td>\n",
       "      <td>0.1327</td>\n",
       "      <td>0.1346</td>\n",
       "      <td>0.1311</td>\n",
       "      <td>0.1754</td>\n",
       "      <td>0.20490</td>\n",
       "      <td>0.2100</td>\n",
       "      <td>0.2202</td>\n",
       "      <td>0.03560</td>\n",
       "      <td>...</td>\n",
       "      <td>-0.506141</td>\n",
       "      <td>0.128252</td>\n",
       "      <td>0.180842</td>\n",
       "      <td>0.403433</td>\n",
       "      <td>-0.754468</td>\n",
       "      <td>-0.048452</td>\n",
       "      <td>0.950226</td>\n",
       "      <td>1</td>\n",
       "      <td>4</td>\n",
       "      <td>0</td>\n",
       "    </tr>\n",
       "  </tbody>\n",
       "</table>\n",
       "<p>3 rows × 113 columns</p>\n",
       "</div>"
      ],
      "text/plain": [
       "   B1_2016  B2_2016  B3_2016  B4_2016  B5_2016  B6_2016  B7_2016  B8_2016  \\\n",
       "0   0.1809  0.17790   0.1972   0.2371   0.2427   0.3009  0.33460   0.2913   \n",
       "1   0.1684  0.13690   0.1425   0.1458   0.1686   0.2696  0.30675   0.2652   \n",
       "2   0.1635  0.13655   0.1327   0.1346   0.1311   0.1754  0.20490   0.2100   \n",
       "\n",
       "   B9_2016  B10_2016  ...  mndwi_2020   ui_2020  nbi_2020  brba_2020  \\\n",
       "0   0.3655   0.04435  ...   -0.388713  0.040390  0.386829   0.574649   \n",
       "1   0.3501   0.03810  ...   -0.602441  0.098756  0.199285   0.318486   \n",
       "2   0.2202   0.03560  ...   -0.506141  0.128252  0.180842   0.403433   \n",
       "\n",
       "   nbai_2020  mbi_2020  baei_2020  la_guajira  target  area  \n",
       "0  -0.603260 -0.010778   0.810930           1       4     0  \n",
       "1  -0.752879 -0.057824   0.809911           1       4     0  \n",
       "2  -0.754468 -0.048452   0.950226           1       4     0  \n",
       "\n",
       "[3 rows x 113 columns]"
      ]
     },
     "execution_count": 4,
     "metadata": {},
     "output_type": "execute_result"
    }
   ],
   "source": [
    "la_guajira = data['area'].apply(lambda x: model_utils.get_la_guajira(x)) \n",
    "data.insert(len(data.columns)-2, 'la_guajira', la_guajira)\n",
    "\n",
    "data = model_utils.resample(data, num_neg_samples=50000, false_pos_samples=5000, random_state=SEED)\n",
    "print('Data dimensions: {}'.format(data.shape))\n",
    "data.head(3)"
   ]
  },
  {
   "cell_type": "markdown",
   "metadata": {},
   "source": [
    "## Machine Learning Pipeline"
   ]
  },
  {
   "cell_type": "code",
   "execution_count": 5,
   "metadata": {},
   "outputs": [],
   "source": [
    "from sklearn.linear_model import LogisticRegression\n",
    "from sklearn.ensemble import RandomForestClassifier\n",
    "from sklearn.naive_bayes import GaussianNB\n",
    "from sklearn.svm import LinearSVC\n",
    "from lightgbm import LGBMClassifier\n",
    "SEED = 42"
   ]
  },
  {
   "cell_type": "markdown",
   "metadata": {},
   "source": [
    "## Define Features and Target Label"
   ]
  },
  {
   "cell_type": "code",
   "execution_count": 6,
   "metadata": {},
   "outputs": [
    {
     "name": "stdout",
     "output_type": "stream",
     "text": [
      "Data dimensions: (223439, 113)\n",
      "Class distribution:\n",
      "0    203792\n",
      "1     19647\n",
      "Name: target, dtype: int64\n"
     ]
    }
   ],
   "source": [
    "# Get target and feature columns\n",
    "label = 'target'\n",
    "features = [column for column in data.columns[:-2]]\n",
    "\n",
    "# Convert target labels to binary\n",
    "data[label] = data[label].replace({2:0, 3:0, 4:0})\n",
    "\n",
    "print('Data dimensions: {}'.format(data.shape))\n",
    "print('Class distribution:\\n{}'.format(data['target'].value_counts()))"
   ]
  },
  {
   "cell_type": "markdown",
   "metadata": {},
   "source": [
    "## Logistic Regression"
   ]
  },
  {
   "cell_type": "markdown",
   "metadata": {},
   "source": [
    "### Feature Selection: Recursive Feature Eleimination CV"
   ]
  },
  {
   "cell_type": "code",
   "execution_count": 7,
   "metadata": {},
   "outputs": [
    {
     "name": "stdout",
     "output_type": "stream",
     "text": [
      "['B3_2016', 'B7_2016', 'B10_2016', 'B11_2016', 'B12_2016', 'ui_2016', 'nbi_2016', 'nbai_2016', 'mbi_2016', 'B1_2017', 'B2_2017', 'B5_2017', 'B6_2017', 'B11_2017', 'B12_2017', 'mndwi_2017', 'ui_2017', 'mbi_2017', 'baei_2017', 'B2_2018', 'B6_2018', 'B7_2018', 'B8_2018', 'ndbi_2018', 'savi_2018', 'ui_2018', 'nbi_2018', 'mbi_2018', 'baei_2018', 'B1_2019', 'B2_2019', 'B5_2019', 'B6_2019', 'B7_2019', 'B9_2019', 'B10_2019', 'B12_2019', 'ndvi_2019', 'savi_2019', 'mndwi_2019', 'nbi_2019', 'brba_2019', 'nbai_2019', 'mbi_2019', 'B1_2020', 'B2_2020', 'B5_2020', 'B6_2020', 'B7_2020', 'B8_2020', 'B9_2020', 'B10_2020', 'B11_2020', 'B12_2020', 'savi_2020', 'mndwi_2020', 'brba_2020', 'nbai_2020', 'mbi_2020', 'baei_2020', 'la_guajira']\n"
     ]
    }
   ],
   "source": [
    "lr = LogisticRegression()\n",
    "lr_best_features = model_utils.rfecv_feature_selection(\n",
    "    lr, data, features, label, scoring='f1', step=10, verbose=0\n",
    ")\n",
    "print(lr_best_features)"
   ]
  },
  {
   "cell_type": "markdown",
   "metadata": {},
   "source": [
    "### [Baseline] Logistic Regression Results Sans Hyperparamater Optimization"
   ]
  },
  {
   "cell_type": "code",
   "execution_count": 8,
   "metadata": {},
   "outputs": [
    {
     "name": "stdout",
     "output_type": "stream",
     "text": [
      "\n",
      "Test set: MAICAO\n",
      "[[48197  1803]\n",
      " [  254   456]]\n",
      "              precision    recall  f1-score   support\n",
      "\n",
      "           0       0.99      0.96      0.98     50000\n",
      "           1       0.20      0.64      0.31       710\n",
      "\n",
      "    accuracy                           0.96     50710\n",
      "   macro avg       0.60      0.80      0.64     50710\n",
      "weighted avg       0.98      0.96      0.97     50710\n",
      "\n",
      "MAICAO Results: \n",
      "- F1 Score: 0.3072\n",
      "- Kappa Statistics: 0.2921\n",
      "- Precision: 0.2019\n",
      "- Recall: 0.6423\n",
      "- Accuracy: 0.9594\n",
      "\n",
      "Test set: RIOHACHA\n",
      "[[37530   918]\n",
      " [ 2023  1478]]\n",
      "              precision    recall  f1-score   support\n",
      "\n",
      "           0       0.95      0.98      0.96     38448\n",
      "           1       0.62      0.42      0.50      3501\n",
      "\n",
      "    accuracy                           0.93     41949\n",
      "   macro avg       0.78      0.70      0.73     41949\n",
      "weighted avg       0.92      0.93      0.92     41949\n",
      "\n",
      "RIOHACHA Results: \n",
      "- F1 Score: 0.5013\n",
      "- Kappa Statistics: 0.4650\n",
      "- Precision: 0.6169\n",
      "- Recall: 0.4222\n",
      "- Accuracy: 0.9299\n",
      "\n",
      "Test set: URIBIA\n",
      "[[38448     0]\n",
      " [ 9006  1339]]\n",
      "              precision    recall  f1-score   support\n",
      "\n",
      "           0       0.81      1.00      0.90     38448\n",
      "           1       1.00      0.13      0.23     10345\n",
      "\n",
      "    accuracy                           0.82     48793\n",
      "   macro avg       0.91      0.56      0.56     48793\n",
      "weighted avg       0.85      0.82      0.75     48793\n",
      "\n",
      "URIBIA Results: \n",
      "- F1 Score: 0.2292\n",
      "- Kappa Statistics: 0.1898\n",
      "- Precision: 1.0000\n",
      "- Recall: 0.1294\n",
      "- Accuracy: 0.8154\n",
      "\n",
      "Test set: ARAUCA1\n",
      "[[38211   237]\n",
      " [ 1234  1192]]\n",
      "              precision    recall  f1-score   support\n",
      "\n",
      "           0       0.97      0.99      0.98     38448\n",
      "           1       0.83      0.49      0.62      2426\n",
      "\n",
      "    accuracy                           0.96     40874\n",
      "   macro avg       0.90      0.74      0.80     40874\n",
      "weighted avg       0.96      0.96      0.96     40874\n",
      "\n",
      "ARAUCA1 Results: \n",
      "- F1 Score: 0.6184\n",
      "- Kappa Statistics: 0.6009\n",
      "- Precision: 0.8341\n",
      "- Recall: 0.4913\n",
      "- Accuracy: 0.9640\n",
      "\n",
      "Test set: CUCUTA\n",
      "[[37908   540]\n",
      " [  237  2428]]\n",
      "              precision    recall  f1-score   support\n",
      "\n",
      "           0       0.99      0.99      0.99     38448\n",
      "           1       0.82      0.91      0.86      2665\n",
      "\n",
      "    accuracy                           0.98     41113\n",
      "   macro avg       0.91      0.95      0.93     41113\n",
      "weighted avg       0.98      0.98      0.98     41113\n",
      "\n",
      "CUCUTA Results: \n",
      "- F1 Score: 0.8621\n",
      "- Kappa Statistics: 0.8519\n",
      "- Precision: 0.8181\n",
      "- Recall: 0.9111\n",
      "- Accuracy: 0.9811\n",
      "\n",
      "Average F1 Score: 0.5036\n",
      "Average Kappa statistic: 0.4799\n",
      "Average Precision: 0.6942\n",
      "Average Recall: 0.5193\n",
      "Average Accuracy: 0.9300\n",
      "\n"
     ]
    }
   ],
   "source": [
    "lr = LogisticRegression()\n",
    "results, clfs = model_utils.geospatialcv(data, lr_best_features, label, lr, verbose=2);"
   ]
  },
  {
   "cell_type": "markdown",
   "metadata": {},
   "source": [
    "### Grid Search Cross Validation"
   ]
  },
  {
   "cell_type": "code",
   "execution_count": 9,
   "metadata": {},
   "outputs": [
    {
     "name": "stdout",
     "output_type": "stream",
     "text": [
      "Fitting 5 folds for each of 5 candidates, totalling 25 fits\n"
     ]
    },
    {
     "name": "stderr",
     "output_type": "stream",
     "text": [
      "[Parallel(n_jobs=-1)]: Using backend LokyBackend with 8 concurrent workers.\n",
      "[Parallel(n_jobs=-1)]: Done  23 out of  25 | elapsed:   31.4s remaining:    2.7s\n",
      "[Parallel(n_jobs=-1)]: Done  25 out of  25 | elapsed:   35.2s finished\n"
     ]
    },
    {
     "name": "stdout",
     "output_type": "stream",
     "text": [
      "Best Paramaters: {'classifier__C': 10, 'classifier__penalty': 'l2'}\n"
     ]
    }
   ],
   "source": [
    "param_grid = {\n",
    "    'classifier__penalty': ['l2'],\n",
    "    'classifier__C':[0.001, 0.01, 1.0, 5.0, 10]\n",
    "}\n",
    "lr_grid_search = model_utils.hyperparameter_optimization(\n",
    "    data, lr_best_features, label, lr, param_grid, scoring='f1', verbose=2\n",
    ")"
   ]
  },
  {
   "cell_type": "markdown",
   "metadata": {},
   "source": [
    "### Logistic Regression Results with Hyperparameter Optimization"
   ]
  },
  {
   "cell_type": "code",
   "execution_count": 12,
   "metadata": {},
   "outputs": [
    {
     "name": "stdout",
     "output_type": "stream",
     "text": [
      "\n",
      "Test set: MAICAO\n",
      "[[47886  2114]\n",
      " [  223   487]]\n",
      "              precision    recall  f1-score   support\n",
      "\n",
      "           0       1.00      0.96      0.98     50000\n",
      "           1       0.19      0.69      0.29       710\n",
      "\n",
      "    accuracy                           0.95     50710\n",
      "   macro avg       0.59      0.82      0.64     50710\n",
      "weighted avg       0.98      0.95      0.97     50710\n",
      "\n",
      "MAICAO Results: \n",
      "- F1 Score: 0.2942\n",
      "- Kappa Statistics: 0.2783\n",
      "- Precision: 0.1872\n",
      "- Recall: 0.6859\n",
      "- Accuracy: 0.9539\n",
      "\n",
      "Test set: RIOHACHA\n",
      "[[37930   518]\n",
      " [ 1882  1619]]\n",
      "              precision    recall  f1-score   support\n",
      "\n",
      "           0       0.95      0.99      0.97     38448\n",
      "           1       0.76      0.46      0.57      3501\n",
      "\n",
      "    accuracy                           0.94     41949\n",
      "   macro avg       0.86      0.72      0.77     41949\n",
      "weighted avg       0.94      0.94      0.94     41949\n",
      "\n",
      "RIOHACHA Results: \n",
      "- F1 Score: 0.5743\n",
      "- Kappa Statistics: 0.5456\n",
      "- Precision: 0.7576\n",
      "- Recall: 0.4624\n",
      "- Accuracy: 0.9428\n",
      "\n",
      "Test set: URIBIA\n",
      "[[38441     7]\n",
      " [ 9194  1151]]\n",
      "              precision    recall  f1-score   support\n",
      "\n",
      "           0       0.81      1.00      0.89     38448\n",
      "           1       0.99      0.11      0.20     10345\n",
      "\n",
      "    accuracy                           0.81     48793\n",
      "   macro avg       0.90      0.56      0.55     48793\n",
      "weighted avg       0.85      0.81      0.75     48793\n",
      "\n",
      "URIBIA Results: \n",
      "- F1 Score: 0.2001\n",
      "- Kappa Statistics: 0.1645\n",
      "- Precision: 0.9940\n",
      "- Recall: 0.1113\n",
      "- Accuracy: 0.8114\n",
      "\n",
      "Test set: ARAUCA1\n",
      "[[38099   349]\n",
      " [ 1119  1307]]\n",
      "              precision    recall  f1-score   support\n",
      "\n",
      "           0       0.97      0.99      0.98     38448\n",
      "           1       0.79      0.54      0.64      2426\n",
      "\n",
      "    accuracy                           0.96     40874\n",
      "   macro avg       0.88      0.76      0.81     40874\n",
      "weighted avg       0.96      0.96      0.96     40874\n",
      "\n",
      "ARAUCA1 Results: \n",
      "- F1 Score: 0.6404\n",
      "- Kappa Statistics: 0.6222\n",
      "- Precision: 0.7893\n",
      "- Recall: 0.5387\n",
      "- Accuracy: 0.9641\n",
      "\n",
      "Test set: CUCUTA\n",
      "[[37692   756]\n",
      " [  195  2470]]\n",
      "              precision    recall  f1-score   support\n",
      "\n",
      "           0       0.99      0.98      0.99     38448\n",
      "           1       0.77      0.93      0.84      2665\n",
      "\n",
      "    accuracy                           0.98     41113\n",
      "   macro avg       0.88      0.95      0.91     41113\n",
      "weighted avg       0.98      0.98      0.98     41113\n",
      "\n",
      "CUCUTA Results: \n",
      "- F1 Score: 0.8386\n",
      "- Kappa Statistics: 0.8262\n",
      "- Precision: 0.7657\n",
      "- Recall: 0.9268\n",
      "- Accuracy: 0.9769\n",
      "\n",
      "Average F1 Score: 0.5095\n",
      "Average Kappa statistic: 0.4873\n",
      "Average Precision: 0.6987\n",
      "Average Recall: 0.5450\n",
      "Average Accuracy: 0.9298\n",
      "\n"
     ]
    }
   ],
   "source": [
    "lr = LogisticRegression(C=10)\n",
    "results, clfs = model_utils.geospatialcv(data, lr_best_features, label, lr, verbose=2);"
   ]
  },
  {
   "cell_type": "markdown",
   "metadata": {},
   "source": [
    "## LinearSVC"
   ]
  },
  {
   "cell_type": "code",
   "execution_count": 13,
   "metadata": {},
   "outputs": [
    {
     "name": "stdout",
     "output_type": "stream",
     "text": [
      "['B5_2016', 'B10_2016', 'B1_2017', 'B2_2017', 'B5_2017', 'B10_2017', 'B6_2019', 'B7_2019', 'B9_2019', 'mbi_2019', 'B1_2020']\n"
     ]
    }
   ],
   "source": [
    "lsvc = LinearSVC(random_state=SEED)\n",
    "lsvc_best_features = model_utils.rfecv_feature_selection(\n",
    "    lr, data, features, label, scoring='f1', step=10, verbose=0\n",
    ")\n",
    "print(lsvc_best_features)"
   ]
  },
  {
   "cell_type": "markdown",
   "metadata": {},
   "source": [
    "### [Baseline] LinearSVC Results Sans Hyperparamater Optimization"
   ]
  },
  {
   "cell_type": "code",
   "execution_count": 14,
   "metadata": {},
   "outputs": [
    {
     "name": "stdout",
     "output_type": "stream",
     "text": [
      "\n",
      "Test set: MAICAO\n",
      "[[49055   945]\n",
      " [  218   492]]\n",
      "              precision    recall  f1-score   support\n",
      "\n",
      "           0       1.00      0.98      0.99     50000\n",
      "           1       0.34      0.69      0.46       710\n",
      "\n",
      "    accuracy                           0.98     50710\n",
      "   macro avg       0.67      0.84      0.72     50710\n",
      "weighted avg       0.99      0.98      0.98     50710\n",
      "\n",
      "MAICAO Results: \n",
      "- F1 Score: 0.4583\n",
      "- Kappa Statistics: 0.4480\n",
      "- Precision: 0.3424\n",
      "- Recall: 0.6930\n",
      "- Accuracy: 0.9771\n",
      "\n",
      "Test set: RIOHACHA\n",
      "[[36034  2414]\n",
      " [ 1213  2288]]\n",
      "              precision    recall  f1-score   support\n",
      "\n",
      "           0       0.97      0.94      0.95     38448\n",
      "           1       0.49      0.65      0.56      3501\n",
      "\n",
      "    accuracy                           0.91     41949\n",
      "   macro avg       0.73      0.80      0.75     41949\n",
      "weighted avg       0.93      0.91      0.92     41949\n",
      "\n",
      "RIOHACHA Results: \n",
      "- F1 Score: 0.5578\n",
      "- Kappa Statistics: 0.5111\n",
      "- Precision: 0.4866\n",
      "- Recall: 0.6535\n",
      "- Accuracy: 0.9135\n",
      "\n",
      "Test set: URIBIA\n",
      "[[38430    18]\n",
      " [ 7321  3024]]\n",
      "              precision    recall  f1-score   support\n",
      "\n",
      "           0       0.84      1.00      0.91     38448\n",
      "           1       0.99      0.29      0.45     10345\n",
      "\n",
      "    accuracy                           0.85     48793\n",
      "   macro avg       0.92      0.65      0.68     48793\n",
      "weighted avg       0.87      0.85      0.82     48793\n",
      "\n",
      "URIBIA Results: \n",
      "- F1 Score: 0.4518\n",
      "- Kappa Statistics: 0.3933\n",
      "- Precision: 0.9941\n",
      "- Recall: 0.2923\n",
      "- Accuracy: 0.8496\n",
      "\n",
      "Test set: ARAUCA1\n",
      "[[38359    89]\n",
      " [ 1461   965]]\n",
      "              precision    recall  f1-score   support\n",
      "\n",
      "           0       0.96      1.00      0.98     38448\n",
      "           1       0.92      0.40      0.55      2426\n",
      "\n",
      "    accuracy                           0.96     40874\n",
      "   macro avg       0.94      0.70      0.77     40874\n",
      "weighted avg       0.96      0.96      0.95     40874\n",
      "\n",
      "ARAUCA1 Results: \n",
      "- F1 Score: 0.5546\n",
      "- Kappa Statistics: 0.5380\n",
      "- Precision: 0.9156\n",
      "- Recall: 0.3978\n",
      "- Accuracy: 0.9621\n",
      "\n",
      "Test set: CUCUTA\n",
      "[[38057   391]\n",
      " [  313  2352]]\n",
      "              precision    recall  f1-score   support\n",
      "\n",
      "           0       0.99      0.99      0.99     38448\n",
      "           1       0.86      0.88      0.87      2665\n",
      "\n",
      "    accuracy                           0.98     41113\n",
      "   macro avg       0.92      0.94      0.93     41113\n",
      "weighted avg       0.98      0.98      0.98     41113\n",
      "\n",
      "CUCUTA Results: \n",
      "- F1 Score: 0.8698\n",
      "- Kappa Statistics: 0.8607\n",
      "- Precision: 0.8575\n",
      "- Recall: 0.8826\n",
      "- Accuracy: 0.9829\n",
      "\n",
      "Average F1 Score: 0.5785\n",
      "Average Kappa statistic: 0.5502\n",
      "Average Precision: 0.7192\n",
      "Average Recall: 0.5838\n",
      "Average Accuracy: 0.9370\n",
      "\n"
     ]
    }
   ],
   "source": [
    "lsvc = LinearSVC(random_state=SEED)\n",
    "results, clfs = model_utils.geospatialcv(data, lsvc_best_features, label, lsvc, verbose=2);"
   ]
  },
  {
   "cell_type": "markdown",
   "metadata": {},
   "source": [
    "### Grid Search Cross Validation\n",
    "Reference: https://towardsdatascience.com/svm-hyper-parameter-tuning-using-gridsearchcv-49c0bc55ce29"
   ]
  },
  {
   "cell_type": "code",
   "execution_count": 15,
   "metadata": {},
   "outputs": [
    {
     "name": "stdout",
     "output_type": "stream",
     "text": [
      "Fitting 5 folds for each of 6 candidates, totalling 30 fits\n"
     ]
    },
    {
     "name": "stderr",
     "output_type": "stream",
     "text": [
      "[Parallel(n_jobs=-1)]: Using backend LokyBackend with 8 concurrent workers.\n",
      "[Parallel(n_jobs=-1)]: Done  30 out of  30 | elapsed:  1.8min finished\n"
     ]
    },
    {
     "name": "stdout",
     "output_type": "stream",
     "text": [
      "Best Paramaters: {'classifier__C': 1000}\n"
     ]
    }
   ],
   "source": [
    "lsvc = LinearSVC(random_state=SEED)\n",
    "param_grid = {'classifier__C': [0.001, 0.1, 1, 10, 100, 1000]}\n",
    "lsvc_grid_search = model_utils.hyperparameter_optimization(\n",
    "    data, lsvc_best_features, label, lsvc, param_grid, scoring='f1', verbose=2\n",
    ")"
   ]
  },
  {
   "cell_type": "markdown",
   "metadata": {},
   "source": [
    "### LinearSVC Results with Hyperparameter Optimization"
   ]
  },
  {
   "cell_type": "code",
   "execution_count": 16,
   "metadata": {},
   "outputs": [
    {
     "name": "stdout",
     "output_type": "stream",
     "text": [
      "\n",
      "Test set: MAICAO\n",
      "[[49616   384]\n",
      " [  390   320]]\n",
      "              precision    recall  f1-score   support\n",
      "\n",
      "           0       0.99      0.99      0.99     50000\n",
      "           1       0.45      0.45      0.45       710\n",
      "\n",
      "    accuracy                           0.98     50710\n",
      "   macro avg       0.72      0.72      0.72     50710\n",
      "weighted avg       0.98      0.98      0.98     50710\n",
      "\n",
      "MAICAO Results: \n",
      "- F1 Score: 0.4526\n",
      "- Kappa Statistics: 0.4449\n",
      "- Precision: 0.4545\n",
      "- Recall: 0.4507\n",
      "- Accuracy: 0.9847\n",
      "\n",
      "Test set: RIOHACHA\n",
      "[[36894  1554]\n",
      " [ 1434  2067]]\n",
      "              precision    recall  f1-score   support\n",
      "\n",
      "           0       0.96      0.96      0.96     38448\n",
      "           1       0.57      0.59      0.58      3501\n",
      "\n",
      "    accuracy                           0.93     41949\n",
      "   macro avg       0.77      0.77      0.77     41949\n",
      "weighted avg       0.93      0.93      0.93     41949\n",
      "\n",
      "RIOHACHA Results: \n",
      "- F1 Score: 0.5805\n",
      "- Kappa Statistics: 0.5415\n",
      "- Precision: 0.5708\n",
      "- Recall: 0.5904\n",
      "- Accuracy: 0.9288\n",
      "\n",
      "Test set: URIBIA\n",
      "[[38309   139]\n",
      " [ 4862  5483]]\n",
      "              precision    recall  f1-score   support\n",
      "\n",
      "           0       0.89      1.00      0.94     38448\n",
      "           1       0.98      0.53      0.69     10345\n",
      "\n",
      "    accuracy                           0.90     48793\n",
      "   macro avg       0.93      0.76      0.81     48793\n",
      "weighted avg       0.91      0.90      0.89     48793\n",
      "\n",
      "URIBIA Results: \n",
      "- F1 Score: 0.6868\n",
      "- Kappa Statistics: 0.6318\n",
      "- Precision: 0.9753\n",
      "- Recall: 0.5300\n",
      "- Accuracy: 0.8975\n",
      "\n",
      "Test set: ARAUCA1\n",
      "[[38395    53]\n",
      " [ 1738   688]]\n",
      "              precision    recall  f1-score   support\n",
      "\n",
      "           0       0.96      1.00      0.98     38448\n",
      "           1       0.93      0.28      0.43      2426\n",
      "\n",
      "    accuracy                           0.96     40874\n",
      "   macro avg       0.94      0.64      0.71     40874\n",
      "weighted avg       0.96      0.96      0.94     40874\n",
      "\n",
      "ARAUCA1 Results: \n",
      "- F1 Score: 0.4345\n",
      "- Kappa Statistics: 0.4183\n",
      "- Precision: 0.9285\n",
      "- Recall: 0.2836\n",
      "- Accuracy: 0.9562\n",
      "\n",
      "Test set: CUCUTA\n",
      "[[37825   623]\n",
      " [  211  2454]]\n",
      "              precision    recall  f1-score   support\n",
      "\n",
      "           0       0.99      0.98      0.99     38448\n",
      "           1       0.80      0.92      0.85      2665\n",
      "\n",
      "    accuracy                           0.98     41113\n",
      "   macro avg       0.90      0.95      0.92     41113\n",
      "weighted avg       0.98      0.98      0.98     41113\n",
      "\n",
      "CUCUTA Results: \n",
      "- F1 Score: 0.8548\n",
      "- Kappa Statistics: 0.8439\n",
      "- Precision: 0.7975\n",
      "- Recall: 0.9208\n",
      "- Accuracy: 0.9797\n",
      "\n",
      "Average F1 Score: 0.6018\n",
      "Average Kappa statistic: 0.5761\n",
      "Average Precision: 0.7453\n",
      "Average Recall: 0.5551\n",
      "Average Accuracy: 0.9494\n",
      "\n"
     ]
    }
   ],
   "source": [
    "lsvc = LinearSVC(C=1000, random_state=SEED)\n",
    "results, clfs = model_utils.geospatialcv(data, lsvc_best_features, label, lsvc, verbose=2);"
   ]
  }
 ],
 "metadata": {
  "kernelspec": {
   "display_name": "venv",
   "language": "python",
   "name": "venv"
  },
  "language_info": {
   "codemirror_mode": {
    "name": "ipython",
    "version": 3
   },
   "file_extension": ".py",
   "mimetype": "text/x-python",
   "name": "python",
   "nbconvert_exporter": "python",
   "pygments_lexer": "ipython3",
   "version": "3.7.4"
  }
 },
 "nbformat": 4,
 "nbformat_minor": 4
}
