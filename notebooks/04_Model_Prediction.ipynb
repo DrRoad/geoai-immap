{
 "cells": [
  {
   "cell_type": "markdown",
   "metadata": {},
   "source": [
    "# Model Prediction\n",
    "This notebook implements prediction using sliding window approach."
   ]
  },
  {
   "cell_type": "markdown",
   "metadata": {},
   "source": [
    "## Imports and Setup"
   ]
  },
  {
   "cell_type": "code",
   "execution_count": 1,
   "metadata": {},
   "outputs": [],
   "source": [
    "import os\n",
    "import pandas as pd\n",
    "import numpy as np\n",
    "\n",
    "import matplotlib.pyplot as plt\n",
    "import seaborn as sns\n",
    "sns.set(style=\"whitegrid\")\n",
    "\n",
    "import sys\n",
    "sys.path.insert(0, '../utils')\n",
    "import model_utils\n",
    "import geoutils\n",
    "\n",
    "import logging\n",
    "import warnings\n",
    "logging.getLogger().setLevel(logging.ERROR)\n",
    "warnings.filterwarnings(\"ignore\")\n",
    "\n",
    "SEED = 42\n",
    "\n",
    "%load_ext autoreload\n",
    "%autoreload 2"
   ]
  },
  {
   "cell_type": "markdown",
   "metadata": {},
   "source": [
    "## File Location"
   ]
  },
  {
   "cell_type": "code",
   "execution_count": 2,
   "metadata": {},
   "outputs": [],
   "source": [
    "data_dir = \"../data/\"\n",
    "output_dir = \"../outputs/\"\n",
    "input_file = data_dir + '20200414_dataset.csv'\n",
    "\n",
    "pos_mask_dir = data_dir + 'pos_masks/'\n",
    "neg_mask_dir = data_dir + 'neg_masks/'\n",
    "sentinel_dir = data_dir + 'sentinel2/'\n",
    "indices_dir = data_dir + 'indices/'\n",
    "tmp_dir = data_dir + 'tmp/'\n",
    "\n",
    "if not os.path.exists(output_dir):\n",
    "    os.makedirs(output_dir)\n",
    "\n",
    "areas = ['villadelrosario', 'cucuta', 'arauca']"
   ]
  },
  {
   "cell_type": "markdown",
   "metadata": {},
   "source": [
    "## Load Dataset"
   ]
  },
  {
   "cell_type": "code",
   "execution_count": 3,
   "metadata": {},
   "outputs": [
    {
     "name": "stdout",
     "output_type": "stream",
     "text": [
      "Data dimensions: (698597, 113)\n"
     ]
    },
    {
     "data": {
      "text/html": [
       "<div>\n",
       "<style scoped>\n",
       "    .dataframe tbody tr th:only-of-type {\n",
       "        vertical-align: middle;\n",
       "    }\n",
       "\n",
       "    .dataframe tbody tr th {\n",
       "        vertical-align: top;\n",
       "    }\n",
       "\n",
       "    .dataframe thead th {\n",
       "        text-align: right;\n",
       "    }\n",
       "</style>\n",
       "<table border=\"1\" class=\"dataframe\">\n",
       "  <thead>\n",
       "    <tr style=\"text-align: right;\">\n",
       "      <th></th>\n",
       "      <th>B1_2016</th>\n",
       "      <th>B2_2016</th>\n",
       "      <th>B3_2016</th>\n",
       "      <th>B4_2016</th>\n",
       "      <th>B5_2016</th>\n",
       "      <th>B6_2016</th>\n",
       "      <th>B7_2016</th>\n",
       "      <th>B8_2016</th>\n",
       "      <th>B9_2016</th>\n",
       "      <th>B10_2016</th>\n",
       "      <th>...</th>\n",
       "      <th>mndwi_2020</th>\n",
       "      <th>ui_2020</th>\n",
       "      <th>nbi_2020</th>\n",
       "      <th>brba_2020</th>\n",
       "      <th>nbai_2020</th>\n",
       "      <th>mbi_2020</th>\n",
       "      <th>baei_2020</th>\n",
       "      <th>la_guajira</th>\n",
       "      <th>target</th>\n",
       "      <th>area</th>\n",
       "    </tr>\n",
       "  </thead>\n",
       "  <tbody>\n",
       "    <tr>\n",
       "      <th>0</th>\n",
       "      <td>0.15970</td>\n",
       "      <td>0.13735</td>\n",
       "      <td>0.1531</td>\n",
       "      <td>0.18700</td>\n",
       "      <td>0.2090</td>\n",
       "      <td>0.26320</td>\n",
       "      <td>0.30515</td>\n",
       "      <td>0.26965</td>\n",
       "      <td>0.3327</td>\n",
       "      <td>0.0411</td>\n",
       "      <td>...</td>\n",
       "      <td>-0.509745</td>\n",
       "      <td>0.105128</td>\n",
       "      <td>0.239614</td>\n",
       "      <td>0.449106</td>\n",
       "      <td>-0.718433</td>\n",
       "      <td>-0.042537</td>\n",
       "      <td>0.901237</td>\n",
       "      <td>1</td>\n",
       "      <td>3</td>\n",
       "      <td>0</td>\n",
       "    </tr>\n",
       "    <tr>\n",
       "      <th>1</th>\n",
       "      <td>0.15970</td>\n",
       "      <td>0.13905</td>\n",
       "      <td>0.1454</td>\n",
       "      <td>0.17845</td>\n",
       "      <td>0.2090</td>\n",
       "      <td>0.26320</td>\n",
       "      <td>0.30515</td>\n",
       "      <td>0.26395</td>\n",
       "      <td>0.3327</td>\n",
       "      <td>0.0411</td>\n",
       "      <td>...</td>\n",
       "      <td>-0.507485</td>\n",
       "      <td>0.105128</td>\n",
       "      <td>0.247826</td>\n",
       "      <td>0.464498</td>\n",
       "      <td>-0.716955</td>\n",
       "      <td>-0.039760</td>\n",
       "      <td>0.911490</td>\n",
       "      <td>1</td>\n",
       "      <td>3</td>\n",
       "      <td>0</td>\n",
       "    </tr>\n",
       "    <tr>\n",
       "      <th>2</th>\n",
       "      <td>0.16675</td>\n",
       "      <td>0.14875</td>\n",
       "      <td>0.1589</td>\n",
       "      <td>0.18605</td>\n",
       "      <td>0.2258</td>\n",
       "      <td>0.27945</td>\n",
       "      <td>0.32070</td>\n",
       "      <td>0.28085</td>\n",
       "      <td>0.3452</td>\n",
       "      <td>0.0416</td>\n",
       "      <td>...</td>\n",
       "      <td>-0.524371</td>\n",
       "      <td>0.073259</td>\n",
       "      <td>0.262348</td>\n",
       "      <td>0.446475</td>\n",
       "      <td>-0.722188</td>\n",
       "      <td>-0.033995</td>\n",
       "      <td>0.875915</td>\n",
       "      <td>1</td>\n",
       "      <td>3</td>\n",
       "      <td>0</td>\n",
       "    </tr>\n",
       "  </tbody>\n",
       "</table>\n",
       "<p>3 rows × 113 columns</p>\n",
       "</div>"
      ],
      "text/plain": [
       "   B1_2016  B2_2016  B3_2016  B4_2016  B5_2016  B6_2016  B7_2016  B8_2016  \\\n",
       "0  0.15970  0.13735   0.1531  0.18700   0.2090  0.26320  0.30515  0.26965   \n",
       "1  0.15970  0.13905   0.1454  0.17845   0.2090  0.26320  0.30515  0.26395   \n",
       "2  0.16675  0.14875   0.1589  0.18605   0.2258  0.27945  0.32070  0.28085   \n",
       "\n",
       "   B9_2016  B10_2016  ...  mndwi_2020   ui_2020  nbi_2020  brba_2020  \\\n",
       "0   0.3327    0.0411  ...   -0.509745  0.105128  0.239614   0.449106   \n",
       "1   0.3327    0.0411  ...   -0.507485  0.105128  0.247826   0.464498   \n",
       "2   0.3452    0.0416  ...   -0.524371  0.073259  0.262348   0.446475   \n",
       "\n",
       "   nbai_2020  mbi_2020  baei_2020  la_guajira  target  area  \n",
       "0  -0.718433 -0.042537   0.901237           1       3     0  \n",
       "1  -0.716955 -0.039760   0.911490           1       3     0  \n",
       "2  -0.722188 -0.033995   0.875915           1       3     0  \n",
       "\n",
       "[3 rows x 113 columns]"
      ]
     },
     "execution_count": 3,
     "metadata": {},
     "output_type": "execute_result"
    }
   ],
   "source": [
    "data = pd.read_csv(input_file).reset_index(drop=True)\n",
    "print('Data dimensions: {}'.format(data.shape))\n",
    "data.head(3)"
   ]
  },
  {
   "cell_type": "markdown",
   "metadata": {},
   "source": [
    "## Resample Dataset"
   ]
  },
  {
   "cell_type": "code",
   "execution_count": 4,
   "metadata": {},
   "outputs": [
    {
     "name": "stdout",
     "output_type": "stream",
     "text": [
      "Data dimensions: (170433, 113)\n"
     ]
    },
    {
     "data": {
      "text/html": [
       "<div>\n",
       "<style scoped>\n",
       "    .dataframe tbody tr th:only-of-type {\n",
       "        vertical-align: middle;\n",
       "    }\n",
       "\n",
       "    .dataframe tbody tr th {\n",
       "        vertical-align: top;\n",
       "    }\n",
       "\n",
       "    .dataframe thead th {\n",
       "        text-align: right;\n",
       "    }\n",
       "</style>\n",
       "<table border=\"1\" class=\"dataframe\">\n",
       "  <thead>\n",
       "    <tr style=\"text-align: right;\">\n",
       "      <th></th>\n",
       "      <th>B1_2016</th>\n",
       "      <th>B2_2016</th>\n",
       "      <th>B3_2016</th>\n",
       "      <th>B4_2016</th>\n",
       "      <th>B5_2016</th>\n",
       "      <th>B6_2016</th>\n",
       "      <th>B7_2016</th>\n",
       "      <th>B8_2016</th>\n",
       "      <th>B9_2016</th>\n",
       "      <th>B10_2016</th>\n",
       "      <th>...</th>\n",
       "      <th>mndwi_2020</th>\n",
       "      <th>ui_2020</th>\n",
       "      <th>nbi_2020</th>\n",
       "      <th>brba_2020</th>\n",
       "      <th>nbai_2020</th>\n",
       "      <th>mbi_2020</th>\n",
       "      <th>baei_2020</th>\n",
       "      <th>la_guajira</th>\n",
       "      <th>target</th>\n",
       "      <th>area</th>\n",
       "    </tr>\n",
       "  </thead>\n",
       "  <tbody>\n",
       "    <tr>\n",
       "      <th>0</th>\n",
       "      <td>0.16795</td>\n",
       "      <td>0.1330</td>\n",
       "      <td>0.1379</td>\n",
       "      <td>0.1355</td>\n",
       "      <td>0.1571</td>\n",
       "      <td>0.2686</td>\n",
       "      <td>0.3198</td>\n",
       "      <td>0.2773</td>\n",
       "      <td>0.3579</td>\n",
       "      <td>0.0402</td>\n",
       "      <td>...</td>\n",
       "      <td>-0.495702</td>\n",
       "      <td>0.213802</td>\n",
       "      <td>0.122766</td>\n",
       "      <td>0.386654</td>\n",
       "      <td>-0.762164</td>\n",
       "      <td>-0.097429</td>\n",
       "      <td>1.005492</td>\n",
       "      <td>1</td>\n",
       "      <td>2</td>\n",
       "      <td>0</td>\n",
       "    </tr>\n",
       "    <tr>\n",
       "      <th>1</th>\n",
       "      <td>0.19330</td>\n",
       "      <td>0.2011</td>\n",
       "      <td>0.2039</td>\n",
       "      <td>0.2299</td>\n",
       "      <td>0.2270</td>\n",
       "      <td>0.2680</td>\n",
       "      <td>0.3094</td>\n",
       "      <td>0.2723</td>\n",
       "      <td>0.3335</td>\n",
       "      <td>0.0401</td>\n",
       "      <td>...</td>\n",
       "      <td>-0.417789</td>\n",
       "      <td>0.102637</td>\n",
       "      <td>0.211351</td>\n",
       "      <td>0.520237</td>\n",
       "      <td>-0.748431</td>\n",
       "      <td>-0.021367</td>\n",
       "      <td>1.030898</td>\n",
       "      <td>1</td>\n",
       "      <td>2</td>\n",
       "      <td>0</td>\n",
       "    </tr>\n",
       "    <tr>\n",
       "      <th>2</th>\n",
       "      <td>0.19290</td>\n",
       "      <td>0.1867</td>\n",
       "      <td>0.1810</td>\n",
       "      <td>0.1958</td>\n",
       "      <td>0.1889</td>\n",
       "      <td>0.2415</td>\n",
       "      <td>0.2695</td>\n",
       "      <td>0.2430</td>\n",
       "      <td>0.2892</td>\n",
       "      <td>0.0272</td>\n",
       "      <td>...</td>\n",
       "      <td>-0.188068</td>\n",
       "      <td>0.079984</td>\n",
       "      <td>0.222447</td>\n",
       "      <td>0.746002</td>\n",
       "      <td>-0.641025</td>\n",
       "      <td>-0.030201</td>\n",
       "      <td>1.056083</td>\n",
       "      <td>1</td>\n",
       "      <td>2</td>\n",
       "      <td>0</td>\n",
       "    </tr>\n",
       "  </tbody>\n",
       "</table>\n",
       "<p>3 rows × 113 columns</p>\n",
       "</div>"
      ],
      "text/plain": [
       "   B1_2016  B2_2016  B3_2016  B4_2016  B5_2016  B6_2016  B7_2016  B8_2016  \\\n",
       "0  0.16795   0.1330   0.1379   0.1355   0.1571   0.2686   0.3198   0.2773   \n",
       "1  0.19330   0.2011   0.2039   0.2299   0.2270   0.2680   0.3094   0.2723   \n",
       "2  0.19290   0.1867   0.1810   0.1958   0.1889   0.2415   0.2695   0.2430   \n",
       "\n",
       "   B9_2016  B10_2016  ...  mndwi_2020   ui_2020  nbi_2020  brba_2020  \\\n",
       "0   0.3579    0.0402  ...   -0.495702  0.213802  0.122766   0.386654   \n",
       "1   0.3335    0.0401  ...   -0.417789  0.102637  0.211351   0.520237   \n",
       "2   0.2892    0.0272  ...   -0.188068  0.079984  0.222447   0.746002   \n",
       "\n",
       "   nbai_2020  mbi_2020  baei_2020  la_guajira  target  area  \n",
       "0  -0.762164 -0.097429   1.005492           1       2     0  \n",
       "1  -0.748431 -0.021367   1.030898           1       2     0  \n",
       "2  -0.641025 -0.030201   1.056083           1       2     0  \n",
       "\n",
       "[3 rows x 113 columns]"
      ]
     },
     "execution_count": 4,
     "metadata": {},
     "output_type": "execute_result"
    }
   ],
   "source": [
    "neg_dist = {'Formal settlement': 0.4, 'Unoccupied land': 0.6}\n",
    "data = model_utils.resample(data, num_neg_samples=30000, neg_dist=neg_dist, random_state=SEED)\n",
    "print('Data dimensions: {}'.format(data.shape))\n",
    "data.head(3)"
   ]
  },
  {
   "cell_type": "markdown",
   "metadata": {},
   "source": [
    "## Machine Learning Pipeline"
   ]
  },
  {
   "cell_type": "code",
   "execution_count": 5,
   "metadata": {},
   "outputs": [],
   "source": [
    "from sklearn.linear_model import LogisticRegression\n",
    "from sklearn.svm import LinearSVC\n",
    "from sklearn.preprocessing import MinMaxScaler\n",
    "from sklearn.pipeline import Pipeline\n",
    "SEED = 42"
   ]
  },
  {
   "cell_type": "markdown",
   "metadata": {},
   "source": [
    "## Define Features and Target Label"
   ]
  },
  {
   "cell_type": "code",
   "execution_count": 6,
   "metadata": {},
   "outputs": [
    {
     "name": "stdout",
     "output_type": "stream",
     "text": [
      "Data dimensions: (170433, 113)\n",
      "Class distribution:\n",
      "0    150000\n",
      "1     20433\n",
      "Name: target, dtype: int64\n"
     ]
    }
   ],
   "source": [
    "# Get target and feature columns\n",
    "label = 'target'\n",
    "features = [column for column in data.columns[:-2]]\n",
    "\n",
    "# Convert target labels to binary\n",
    "data[label] = data[label].replace({2:0, 3:0})\n",
    "\n",
    "print('Data dimensions: {}'.format(data.shape))\n",
    "print('Class distribution:\\n{}'.format(data['target'].value_counts()))"
   ]
  },
  {
   "cell_type": "markdown",
   "metadata": {},
   "source": [
    "## Define Best Feature Set"
   ]
  },
  {
   "cell_type": "code",
   "execution_count": 7,
   "metadata": {},
   "outputs": [],
   "source": [
    "lr_best_features = ['B1_2016', 'B3_2016', 'B5_2016', 'B6_2016', 'B7_2016', 'B9_2016', 'B10_2016', 'B11_2016', 'B12_2016', 'ndvi_2016', 'ndbi_2016', 'savi_2016', 'ui_2016', 'nbi_2016', 'brba_2016', 'nbai_2016', 'mbi_2016', 'B1_2017', 'B2_2017', 'B3_2017', 'B8_2017', 'B9_2017', 'B10_2017', 'B11_2017', 'B12_2017', 'mndwi_2017', 'ui_2017', 'nbi_2017', 'brba_2017', 'mbi_2017', 'baei_2017', 'B2_2018', 'B3_2018', 'B4_2018', 'B5_2018', 'B6_2018', 'B7_2018', 'B8_2018', 'B10_2018', 'B11_2018', 'B12_2018', 'ndvi_2018', 'ndbi_2018', 'savi_2018', 'mndwi_2018', 'ui_2018', 'nbi_2018', 'brba_2018', 'nbai_2018', 'mbi_2018', 'baei_2018', 'B1_2019', 'B2_2019', 'B3_2019', 'B5_2019', 'B6_2019', 'B7_2019', 'B8_2019', 'B9_2019', 'B10_2019', 'B11_2019', 'B12_2019', 'ndvi_2019', 'ndbi_2019', 'savi_2019', 'mndwi_2019', 'ui_2019', 'brba_2019', 'nbai_2019', 'mbi_2019', 'B1_2020', 'B2_2020', 'B3_2020', 'B4_2020', 'B5_2020', 'B6_2020', 'B7_2020', 'B8_2020', 'B9_2020', 'B10_2020', 'B11_2020', 'B12_2020', 'ndbi_2020', 'savi_2020', 'mndwi_2020', 'ui_2020', 'nbi_2020', 'brba_2020', 'nbai_2020', 'mbi_2020', 'baei_2020']"
   ]
  },
  {
   "cell_type": "markdown",
   "metadata": {},
   "source": [
    "## Train Model"
   ]
  },
  {
   "cell_type": "code",
   "execution_count": 8,
   "metadata": {},
   "outputs": [],
   "source": [
    "lr = LogisticRegression(C=5.0)\n",
    "\n",
    "X = data[lr_best_features].fillna(0)\n",
    "y = data[label]\n",
    "\n",
    "scaler = MinMaxScaler()\n",
    "scaler.fit(X)\n",
    "X = scaler.transform(X)\n",
    "\n",
    "lr.fit(X, y);"
   ]
  },
  {
   "cell_type": "markdown",
   "metadata": {},
   "source": [
    "## Prediction: Sliding Window Approach"
   ]
  },
  {
   "cell_type": "code",
   "execution_count": 10,
   "metadata": {},
   "outputs": [
    {
     "name": "stderr",
     "output_type": "stream",
     "text": [
      "  0%|          | 0/81 [00:00<?, ?it/s]"
     ]
    },
    {
     "name": "stdout",
     "output_type": "stream",
     "text": [
      "Reading villadelrosario...\n"
     ]
    },
    {
     "name": "stderr",
     "output_type": "stream",
     "text": [
      "100%|██████████| 81/81 [00:55<00:00,  1.45it/s]\n"
     ]
    },
    {
     "name": "stdout",
     "output_type": "stream",
     "text": [
      "Saving to ../outputs/20200414_villadelrosario.tif...\n",
      "Stitching all rasters into one\n"
     ]
    },
    {
     "name": "stderr",
     "output_type": "stream",
     "text": [
      "  0%|          | 0/81 [00:00<?, ?it/s]"
     ]
    },
    {
     "name": "stdout",
     "output_type": "stream",
     "text": [
      "Reading cucuta...\n"
     ]
    },
    {
     "name": "stderr",
     "output_type": "stream",
     "text": [
      "100%|██████████| 81/81 [04:08<00:00,  3.07s/it]\n"
     ]
    },
    {
     "name": "stdout",
     "output_type": "stream",
     "text": [
      "Saving to ../outputs/20200414_cucuta.tif...\n",
      "Stitching all rasters into one\n"
     ]
    },
    {
     "name": "stderr",
     "output_type": "stream",
     "text": [
      "  0%|          | 0/81 [00:00<?, ?it/s]"
     ]
    },
    {
     "name": "stdout",
     "output_type": "stream",
     "text": [
      "Reading arauca...\n"
     ]
    },
    {
     "name": "stderr",
     "output_type": "stream",
     "text": [
      "100%|██████████| 81/81 [22:38<00:00, 16.77s/it] \n"
     ]
    },
    {
     "name": "stdout",
     "output_type": "stream",
     "text": [
      "Saving to ../outputs/20200414_arauca.tif...\n",
      "Stitching all rasters into one\n"
     ]
    }
   ],
   "source": [
    "area_dict = geoutils.get_filepaths(areas, sentinel_dir, pos_mask_dir, neg_mask_dir)\n",
    "grid_blocks = 9\n",
    "\n",
    "for area in areas:\n",
    "    output = output_dir + '20200414_{}.tif'.format(area)\n",
    "    geoutils.get_preds_windowing(\n",
    "        area=area, \n",
    "        area_dict=area_dict,\n",
    "        model=lr, \n",
    "        tmp_dir=tmp_dir,\n",
    "        best_features=lr_best_features, \n",
    "        scaler=scaler, \n",
    "        output=output, \n",
    "        grid_blocks=grid_blocks,\n",
    "        threshold=0\n",
    "    )"
   ]
  },
  {
   "cell_type": "code",
   "execution_count": null,
   "metadata": {},
   "outputs": [],
   "source": [
    "#for area in areas:\n",
    "#    filename = output_dir + '20200331_{}.tif'.format(area)\n",
    "#    !gsutil -q cp {filename} gs://immap-output/"
   ]
  }
 ],
 "metadata": {
  "kernelspec": {
   "display_name": "venv",
   "language": "python",
   "name": "venv"
  },
  "language_info": {
   "codemirror_mode": {
    "name": "ipython",
    "version": 3
   },
   "file_extension": ".py",
   "mimetype": "text/x-python",
   "name": "python",
   "nbconvert_exporter": "python",
   "pygments_lexer": "ipython3",
   "version": "3.7.4"
  }
 },
 "nbformat": 4,
 "nbformat_minor": 4
}
