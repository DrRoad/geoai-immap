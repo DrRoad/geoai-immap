{
 "cells": [
  {
   "cell_type": "markdown",
   "metadata": {},
   "source": [
    "# Model Prediction\n",
    "This notebook implements prediction using sliding window approach."
   ]
  },
  {
   "cell_type": "markdown",
   "metadata": {},
   "source": [
    "## Imports and Setup"
   ]
  },
  {
   "cell_type": "code",
   "execution_count": 1,
   "metadata": {},
   "outputs": [],
   "source": [
    "import os\n",
    "import pandas as pd\n",
    "import numpy as np\n",
    "\n",
    "import matplotlib.pyplot as plt\n",
    "import seaborn as sns\n",
    "sns.set(style=\"whitegrid\")\n",
    "\n",
    "import sys\n",
    "sys.path.insert(0, '../utils')\n",
    "import model_utils\n",
    "import geoutils\n",
    "\n",
    "import logging\n",
    "import warnings\n",
    "logging.getLogger().setLevel(logging.ERROR)\n",
    "warnings.filterwarnings(\"ignore\")\n",
    "\n",
    "SEED = 42\n",
    "\n",
    "%load_ext autoreload\n",
    "%autoreload 2"
   ]
  },
  {
   "cell_type": "markdown",
   "metadata": {},
   "source": [
    "## File Location"
   ]
  },
  {
   "cell_type": "code",
   "execution_count": 2,
   "metadata": {},
   "outputs": [],
   "source": [
    "data_dir = \"../data/\"\n",
    "output_dir = \"../outputs/\"\n",
    "input_file = data_dir + '20200409_dataset.csv'\n",
    "\n",
    "pos_mask_dir = data_dir + 'pos_masks/'\n",
    "neg_mask_dir = data_dir + 'neg_masks/'\n",
    "sentinel_dir = data_dir + 'sentinel2/'\n",
    "false_pos_dir = data_dir + 'false_pos/'\n",
    "indices_dir = data_dir + 'indices/'\n",
    "tmp_dir = data_dir + 'tmp/'\n",
    "\n",
    "if not os.path.exists(output_dir):\n",
    "    os.makedirs(output_dir)\n",
    "\n",
    "areas = ['arauca', 'uribia', 'riohacha']"
   ]
  },
  {
   "cell_type": "markdown",
   "metadata": {},
   "source": [
    "## Load Dataset"
   ]
  },
  {
   "cell_type": "code",
   "execution_count": 3,
   "metadata": {},
   "outputs": [
    {
     "name": "stdout",
     "output_type": "stream",
     "text": [
      "Data dimensions: (690163, 112)\n"
     ]
    },
    {
     "data": {
      "text/html": [
       "<div>\n",
       "<style scoped>\n",
       "    .dataframe tbody tr th:only-of-type {\n",
       "        vertical-align: middle;\n",
       "    }\n",
       "\n",
       "    .dataframe tbody tr th {\n",
       "        vertical-align: top;\n",
       "    }\n",
       "\n",
       "    .dataframe thead th {\n",
       "        text-align: right;\n",
       "    }\n",
       "</style>\n",
       "<table border=\"1\" class=\"dataframe\">\n",
       "  <thead>\n",
       "    <tr style=\"text-align: right;\">\n",
       "      <th></th>\n",
       "      <th>B1_2016</th>\n",
       "      <th>B2_2016</th>\n",
       "      <th>B3_2016</th>\n",
       "      <th>B4_2016</th>\n",
       "      <th>B5_2016</th>\n",
       "      <th>B6_2016</th>\n",
       "      <th>B7_2016</th>\n",
       "      <th>B8_2016</th>\n",
       "      <th>B9_2016</th>\n",
       "      <th>B10_2016</th>\n",
       "      <th>...</th>\n",
       "      <th>savi_2020</th>\n",
       "      <th>mndwi_2020</th>\n",
       "      <th>ui_2020</th>\n",
       "      <th>nbi_2020</th>\n",
       "      <th>brba_2020</th>\n",
       "      <th>nbai_2020</th>\n",
       "      <th>mbi_2020</th>\n",
       "      <th>baei_2020</th>\n",
       "      <th>target</th>\n",
       "      <th>area</th>\n",
       "    </tr>\n",
       "  </thead>\n",
       "  <tbody>\n",
       "    <tr>\n",
       "      <th>0</th>\n",
       "      <td>0.15970</td>\n",
       "      <td>0.13735</td>\n",
       "      <td>0.1531</td>\n",
       "      <td>0.18700</td>\n",
       "      <td>0.2090</td>\n",
       "      <td>0.26320</td>\n",
       "      <td>0.30515</td>\n",
       "      <td>0.26965</td>\n",
       "      <td>0.3327</td>\n",
       "      <td>0.0411</td>\n",
       "      <td>...</td>\n",
       "      <td>0.187614</td>\n",
       "      <td>-0.509745</td>\n",
       "      <td>0.105128</td>\n",
       "      <td>0.239614</td>\n",
       "      <td>0.449106</td>\n",
       "      <td>-0.718433</td>\n",
       "      <td>-0.042537</td>\n",
       "      <td>0.901237</td>\n",
       "      <td>3</td>\n",
       "      <td>0</td>\n",
       "    </tr>\n",
       "    <tr>\n",
       "      <th>1</th>\n",
       "      <td>0.15970</td>\n",
       "      <td>0.13905</td>\n",
       "      <td>0.1454</td>\n",
       "      <td>0.17845</td>\n",
       "      <td>0.2090</td>\n",
       "      <td>0.26320</td>\n",
       "      <td>0.30515</td>\n",
       "      <td>0.26395</td>\n",
       "      <td>0.3327</td>\n",
       "      <td>0.0411</td>\n",
       "      <td>...</td>\n",
       "      <td>0.177058</td>\n",
       "      <td>-0.507485</td>\n",
       "      <td>0.105128</td>\n",
       "      <td>0.247826</td>\n",
       "      <td>0.464498</td>\n",
       "      <td>-0.716955</td>\n",
       "      <td>-0.039760</td>\n",
       "      <td>0.911490</td>\n",
       "      <td>3</td>\n",
       "      <td>0</td>\n",
       "    </tr>\n",
       "    <tr>\n",
       "      <th>2</th>\n",
       "      <td>0.16675</td>\n",
       "      <td>0.14875</td>\n",
       "      <td>0.1589</td>\n",
       "      <td>0.18605</td>\n",
       "      <td>0.2258</td>\n",
       "      <td>0.27945</td>\n",
       "      <td>0.32070</td>\n",
       "      <td>0.28085</td>\n",
       "      <td>0.3452</td>\n",
       "      <td>0.0416</td>\n",
       "      <td>...</td>\n",
       "      <td>0.179191</td>\n",
       "      <td>-0.524371</td>\n",
       "      <td>0.073259</td>\n",
       "      <td>0.262348</td>\n",
       "      <td>0.446475</td>\n",
       "      <td>-0.722188</td>\n",
       "      <td>-0.033995</td>\n",
       "      <td>0.875915</td>\n",
       "      <td>3</td>\n",
       "      <td>0</td>\n",
       "    </tr>\n",
       "  </tbody>\n",
       "</table>\n",
       "<p>3 rows × 112 columns</p>\n",
       "</div>"
      ],
      "text/plain": [
       "   B1_2016  B2_2016  B3_2016  B4_2016  B5_2016  B6_2016  B7_2016  B8_2016  \\\n",
       "0  0.15970  0.13735   0.1531  0.18700   0.2090  0.26320  0.30515  0.26965   \n",
       "1  0.15970  0.13905   0.1454  0.17845   0.2090  0.26320  0.30515  0.26395   \n",
       "2  0.16675  0.14875   0.1589  0.18605   0.2258  0.27945  0.32070  0.28085   \n",
       "\n",
       "   B9_2016  B10_2016  ...  savi_2020  mndwi_2020   ui_2020  nbi_2020  \\\n",
       "0   0.3327    0.0411  ...   0.187614   -0.509745  0.105128  0.239614   \n",
       "1   0.3327    0.0411  ...   0.177058   -0.507485  0.105128  0.247826   \n",
       "2   0.3452    0.0416  ...   0.179191   -0.524371  0.073259  0.262348   \n",
       "\n",
       "   brba_2020  nbai_2020  mbi_2020  baei_2020  target  area  \n",
       "0   0.449106  -0.718433 -0.042537   0.901237       3     0  \n",
       "1   0.464498  -0.716955 -0.039760   0.911490       3     0  \n",
       "2   0.446475  -0.722188 -0.033995   0.875915       3     0  \n",
       "\n",
       "[3 rows x 112 columns]"
      ]
     },
     "execution_count": 3,
     "metadata": {},
     "output_type": "execute_result"
    }
   ],
   "source": [
    "data = pd.read_csv(input_file).reset_index(drop=True)\n",
    "print('Data dimensions: {}'.format(data.shape))\n",
    "data.head(3)"
   ]
  },
  {
   "cell_type": "markdown",
   "metadata": {},
   "source": [
    "## Resample Dataset"
   ]
  },
  {
   "cell_type": "code",
   "execution_count": 4,
   "metadata": {},
   "outputs": [
    {
     "name": "stdout",
     "output_type": "stream",
     "text": [
      "Data dimensions: (223439, 113)\n"
     ]
    },
    {
     "data": {
      "text/html": [
       "<div>\n",
       "<style scoped>\n",
       "    .dataframe tbody tr th:only-of-type {\n",
       "        vertical-align: middle;\n",
       "    }\n",
       "\n",
       "    .dataframe tbody tr th {\n",
       "        vertical-align: top;\n",
       "    }\n",
       "\n",
       "    .dataframe thead th {\n",
       "        text-align: right;\n",
       "    }\n",
       "</style>\n",
       "<table border=\"1\" class=\"dataframe\">\n",
       "  <thead>\n",
       "    <tr style=\"text-align: right;\">\n",
       "      <th></th>\n",
       "      <th>B1_2016</th>\n",
       "      <th>B2_2016</th>\n",
       "      <th>B3_2016</th>\n",
       "      <th>B4_2016</th>\n",
       "      <th>B5_2016</th>\n",
       "      <th>B6_2016</th>\n",
       "      <th>B7_2016</th>\n",
       "      <th>B8_2016</th>\n",
       "      <th>B9_2016</th>\n",
       "      <th>B10_2016</th>\n",
       "      <th>...</th>\n",
       "      <th>mndwi_2020</th>\n",
       "      <th>ui_2020</th>\n",
       "      <th>nbi_2020</th>\n",
       "      <th>brba_2020</th>\n",
       "      <th>nbai_2020</th>\n",
       "      <th>mbi_2020</th>\n",
       "      <th>baei_2020</th>\n",
       "      <th>la_guajira</th>\n",
       "      <th>target</th>\n",
       "      <th>area</th>\n",
       "    </tr>\n",
       "  </thead>\n",
       "  <tbody>\n",
       "    <tr>\n",
       "      <th>0</th>\n",
       "      <td>0.1809</td>\n",
       "      <td>0.17790</td>\n",
       "      <td>0.1972</td>\n",
       "      <td>0.2371</td>\n",
       "      <td>0.2427</td>\n",
       "      <td>0.3009</td>\n",
       "      <td>0.33460</td>\n",
       "      <td>0.2913</td>\n",
       "      <td>0.3655</td>\n",
       "      <td>0.04435</td>\n",
       "      <td>...</td>\n",
       "      <td>-0.388713</td>\n",
       "      <td>0.040390</td>\n",
       "      <td>0.386829</td>\n",
       "      <td>0.574649</td>\n",
       "      <td>-0.603260</td>\n",
       "      <td>-0.010778</td>\n",
       "      <td>0.810930</td>\n",
       "      <td>1</td>\n",
       "      <td>4</td>\n",
       "      <td>0</td>\n",
       "    </tr>\n",
       "    <tr>\n",
       "      <th>1</th>\n",
       "      <td>0.1684</td>\n",
       "      <td>0.13690</td>\n",
       "      <td>0.1425</td>\n",
       "      <td>0.1458</td>\n",
       "      <td>0.1686</td>\n",
       "      <td>0.2696</td>\n",
       "      <td>0.30675</td>\n",
       "      <td>0.2652</td>\n",
       "      <td>0.3501</td>\n",
       "      <td>0.03810</td>\n",
       "      <td>...</td>\n",
       "      <td>-0.602441</td>\n",
       "      <td>0.098756</td>\n",
       "      <td>0.199285</td>\n",
       "      <td>0.318486</td>\n",
       "      <td>-0.752879</td>\n",
       "      <td>-0.057824</td>\n",
       "      <td>0.809911</td>\n",
       "      <td>1</td>\n",
       "      <td>4</td>\n",
       "      <td>0</td>\n",
       "    </tr>\n",
       "    <tr>\n",
       "      <th>2</th>\n",
       "      <td>0.1635</td>\n",
       "      <td>0.13655</td>\n",
       "      <td>0.1327</td>\n",
       "      <td>0.1346</td>\n",
       "      <td>0.1311</td>\n",
       "      <td>0.1754</td>\n",
       "      <td>0.20490</td>\n",
       "      <td>0.2100</td>\n",
       "      <td>0.2202</td>\n",
       "      <td>0.03560</td>\n",
       "      <td>...</td>\n",
       "      <td>-0.506141</td>\n",
       "      <td>0.128252</td>\n",
       "      <td>0.180842</td>\n",
       "      <td>0.403433</td>\n",
       "      <td>-0.754468</td>\n",
       "      <td>-0.048452</td>\n",
       "      <td>0.950226</td>\n",
       "      <td>1</td>\n",
       "      <td>4</td>\n",
       "      <td>0</td>\n",
       "    </tr>\n",
       "  </tbody>\n",
       "</table>\n",
       "<p>3 rows × 113 columns</p>\n",
       "</div>"
      ],
      "text/plain": [
       "   B1_2016  B2_2016  B3_2016  B4_2016  B5_2016  B6_2016  B7_2016  B8_2016  \\\n",
       "0   0.1809  0.17790   0.1972   0.2371   0.2427   0.3009  0.33460   0.2913   \n",
       "1   0.1684  0.13690   0.1425   0.1458   0.1686   0.2696  0.30675   0.2652   \n",
       "2   0.1635  0.13655   0.1327   0.1346   0.1311   0.1754  0.20490   0.2100   \n",
       "\n",
       "   B9_2016  B10_2016  ...  mndwi_2020   ui_2020  nbi_2020  brba_2020  \\\n",
       "0   0.3655   0.04435  ...   -0.388713  0.040390  0.386829   0.574649   \n",
       "1   0.3501   0.03810  ...   -0.602441  0.098756  0.199285   0.318486   \n",
       "2   0.2202   0.03560  ...   -0.506141  0.128252  0.180842   0.403433   \n",
       "\n",
       "   nbai_2020  mbi_2020  baei_2020  la_guajira  target  area  \n",
       "0  -0.603260 -0.010778   0.810930           1       4     0  \n",
       "1  -0.752879 -0.057824   0.809911           1       4     0  \n",
       "2  -0.754468 -0.048452   0.950226           1       4     0  \n",
       "\n",
       "[3 rows x 113 columns]"
      ]
     },
     "execution_count": 4,
     "metadata": {},
     "output_type": "execute_result"
    }
   ],
   "source": [
    "la_guajira = data['area'].apply(lambda x: model_utils.get_la_guajira(x)) \n",
    "data.insert(len(data.columns)-2, 'la_guajira', la_guajira)\n",
    "\n",
    "data = model_utils.resample(data, num_neg_samples=50000, false_pos_samples=5000, random_state=SEED)\n",
    "print('Data dimensions: {}'.format(data.shape))\n",
    "data.head(3)"
   ]
  },
  {
   "cell_type": "markdown",
   "metadata": {},
   "source": [
    "## Machine Learning Pipeline"
   ]
  },
  {
   "cell_type": "code",
   "execution_count": 5,
   "metadata": {},
   "outputs": [],
   "source": [
    "from sklearn.svm import LinearSVC\n",
    "from sklearn.preprocessing import MinMaxScaler\n",
    "from sklearn.pipeline import Pipeline\n",
    "SEED = 42"
   ]
  },
  {
   "cell_type": "markdown",
   "metadata": {},
   "source": [
    "## Define Features and Target Label"
   ]
  },
  {
   "cell_type": "code",
   "execution_count": 6,
   "metadata": {},
   "outputs": [
    {
     "name": "stdout",
     "output_type": "stream",
     "text": [
      "Data dimensions: (223439, 113)\n",
      "Class distribution:\n",
      "0    203792\n",
      "1     19647\n",
      "Name: target, dtype: int64\n"
     ]
    }
   ],
   "source": [
    "# Get target and feature columns\n",
    "label = 'target'\n",
    "features = [column for column in data.columns[:-2]]\n",
    "\n",
    "# Convert target labels to binary\n",
    "data[label] = data[label].replace({2:0, 3:0, 4:0})\n",
    "\n",
    "print('Data dimensions: {}'.format(data.shape))\n",
    "print('Class distribution:\\n{}'.format(data['target'].value_counts()))"
   ]
  },
  {
   "cell_type": "markdown",
   "metadata": {},
   "source": [
    "## Define Best Feature Set"
   ]
  },
  {
   "cell_type": "code",
   "execution_count": 7,
   "metadata": {},
   "outputs": [],
   "source": [
    "lsvc_best_features = ['B5_2016', 'B10_2016', 'B1_2017', 'B2_2017', 'B5_2017', 'B10_2017', 'B6_2019', 'B7_2019', 'B9_2019', 'mbi_2019', 'B1_2020']"
   ]
  },
  {
   "cell_type": "markdown",
   "metadata": {},
   "source": [
    "## Train Model"
   ]
  },
  {
   "cell_type": "code",
   "execution_count": 8,
   "metadata": {},
   "outputs": [],
   "source": [
    "lsvc = LinearSVC(C=1000, random_state=SEED)\n",
    "\n",
    "X = data[lsvc_best_features].fillna(0)\n",
    "y = data[label]\n",
    "\n",
    "scaler = MinMaxScaler()\n",
    "scaler.fit(X)\n",
    "X = scaler.transform(X)\n",
    "\n",
    "lsvc.fit(X, y);"
   ]
  },
  {
   "cell_type": "markdown",
   "metadata": {},
   "source": [
    "## Prediction: Memory-intensive Initial Approach"
   ]
  },
  {
   "cell_type": "code",
   "execution_count": 9,
   "metadata": {},
   "outputs": [],
   "source": [
    "#pd.set_option('use_inf_as_na', True)\n",
    "#area_dict = geoutils.get_filepaths(areas, sentinel_dir, indices_dir, pos_mask_dir, neg_mask_dir)\n",
    "#data = geoutils.read_bands(area_dict, 'uribia')\n",
    "#print('Data dimensions: {}'.format(data.shape))\n",
    "#data.head(3)"
   ]
  },
  {
   "cell_type": "code",
   "execution_count": 10,
   "metadata": {},
   "outputs": [],
   "source": [
    "#preds = lsvc._predict_proba_lr(data[lsvc_best_features].fillna(0))[:, 1]\n",
    "#preds[(data.sum(axis=1) == 0)] = -1\n",
    "\n",
    "#geoutils.save_predictions(\n",
    "#    preds, \n",
    "#    image_src=area_dict['uribia']['images_cropped'][0], \n",
    "#    output_file=data_dir+'uribia_initial.tiff'\n",
    "#)"
   ]
  },
  {
   "cell_type": "markdown",
   "metadata": {},
   "source": [
    "## Prediction: Sliding Window Approach"
   ]
  },
  {
   "cell_type": "code",
   "execution_count": null,
   "metadata": {},
   "outputs": [],
   "source": [
    "area_dict = geoutils.get_filepaths(areas, sentinel_dir, pos_mask_dir, neg_mask_dir, false_pos_dir)\n",
    "grid_blocks = 9\n",
    "\n",
    "for area in areas:\n",
    "    output = output_dir + '20200410_{}.tif'.format(area)\n",
    "    geoutils.get_preds_windowing(\n",
    "        area=area, \n",
    "        area_dict=area_dict,\n",
    "        model=lsvc, \n",
    "        tmp_dir=tmp_dir,\n",
    "        best_features=lsvc_best_features, \n",
    "        scaler=scaler, \n",
    "        output=output, \n",
    "        grid_blocks=grid_blocks,\n",
    "        threshold=0.01\n",
    "    )"
   ]
  },
  {
   "cell_type": "code",
   "execution_count": null,
   "metadata": {},
   "outputs": [],
   "source": [
    "#for area in areas:\n",
    "#    filename = output_dir + '20200331_{}_thresh60.tif'.format(area)\n",
    "#    !gsutil -q cp {filename} gs://immap-output/"
   ]
  }
 ],
 "metadata": {
  "kernelspec": {
   "display_name": "venv",
   "language": "python",
   "name": "venv"
  },
  "language_info": {
   "codemirror_mode": {
    "name": "ipython",
    "version": 3
   },
   "file_extension": ".py",
   "mimetype": "text/x-python",
   "name": "python",
   "nbconvert_exporter": "python",
   "pygments_lexer": "ipython3",
   "version": "3.7.4"
  }
 },
 "nbformat": 4,
 "nbformat_minor": 4
}
