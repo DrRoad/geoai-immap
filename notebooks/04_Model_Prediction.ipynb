{
 "cells": [
  {
   "cell_type": "markdown",
   "metadata": {},
   "source": [
    "# Model Prediction\n",
    "This notebook implements prediction using sliding window approach."
   ]
  },
  {
   "cell_type": "markdown",
   "metadata": {},
   "source": [
    "## Imports and Setup"
   ]
  },
  {
   "cell_type": "code",
   "execution_count": null,
   "metadata": {},
   "outputs": [],
   "source": [
    "import os\n",
    "import pandas as pd\n",
    "import numpy as np\n",
    "\n",
    "import matplotlib.pyplot as plt\n",
    "import seaborn as sns\n",
    "sns.set(style=\"whitegrid\")\n",
    "\n",
    "import sys\n",
    "sys.path.insert(0, '../utils')\n",
    "import model_utils\n",
    "import geoutils\n",
    "\n",
    "import logging\n",
    "import warnings\n",
    "logging.getLogger().setLevel(logging.ERROR)\n",
    "warnings.filterwarnings(\"ignore\")\n",
    "\n",
    "SEED = 42\n",
    "\n",
    "%load_ext autoreload\n",
    "%autoreload 2"
   ]
  },
  {
   "cell_type": "markdown",
   "metadata": {},
   "source": [
    "## File Location"
   ]
  },
  {
   "cell_type": "code",
   "execution_count": null,
   "metadata": {},
   "outputs": [],
   "source": [
    "data_dir = \"../data/\"\n",
    "output_dir = \"../outputs/\"\n",
    "input_file = data_dir + '20200422_dataset.csv'\n",
    "\n",
    "images_dir = data_dir + 'images/'\n",
    "indices_dir = data_dir + 'indices/'\n",
    "pos_mask_dir = data_dir + 'pos_masks/'\n",
    "neg_mask_dir = data_dir + 'neg_masks/'\n",
    "tmp_dir = data_dir + 'tmp/'\n",
    "\n",
    "if not os.path.exists(output_dir):\n",
    "    os.makedirs(output_dir)\n",
    "if not os.path.exists(tmp_dir):\n",
    "    os.makedirs(tmp_dir)\n",
    "\n",
    "areas = ['maicao']"
   ]
  },
  {
   "cell_type": "markdown",
   "metadata": {},
   "source": [
    "## Load Dataset"
   ]
  },
  {
   "cell_type": "code",
   "execution_count": null,
   "metadata": {},
   "outputs": [],
   "source": [
    "data = pd.read_csv(input_file).reset_index(drop=True)\n",
    "print('Data dimensions: {}'.format(data.shape))\n",
    "data.head(3)"
   ]
  },
  {
   "cell_type": "markdown",
   "metadata": {},
   "source": [
    "## Resample Dataset"
   ]
  },
  {
   "cell_type": "code",
   "execution_count": null,
   "metadata": {},
   "outputs": [],
   "source": [
    "neg_dist = {'Formal settlement': (2/5), 'Unoccupied land': (3/5)}\n",
    "data = model_utils.resample(data, num_neg_samples=50000, neg_dist=neg_dist, random_state=SEED)\n",
    "print('Data dimensions: {}'.format(data.shape))\n",
    "data.head(3)"
   ]
  },
  {
   "cell_type": "markdown",
   "metadata": {},
   "source": [
    "## Machine Learning Pipeline"
   ]
  },
  {
   "cell_type": "code",
   "execution_count": null,
   "metadata": {},
   "outputs": [],
   "source": [
    "from sklearn.linear_model import LogisticRegression\n",
    "from sklearn.svm import LinearSVC\n",
    "from sklearn.preprocessing import MinMaxScaler\n",
    "from sklearn.pipeline import Pipeline\n",
    "SEED = 42"
   ]
  },
  {
   "cell_type": "markdown",
   "metadata": {},
   "source": [
    "## Define Features and Target Label"
   ]
  },
  {
   "cell_type": "code",
   "execution_count": null,
   "metadata": {},
   "outputs": [],
   "source": [
    "label = 'target'\n",
    "features = [column  for column in data.columns[:-2]]\n",
    "data[label] = data[label].replace({2:0, 3:0})\n",
    "\n",
    "splits = data[['area']]\n",
    "X = data[features]\n",
    "y = data[label]\n",
    "\n",
    "print('Data dimensions: {}'.format(data.shape))\n",
    "print('Class distribution:\\n{}'.format(data['target'].value_counts()))"
   ]
  },
  {
   "cell_type": "markdown",
   "metadata": {},
   "source": [
    "## Define Best Feature Set"
   ]
  },
  {
   "cell_type": "code",
   "execution_count": null,
   "metadata": {},
   "outputs": [],
   "source": [
    "clf = \n",
    "cv = model_utils.get_cv_iterator()\n",
    "best_features = model_utils.rfecv_feature_selection(\n",
    "    clf, X_train, y_train, cv, scoring='f1', step=10, verbose=0\n",
    ")\n",
    "best_features"
   ]
  },
  {
   "cell_type": "markdown",
   "metadata": {},
   "source": [
    "## Hyperparameter Tuning"
   ]
  },
  {
   "cell_type": "code",
   "execution_count": null,
   "metadata": {},
   "outputs": [],
   "source": [
    "pipe_clf = Pipeline([\n",
    "    ('scaler',  MinMaxScaler()),\n",
    "    ('classifier', clf)\n",
    "])\n",
    "cv = GridSearchCV(\n",
    "    estimator=pipe_clf, \n",
    "    param_grid=param_grid,\n",
    "    cv=inner_cv,\n",
    "    verbose=verbose, \n",
    "    scoring='f1',\n",
    "    n_jobs=-1\n",
    ")\n",
    "cv.fit(X[best_features], y_train)\n",
    "best_estimator = cv.best_estimator_\n",
    "print(best_estimator)"
   ]
  },
  {
   "cell_type": "markdown",
   "metadata": {},
   "source": [
    "## Train Model"
   ]
  },
  {
   "cell_type": "code",
   "execution_count": null,
   "metadata": {},
   "outputs": [],
   "source": [
    "X = data[best_features].fillna(0)\n",
    "y = data[label]\n",
    "best_estimator.fit(X, y);"
   ]
  },
  {
   "cell_type": "markdown",
   "metadata": {},
   "source": [
    "## Prediction: Sliding Window Approach"
   ]
  },
  {
   "cell_type": "code",
   "execution_count": null,
   "metadata": {},
   "outputs": [],
   "source": [
    "import geopandas as gpd\n",
    "areas = ['maicao', 'riohacha', 'uribia', 'arauca', 'cucuta', 'arauquita', 'tibu']\n",
    "area_dict = geoutils.get_filepaths(areas, images_dir, indices_dir, pos_mask_dir, neg_mask_dir)\n",
    "\n",
    "gdfs = []\n",
    "for area in area_dict:\n",
    "    pos = area_dict[area]['pos_mask_gpkg']\n",
    "    gdfs.append(gpd.read_file(pos))\n",
    "rdf = gpd.GeoDataFrame( pd.concat( gdfs, ignore_index=True) )\n",
    "#rdf.to_file('positive_training_examples.gpkg', driver='GPKG')\n",
    "print(len(rdf))"
   ]
  },
  {
   "cell_type": "code",
   "execution_count": null,
   "metadata": {},
   "outputs": [],
   "source": [
    "areas = ['villadelrosario', 'soacha', 'arauquita', 'maicao', 'uribia']\n",
    "area_dict = geoutils.get_filepaths(areas, images_dir, indices_dir, pos_mask_dir, neg_mask_dir)\n",
    "grid_blocks = 9\n",
    "\n",
    "for area in ['villadelrosario']:\n",
    "    output = output_dir + '20200422_{}.tif'.format(area)\n",
    "    geoutils.get_preds_windowing(\n",
    "        area=area, \n",
    "        area_dict=area_dict,\n",
    "        model=best_estimator, \n",
    "        tmp_dir=tmp_dir,\n",
    "        best_features=best_features, \n",
    "        scaler=scaler, \n",
    "        output=output, \n",
    "        grid_blocks=grid_blocks,\n",
    "        threshold=0\n",
    "    )"
   ]
  },
  {
   "cell_type": "code",
   "execution_count": null,
   "metadata": {},
   "outputs": [],
   "source": [
    "areas = ['villadelrosario', 'soacha', 'arauquita', 'maicao', 'uribia']\n",
    "for area in areas:\n",
    "    filename = output_dir + '20200422_{}.tiff'.format(area)\n",
    "    !gsutil -q cp {filename} gs://immap-output/"
   ]
  }
 ],
 "metadata": {
  "kernelspec": {
   "display_name": "venv",
   "language": "python",
   "name": "venv"
  },
  "language_info": {
   "codemirror_mode": {
    "name": "ipython",
    "version": 3
   },
   "file_extension": ".py",
   "mimetype": "text/x-python",
   "name": "python",
   "nbconvert_exporter": "python",
   "pygments_lexer": "ipython3",
   "version": "3.7.4"
  }
 },
 "nbformat": 4,
 "nbformat_minor": 4
}
