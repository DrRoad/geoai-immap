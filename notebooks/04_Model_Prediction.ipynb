{
 "cells": [
  {
   "cell_type": "markdown",
   "metadata": {},
   "source": [
    "# Model Prediction\n",
    "This notebook implements prediction using sliding window approach."
   ]
  },
  {
   "cell_type": "markdown",
   "metadata": {},
   "source": [
    "## Imports and Setup"
   ]
  },
  {
   "cell_type": "code",
   "execution_count": 1,
   "metadata": {},
   "outputs": [],
   "source": [
    "import os\n",
    "import pandas as pd\n",
    "import numpy as np\n",
    "\n",
    "import matplotlib.pyplot as plt\n",
    "import seaborn as sns\n",
    "sns.set(style=\"whitegrid\")\n",
    "\n",
    "import sys\n",
    "sys.path.insert(0, '../utils')\n",
    "import model_utils\n",
    "import geoutils\n",
    "\n",
    "import logging\n",
    "import warnings\n",
    "logging.getLogger().setLevel(logging.ERROR)\n",
    "warnings.filterwarnings(\"ignore\")\n",
    "\n",
    "SEED = 42\n",
    "\n",
    "%load_ext autoreload\n",
    "%autoreload 2"
   ]
  },
  {
   "cell_type": "markdown",
   "metadata": {},
   "source": [
    "## File Location"
   ]
  },
  {
   "cell_type": "code",
   "execution_count": 2,
   "metadata": {},
   "outputs": [],
   "source": [
    "version = '20200505'\n",
    "data_dir = \"../data/\"\n",
    "output_dir = \"../outputs/\"\n",
    "input_file = data_dir + '{}_dataset.csv'.format(version)\n",
    "\n",
    "images_dir = data_dir + 'images/'\n",
    "indices_dir = data_dir + 'indices/'\n",
    "pos_mask_dir = data_dir + 'pos_masks/'\n",
    "neg_mask_dir = data_dir + 'neg_masks/'\n",
    "tmp_dir = data_dir + 'tmp/'\n",
    "\n",
    "if not os.path.exists(output_dir):\n",
    "    os.makedirs(output_dir)\n",
    "if not os.path.exists(tmp_dir):\n",
    "    os.makedirs(tmp_dir)\n",
    "\n",
    "areas = ['maicao']"
   ]
  },
  {
   "cell_type": "markdown",
   "metadata": {},
   "source": [
    "## Load Dataset"
   ]
  },
  {
   "cell_type": "code",
   "execution_count": 3,
   "metadata": {},
   "outputs": [
    {
     "name": "stdout",
     "output_type": "stream",
     "text": [
      "Data dimensions: (1029869, 69)\n"
     ]
    },
    {
     "data": {
      "text/html": [
       "<div>\n",
       "<style scoped>\n",
       "    .dataframe tbody tr th:only-of-type {\n",
       "        vertical-align: middle;\n",
       "    }\n",
       "\n",
       "    .dataframe tbody tr th {\n",
       "        vertical-align: top;\n",
       "    }\n",
       "\n",
       "    .dataframe thead th {\n",
       "        text-align: right;\n",
       "    }\n",
       "</style>\n",
       "<table border=\"1\" class=\"dataframe\">\n",
       "  <thead>\n",
       "    <tr style=\"text-align: right;\">\n",
       "      <th></th>\n",
       "      <th>B1_2015-2016</th>\n",
       "      <th>B2_2015-2016</th>\n",
       "      <th>B3_2015-2016</th>\n",
       "      <th>B4_2015-2016</th>\n",
       "      <th>B5_2015-2016</th>\n",
       "      <th>B6_2015-2016</th>\n",
       "      <th>B7_2015-2016</th>\n",
       "      <th>B8_2015-2016</th>\n",
       "      <th>B9_2015-2016</th>\n",
       "      <th>B10_2015-2016</th>\n",
       "      <th>...</th>\n",
       "      <th>mndwi_2019-2020</th>\n",
       "      <th>ui_2019-2020</th>\n",
       "      <th>nbi_2019-2020</th>\n",
       "      <th>brba_2019-2020</th>\n",
       "      <th>nbai_2019-2020</th>\n",
       "      <th>mbi_2019-2020</th>\n",
       "      <th>baei_2019-2020</th>\n",
       "      <th>la_guajira</th>\n",
       "      <th>target</th>\n",
       "      <th>area</th>\n",
       "    </tr>\n",
       "  </thead>\n",
       "  <tbody>\n",
       "    <tr>\n",
       "      <th>0</th>\n",
       "      <td>0.15100</td>\n",
       "      <td>0.13225</td>\n",
       "      <td>0.14240</td>\n",
       "      <td>0.16430</td>\n",
       "      <td>0.1899</td>\n",
       "      <td>0.25700</td>\n",
       "      <td>0.2960</td>\n",
       "      <td>0.25510</td>\n",
       "      <td>0.32295</td>\n",
       "      <td>0.0396</td>\n",
       "      <td>...</td>\n",
       "      <td>-0.438625</td>\n",
       "      <td>0.151655</td>\n",
       "      <td>0.209614</td>\n",
       "      <td>0.479385</td>\n",
       "      <td>-0.665204</td>\n",
       "      <td>-0.060444</td>\n",
       "      <td>0.948025</td>\n",
       "      <td>1</td>\n",
       "      <td>3</td>\n",
       "      <td>0</td>\n",
       "    </tr>\n",
       "    <tr>\n",
       "      <th>1</th>\n",
       "      <td>0.15100</td>\n",
       "      <td>0.12885</td>\n",
       "      <td>0.13790</td>\n",
       "      <td>0.16185</td>\n",
       "      <td>0.1899</td>\n",
       "      <td>0.25700</td>\n",
       "      <td>0.2960</td>\n",
       "      <td>0.25755</td>\n",
       "      <td>0.32295</td>\n",
       "      <td>0.0396</td>\n",
       "      <td>...</td>\n",
       "      <td>-0.435450</td>\n",
       "      <td>0.151655</td>\n",
       "      <td>0.213526</td>\n",
       "      <td>0.488330</td>\n",
       "      <td>-0.663010</td>\n",
       "      <td>-0.059064</td>\n",
       "      <td>0.952352</td>\n",
       "      <td>1</td>\n",
       "      <td>3</td>\n",
       "      <td>0</td>\n",
       "    </tr>\n",
       "    <tr>\n",
       "      <th>2</th>\n",
       "      <td>0.15895</td>\n",
       "      <td>0.13730</td>\n",
       "      <td>0.15185</td>\n",
       "      <td>0.18915</td>\n",
       "      <td>0.2264</td>\n",
       "      <td>0.28555</td>\n",
       "      <td>0.3268</td>\n",
       "      <td>0.28085</td>\n",
       "      <td>0.35740</td>\n",
       "      <td>0.0416</td>\n",
       "      <td>...</td>\n",
       "      <td>-0.447333</td>\n",
       "      <td>0.145385</td>\n",
       "      <td>0.222971</td>\n",
       "      <td>0.473118</td>\n",
       "      <td>-0.661291</td>\n",
       "      <td>-0.060496</td>\n",
       "      <td>0.911748</td>\n",
       "      <td>1</td>\n",
       "      <td>3</td>\n",
       "      <td>0</td>\n",
       "    </tr>\n",
       "  </tbody>\n",
       "</table>\n",
       "<p>3 rows × 69 columns</p>\n",
       "</div>"
      ],
      "text/plain": [
       "   B1_2015-2016  B2_2015-2016  B3_2015-2016  B4_2015-2016  B5_2015-2016  \\\n",
       "0       0.15100       0.13225       0.14240       0.16430        0.1899   \n",
       "1       0.15100       0.12885       0.13790       0.16185        0.1899   \n",
       "2       0.15895       0.13730       0.15185       0.18915        0.2264   \n",
       "\n",
       "   B6_2015-2016  B7_2015-2016  B8_2015-2016  B9_2015-2016  B10_2015-2016  ...  \\\n",
       "0       0.25700        0.2960       0.25510       0.32295         0.0396  ...   \n",
       "1       0.25700        0.2960       0.25755       0.32295         0.0396  ...   \n",
       "2       0.28555        0.3268       0.28085       0.35740         0.0416  ...   \n",
       "\n",
       "   mndwi_2019-2020  ui_2019-2020  nbi_2019-2020  brba_2019-2020  \\\n",
       "0        -0.438625      0.151655       0.209614        0.479385   \n",
       "1        -0.435450      0.151655       0.213526        0.488330   \n",
       "2        -0.447333      0.145385       0.222971        0.473118   \n",
       "\n",
       "   nbai_2019-2020  mbi_2019-2020  baei_2019-2020  la_guajira  target  area  \n",
       "0       -0.665204      -0.060444        0.948025           1       3     0  \n",
       "1       -0.663010      -0.059064        0.952352           1       3     0  \n",
       "2       -0.661291      -0.060496        0.911748           1       3     0  \n",
       "\n",
       "[3 rows x 69 columns]"
      ]
     },
     "execution_count": 3,
     "metadata": {},
     "output_type": "execute_result"
    }
   ],
   "source": [
    "data = pd.read_csv(input_file).reset_index(drop=True)\n",
    "print('Data dimensions: {}'.format(data.shape))\n",
    "data.head(3)"
   ]
  },
  {
   "cell_type": "markdown",
   "metadata": {},
   "source": [
    "## Resample Dataset"
   ]
  },
  {
   "cell_type": "code",
   "execution_count": 4,
   "metadata": {},
   "outputs": [
    {
     "name": "stdout",
     "output_type": "stream",
     "text": [
      "Data dimensions: (293756, 69)\n"
     ]
    },
    {
     "data": {
      "text/html": [
       "<div>\n",
       "<style scoped>\n",
       "    .dataframe tbody tr th:only-of-type {\n",
       "        vertical-align: middle;\n",
       "    }\n",
       "\n",
       "    .dataframe tbody tr th {\n",
       "        vertical-align: top;\n",
       "    }\n",
       "\n",
       "    .dataframe thead th {\n",
       "        text-align: right;\n",
       "    }\n",
       "</style>\n",
       "<table border=\"1\" class=\"dataframe\">\n",
       "  <thead>\n",
       "    <tr style=\"text-align: right;\">\n",
       "      <th></th>\n",
       "      <th>B1_2015-2016</th>\n",
       "      <th>B2_2015-2016</th>\n",
       "      <th>B3_2015-2016</th>\n",
       "      <th>B4_2015-2016</th>\n",
       "      <th>B5_2015-2016</th>\n",
       "      <th>B6_2015-2016</th>\n",
       "      <th>B7_2015-2016</th>\n",
       "      <th>B8_2015-2016</th>\n",
       "      <th>B9_2015-2016</th>\n",
       "      <th>B10_2015-2016</th>\n",
       "      <th>...</th>\n",
       "      <th>mndwi_2019-2020</th>\n",
       "      <th>ui_2019-2020</th>\n",
       "      <th>nbi_2019-2020</th>\n",
       "      <th>brba_2019-2020</th>\n",
       "      <th>nbai_2019-2020</th>\n",
       "      <th>mbi_2019-2020</th>\n",
       "      <th>baei_2019-2020</th>\n",
       "      <th>la_guajira</th>\n",
       "      <th>target</th>\n",
       "      <th>area</th>\n",
       "    </tr>\n",
       "  </thead>\n",
       "  <tbody>\n",
       "    <tr>\n",
       "      <th>0</th>\n",
       "      <td>0.1748</td>\n",
       "      <td>0.12640</td>\n",
       "      <td>0.12590</td>\n",
       "      <td>0.12075</td>\n",
       "      <td>0.1288</td>\n",
       "      <td>0.2291</td>\n",
       "      <td>0.28325</td>\n",
       "      <td>0.2551</td>\n",
       "      <td>0.31165</td>\n",
       "      <td>0.03960</td>\n",
       "      <td>...</td>\n",
       "      <td>-0.325365</td>\n",
       "      <td>0.336843</td>\n",
       "      <td>0.097095</td>\n",
       "      <td>0.493299</td>\n",
       "      <td>-0.683798</td>\n",
       "      <td>-0.120547</td>\n",
       "      <td>1.149291</td>\n",
       "      <td>1</td>\n",
       "      <td>2</td>\n",
       "      <td>0</td>\n",
       "    </tr>\n",
       "    <tr>\n",
       "      <th>1</th>\n",
       "      <td>0.2093</td>\n",
       "      <td>0.19810</td>\n",
       "      <td>0.20230</td>\n",
       "      <td>0.21700</td>\n",
       "      <td>0.2178</td>\n",
       "      <td>0.2767</td>\n",
       "      <td>0.32240</td>\n",
       "      <td>0.3020</td>\n",
       "      <td>0.34780</td>\n",
       "      <td>0.03530</td>\n",
       "      <td>...</td>\n",
       "      <td>-0.212563</td>\n",
       "      <td>0.098564</td>\n",
       "      <td>0.242471</td>\n",
       "      <td>0.716410</td>\n",
       "      <td>-0.623340</td>\n",
       "      <td>-0.022285</td>\n",
       "      <td>1.042249</td>\n",
       "      <td>1</td>\n",
       "      <td>2</td>\n",
       "      <td>0</td>\n",
       "    </tr>\n",
       "    <tr>\n",
       "      <th>2</th>\n",
       "      <td>0.2062</td>\n",
       "      <td>0.20505</td>\n",
       "      <td>0.21575</td>\n",
       "      <td>0.23320</td>\n",
       "      <td>0.2083</td>\n",
       "      <td>0.2836</td>\n",
       "      <td>0.33810</td>\n",
       "      <td>0.3109</td>\n",
       "      <td>0.37400</td>\n",
       "      <td>0.03575</td>\n",
       "      <td>...</td>\n",
       "      <td>-0.235786</td>\n",
       "      <td>0.266124</td>\n",
       "      <td>0.158668</td>\n",
       "      <td>0.655587</td>\n",
       "      <td>-0.632521</td>\n",
       "      <td>-0.078219</td>\n",
       "      <td>1.101300</td>\n",
       "      <td>1</td>\n",
       "      <td>2</td>\n",
       "      <td>0</td>\n",
       "    </tr>\n",
       "  </tbody>\n",
       "</table>\n",
       "<p>3 rows × 69 columns</p>\n",
       "</div>"
      ],
      "text/plain": [
       "   B1_2015-2016  B2_2015-2016  B3_2015-2016  B4_2015-2016  B5_2015-2016  \\\n",
       "0        0.1748       0.12640       0.12590       0.12075        0.1288   \n",
       "1        0.2093       0.19810       0.20230       0.21700        0.2178   \n",
       "2        0.2062       0.20505       0.21575       0.23320        0.2083   \n",
       "\n",
       "   B6_2015-2016  B7_2015-2016  B8_2015-2016  B9_2015-2016  B10_2015-2016  ...  \\\n",
       "0        0.2291       0.28325        0.2551       0.31165        0.03960  ...   \n",
       "1        0.2767       0.32240        0.3020       0.34780        0.03530  ...   \n",
       "2        0.2836       0.33810        0.3109       0.37400        0.03575  ...   \n",
       "\n",
       "   mndwi_2019-2020  ui_2019-2020  nbi_2019-2020  brba_2019-2020  \\\n",
       "0        -0.325365      0.336843       0.097095        0.493299   \n",
       "1        -0.212563      0.098564       0.242471        0.716410   \n",
       "2        -0.235786      0.266124       0.158668        0.655587   \n",
       "\n",
       "   nbai_2019-2020  mbi_2019-2020  baei_2019-2020  la_guajira  target  area  \n",
       "0       -0.683798      -0.120547        1.149291           1       2     0  \n",
       "1       -0.623340      -0.022285        1.042249           1       2     0  \n",
       "2       -0.632521      -0.078219        1.101300           1       2     0  \n",
       "\n",
       "[3 rows x 69 columns]"
      ]
     },
     "execution_count": 4,
     "metadata": {},
     "output_type": "execute_result"
    }
   ],
   "source": [
    "data = model_utils.resample(data, num_neg_samples=30000, random_state=SEED)\n",
    "print('Data dimensions: {}'.format(data.shape))\n",
    "data.head(3)"
   ]
  },
  {
   "cell_type": "markdown",
   "metadata": {},
   "source": [
    "## Machine Learning Pipeline"
   ]
  },
  {
   "cell_type": "code",
   "execution_count": 5,
   "metadata": {},
   "outputs": [],
   "source": [
    "from sklearn.linear_model import LogisticRegression\n",
    "from sklearn.svm import LinearSVC\n",
    "from sklearn.preprocessing import MinMaxScaler\n",
    "from sklearn.pipeline import Pipeline\n",
    "from sklearn.model_selection import GridSearchCV\n",
    "SEED = 42"
   ]
  },
  {
   "cell_type": "markdown",
   "metadata": {},
   "source": [
    "## Define Features and Target Label"
   ]
  },
  {
   "cell_type": "code",
   "execution_count": 6,
   "metadata": {},
   "outputs": [
    {
     "name": "stdout",
     "output_type": "stream",
     "text": [
      "Data dimensions: (293756, 69)\n",
      "Class distribution:\n",
      "0    270000\n",
      "1     23756\n",
      "Name: target, dtype: int64\n"
     ]
    }
   ],
   "source": [
    "label = 'target'\n",
    "features = [column  for column in data.columns[:-2]]\n",
    "data[label] = data[label].replace({2:0, 3:0})\n",
    "\n",
    "splits = data[['area']]\n",
    "X = data[features]\n",
    "y = data[label]\n",
    "\n",
    "print('Data dimensions: {}'.format(data.shape))\n",
    "print('Class distribution:\\n{}'.format(data['target'].value_counts()))"
   ]
  },
  {
   "cell_type": "markdown",
   "metadata": {},
   "source": [
    "## Define Best Feature Set"
   ]
  },
  {
   "cell_type": "code",
   "execution_count": 7,
   "metadata": {},
   "outputs": [
    {
     "data": {
      "text/plain": [
       "['B1_2015-2016',\n",
       " 'B2_2015-2016',\n",
       " 'B3_2015-2016',\n",
       " 'B5_2015-2016',\n",
       " 'B7_2015-2016',\n",
       " 'B12_2015-2016',\n",
       " 'savi_2015-2016',\n",
       " 'mndwi_2015-2016',\n",
       " 'nbai_2015-2016',\n",
       " 'B2_2017-2018',\n",
       " 'B3_2017-2018',\n",
       " 'B6_2017-2018',\n",
       " 'B7_2017-2018',\n",
       " 'B10_2017-2018',\n",
       " 'B11_2017-2018',\n",
       " 'B12_2017-2018',\n",
       " 'savi_2017-2018',\n",
       " 'mndwi_2017-2018',\n",
       " 'ui_2017-2018',\n",
       " 'nbi_2017-2018',\n",
       " 'mbi_2017-2018',\n",
       " 'B1_2019-2020',\n",
       " 'B2_2019-2020',\n",
       " 'B3_2019-2020',\n",
       " 'B5_2019-2020',\n",
       " 'B6_2019-2020',\n",
       " 'B7_2019-2020',\n",
       " 'B8_2019-2020',\n",
       " 'B10_2019-2020',\n",
       " 'B11_2019-2020',\n",
       " 'B12_2019-2020',\n",
       " 'ndvi_2019-2020',\n",
       " 'savi_2019-2020',\n",
       " 'mndwi_2019-2020',\n",
       " 'brba_2019-2020',\n",
       " 'nbai_2019-2020',\n",
       " 'mbi_2019-2020']"
      ]
     },
     "execution_count": 7,
     "metadata": {},
     "output_type": "execute_result"
    }
   ],
   "source": [
    "clf = LogisticRegression()\n",
    "cv, _ = model_utils.get_cv_iterator(splits)\n",
    "best_features = model_utils.rfecv_feature_selection(\n",
    "    clf, X, y, cv, scoring='f1', step=10, verbose=0\n",
    ")\n",
    "best_features"
   ]
  },
  {
   "cell_type": "markdown",
   "metadata": {},
   "source": [
    "## Hyperparameter Tuning"
   ]
  },
  {
   "cell_type": "code",
   "execution_count": 8,
   "metadata": {},
   "outputs": [
    {
     "name": "stdout",
     "output_type": "stream",
     "text": [
      "Fitting 9 folds for each of 8 candidates, totalling 72 fits\n"
     ]
    },
    {
     "name": "stderr",
     "output_type": "stream",
     "text": [
      "[Parallel(n_jobs=-1)]: Using backend LokyBackend with 12 concurrent workers.\n",
      "[Parallel(n_jobs=-1)]: Done  26 tasks      | elapsed:   13.9s\n",
      "[Parallel(n_jobs=-1)]: Done  72 out of  72 | elapsed:  1.0min finished\n"
     ]
    },
    {
     "name": "stdout",
     "output_type": "stream",
     "text": [
      "Pipeline(memory=None,\n",
      "         steps=[('scaler', MinMaxScaler(copy=True, feature_range=(0, 1))),\n",
      "                ('classifier',\n",
      "                 LogisticRegression(C=100, class_weight=None, dual=False,\n",
      "                                    fit_intercept=True, intercept_scaling=1,\n",
      "                                    l1_ratio=None, max_iter=100,\n",
      "                                    multi_class='warn', n_jobs=None,\n",
      "                                    penalty='l2', random_state=None,\n",
      "                                    solver='warn', tol=0.0001, verbose=0,\n",
      "                                    warm_start=False))],\n",
      "         verbose=False)\n"
     ]
    }
   ],
   "source": [
    "pipe_clf = Pipeline([\n",
    "    ('scaler',  MinMaxScaler()),\n",
    "    ('classifier', clf)\n",
    "])\n",
    "param_grid = {'classifier__C': [0.001, 0.1, 0.5, 1, 5, 10, 100, 1000]}\n",
    "cv = GridSearchCV(\n",
    "    estimator=pipe_clf, \n",
    "    param_grid=param_grid,\n",
    "    cv=cv,\n",
    "    verbose=1, \n",
    "    scoring='f1',\n",
    "    n_jobs=-1\n",
    ")\n",
    "cv.fit(X[best_features], y)\n",
    "best_estimator = cv.best_estimator_\n",
    "print(best_estimator)"
   ]
  },
  {
   "cell_type": "markdown",
   "metadata": {},
   "source": [
    "## Train Model"
   ]
  },
  {
   "cell_type": "code",
   "execution_count": 9,
   "metadata": {},
   "outputs": [],
   "source": [
    "X = data[best_features].fillna(0)\n",
    "y = data[label]\n",
    "best_estimator.fit(X, y);"
   ]
  },
  {
   "cell_type": "markdown",
   "metadata": {},
   "source": [
    "## Prediction: Sliding Window Approach"
   ]
  },
  {
   "cell_type": "code",
   "execution_count": 10,
   "metadata": {},
   "outputs": [
    {
     "name": "stderr",
     "output_type": "stream",
     "text": [
      "100%|██████████| 81/81 [02:04<00:00,  1.53s/it]\n",
      "100%|██████████| 81/81 [13:14<00:00,  9.81s/it]\n",
      "100%|██████████| 81/81 [08:17<00:00,  6.14s/it]\n",
      "100%|██████████| 81/81 [05:47<00:00,  4.29s/it]\n",
      "100%|██████████| 81/81 [13:17<00:00,  9.84s/it]\n",
      "100%|██████████| 81/81 [15:03<00:00, 11.15s/it]\n",
      "100%|██████████| 81/81 [14:52<00:00, 11.02s/it]\n"
     ]
    }
   ],
   "source": [
    "areas = [\n",
    "    'soacha', \n",
    "    'bogota',\n",
    "    'uribia', \n",
    "    'riohacha', \n",
    "    'maicao', \n",
    "    'cucuta', \n",
    "    'arauca', \n",
    "    'arauquita', \n",
    "    'tibu'\n",
    "]\n",
    "\n",
    "area_dict = geoutils.get_filepaths(areas, images_dir, indices_dir, pos_mask_dir, neg_mask_dir)\n",
    "grid_blocks = 9\n",
    "\n",
    "for area in areas:\n",
    "    output = output_dir + '{}_{}.tif'.format(version, area)\n",
    "    geoutils.get_preds_windowing(\n",
    "        area=area, \n",
    "        area_dict=area_dict,\n",
    "        model=best_estimator, \n",
    "        tmp_dir=tmp_dir,\n",
    "        best_features=best_features,  \n",
    "        output=output, \n",
    "        grid_blocks=grid_blocks,\n",
    "        threshold=0\n",
    "    )"
   ]
  },
  {
   "cell_type": "code",
   "execution_count": 11,
   "metadata": {},
   "outputs": [],
   "source": [
    "#for area in areas:\n",
    "#    filename = output_dir + '{}_{}.tiff'.format(version, area)\n",
    "#    !gsutil -q cp {filename} gs://immap-output/"
   ]
  }
 ],
 "metadata": {
  "kernelspec": {
   "display_name": "venv",
   "language": "python",
   "name": "venv"
  },
  "language_info": {
   "codemirror_mode": {
    "name": "ipython",
    "version": 3
   },
   "file_extension": ".py",
   "mimetype": "text/x-python",
   "name": "python",
   "nbconvert_exporter": "python",
   "pygments_lexer": "ipython3",
   "version": "3.7.4"
  }
 },
 "nbformat": 4,
 "nbformat_minor": 4
}
