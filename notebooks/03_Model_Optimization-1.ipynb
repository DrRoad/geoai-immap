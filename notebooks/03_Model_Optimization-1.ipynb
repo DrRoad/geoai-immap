{
 "cells": [
  {
   "cell_type": "markdown",
   "metadata": {},
   "source": [
    "# Model Experimentation: Hyperparameter Optimization\n",
    "This notebook conducts experiments on hyperparameter optimization."
   ]
  },
  {
   "cell_type": "markdown",
   "metadata": {},
   "source": [
    "## Imports and Setup"
   ]
  },
  {
   "cell_type": "code",
   "execution_count": 1,
   "metadata": {},
   "outputs": [],
   "source": [
    "import pandas as pd\n",
    "import numpy as np\n",
    "\n",
    "import matplotlib.pyplot as plt\n",
    "import seaborn as sns\n",
    "sns.set(style=\"whitegrid\")\n",
    "\n",
    "import sys\n",
    "sys.path.insert(0, '../utils')\n",
    "import model_utils\n",
    "import geoutils\n",
    "\n",
    "import logging\n",
    "import warnings\n",
    "logging.getLogger().setLevel(logging.ERROR)\n",
    "warnings.filterwarnings(\"ignore\")\n",
    "\n",
    "SEED = 42\n",
    "\n",
    "%load_ext autoreload\n",
    "%autoreload 2"
   ]
  },
  {
   "cell_type": "markdown",
   "metadata": {},
   "source": [
    "## File Location"
   ]
  },
  {
   "cell_type": "code",
   "execution_count": 2,
   "metadata": {},
   "outputs": [],
   "source": [
    "data_dir = \"../data/\"\n",
    "input_file = data_dir + '20200409_dataset.csv'\n",
    "\n",
    "pos_mask_dir = data_dir + 'pos_masks/'\n",
    "neg_mask_dir = data_dir + 'neg_masks/'\n",
    "sentinel_dir = data_dir + 'sentinel2/'\n",
    "false_pos_dir = data_dir + 'false_pos/'\n",
    "\n",
    "areas = ['maicao', 'riohacha', 'uribia']"
   ]
  },
  {
   "cell_type": "markdown",
   "metadata": {},
   "source": [
    "## Load Dataset"
   ]
  },
  {
   "cell_type": "code",
   "execution_count": 3,
   "metadata": {},
   "outputs": [
    {
     "name": "stdout",
     "output_type": "stream",
     "text": [
      "Data dimensions: (690163, 112)\n"
     ]
    },
    {
     "data": {
      "text/html": [
       "<div>\n",
       "<style scoped>\n",
       "    .dataframe tbody tr th:only-of-type {\n",
       "        vertical-align: middle;\n",
       "    }\n",
       "\n",
       "    .dataframe tbody tr th {\n",
       "        vertical-align: top;\n",
       "    }\n",
       "\n",
       "    .dataframe thead th {\n",
       "        text-align: right;\n",
       "    }\n",
       "</style>\n",
       "<table border=\"1\" class=\"dataframe\">\n",
       "  <thead>\n",
       "    <tr style=\"text-align: right;\">\n",
       "      <th></th>\n",
       "      <th>B1_2016</th>\n",
       "      <th>B2_2016</th>\n",
       "      <th>B3_2016</th>\n",
       "      <th>B4_2016</th>\n",
       "      <th>B5_2016</th>\n",
       "      <th>B6_2016</th>\n",
       "      <th>B7_2016</th>\n",
       "      <th>B8_2016</th>\n",
       "      <th>B9_2016</th>\n",
       "      <th>B10_2016</th>\n",
       "      <th>...</th>\n",
       "      <th>savi_2020</th>\n",
       "      <th>mndwi_2020</th>\n",
       "      <th>ui_2020</th>\n",
       "      <th>nbi_2020</th>\n",
       "      <th>brba_2020</th>\n",
       "      <th>nbai_2020</th>\n",
       "      <th>mbi_2020</th>\n",
       "      <th>baei_2020</th>\n",
       "      <th>target</th>\n",
       "      <th>area</th>\n",
       "    </tr>\n",
       "  </thead>\n",
       "  <tbody>\n",
       "    <tr>\n",
       "      <th>0</th>\n",
       "      <td>0.15970</td>\n",
       "      <td>0.13735</td>\n",
       "      <td>0.1531</td>\n",
       "      <td>0.18700</td>\n",
       "      <td>0.2090</td>\n",
       "      <td>0.26320</td>\n",
       "      <td>0.30515</td>\n",
       "      <td>0.26965</td>\n",
       "      <td>0.3327</td>\n",
       "      <td>0.0411</td>\n",
       "      <td>...</td>\n",
       "      <td>0.187614</td>\n",
       "      <td>-0.509745</td>\n",
       "      <td>0.105128</td>\n",
       "      <td>0.239614</td>\n",
       "      <td>0.449106</td>\n",
       "      <td>-0.718433</td>\n",
       "      <td>-0.042537</td>\n",
       "      <td>0.901237</td>\n",
       "      <td>3</td>\n",
       "      <td>0</td>\n",
       "    </tr>\n",
       "    <tr>\n",
       "      <th>1</th>\n",
       "      <td>0.15970</td>\n",
       "      <td>0.13905</td>\n",
       "      <td>0.1454</td>\n",
       "      <td>0.17845</td>\n",
       "      <td>0.2090</td>\n",
       "      <td>0.26320</td>\n",
       "      <td>0.30515</td>\n",
       "      <td>0.26395</td>\n",
       "      <td>0.3327</td>\n",
       "      <td>0.0411</td>\n",
       "      <td>...</td>\n",
       "      <td>0.177058</td>\n",
       "      <td>-0.507485</td>\n",
       "      <td>0.105128</td>\n",
       "      <td>0.247826</td>\n",
       "      <td>0.464498</td>\n",
       "      <td>-0.716955</td>\n",
       "      <td>-0.039760</td>\n",
       "      <td>0.911490</td>\n",
       "      <td>3</td>\n",
       "      <td>0</td>\n",
       "    </tr>\n",
       "    <tr>\n",
       "      <th>2</th>\n",
       "      <td>0.16675</td>\n",
       "      <td>0.14875</td>\n",
       "      <td>0.1589</td>\n",
       "      <td>0.18605</td>\n",
       "      <td>0.2258</td>\n",
       "      <td>0.27945</td>\n",
       "      <td>0.32070</td>\n",
       "      <td>0.28085</td>\n",
       "      <td>0.3452</td>\n",
       "      <td>0.0416</td>\n",
       "      <td>...</td>\n",
       "      <td>0.179191</td>\n",
       "      <td>-0.524371</td>\n",
       "      <td>0.073259</td>\n",
       "      <td>0.262348</td>\n",
       "      <td>0.446475</td>\n",
       "      <td>-0.722188</td>\n",
       "      <td>-0.033995</td>\n",
       "      <td>0.875915</td>\n",
       "      <td>3</td>\n",
       "      <td>0</td>\n",
       "    </tr>\n",
       "  </tbody>\n",
       "</table>\n",
       "<p>3 rows × 112 columns</p>\n",
       "</div>"
      ],
      "text/plain": [
       "   B1_2016  B2_2016  B3_2016  B4_2016  B5_2016  B6_2016  B7_2016  B8_2016  \\\n",
       "0  0.15970  0.13735   0.1531  0.18700   0.2090  0.26320  0.30515  0.26965   \n",
       "1  0.15970  0.13905   0.1454  0.17845   0.2090  0.26320  0.30515  0.26395   \n",
       "2  0.16675  0.14875   0.1589  0.18605   0.2258  0.27945  0.32070  0.28085   \n",
       "\n",
       "   B9_2016  B10_2016  ...  savi_2020  mndwi_2020   ui_2020  nbi_2020  \\\n",
       "0   0.3327    0.0411  ...   0.187614   -0.509745  0.105128  0.239614   \n",
       "1   0.3327    0.0411  ...   0.177058   -0.507485  0.105128  0.247826   \n",
       "2   0.3452    0.0416  ...   0.179191   -0.524371  0.073259  0.262348   \n",
       "\n",
       "   brba_2020  nbai_2020  mbi_2020  baei_2020  target  area  \n",
       "0   0.449106  -0.718433 -0.042537   0.901237       3     0  \n",
       "1   0.464498  -0.716955 -0.039760   0.911490       3     0  \n",
       "2   0.446475  -0.722188 -0.033995   0.875915       3     0  \n",
       "\n",
       "[3 rows x 112 columns]"
      ]
     },
     "execution_count": 3,
     "metadata": {},
     "output_type": "execute_result"
    }
   ],
   "source": [
    "data = pd.read_csv(input_file).reset_index(drop=True)\n",
    "print('Data dimensions: {}'.format(data.shape))\n",
    "data.head(3)"
   ]
  },
  {
   "cell_type": "markdown",
   "metadata": {},
   "source": [
    "## Resample Dataset\n",
    "Resamples 30,000 negative examples per area."
   ]
  },
  {
   "cell_type": "code",
   "execution_count": 4,
   "metadata": {},
   "outputs": [
    {
     "name": "stdout",
     "output_type": "stream",
     "text": [
      "Data dimensions: (169647, 113)\n"
     ]
    },
    {
     "data": {
      "text/html": [
       "<div>\n",
       "<style scoped>\n",
       "    .dataframe tbody tr th:only-of-type {\n",
       "        vertical-align: middle;\n",
       "    }\n",
       "\n",
       "    .dataframe tbody tr th {\n",
       "        vertical-align: top;\n",
       "    }\n",
       "\n",
       "    .dataframe thead th {\n",
       "        text-align: right;\n",
       "    }\n",
       "</style>\n",
       "<table border=\"1\" class=\"dataframe\">\n",
       "  <thead>\n",
       "    <tr style=\"text-align: right;\">\n",
       "      <th></th>\n",
       "      <th>B1_2016</th>\n",
       "      <th>B2_2016</th>\n",
       "      <th>B3_2016</th>\n",
       "      <th>B4_2016</th>\n",
       "      <th>B5_2016</th>\n",
       "      <th>B6_2016</th>\n",
       "      <th>B7_2016</th>\n",
       "      <th>B8_2016</th>\n",
       "      <th>B9_2016</th>\n",
       "      <th>B10_2016</th>\n",
       "      <th>...</th>\n",
       "      <th>mndwi_2020</th>\n",
       "      <th>ui_2020</th>\n",
       "      <th>nbi_2020</th>\n",
       "      <th>brba_2020</th>\n",
       "      <th>nbai_2020</th>\n",
       "      <th>mbi_2020</th>\n",
       "      <th>baei_2020</th>\n",
       "      <th>la_guajira</th>\n",
       "      <th>target</th>\n",
       "      <th>area</th>\n",
       "    </tr>\n",
       "  </thead>\n",
       "  <tbody>\n",
       "    <tr>\n",
       "      <th>0</th>\n",
       "      <td>0.1809</td>\n",
       "      <td>0.17790</td>\n",
       "      <td>0.1972</td>\n",
       "      <td>0.2371</td>\n",
       "      <td>0.2427</td>\n",
       "      <td>0.3009</td>\n",
       "      <td>0.33460</td>\n",
       "      <td>0.2913</td>\n",
       "      <td>0.3655</td>\n",
       "      <td>0.04435</td>\n",
       "      <td>...</td>\n",
       "      <td>-0.388713</td>\n",
       "      <td>0.040390</td>\n",
       "      <td>0.386829</td>\n",
       "      <td>0.574649</td>\n",
       "      <td>-0.603260</td>\n",
       "      <td>-0.010778</td>\n",
       "      <td>0.810930</td>\n",
       "      <td>1</td>\n",
       "      <td>4</td>\n",
       "      <td>0</td>\n",
       "    </tr>\n",
       "    <tr>\n",
       "      <th>1</th>\n",
       "      <td>0.1684</td>\n",
       "      <td>0.13690</td>\n",
       "      <td>0.1425</td>\n",
       "      <td>0.1458</td>\n",
       "      <td>0.1686</td>\n",
       "      <td>0.2696</td>\n",
       "      <td>0.30675</td>\n",
       "      <td>0.2652</td>\n",
       "      <td>0.3501</td>\n",
       "      <td>0.03810</td>\n",
       "      <td>...</td>\n",
       "      <td>-0.602441</td>\n",
       "      <td>0.098756</td>\n",
       "      <td>0.199285</td>\n",
       "      <td>0.318486</td>\n",
       "      <td>-0.752879</td>\n",
       "      <td>-0.057824</td>\n",
       "      <td>0.809911</td>\n",
       "      <td>1</td>\n",
       "      <td>4</td>\n",
       "      <td>0</td>\n",
       "    </tr>\n",
       "    <tr>\n",
       "      <th>2</th>\n",
       "      <td>0.1635</td>\n",
       "      <td>0.13655</td>\n",
       "      <td>0.1327</td>\n",
       "      <td>0.1346</td>\n",
       "      <td>0.1311</td>\n",
       "      <td>0.1754</td>\n",
       "      <td>0.20490</td>\n",
       "      <td>0.2100</td>\n",
       "      <td>0.2202</td>\n",
       "      <td>0.03560</td>\n",
       "      <td>...</td>\n",
       "      <td>-0.506141</td>\n",
       "      <td>0.128252</td>\n",
       "      <td>0.180842</td>\n",
       "      <td>0.403433</td>\n",
       "      <td>-0.754468</td>\n",
       "      <td>-0.048452</td>\n",
       "      <td>0.950226</td>\n",
       "      <td>1</td>\n",
       "      <td>4</td>\n",
       "      <td>0</td>\n",
       "    </tr>\n",
       "  </tbody>\n",
       "</table>\n",
       "<p>3 rows × 113 columns</p>\n",
       "</div>"
      ],
      "text/plain": [
       "   B1_2016  B2_2016  B3_2016  B4_2016  B5_2016  B6_2016  B7_2016  B8_2016  \\\n",
       "0   0.1809  0.17790   0.1972   0.2371   0.2427   0.3009  0.33460   0.2913   \n",
       "1   0.1684  0.13690   0.1425   0.1458   0.1686   0.2696  0.30675   0.2652   \n",
       "2   0.1635  0.13655   0.1327   0.1346   0.1311   0.1754  0.20490   0.2100   \n",
       "\n",
       "   B9_2016  B10_2016  ...  mndwi_2020   ui_2020  nbi_2020  brba_2020  \\\n",
       "0   0.3655   0.04435  ...   -0.388713  0.040390  0.386829   0.574649   \n",
       "1   0.3501   0.03810  ...   -0.602441  0.098756  0.199285   0.318486   \n",
       "2   0.2202   0.03560  ...   -0.506141  0.128252  0.180842   0.403433   \n",
       "\n",
       "   nbai_2020  mbi_2020  baei_2020  la_guajira  target  area  \n",
       "0  -0.603260 -0.010778   0.810930           1       4     0  \n",
       "1  -0.752879 -0.057824   0.809911           1       4     0  \n",
       "2  -0.754468 -0.048452   0.950226           1       4     0  \n",
       "\n",
       "[3 rows x 113 columns]"
      ]
     },
     "execution_count": 4,
     "metadata": {},
     "output_type": "execute_result"
    }
   ],
   "source": [
    "la_guajira = data['area'].apply(lambda x: model_utils.get_la_guajira(x)) \n",
    "data.insert(len(data.columns)-2, 'la_guajira', la_guajira)\n",
    "\n",
    "data = model_utils.resample(data, num_neg_samples=30000, false_pos_samples=1000, random_state=SEED)\n",
    "print('Data dimensions: {}'.format(data.shape))\n",
    "data.head(3)"
   ]
  },
  {
   "cell_type": "markdown",
   "metadata": {},
   "source": [
    "## Machine Learning Pipeline"
   ]
  },
  {
   "cell_type": "code",
   "execution_count": 5,
   "metadata": {},
   "outputs": [],
   "source": [
    "from sklearn.linear_model import LogisticRegression\n",
    "from sklearn.ensemble import RandomForestClassifier\n",
    "from sklearn.naive_bayes import GaussianNB\n",
    "from sklearn.svm import LinearSVC\n",
    "from lightgbm import LGBMClassifier\n",
    "SEED = 42"
   ]
  },
  {
   "cell_type": "markdown",
   "metadata": {},
   "source": [
    "## Define Features and Target Label"
   ]
  },
  {
   "cell_type": "code",
   "execution_count": 7,
   "metadata": {},
   "outputs": [
    {
     "name": "stdout",
     "output_type": "stream",
     "text": [
      "Data dimensions: (169647, 113)\n",
      "Class distribution:\n",
      "0    150000\n",
      "1     19647\n",
      "Name: target, dtype: int64\n"
     ]
    }
   ],
   "source": [
    "# Get target and feature columns\n",
    "label = 'target'\n",
    "features = [column for column in data.columns[:-2]]\n",
    "\n",
    "# Convert target labels to binary\n",
    "data[label] = data[label].replace({2:0, 3:0, 4:0})\n",
    "\n",
    "print('Data dimensions: {}'.format(data.shape))\n",
    "print('Class distribution:\\n{}'.format(data['target'].value_counts()))"
   ]
  },
  {
   "cell_type": "markdown",
   "metadata": {},
   "source": [
    "## Logistic Regression"
   ]
  },
  {
   "cell_type": "markdown",
   "metadata": {},
   "source": [
    "### Feature Selection: Recursive Feature Eleimination CV"
   ]
  },
  {
   "cell_type": "code",
   "execution_count": 8,
   "metadata": {},
   "outputs": [
    {
     "name": "stdout",
     "output_type": "stream",
     "text": [
      "['B2_2016', 'B3_2016', 'B5_2016', 'B6_2016', 'B7_2016', 'B8_2016', 'B9_2016', 'B10_2016', 'B12_2016', 'ndvi_2016', 'ndbi_2016', 'savi_2016', 'mndwi_2016', 'ui_2016', 'nbi_2016', 'brba_2016', 'nbai_2016', 'mbi_2016', 'B1_2017', 'B2_2017', 'B3_2017', 'B4_2017', 'B5_2017', 'B6_2017', 'B8_2017', 'B10_2017', 'B11_2017', 'B12_2017', 'mndwi_2017', 'ui_2017', 'nbi_2017', 'brba_2017', 'nbai_2017', 'mbi_2017', 'baei_2017', 'B2_2018', 'B5_2018', 'B6_2018', 'B7_2018', 'B8_2018', 'B9_2018', 'B10_2018', 'B12_2018', 'ndbi_2018', 'savi_2018', 'ui_2018', 'nbi_2018', 'mbi_2018', 'baei_2018', 'B1_2019', 'B2_2019', 'B4_2019', 'B5_2019', 'B6_2019', 'B7_2019', 'B8_2019', 'B9_2019', 'B10_2019', 'B11_2019', 'B12_2019', 'ndvi_2019', 'ndbi_2019', 'savi_2019', 'mndwi_2019', 'ui_2019', 'nbi_2019', 'brba_2019', 'nbai_2019', 'mbi_2019', 'baei_2019', 'B1_2020', 'B2_2020', 'B3_2020', 'B4_2020', 'B5_2020', 'B6_2020', 'B7_2020', 'B8_2020', 'B9_2020', 'B10_2020', 'B11_2020', 'B12_2020', 'ndvi_2020', 'savi_2020', 'mndwi_2020', 'ui_2020', 'brba_2020', 'nbai_2020', 'mbi_2020', 'baei_2020', 'la_guajira']\n"
     ]
    }
   ],
   "source": [
    "lr = LogisticRegression()\n",
    "lr_best_features = model_utils.rfecv_feature_selection(\n",
    "    lr, data, features, label, scoring='f1', step=10, verbose=0\n",
    ")\n",
    "print(lr_best_features)"
   ]
  },
  {
   "cell_type": "markdown",
   "metadata": {},
   "source": [
    "### [Baseline] Logistic Regression Results Sans Hyperparamater Optimization"
   ]
  },
  {
   "cell_type": "code",
   "execution_count": 9,
   "metadata": {},
   "outputs": [
    {
     "name": "stdout",
     "output_type": "stream",
     "text": [
      "\n",
      "Test set: MAICAO\n",
      "[[29358   642]\n",
      " [  143   567]]\n",
      "              precision    recall  f1-score   support\n",
      "\n",
      "           0       1.00      0.98      0.99     30000\n",
      "           1       0.47      0.80      0.59       710\n",
      "\n",
      "    accuracy                           0.97     30710\n",
      "   macro avg       0.73      0.89      0.79     30710\n",
      "weighted avg       0.98      0.97      0.98     30710\n",
      "\n",
      "MAICAO Results: \n",
      "- F1 Score: 0.5909\n",
      "- Kappa Statistics: 0.5787\n",
      "- Precision: 0.4690\n",
      "- Recall: 0.7986\n",
      "- Accuracy: 0.9744\n",
      "\n",
      "Test set: RIOHACHA\n",
      "[[29477   523]\n",
      " [ 1452  2049]]\n",
      "              precision    recall  f1-score   support\n",
      "\n",
      "           0       0.95      0.98      0.97     30000\n",
      "           1       0.80      0.59      0.67      3501\n",
      "\n",
      "    accuracy                           0.94     33501\n",
      "   macro avg       0.87      0.78      0.82     33501\n",
      "weighted avg       0.94      0.94      0.94     33501\n",
      "\n",
      "RIOHACHA Results: \n",
      "- F1 Score: 0.6748\n",
      "- Kappa Statistics: 0.6432\n",
      "- Precision: 0.7967\n",
      "- Recall: 0.5853\n",
      "- Accuracy: 0.9410\n",
      "\n",
      "Test set: URIBIA\n",
      "[[29957    43]\n",
      " [ 5408  4937]]\n",
      "              precision    recall  f1-score   support\n",
      "\n",
      "           0       0.85      1.00      0.92     30000\n",
      "           1       0.99      0.48      0.64     10345\n",
      "\n",
      "    accuracy                           0.86     40345\n",
      "   macro avg       0.92      0.74      0.78     40345\n",
      "weighted avg       0.88      0.86      0.85     40345\n",
      "\n",
      "URIBIA Results: \n",
      "- F1 Score: 0.6443\n",
      "- Kappa Statistics: 0.5732\n",
      "- Precision: 0.9914\n",
      "- Recall: 0.4772\n",
      "- Accuracy: 0.8649\n",
      "\n",
      "Test set: ARAUCA1\n",
      "[[29311   689]\n",
      " [  808  1618]]\n",
      "              precision    recall  f1-score   support\n",
      "\n",
      "           0       0.97      0.98      0.98     30000\n",
      "           1       0.70      0.67      0.68      2426\n",
      "\n",
      "    accuracy                           0.95     32426\n",
      "   macro avg       0.84      0.82      0.83     32426\n",
      "weighted avg       0.95      0.95      0.95     32426\n",
      "\n",
      "ARAUCA1 Results: \n",
      "- F1 Score: 0.6837\n",
      "- Kappa Statistics: 0.6588\n",
      "- Precision: 0.7013\n",
      "- Recall: 0.6669\n",
      "- Accuracy: 0.9538\n",
      "\n",
      "Test set: CUCUTA\n",
      "[[29697   303]\n",
      " [  249  2416]]\n",
      "              precision    recall  f1-score   support\n",
      "\n",
      "           0       0.99      0.99      0.99     30000\n",
      "           1       0.89      0.91      0.90      2665\n",
      "\n",
      "    accuracy                           0.98     32665\n",
      "   macro avg       0.94      0.95      0.94     32665\n",
      "weighted avg       0.98      0.98      0.98     32665\n",
      "\n",
      "CUCUTA Results: \n",
      "- F1 Score: 0.8975\n",
      "- Kappa Statistics: 0.8883\n",
      "- Precision: 0.8886\n",
      "- Recall: 0.9066\n",
      "- Accuracy: 0.9831\n",
      "\n",
      "Average F1 Score: 0.6982\n",
      "Average Kappa statistic: 0.6684\n",
      "Average Precision: 0.7694\n",
      "Average Recall: 0.6869\n",
      "Average Accuracy: 0.9435\n",
      "\n"
     ]
    }
   ],
   "source": [
    "lr = LogisticRegression()\n",
    "results, clfs = model_utils.geospatialcv(data, lr_best_features, label, lr, verbose=2);"
   ]
  },
  {
   "cell_type": "markdown",
   "metadata": {},
   "source": [
    "### Grid Search Cross Validation"
   ]
  },
  {
   "cell_type": "code",
   "execution_count": 17,
   "metadata": {},
   "outputs": [
    {
     "name": "stdout",
     "output_type": "stream",
     "text": [
      "Fitting 5 folds for each of 5 candidates, totalling 25 fits\n"
     ]
    },
    {
     "name": "stderr",
     "output_type": "stream",
     "text": [
      "[Parallel(n_jobs=-1)]: Using backend LokyBackend with 8 concurrent workers.\n",
      "[Parallel(n_jobs=-1)]: Done  23 out of  25 | elapsed:   25.1s remaining:    2.2s\n",
      "[Parallel(n_jobs=-1)]: Done  25 out of  25 | elapsed:   30.8s finished\n"
     ]
    },
    {
     "name": "stdout",
     "output_type": "stream",
     "text": [
      "Best Paramaters: {'classifier__C': 1.0, 'classifier__penalty': 'l2'}\n"
     ]
    }
   ],
   "source": [
    "param_grid = {\n",
    "    'classifier__penalty': ['l2'],\n",
    "    'classifier__C':[0.001, 0.01, 1.0, 5.0, 10]\n",
    "}\n",
    "lr_grid_search = model_utils.hyperparameter_optimization(\n",
    "    data, lr_best_features, label, lr, param_grid, scoring='f1', verbose=2\n",
    ")"
   ]
  },
  {
   "cell_type": "markdown",
   "metadata": {},
   "source": [
    "### Logistic Regression Results with Hyperparameter Optimization"
   ]
  },
  {
   "cell_type": "code",
   "execution_count": 19,
   "metadata": {},
   "outputs": [
    {
     "name": "stdout",
     "output_type": "stream",
     "text": [
      "\n",
      "Test set: MAICAO\n",
      "[[29358   642]\n",
      " [  143   567]]\n",
      "              precision    recall  f1-score   support\n",
      "\n",
      "           0       1.00      0.98      0.99     30000\n",
      "           1       0.47      0.80      0.59       710\n",
      "\n",
      "    accuracy                           0.97     30710\n",
      "   macro avg       0.73      0.89      0.79     30710\n",
      "weighted avg       0.98      0.97      0.98     30710\n",
      "\n",
      "MAICAO Results: \n",
      "- F1 Score: 0.5909\n",
      "- Kappa Statistics: 0.5787\n",
      "- Precision: 0.4690\n",
      "- Recall: 0.7986\n",
      "- Accuracy: 0.9744\n",
      "\n",
      "Test set: RIOHACHA\n",
      "[[29477   523]\n",
      " [ 1452  2049]]\n",
      "              precision    recall  f1-score   support\n",
      "\n",
      "           0       0.95      0.98      0.97     30000\n",
      "           1       0.80      0.59      0.67      3501\n",
      "\n",
      "    accuracy                           0.94     33501\n",
      "   macro avg       0.87      0.78      0.82     33501\n",
      "weighted avg       0.94      0.94      0.94     33501\n",
      "\n",
      "RIOHACHA Results: \n",
      "- F1 Score: 0.6748\n",
      "- Kappa Statistics: 0.6432\n",
      "- Precision: 0.7967\n",
      "- Recall: 0.5853\n",
      "- Accuracy: 0.9410\n",
      "\n",
      "Test set: URIBIA\n",
      "[[29957    43]\n",
      " [ 5408  4937]]\n",
      "              precision    recall  f1-score   support\n",
      "\n",
      "           0       0.85      1.00      0.92     30000\n",
      "           1       0.99      0.48      0.64     10345\n",
      "\n",
      "    accuracy                           0.86     40345\n",
      "   macro avg       0.92      0.74      0.78     40345\n",
      "weighted avg       0.88      0.86      0.85     40345\n",
      "\n",
      "URIBIA Results: \n",
      "- F1 Score: 0.6443\n",
      "- Kappa Statistics: 0.5732\n",
      "- Precision: 0.9914\n",
      "- Recall: 0.4772\n",
      "- Accuracy: 0.8649\n",
      "\n",
      "Test set: ARAUCA1\n",
      "[[29311   689]\n",
      " [  808  1618]]\n",
      "              precision    recall  f1-score   support\n",
      "\n",
      "           0       0.97      0.98      0.98     30000\n",
      "           1       0.70      0.67      0.68      2426\n",
      "\n",
      "    accuracy                           0.95     32426\n",
      "   macro avg       0.84      0.82      0.83     32426\n",
      "weighted avg       0.95      0.95      0.95     32426\n",
      "\n",
      "ARAUCA1 Results: \n",
      "- F1 Score: 0.6837\n",
      "- Kappa Statistics: 0.6588\n",
      "- Precision: 0.7013\n",
      "- Recall: 0.6669\n",
      "- Accuracy: 0.9538\n",
      "\n",
      "Test set: CUCUTA\n",
      "[[29697   303]\n",
      " [  249  2416]]\n",
      "              precision    recall  f1-score   support\n",
      "\n",
      "           0       0.99      0.99      0.99     30000\n",
      "           1       0.89      0.91      0.90      2665\n",
      "\n",
      "    accuracy                           0.98     32665\n",
      "   macro avg       0.94      0.95      0.94     32665\n",
      "weighted avg       0.98      0.98      0.98     32665\n",
      "\n",
      "CUCUTA Results: \n",
      "- F1 Score: 0.8975\n",
      "- Kappa Statistics: 0.8883\n",
      "- Precision: 0.8886\n",
      "- Recall: 0.9066\n",
      "- Accuracy: 0.9831\n",
      "\n",
      "Average F1 Score: 0.6982\n",
      "Average Kappa statistic: 0.6684\n",
      "Average Precision: 0.7694\n",
      "Average Recall: 0.6869\n",
      "Average Accuracy: 0.9435\n",
      "\n"
     ]
    }
   ],
   "source": [
    "lr = LogisticRegression(C=1.0)\n",
    "results, clfs = model_utils.geospatialcv(data, lr_best_features, label, lr, verbose=2);"
   ]
  },
  {
   "cell_type": "markdown",
   "metadata": {},
   "source": [
    "## LinearSVC"
   ]
  },
  {
   "cell_type": "code",
   "execution_count": 20,
   "metadata": {},
   "outputs": [
    {
     "name": "stdout",
     "output_type": "stream",
     "text": [
      "['B2_2016', 'B3_2016', 'B5_2016', 'B6_2016', 'B7_2016', 'B8_2016', 'B9_2016', 'B10_2016', 'B12_2016', 'ndvi_2016', 'ndbi_2016', 'savi_2016', 'mndwi_2016', 'ui_2016', 'nbi_2016', 'brba_2016', 'nbai_2016', 'mbi_2016', 'B1_2017', 'B2_2017', 'B3_2017', 'B4_2017', 'B5_2017', 'B6_2017', 'B8_2017', 'B10_2017', 'B11_2017', 'B12_2017', 'mndwi_2017', 'ui_2017', 'nbi_2017', 'brba_2017', 'nbai_2017', 'mbi_2017', 'baei_2017', 'B2_2018', 'B5_2018', 'B6_2018', 'B7_2018', 'B8_2018', 'B9_2018', 'B10_2018', 'B12_2018', 'ndbi_2018', 'savi_2018', 'ui_2018', 'nbi_2018', 'mbi_2018', 'baei_2018', 'B1_2019', 'B2_2019', 'B4_2019', 'B5_2019', 'B6_2019', 'B7_2019', 'B8_2019', 'B9_2019', 'B10_2019', 'B11_2019', 'B12_2019', 'ndvi_2019', 'ndbi_2019', 'savi_2019', 'mndwi_2019', 'ui_2019', 'nbi_2019', 'brba_2019', 'nbai_2019', 'mbi_2019', 'baei_2019', 'B1_2020', 'B2_2020', 'B3_2020', 'B4_2020', 'B5_2020', 'B6_2020', 'B7_2020', 'B8_2020', 'B9_2020', 'B10_2020', 'B11_2020', 'B12_2020', 'ndvi_2020', 'savi_2020', 'mndwi_2020', 'ui_2020', 'brba_2020', 'nbai_2020', 'mbi_2020', 'baei_2020', 'la_guajira']\n"
     ]
    }
   ],
   "source": [
    "lsvc = LinearSVC(random_state=SEED)\n",
    "lsvc_best_features = model_utils.rfecv_feature_selection(\n",
    "    lr, data, features, label, scoring='f1', step=10, verbose=0\n",
    ")\n",
    "print(lsvc_best_features)"
   ]
  },
  {
   "cell_type": "markdown",
   "metadata": {},
   "source": [
    "### [Baseline] LinearSVC Results Sans Hyperparamater Optimization"
   ]
  },
  {
   "cell_type": "code",
   "execution_count": 22,
   "metadata": {},
   "outputs": [
    {
     "name": "stdout",
     "output_type": "stream",
     "text": [
      "\n",
      "Test set: MAICAO\n",
      "[[29293   707]\n",
      " [  153   557]]\n",
      "              precision    recall  f1-score   support\n",
      "\n",
      "           0       0.99      0.98      0.99     30000\n",
      "           1       0.44      0.78      0.56       710\n",
      "\n",
      "    accuracy                           0.97     30710\n",
      "   macro avg       0.72      0.88      0.77     30710\n",
      "weighted avg       0.98      0.97      0.98     30710\n",
      "\n",
      "MAICAO Results: \n",
      "- F1 Score: 0.5643\n",
      "- Kappa Statistics: 0.5510\n",
      "- Precision: 0.4407\n",
      "- Recall: 0.7845\n",
      "- Accuracy: 0.9720\n",
      "\n",
      "Test set: RIOHACHA\n",
      "[[29703   297]\n",
      " [ 1324  2177]]\n",
      "              precision    recall  f1-score   support\n",
      "\n",
      "           0       0.96      0.99      0.97     30000\n",
      "           1       0.88      0.62      0.73      3501\n",
      "\n",
      "    accuracy                           0.95     33501\n",
      "   macro avg       0.92      0.81      0.85     33501\n",
      "weighted avg       0.95      0.95      0.95     33501\n",
      "\n",
      "RIOHACHA Results: \n",
      "- F1 Score: 0.7287\n",
      "- Kappa Statistics: 0.7030\n",
      "- Precision: 0.8800\n",
      "- Recall: 0.6218\n",
      "- Accuracy: 0.9516\n",
      "\n",
      "Test set: URIBIA\n",
      "[[29952    48]\n",
      " [ 6580  3765]]\n",
      "              precision    recall  f1-score   support\n",
      "\n",
      "           0       0.82      1.00      0.90     30000\n",
      "           1       0.99      0.36      0.53     10345\n",
      "\n",
      "    accuracy                           0.84     40345\n",
      "   macro avg       0.90      0.68      0.72     40345\n",
      "weighted avg       0.86      0.84      0.81     40345\n",
      "\n",
      "URIBIA Results: \n",
      "- F1 Score: 0.5319\n",
      "- Kappa Statistics: 0.4568\n",
      "- Precision: 0.9874\n",
      "- Recall: 0.3639\n",
      "- Accuracy: 0.8357\n",
      "\n",
      "Test set: ARAUCA1\n",
      "[[29097   903]\n",
      " [  745  1681]]\n",
      "              precision    recall  f1-score   support\n",
      "\n",
      "           0       0.98      0.97      0.97     30000\n",
      "           1       0.65      0.69      0.67      2426\n",
      "\n",
      "    accuracy                           0.95     32426\n",
      "   macro avg       0.81      0.83      0.82     32426\n",
      "weighted avg       0.95      0.95      0.95     32426\n",
      "\n",
      "ARAUCA1 Results: \n",
      "- F1 Score: 0.6711\n",
      "- Kappa Statistics: 0.6435\n",
      "- Precision: 0.6505\n",
      "- Recall: 0.6929\n",
      "- Accuracy: 0.9492\n",
      "\n",
      "Test set: CUCUTA\n",
      "[[29434   566]\n",
      " [  213  2452]]\n",
      "              precision    recall  f1-score   support\n",
      "\n",
      "           0       0.99      0.98      0.99     30000\n",
      "           1       0.81      0.92      0.86      2665\n",
      "\n",
      "    accuracy                           0.98     32665\n",
      "   macro avg       0.90      0.95      0.92     32665\n",
      "weighted avg       0.98      0.98      0.98     32665\n",
      "\n",
      "CUCUTA Results: \n",
      "- F1 Score: 0.8629\n",
      "- Kappa Statistics: 0.8499\n",
      "- Precision: 0.8125\n",
      "- Recall: 0.9201\n",
      "- Accuracy: 0.9762\n",
      "\n",
      "Average F1 Score: 0.6718\n",
      "Average Kappa statistic: 0.6409\n",
      "Average Precision: 0.7542\n",
      "Average Recall: 0.6767\n",
      "Average Accuracy: 0.9369\n",
      "\n"
     ]
    }
   ],
   "source": [
    "lsvc = LinearSVC(random_state=SEED)\n",
    "results, clfs = model_utils.geospatialcv(data, lsvc_best_features, label, lsvc, verbose=2);"
   ]
  },
  {
   "cell_type": "markdown",
   "metadata": {},
   "source": [
    "### Grid Search Cross Validation\n",
    "Reference: https://towardsdatascience.com/svm-hyper-parameter-tuning-using-gridsearchcv-49c0bc55ce29"
   ]
  },
  {
   "cell_type": "code",
   "execution_count": 23,
   "metadata": {},
   "outputs": [
    {
     "name": "stdout",
     "output_type": "stream",
     "text": [
      "Fitting 5 folds for each of 6 candidates, totalling 30 fits\n"
     ]
    },
    {
     "name": "stderr",
     "output_type": "stream",
     "text": [
      "[Parallel(n_jobs=-1)]: Using backend LokyBackend with 8 concurrent workers.\n",
      "[Parallel(n_jobs=-1)]: Done  30 out of  30 | elapsed:  2.9min finished\n"
     ]
    },
    {
     "name": "stdout",
     "output_type": "stream",
     "text": [
      "Best Paramaters: {'classifier__C': 1000}\n"
     ]
    }
   ],
   "source": [
    "lsvc = LinearSVC(random_state=SEED)\n",
    "param_grid = {'classifier__C': [0.001, 0.1, 1, 10, 100, 1000]}\n",
    "lsvc_grid_search = model_utils.hyperparameter_optimization(\n",
    "    data, lsvc_best_features, label, lsvc, param_grid, scoring='f1', verbose=2\n",
    ")"
   ]
  },
  {
   "cell_type": "markdown",
   "metadata": {},
   "source": [
    "### LinearSVC Results with Hyperparameter Optimization"
   ]
  },
  {
   "cell_type": "code",
   "execution_count": 24,
   "metadata": {},
   "outputs": [
    {
     "name": "stdout",
     "output_type": "stream",
     "text": [
      "\n",
      "Test set: MAICAO\n",
      "[[29391   609]\n",
      " [  200   510]]\n",
      "              precision    recall  f1-score   support\n",
      "\n",
      "           0       0.99      0.98      0.99     30000\n",
      "           1       0.46      0.72      0.56       710\n",
      "\n",
      "    accuracy                           0.97     30710\n",
      "   macro avg       0.72      0.85      0.77     30710\n",
      "weighted avg       0.98      0.97      0.98     30710\n",
      "\n",
      "MAICAO Results: \n",
      "- F1 Score: 0.5577\n",
      "- Kappa Statistics: 0.5448\n",
      "- Precision: 0.4558\n",
      "- Recall: 0.7183\n",
      "- Accuracy: 0.9737\n",
      "\n",
      "Test set: RIOHACHA\n",
      "[[29630   370]\n",
      " [ 1059  2442]]\n",
      "              precision    recall  f1-score   support\n",
      "\n",
      "           0       0.97      0.99      0.98     30000\n",
      "           1       0.87      0.70      0.77      3501\n",
      "\n",
      "    accuracy                           0.96     33501\n",
      "   macro avg       0.92      0.84      0.88     33501\n",
      "weighted avg       0.96      0.96      0.96     33501\n",
      "\n",
      "RIOHACHA Results: \n",
      "- F1 Score: 0.7736\n",
      "- Kappa Statistics: 0.7504\n",
      "- Precision: 0.8684\n",
      "- Recall: 0.6975\n",
      "- Accuracy: 0.9573\n",
      "\n",
      "Test set: URIBIA\n",
      "[[29215   785]\n",
      " [ 2986  7359]]\n",
      "              precision    recall  f1-score   support\n",
      "\n",
      "           0       0.91      0.97      0.94     30000\n",
      "           1       0.90      0.71      0.80     10345\n",
      "\n",
      "    accuracy                           0.91     40345\n",
      "   macro avg       0.91      0.84      0.87     40345\n",
      "weighted avg       0.91      0.91      0.90     40345\n",
      "\n",
      "URIBIA Results: \n",
      "- F1 Score: 0.7960\n",
      "- Kappa Statistics: 0.7365\n",
      "- Precision: 0.9036\n",
      "- Recall: 0.7114\n",
      "- Accuracy: 0.9065\n",
      "\n",
      "Test set: ARAUCA1\n",
      "[[29315   685]\n",
      " [  800  1626]]\n",
      "              precision    recall  f1-score   support\n",
      "\n",
      "           0       0.97      0.98      0.98     30000\n",
      "           1       0.70      0.67      0.69      2426\n",
      "\n",
      "    accuracy                           0.95     32426\n",
      "   macro avg       0.84      0.82      0.83     32426\n",
      "weighted avg       0.95      0.95      0.95     32426\n",
      "\n",
      "ARAUCA1 Results: \n",
      "- F1 Score: 0.6865\n",
      "- Kappa Statistics: 0.6618\n",
      "- Precision: 0.7036\n",
      "- Recall: 0.6702\n",
      "- Accuracy: 0.9542\n",
      "\n",
      "Test set: CUCUTA\n",
      "[[29342   658]\n",
      " [   94  2571]]\n",
      "              precision    recall  f1-score   support\n",
      "\n",
      "           0       1.00      0.98      0.99     30000\n",
      "           1       0.80      0.96      0.87      2665\n",
      "\n",
      "    accuracy                           0.98     32665\n",
      "   macro avg       0.90      0.97      0.93     32665\n",
      "weighted avg       0.98      0.98      0.98     32665\n",
      "\n",
      "CUCUTA Results: \n",
      "- F1 Score: 0.8724\n",
      "- Kappa Statistics: 0.8599\n",
      "- Precision: 0.7962\n",
      "- Recall: 0.9647\n",
      "- Accuracy: 0.9770\n",
      "\n",
      "Average F1 Score: 0.7373\n",
      "Average Kappa statistic: 0.7107\n",
      "Average Precision: 0.7455\n",
      "Average Recall: 0.7524\n",
      "Average Accuracy: 0.9537\n",
      "\n"
     ]
    }
   ],
   "source": [
    "lsvc = LinearSVC(C=1000, random_state=SEED)\n",
    "results, clfs = model_utils.geospatialcv(data, lsvc_best_features, label, lsvc, verbose=2);"
   ]
  }
 ],
 "metadata": {
  "kernelspec": {
   "display_name": "venv",
   "language": "python",
   "name": "venv"
  },
  "language_info": {
   "codemirror_mode": {
    "name": "ipython",
    "version": 3
   },
   "file_extension": ".py",
   "mimetype": "text/x-python",
   "name": "python",
   "nbconvert_exporter": "python",
   "pygments_lexer": "ipython3",
   "version": "3.7.4"
  }
 },
 "nbformat": 4,
 "nbformat_minor": 4
}
