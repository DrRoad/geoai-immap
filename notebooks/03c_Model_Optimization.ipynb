{
 "cells": [
  {
   "cell_type": "markdown",
   "metadata": {},
   "source": [
    "# Model Experimentation: Hyperparameter Optimization\n",
    "This notebook conducts experiments on hyperparameter optimization."
   ]
  },
  {
   "cell_type": "markdown",
   "metadata": {},
   "source": [
    "## Imports and Setup"
   ]
  },
  {
   "cell_type": "code",
   "execution_count": 1,
   "metadata": {},
   "outputs": [],
   "source": [
    "import pandas as pd\n",
    "import numpy as np\n",
    "import scipy\n",
    "\n",
    "import matplotlib.pyplot as plt\n",
    "import seaborn as sns\n",
    "sns.set(style=\"whitegrid\")\n",
    "\n",
    "import sys\n",
    "sys.path.insert(0, '../utils')\n",
    "import model_utils\n",
    "import geoutils\n",
    "\n",
    "import logging\n",
    "import warnings\n",
    "logging.getLogger().setLevel(logging.ERROR)\n",
    "warnings.filterwarnings(\"ignore\")\n",
    "\n",
    "SEED = 42\n",
    "\n",
    "%load_ext autoreload\n",
    "%autoreload 2"
   ]
  },
  {
   "cell_type": "markdown",
   "metadata": {},
   "source": [
    "## File Location"
   ]
  },
  {
   "cell_type": "code",
   "execution_count": 2,
   "metadata": {},
   "outputs": [],
   "source": [
    "version = '20200504'\n",
    "data_dir = \"../data/\"\n",
    "input_file = data_dir + '{}_dataset.csv'.format(version)\n",
    "\n",
    "images_dir = data_dir + 'images/'\n",
    "indices_dir = data_dir + 'indices/'\n",
    "pos_mask_dir = data_dir + 'pos_masks/'\n",
    "neg_mask_dir = data_dir + 'neg_masks/'"
   ]
  },
  {
   "cell_type": "markdown",
   "metadata": {},
   "source": [
    "## Load Dataset"
   ]
  },
  {
   "cell_type": "code",
   "execution_count": 3,
   "metadata": {},
   "outputs": [
    {
     "name": "stdout",
     "output_type": "stream",
     "text": [
      "Data dimensions: (257643, 69)\n",
      "CPU times: user 13.5 s, sys: 748 ms, total: 14.2 s\n",
      "Wall time: 13.6 s\n"
     ]
    },
    {
     "data": {
      "text/html": [
       "<div>\n",
       "<style scoped>\n",
       "    .dataframe tbody tr th:only-of-type {\n",
       "        vertical-align: middle;\n",
       "    }\n",
       "\n",
       "    .dataframe tbody tr th {\n",
       "        vertical-align: top;\n",
       "    }\n",
       "\n",
       "    .dataframe thead th {\n",
       "        text-align: right;\n",
       "    }\n",
       "</style>\n",
       "<table border=\"1\" class=\"dataframe\">\n",
       "  <thead>\n",
       "    <tr style=\"text-align: right;\">\n",
       "      <th></th>\n",
       "      <th>B1_2015-2016</th>\n",
       "      <th>B2_2015-2016</th>\n",
       "      <th>B3_2015-2016</th>\n",
       "      <th>B4_2015-2016</th>\n",
       "      <th>B5_2015-2016</th>\n",
       "      <th>B6_2015-2016</th>\n",
       "      <th>B7_2015-2016</th>\n",
       "      <th>B8_2015-2016</th>\n",
       "      <th>B9_2015-2016</th>\n",
       "      <th>B10_2015-2016</th>\n",
       "      <th>...</th>\n",
       "      <th>mndwi_2019-2020</th>\n",
       "      <th>ui_2019-2020</th>\n",
       "      <th>nbi_2019-2020</th>\n",
       "      <th>brba_2019-2020</th>\n",
       "      <th>nbai_2019-2020</th>\n",
       "      <th>mbi_2019-2020</th>\n",
       "      <th>baei_2019-2020</th>\n",
       "      <th>la_guajira</th>\n",
       "      <th>target</th>\n",
       "      <th>area</th>\n",
       "    </tr>\n",
       "  </thead>\n",
       "  <tbody>\n",
       "    <tr>\n",
       "      <th>807952</th>\n",
       "      <td>0.092</td>\n",
       "      <td>0.0717</td>\n",
       "      <td>0.0716</td>\n",
       "      <td>0.0478</td>\n",
       "      <td>0.0786</td>\n",
       "      <td>0.2476</td>\n",
       "      <td>0.3539</td>\n",
       "      <td>0.3461</td>\n",
       "      <td>0.3973</td>\n",
       "      <td>0.1131</td>\n",
       "      <td>...</td>\n",
       "      <td>-0.352922</td>\n",
       "      <td>0.411034</td>\n",
       "      <td>0.051601</td>\n",
       "      <td>0.406853</td>\n",
       "      <td>-0.704625</td>\n",
       "      <td>-0.193225</td>\n",
       "      <td>1.254652</td>\n",
       "      <td>0</td>\n",
       "      <td>3</td>\n",
       "      <td>7</td>\n",
       "    </tr>\n",
       "    <tr>\n",
       "      <th>807953</th>\n",
       "      <td>0.092</td>\n",
       "      <td>0.0709</td>\n",
       "      <td>0.0740</td>\n",
       "      <td>0.0501</td>\n",
       "      <td>0.0786</td>\n",
       "      <td>0.2476</td>\n",
       "      <td>0.3539</td>\n",
       "      <td>0.3960</td>\n",
       "      <td>0.3973</td>\n",
       "      <td>0.1131</td>\n",
       "      <td>...</td>\n",
       "      <td>-0.348519</td>\n",
       "      <td>0.411034</td>\n",
       "      <td>0.056131</td>\n",
       "      <td>0.442568</td>\n",
       "      <td>-0.702088</td>\n",
       "      <td>-0.189021</td>\n",
       "      <td>1.274650</td>\n",
       "      <td>0</td>\n",
       "      <td>3</td>\n",
       "      <td>7</td>\n",
       "    </tr>\n",
       "    <tr>\n",
       "      <th>807954</th>\n",
       "      <td>0.092</td>\n",
       "      <td>0.0731</td>\n",
       "      <td>0.0768</td>\n",
       "      <td>0.0521</td>\n",
       "      <td>0.0803</td>\n",
       "      <td>0.2694</td>\n",
       "      <td>0.4030</td>\n",
       "      <td>0.3964</td>\n",
       "      <td>0.4437</td>\n",
       "      <td>0.1131</td>\n",
       "      <td>...</td>\n",
       "      <td>-0.394558</td>\n",
       "      <td>0.433807</td>\n",
       "      <td>0.055931</td>\n",
       "      <td>0.390687</td>\n",
       "      <td>-0.709093</td>\n",
       "      <td>-0.200245</td>\n",
       "      <td>1.200062</td>\n",
       "      <td>0</td>\n",
       "      <td>3</td>\n",
       "      <td>7</td>\n",
       "    </tr>\n",
       "  </tbody>\n",
       "</table>\n",
       "<p>3 rows × 69 columns</p>\n",
       "</div>"
      ],
      "text/plain": [
       "        B1_2015-2016  B2_2015-2016  B3_2015-2016  B4_2015-2016  B5_2015-2016  \\\n",
       "807952         0.092        0.0717        0.0716        0.0478        0.0786   \n",
       "807953         0.092        0.0709        0.0740        0.0501        0.0786   \n",
       "807954         0.092        0.0731        0.0768        0.0521        0.0803   \n",
       "\n",
       "        B6_2015-2016  B7_2015-2016  B8_2015-2016  B9_2015-2016  B10_2015-2016  \\\n",
       "807952        0.2476        0.3539        0.3461        0.3973         0.1131   \n",
       "807953        0.2476        0.3539        0.3960        0.3973         0.1131   \n",
       "807954        0.2694        0.4030        0.3964        0.4437         0.1131   \n",
       "\n",
       "        ...  mndwi_2019-2020  ui_2019-2020  nbi_2019-2020  brba_2019-2020  \\\n",
       "807952  ...        -0.352922      0.411034       0.051601        0.406853   \n",
       "807953  ...        -0.348519      0.411034       0.056131        0.442568   \n",
       "807954  ...        -0.394558      0.433807       0.055931        0.390687   \n",
       "\n",
       "        nbai_2019-2020  mbi_2019-2020  baei_2019-2020  la_guajira  target  \\\n",
       "807952       -0.704625      -0.193225        1.254652           0       3   \n",
       "807953       -0.702088      -0.189021        1.274650           0       3   \n",
       "807954       -0.709093      -0.200245        1.200062           0       3   \n",
       "\n",
       "        area  \n",
       "807952     7  \n",
       "807953     7  \n",
       "807954     7  \n",
       "\n",
       "[3 rows x 69 columns]"
      ]
     },
     "execution_count": 3,
     "metadata": {},
     "output_type": "execute_result"
    }
   ],
   "source": [
    "%%time\n",
    "data = pd.read_csv(input_file).reset_index(drop=True)\n",
    "data = data[(data['area'] >= 7)]\n",
    "print('Data dimensions: {}'.format(data.shape))\n",
    "data.head(3)"
   ]
  },
  {
   "cell_type": "markdown",
   "metadata": {},
   "source": [
    "## Resample Dataset"
   ]
  },
  {
   "cell_type": "code",
   "execution_count": 4,
   "metadata": {},
   "outputs": [
    {
     "name": "stdout",
     "output_type": "stream",
     "text": [
      "Data dimensions: (43342, 69)\n"
     ]
    },
    {
     "data": {
      "text/html": [
       "<div>\n",
       "<style scoped>\n",
       "    .dataframe tbody tr th:only-of-type {\n",
       "        vertical-align: middle;\n",
       "    }\n",
       "\n",
       "    .dataframe tbody tr th {\n",
       "        vertical-align: top;\n",
       "    }\n",
       "\n",
       "    .dataframe thead th {\n",
       "        text-align: right;\n",
       "    }\n",
       "</style>\n",
       "<table border=\"1\" class=\"dataframe\">\n",
       "  <thead>\n",
       "    <tr style=\"text-align: right;\">\n",
       "      <th></th>\n",
       "      <th>B1_2015-2016</th>\n",
       "      <th>B2_2015-2016</th>\n",
       "      <th>B3_2015-2016</th>\n",
       "      <th>B4_2015-2016</th>\n",
       "      <th>B5_2015-2016</th>\n",
       "      <th>B6_2015-2016</th>\n",
       "      <th>B7_2015-2016</th>\n",
       "      <th>B8_2015-2016</th>\n",
       "      <th>B9_2015-2016</th>\n",
       "      <th>B10_2015-2016</th>\n",
       "      <th>...</th>\n",
       "      <th>mndwi_2019-2020</th>\n",
       "      <th>ui_2019-2020</th>\n",
       "      <th>nbi_2019-2020</th>\n",
       "      <th>brba_2019-2020</th>\n",
       "      <th>nbai_2019-2020</th>\n",
       "      <th>mbi_2019-2020</th>\n",
       "      <th>baei_2019-2020</th>\n",
       "      <th>la_guajira</th>\n",
       "      <th>target</th>\n",
       "      <th>area</th>\n",
       "    </tr>\n",
       "  </thead>\n",
       "  <tbody>\n",
       "    <tr>\n",
       "      <th>0</th>\n",
       "      <td>0.1485</td>\n",
       "      <td>0.1346</td>\n",
       "      <td>0.1214</td>\n",
       "      <td>0.1114</td>\n",
       "      <td>0.1209</td>\n",
       "      <td>0.1953</td>\n",
       "      <td>0.2226</td>\n",
       "      <td>0.2098</td>\n",
       "      <td>0.2327</td>\n",
       "      <td>0.0767</td>\n",
       "      <td>...</td>\n",
       "      <td>-0.080677</td>\n",
       "      <td>0.206858</td>\n",
       "      <td>0.097394</td>\n",
       "      <td>0.797110</td>\n",
       "      <td>-0.650667</td>\n",
       "      <td>-0.077388</td>\n",
       "      <td>1.406637</td>\n",
       "      <td>0</td>\n",
       "      <td>2</td>\n",
       "      <td>7</td>\n",
       "    </tr>\n",
       "    <tr>\n",
       "      <th>1</th>\n",
       "      <td>0.1802</td>\n",
       "      <td>0.1440</td>\n",
       "      <td>0.1519</td>\n",
       "      <td>0.1643</td>\n",
       "      <td>0.1707</td>\n",
       "      <td>0.1852</td>\n",
       "      <td>0.1887</td>\n",
       "      <td>0.1753</td>\n",
       "      <td>0.2029</td>\n",
       "      <td>0.0938</td>\n",
       "      <td>...</td>\n",
       "      <td>-0.262164</td>\n",
       "      <td>0.056144</td>\n",
       "      <td>0.186027</td>\n",
       "      <td>0.622719</td>\n",
       "      <td>-0.715903</td>\n",
       "      <td>-0.013800</td>\n",
       "      <td>1.169384</td>\n",
       "      <td>0</td>\n",
       "      <td>2</td>\n",
       "      <td>7</td>\n",
       "    </tr>\n",
       "    <tr>\n",
       "      <th>2</th>\n",
       "      <td>0.1627</td>\n",
       "      <td>0.1536</td>\n",
       "      <td>0.1517</td>\n",
       "      <td>0.1666</td>\n",
       "      <td>0.1710</td>\n",
       "      <td>0.1692</td>\n",
       "      <td>0.1840</td>\n",
       "      <td>0.1668</td>\n",
       "      <td>0.1805</td>\n",
       "      <td>0.0680</td>\n",
       "      <td>...</td>\n",
       "      <td>-0.166154</td>\n",
       "      <td>0.047283</td>\n",
       "      <td>0.208604</td>\n",
       "      <td>0.795514</td>\n",
       "      <td>-0.692610</td>\n",
       "      <td>-0.003535</td>\n",
       "      <td>1.233077</td>\n",
       "      <td>0</td>\n",
       "      <td>2</td>\n",
       "      <td>7</td>\n",
       "    </tr>\n",
       "  </tbody>\n",
       "</table>\n",
       "<p>3 rows × 69 columns</p>\n",
       "</div>"
      ],
      "text/plain": [
       "   B1_2015-2016  B2_2015-2016  B3_2015-2016  B4_2015-2016  B5_2015-2016  \\\n",
       "0        0.1485        0.1346        0.1214        0.1114        0.1209   \n",
       "1        0.1802        0.1440        0.1519        0.1643        0.1707   \n",
       "2        0.1627        0.1536        0.1517        0.1666        0.1710   \n",
       "\n",
       "   B6_2015-2016  B7_2015-2016  B8_2015-2016  B9_2015-2016  B10_2015-2016  ...  \\\n",
       "0        0.1953        0.2226        0.2098        0.2327         0.0767  ...   \n",
       "1        0.1852        0.1887        0.1753        0.2029         0.0938  ...   \n",
       "2        0.1692        0.1840        0.1668        0.1805         0.0680  ...   \n",
       "\n",
       "   mndwi_2019-2020  ui_2019-2020  nbi_2019-2020  brba_2019-2020  \\\n",
       "0        -0.080677      0.206858       0.097394        0.797110   \n",
       "1        -0.262164      0.056144       0.186027        0.622719   \n",
       "2        -0.166154      0.047283       0.208604        0.795514   \n",
       "\n",
       "   nbai_2019-2020  mbi_2019-2020  baei_2019-2020  la_guajira  target  area  \n",
       "0       -0.650667      -0.077388        1.406637           0       2     7  \n",
       "1       -0.715903      -0.013800        1.169384           0       2     7  \n",
       "2       -0.692610      -0.003535        1.233077           0       2     7  \n",
       "\n",
       "[3 rows x 69 columns]"
      ]
     },
     "execution_count": 4,
     "metadata": {},
     "output_type": "execute_result"
    }
   ],
   "source": [
    "data = model_utils.resample(data, num_neg_samples=20000, random_state=SEED)\n",
    "print('Data dimensions: {}'.format(data.shape))\n",
    "data.head(3)"
   ]
  },
  {
   "cell_type": "markdown",
   "metadata": {},
   "source": [
    "## Machine Learning Pipeline"
   ]
  },
  {
   "cell_type": "code",
   "execution_count": 5,
   "metadata": {},
   "outputs": [],
   "source": [
    "from sklearn.linear_model import RidgeClassifier\n",
    "from sklearn.linear_model import LogisticRegression\n",
    "from sklearn.ensemble import RandomForestClassifier\n",
    "from sklearn.naive_bayes import GaussianNB\n",
    "from sklearn.svm import LinearSVC\n",
    "SEED = 42"
   ]
  },
  {
   "cell_type": "markdown",
   "metadata": {},
   "source": [
    "## Define Features and Target Label"
   ]
  },
  {
   "cell_type": "code",
   "execution_count": 6,
   "metadata": {},
   "outputs": [
    {
     "name": "stdout",
     "output_type": "stream",
     "text": [
      "Data dimensions: (43342, 69)\n",
      "Class distribution:\n",
      "0    40000\n",
      "1     3342\n",
      "Name: target, dtype: int64\n"
     ]
    }
   ],
   "source": [
    "label = 'target'\n",
    "features = [column  for column in data.columns[:-2]]\n",
    "data[label] = data[label].replace({2:0, 3:0})\n",
    "\n",
    "splits = data[['area']]\n",
    "X = data[features]\n",
    "y = data[label]\n",
    "\n",
    "print('Data dimensions: {}'.format(data.shape))\n",
    "print('Class distribution:\\n{}'.format(data['target'].value_counts()))"
   ]
  },
  {
   "cell_type": "markdown",
   "metadata": {},
   "source": [
    "## Logistic Regression"
   ]
  },
  {
   "cell_type": "code",
   "execution_count": 16,
   "metadata": {},
   "outputs": [
    {
     "name": "stdout",
     "output_type": "stream",
     "text": [
      "Test Set: Soacha\n",
      "Predicted  False  True  __all__\n",
      "Actual                         \n",
      "False      17517  2483    20000\n",
      "True          61   442      503\n",
      "__all__    17578  2925    20503\n",
      "\n",
      "               precision    recall  f1-score   support\n",
      "\n",
      "           0       1.00      0.88      0.93     20000\n",
      "           1       0.15      0.88      0.26       503\n",
      "\n",
      "    accuracy                           0.88     20503\n",
      "   macro avg       0.57      0.88      0.60     20503\n",
      "weighted avg       0.98      0.88      0.92     20503\n",
      "\n",
      "F1 Score: 0.2579\n",
      "Kappa Statistics: 0.2254\n",
      "Precision: 0.1511\n",
      "Recall: 0.8787\n",
      "Accuracy: 0.8759\n",
      "ROC AUC: 0.8773\n",
      "\n",
      "Test Set: Bogota\n",
      "Predicted  False  True  __all__\n",
      "Actual                         \n",
      "False      19981    19    20000\n",
      "True        2741    98     2839\n",
      "__all__    22722   117    22839\n",
      "\n",
      "               precision    recall  f1-score   support\n",
      "\n",
      "           0       0.88      1.00      0.94     20000\n",
      "           1       0.84      0.03      0.07      2839\n",
      "\n",
      "    accuracy                           0.88     22839\n",
      "   macro avg       0.86      0.52      0.50     22839\n",
      "weighted avg       0.87      0.88      0.83     22839\n",
      "\n",
      "F1 Score: 0.0663\n",
      "Kappa Statistics: 0.0570\n",
      "Precision: 0.8376\n",
      "Recall: 0.0345\n",
      "Accuracy: 0.8792\n",
      "ROC AUC: 0.5168\n",
      "\n",
      "\n",
      "Mean F1 Score: 0.1621\n",
      "Mean Kappa statistic: 0.1412\n",
      "Mean Precision: 0.4944\n",
      "Mean Recall: 0.4566\n",
      "Mean Accuracy: 0.8775\n",
      "Mean ROC AUC: 0.6970\n",
      "\n",
      "CPU times: user 5.11 s, sys: 273 ms, total: 5.38 s\n",
      "Wall time: 1.17 s\n"
     ]
    }
   ],
   "source": [
    "%%time\n",
    "lr =  LogisticRegression()\n",
    "param_grid = {'classifier__C':[0.001, 0.01, 1.0, 5.0, 10]}\n",
    "lr_results = model_utils.nested_spatial_cv(lr, X, y, splits=splits, param_grid=param_grid, feature_selection=False, search_type=None, verbose=2);"
   ]
  },
  {
   "cell_type": "markdown",
   "metadata": {},
   "source": [
    "## LinearSVC"
   ]
  },
  {
   "cell_type": "code",
   "execution_count": null,
   "metadata": {},
   "outputs": [],
   "source": [
    "%%time\n",
    "lsvc = LinearSVC(random_state=SEED)\n",
    "param_grid = {'classifier__C': [0.001, 0.1, 0.5, 1, 5, 10, 100, 1000]}\n",
    "lsvc_results = model_utils.nested_spatial_cv(lsvc, X, y, splits=splits, param_grid=param_grid, verbose=2);"
   ]
  },
  {
   "cell_type": "markdown",
   "metadata": {},
   "source": [
    "## Naive Bayes"
   ]
  },
  {
   "cell_type": "code",
   "execution_count": null,
   "metadata": {},
   "outputs": [],
   "source": [
    "%%time\n",
    "gnb = GaussianNB()\n",
    "gnb_results = model_utils.nested_spatial_cv(\n",
    "    gnb, X, y, splits=splits, param_grid=None, search_type=None, feature_selection=None, verbose=2\n",
    ");"
   ]
  },
  {
   "cell_type": "markdown",
   "metadata": {},
   "source": [
    "## Ridge Classifier"
   ]
  },
  {
   "cell_type": "code",
   "execution_count": null,
   "metadata": {},
   "outputs": [],
   "source": [
    "%%time\n",
    "rc =  RidgeClassifier()\n",
    "param_grid = {'classifier__alpha': [0.1, 0.2, 0.3, 0.4, 0.5, 0.6, 0.7, 0.8, 0.9, 1.0]}\n",
    "rc_results = model_utils.nested_spatial_cv(rc, X, y, splits=splits, param_grid=param_grid, verbose=2);"
   ]
  },
  {
   "cell_type": "markdown",
   "metadata": {},
   "source": [
    "## Random Forest"
   ]
  },
  {
   "cell_type": "code",
   "execution_count": null,
   "metadata": {},
   "outputs": [],
   "source": [
    "%%time\n",
    "param_grid = {\n",
    "    'classifier__n_estimators': [int(x) for x in np.linspace(start = 10, stop = 500, num = 10)],\n",
    "    'classifier__max_features': ['auto', 'sqrt'],\n",
    "    'classifier__max_depth': [5, 6, 7, 8, 9, 10],\n",
    "    'classifier__min_samples_split': [2, 5, 10],\n",
    "    'classifier__min_samples_leaf': [1, 2, 4],\n",
    "    'classifier__bootstrap': [True, False]\n",
    "}\n",
    "rf = RandomForestClassifier(random_state=SEED)\n",
    "model_utils.nested_spatial_cv(rf, X, y, splits=splits, param_grid=param_grid, search_type='random', verbose=2);"
   ]
  }
 ],
 "metadata": {
  "kernelspec": {
   "display_name": "venv",
   "language": "python",
   "name": "venv"
  },
  "language_info": {
   "codemirror_mode": {
    "name": "ipython",
    "version": 3
   },
   "file_extension": ".py",
   "mimetype": "text/x-python",
   "name": "python",
   "nbconvert_exporter": "python",
   "pygments_lexer": "ipython3",
   "version": "3.7.4"
  }
 },
 "nbformat": 4,
 "nbformat_minor": 4
}
