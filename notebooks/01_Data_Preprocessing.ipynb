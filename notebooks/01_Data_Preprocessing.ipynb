{
 "cells": [
  {
   "cell_type": "markdown",
   "metadata": {},
   "source": [
    "# Sentinel-2 Image Processing \n",
    "\n",
    "The notebook presents the training data generation script.\n",
    "\n",
    "### About Informal Settlement Dataset\n",
    "The Informal Settlement Dataset was received from iMMAP on March 5, 2020. The dataset contains ground-validated locations of informal migrant settlements in Northern Colombia. Through visual interpretation, we generated ground-truth polygons of the informal settlements. This script contains code for converting the vector shapefiles to raster masks.\n",
    "\n",
    "### About Sentinel-2 Imagery\n",
    "\n",
    "SENTINEL-2 is a wide-swath, high-resolution, multi-spectral imaging mission, supporting Copernicus Land Monitoring studies, including the monitoring of vegetation, soil and water cover, as well as observation of inland waterways and coastal areas ([Source](https://sentinel.esa.int/web/sentinel/user-guides/sentinel-2-msi/overview)). \n",
    "\n",
    "**Note**: \n",
    "- For 2016 and 2017 satellite imagery, we obtained L-1C Sentinel2 Imagery. \n",
    "- For 2018 - 2020 satellite imagery we obtained L-2A Sentinel2 Imagery. "
   ]
  },
  {
   "cell_type": "markdown",
   "metadata": {},
   "source": [
    "## Imports and Setup"
   ]
  },
  {
   "cell_type": "code",
   "execution_count": 1,
   "metadata": {},
   "outputs": [],
   "source": [
    "import os\n",
    "import operator\n",
    "from tqdm import tqdm\n",
    "import pandas as pd\n",
    "import numpy as np\n",
    "pd.set_option('use_inf_as_na', True)\n",
    "\n",
    "import geopandas as gpd\n",
    "import rasterio as rio\n",
    "\n",
    "import sys\n",
    "sys.path.insert(0, '../utils')\n",
    "import geoutils\n",
    "\n",
    "import logging\n",
    "import warnings\n",
    "logging.getLogger().setLevel(logging.ERROR)\n",
    "warnings.filterwarnings(\"ignore\")\n",
    "\n",
    "import matplotlib.pyplot as plt\n",
    "%matplotlib inline\n",
    "\n",
    "%load_ext autoreload\n",
    "%autoreload 2"
   ]
  },
  {
   "cell_type": "markdown",
   "metadata": {},
   "source": [
    "## File Locations"
   ]
  },
  {
   "cell_type": "code",
   "execution_count": 2,
   "metadata": {},
   "outputs": [],
   "source": [
    "data_dir = \"../data/\"\n",
    "images_dir = data_dir + 'images/'\n",
    "indices_dir = data_dir + 'indices/'\n",
    "pos_mask_dir = data_dir + 'pos_masks/'\n",
    "neg_mask_dir = data_dir + 'neg_masks/'\n",
    "\n",
    "if not os.path.exists(data_dir):\n",
    "    os.makedirs(data_dir)\n",
    "if not os.path.exists(images_dir):\n",
    "    os.makedirs(images_dir)\n",
    "if not os.path.exists(indices_dir):\n",
    "    os.makedirs(indices_dir)\n",
    "if not os.path.exists(pos_mask_dir):\n",
    "    os.makedirs(pos_mask_dir)\n",
    "if not os.path.exists(neg_mask_dir):\n",
    "    os.makedirs(neg_mask_dir)\n",
    "\n",
    "areas = ['maicao', 'riohacha', 'uribia', 'arauca', 'cucuta', 'tibu', 'arauquita']"
   ]
  },
  {
   "cell_type": "markdown",
   "metadata": {},
   "source": [
    "## Download Files from GCS"
   ]
  },
  {
   "cell_type": "code",
   "execution_count": 3,
   "metadata": {},
   "outputs": [
    {
     "name": "stdout",
     "output_type": "stream",
     "text": [
      "Operations completed.\n"
     ]
    }
   ],
   "source": [
    "#!gsutil -m cp gs://immap-images/20200421/*.tif {images_dir}\n",
    "#!gsutil -m cp gs://immap-indices/20200421/*.tif {indices_dir}\n",
    "#!gsutil -m cp gs://immap-masks-pos/20200421/*.gpkg {pos_mask_dir}\n",
    "#!gsutil -m cp gs://immap-masks-neg/20200421/*.gpkg {neg_mask_dir}\n",
    "print('Operations completed.')"
   ]
  },
  {
   "cell_type": "markdown",
   "metadata": {},
   "source": [
    "## Area Filepath Dictionary\n",
    "The following cell returns a dictionary containing the image filepaths for each area."
   ]
  },
  {
   "cell_type": "code",
   "execution_count": 15,
   "metadata": {},
   "outputs": [
    {
     "name": "stdout",
     "output_type": "stream",
     "text": [
      "Image filepaths for Cucuta:\n"
     ]
    },
    {
     "data": {
      "text/plain": [
       "{'pos_mask_gpkg': '../data/pos_masks/soacha_pos.gpkg',\n",
       " 'neg_mask_gpkg': '../data/neg_masks/soacha_neg.gpkg',\n",
       " 'images': ['../data/images/soacha_2015-2016.tif',\n",
       "  '../data/images/soacha_2017.tif',\n",
       "  '../data/images/soacha_2018.tif',\n",
       "  '../data/images/soacha_2019.tif',\n",
       "  '../data/images/soacha_2020.tif'],\n",
       " 'indices': []}"
      ]
     },
     "execution_count": 15,
     "metadata": {},
     "output_type": "execute_result"
    }
   ],
   "source": [
    "area_dict = geoutils.get_filepaths(areas, images_dir, indices_dir, pos_mask_dir, neg_mask_dir)\n",
    "print(\"Image filepaths for Cucuta:\")\n",
    "area_dict['soacha']"
   ]
  },
  {
   "cell_type": "markdown",
   "metadata": {},
   "source": [
    "## Generate TIFF Files for Indices\n",
    "The following script is used to generate TIFF files for the derived indices for each of the images. There is no need to run this if the indices have already been generated. "
   ]
  },
  {
   "cell_type": "code",
   "execution_count": 16,
   "metadata": {},
   "outputs": [
    {
     "name": "stderr",
     "output_type": "stream",
     "text": [
      "100%|██████████| 5/5 [00:52<00:00, 10.57s/it]\n",
      "100%|██████████| 5/5 [01:51<00:00, 22.22s/it]\n",
      "100%|██████████| 5/5 [08:51<00:00, 106.27s/it]\n"
     ]
    }
   ],
   "source": [
    "for area in areas:\n",
    "    area_dict = geoutils.write_indices(area_dict, area, indices_dir)"
   ]
  },
  {
   "cell_type": "markdown",
   "metadata": {},
   "source": [
    "## Generate Target Raster Masks\n",
    "The following scripts generate TIFF masks for the vector GPKG files of both positive (new informal settlements) and negative (non-new informal settlement) samples."
   ]
  },
  {
   "cell_type": "markdown",
   "metadata": {},
   "source": [
    "### Positive Labels: Informal Settlements"
   ]
  },
  {
   "cell_type": "code",
   "execution_count": 5,
   "metadata": {},
   "outputs": [
    {
     "name": "stdout",
     "output_type": "stream",
     "text": [
      "Raster filepath for maicao: ../data/pos_masks/maicao_pos.tiff\n",
      "Raster filepath for riohacha: ../data/pos_masks/riohacha_pos.tiff\n",
      "Raster filepath for uribia: ../data/pos_masks/uribia_pos.tiff\n",
      "Raster filepath for arauca: ../data/pos_masks/arauca_pos.tiff\n",
      "Raster filepath for cucuta: ../data/pos_masks/cucuta_pos.tiff\n",
      "Raster filepath for tibu: ../data/pos_masks/tibu_pos.tiff\n",
      "Raster filepath for arauquita: ../data/pos_masks/arauquita_pos.tiff\n"
     ]
    }
   ],
   "source": [
    "area_dict = geoutils.get_pos_raster_mask(area_dict)\n",
    "for area in areas:\n",
    "    print(\"Raster filepath for {}: {}\".format(area, area_dict[area]['pos_mask_tiff']))"
   ]
  },
  {
   "cell_type": "markdown",
   "metadata": {},
   "source": [
    "### Negative Labels: Formal Settlements and Unoccupied Land"
   ]
  },
  {
   "cell_type": "code",
   "execution_count": 6,
   "metadata": {},
   "outputs": [
    {
     "name": "stdout",
     "output_type": "stream",
     "text": [
      "Target value codes: {'Formal Settlement': 2, 'Unoccupied Land': 3, 'informal settlement': 1}\n",
      "Raster filepath for maicao: ../data/neg_masks/maicao_neg.tiff\n",
      "Raster filepath for riohacha: ../data/neg_masks/riohacha_neg.tiff\n",
      "Raster filepath for uribia: ../data/neg_masks/uribia_neg.tiff\n",
      "Raster filepath for arauca: ../data/neg_masks/arauca_neg.tiff\n",
      "Raster filepath for cucuta: ../data/neg_masks/cucuta_neg.tiff\n",
      "Raster filepath for tibu: ../data/neg_masks/tibu_neg.tiff\n",
      "Raster filepath for arauquita: ../data/neg_masks/arauquita_neg.tiff\n"
     ]
    }
   ],
   "source": [
    "area_dict, target_dict = geoutils.get_neg_raster_mask(area_dict)\n",
    "print(\"Target value codes: {}\".format(target_dict))\n",
    "for area in areas:\n",
    "    print(\"Raster filepath for {}: {}\".format(area, area_dict[area]['neg_mask_tiff']))"
   ]
  },
  {
   "cell_type": "markdown",
   "metadata": {},
   "source": [
    "## Generate Training Set"
   ]
  },
  {
   "cell_type": "code",
   "execution_count": 7,
   "metadata": {},
   "outputs": [
    {
     "name": "stdout",
     "output_type": "stream",
     "text": [
      "Reading maicao...\n"
     ]
    },
    {
     "name": "stderr",
     "output_type": "stream",
     "text": [
      "100%|██████████| 5/5 [00:56<00:00, 11.37s/it]\n"
     ]
    },
    {
     "name": "stdout",
     "output_type": "stream",
     "text": [
      "Reading riohacha...\n"
     ]
    },
    {
     "name": "stderr",
     "output_type": "stream",
     "text": [
      "100%|██████████| 5/5 [01:33<00:00, 18.65s/it]\n",
      "  0%|          | 0/5 [00:00<?, ?it/s]"
     ]
    },
    {
     "name": "stdout",
     "output_type": "stream",
     "text": [
      "Reading uribia...\n"
     ]
    },
    {
     "name": "stderr",
     "output_type": "stream",
     "text": [
      "100%|██████████| 5/5 [00:12<00:00,  2.42s/it]\n"
     ]
    },
    {
     "name": "stdout",
     "output_type": "stream",
     "text": [
      "Reading arauca...\n"
     ]
    },
    {
     "name": "stderr",
     "output_type": "stream",
     "text": [
      "100%|██████████| 5/5 [02:13<00:00, 26.66s/it]\n"
     ]
    },
    {
     "name": "stdout",
     "output_type": "stream",
     "text": [
      "Reading cucuta...\n"
     ]
    },
    {
     "name": "stderr",
     "output_type": "stream",
     "text": [
      "100%|██████████| 5/5 [00:43<00:00,  8.71s/it]\n"
     ]
    },
    {
     "name": "stdout",
     "output_type": "stream",
     "text": [
      "Reading tibu...\n"
     ]
    },
    {
     "name": "stderr",
     "output_type": "stream",
     "text": [
      "100%|██████████| 5/5 [01:46<00:00, 21.39s/it]\n"
     ]
    },
    {
     "name": "stdout",
     "output_type": "stream",
     "text": [
      "Reading arauquita...\n"
     ]
    },
    {
     "name": "stderr",
     "output_type": "stream",
     "text": [
      "100%|██████████| 5/5 [01:39<00:00, 19.99s/it]\n"
     ]
    },
    {
     "name": "stdout",
     "output_type": "stream",
     "text": [
      "Area code: {'maicao': 0, 'riohacha': 1, 'uribia': 2, 'arauca': 3, 'cucuta': 4, 'tibu': 5, 'arauquita': 6}\n",
      "Data dimensions: (965034, 113)\n"
     ]
    },
    {
     "data": {
      "text/html": [
       "<div>\n",
       "<style scoped>\n",
       "    .dataframe tbody tr th:only-of-type {\n",
       "        vertical-align: middle;\n",
       "    }\n",
       "\n",
       "    .dataframe tbody tr th {\n",
       "        vertical-align: top;\n",
       "    }\n",
       "\n",
       "    .dataframe thead th {\n",
       "        text-align: right;\n",
       "    }\n",
       "</style>\n",
       "<table border=\"1\" class=\"dataframe\">\n",
       "  <thead>\n",
       "    <tr style=\"text-align: right;\">\n",
       "      <th></th>\n",
       "      <th>B1_2015-2016</th>\n",
       "      <th>B2_2015-2016</th>\n",
       "      <th>B3_2015-2016</th>\n",
       "      <th>B4_2015-2016</th>\n",
       "      <th>B5_2015-2016</th>\n",
       "      <th>B6_2015-2016</th>\n",
       "      <th>B7_2015-2016</th>\n",
       "      <th>B8_2015-2016</th>\n",
       "      <th>B9_2015-2016</th>\n",
       "      <th>B10_2015-2016</th>\n",
       "      <th>...</th>\n",
       "      <th>mndwi_2020</th>\n",
       "      <th>ui_2020</th>\n",
       "      <th>nbi_2020</th>\n",
       "      <th>brba_2020</th>\n",
       "      <th>nbai_2020</th>\n",
       "      <th>mbi_2020</th>\n",
       "      <th>baei_2020</th>\n",
       "      <th>la_guajira</th>\n",
       "      <th>target</th>\n",
       "      <th>area</th>\n",
       "    </tr>\n",
       "  </thead>\n",
       "  <tbody>\n",
       "    <tr>\n",
       "      <th>1133983</th>\n",
       "      <td>0.15100</td>\n",
       "      <td>0.13225</td>\n",
       "      <td>0.14240</td>\n",
       "      <td>0.16430</td>\n",
       "      <td>0.1899</td>\n",
       "      <td>0.25700</td>\n",
       "      <td>0.2960</td>\n",
       "      <td>0.25510</td>\n",
       "      <td>0.32295</td>\n",
       "      <td>0.0396</td>\n",
       "      <td>...</td>\n",
       "      <td>-0.509745</td>\n",
       "      <td>0.105128</td>\n",
       "      <td>0.239614</td>\n",
       "      <td>0.449106</td>\n",
       "      <td>-0.718433</td>\n",
       "      <td>-0.042537</td>\n",
       "      <td>0.901237</td>\n",
       "      <td>1</td>\n",
       "      <td>3</td>\n",
       "      <td>0</td>\n",
       "    </tr>\n",
       "    <tr>\n",
       "      <th>1133984</th>\n",
       "      <td>0.15100</td>\n",
       "      <td>0.12885</td>\n",
       "      <td>0.13790</td>\n",
       "      <td>0.16185</td>\n",
       "      <td>0.1899</td>\n",
       "      <td>0.25700</td>\n",
       "      <td>0.2960</td>\n",
       "      <td>0.25755</td>\n",
       "      <td>0.32295</td>\n",
       "      <td>0.0396</td>\n",
       "      <td>...</td>\n",
       "      <td>-0.507485</td>\n",
       "      <td>0.105128</td>\n",
       "      <td>0.247826</td>\n",
       "      <td>0.464498</td>\n",
       "      <td>-0.716955</td>\n",
       "      <td>-0.039760</td>\n",
       "      <td>0.911490</td>\n",
       "      <td>1</td>\n",
       "      <td>3</td>\n",
       "      <td>0</td>\n",
       "    </tr>\n",
       "    <tr>\n",
       "      <th>1133985</th>\n",
       "      <td>0.15895</td>\n",
       "      <td>0.13730</td>\n",
       "      <td>0.15185</td>\n",
       "      <td>0.18915</td>\n",
       "      <td>0.2264</td>\n",
       "      <td>0.28555</td>\n",
       "      <td>0.3268</td>\n",
       "      <td>0.28085</td>\n",
       "      <td>0.35740</td>\n",
       "      <td>0.0416</td>\n",
       "      <td>...</td>\n",
       "      <td>-0.524371</td>\n",
       "      <td>0.073259</td>\n",
       "      <td>0.262348</td>\n",
       "      <td>0.446475</td>\n",
       "      <td>-0.722188</td>\n",
       "      <td>-0.033995</td>\n",
       "      <td>0.875915</td>\n",
       "      <td>1</td>\n",
       "      <td>3</td>\n",
       "      <td>0</td>\n",
       "    </tr>\n",
       "  </tbody>\n",
       "</table>\n",
       "<p>3 rows × 113 columns</p>\n",
       "</div>"
      ],
      "text/plain": [
       "         B1_2015-2016  B2_2015-2016  B3_2015-2016  B4_2015-2016  B5_2015-2016  \\\n",
       "1133983       0.15100       0.13225       0.14240       0.16430        0.1899   \n",
       "1133984       0.15100       0.12885       0.13790       0.16185        0.1899   \n",
       "1133985       0.15895       0.13730       0.15185       0.18915        0.2264   \n",
       "\n",
       "         B6_2015-2016  B7_2015-2016  B8_2015-2016  B9_2015-2016  \\\n",
       "1133983       0.25700        0.2960       0.25510       0.32295   \n",
       "1133984       0.25700        0.2960       0.25755       0.32295   \n",
       "1133985       0.28555        0.3268       0.28085       0.35740   \n",
       "\n",
       "         B10_2015-2016  ...  mndwi_2020   ui_2020  nbi_2020  brba_2020  \\\n",
       "1133983         0.0396  ...   -0.509745  0.105128  0.239614   0.449106   \n",
       "1133984         0.0396  ...   -0.507485  0.105128  0.247826   0.464498   \n",
       "1133985         0.0416  ...   -0.524371  0.073259  0.262348   0.446475   \n",
       "\n",
       "         nbai_2020  mbi_2020  baei_2020  la_guajira  target  area  \n",
       "1133983  -0.718433 -0.042537   0.901237           1       3     0  \n",
       "1133984  -0.716955 -0.039760   0.911490           1       3     0  \n",
       "1133985  -0.722188 -0.033995   0.875915           1       3     0  \n",
       "\n",
       "[3 rows x 113 columns]"
      ]
     },
     "execution_count": 7,
     "metadata": {},
     "output_type": "execute_result"
    }
   ],
   "source": [
    "data, area_code = geoutils.generate_training_data(area_dict)\n",
    "print('Area code: {}'.format(area_code))\n",
    "print('Data dimensions: {}'.format(data.shape))\n",
    "data.head(3)"
   ]
  },
  {
   "cell_type": "markdown",
   "metadata": {},
   "source": [
    "## Save and Upload Final Dataset"
   ]
  },
  {
   "cell_type": "code",
   "execution_count": 9,
   "metadata": {},
   "outputs": [],
   "source": [
    "output_file = data_dir + '20200422_dataset.csv'\n",
    "data.to_csv(output_file, index=False)"
   ]
  },
  {
   "cell_type": "code",
   "execution_count": 10,
   "metadata": {},
   "outputs": [],
   "source": [
    "!gsutil -q -m cp {output_file} gs://immap-training/"
   ]
  }
 ],
 "metadata": {
  "kernelspec": {
   "display_name": "venv",
   "language": "python",
   "name": "venv"
  },
  "language_info": {
   "codemirror_mode": {
    "name": "ipython",
    "version": 3
   },
   "file_extension": ".py",
   "mimetype": "text/x-python",
   "name": "python",
   "nbconvert_exporter": "python",
   "pygments_lexer": "ipython3",
   "version": "3.7.4"
  }
 },
 "nbformat": 4,
 "nbformat_minor": 4
}
