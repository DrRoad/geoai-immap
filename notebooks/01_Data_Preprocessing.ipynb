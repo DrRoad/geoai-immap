{
 "cells": [
  {
   "cell_type": "markdown",
   "metadata": {},
   "source": [
    "# Sentinel-2 Image Processing \n",
    "\n",
    "The notebook presents the training data generation script.\n",
    "\n",
    "### About Informal Settlement Dataset\n",
    "The Informal Settlement Dataset was received from iMMAP on March 5, 2020. The dataset contains ground-validated locations of informal migrant settlements in Northern Colombia. Through visual interpretation, we generated ground-truth polygons of the informal settlements. This script contains code for converting the vector shapefiles to raster masks.\n",
    "\n",
    "### About Sentinel-2 Imagery\n",
    "\n",
    "SENTINEL-2 is a wide-swath, high-resolution, multi-spectral imaging mission, supporting Copernicus Land Monitoring studies, including the monitoring of vegetation, soil and water cover, as well as observation of inland waterways and coastal areas ([Source](https://sentinel.esa.int/web/sentinel/user-guides/sentinel-2-msi/overview)). \n",
    "\n",
    "**Note**: \n",
    "- For 2016 and 2017 satellite imagery, we obtained L-1C Sentinel2 Imagery. \n",
    "- For 2018 - 2020 satellite imagery we obtained L-2A Sentinel2 Imagery. "
   ]
  },
  {
   "cell_type": "markdown",
   "metadata": {},
   "source": [
    "## Imports and Setup"
   ]
  },
  {
   "cell_type": "code",
   "execution_count": 1,
   "metadata": {},
   "outputs": [],
   "source": [
    "import os\n",
    "import operator\n",
    "from tqdm import tqdm\n",
    "import pandas as pd\n",
    "import numpy as np\n",
    "pd.set_option('use_inf_as_na', True)\n",
    "\n",
    "import geopandas as gpd\n",
    "import rasterio as rio\n",
    "\n",
    "import sys\n",
    "sys.path.insert(0, '../utils')\n",
    "import geoutils\n",
    "\n",
    "import logging\n",
    "import warnings\n",
    "logging.getLogger().setLevel(logging.ERROR)\n",
    "warnings.filterwarnings(\"ignore\")\n",
    "\n",
    "import matplotlib.pyplot as plt\n",
    "%matplotlib inline\n",
    "\n",
    "%load_ext autoreload\n",
    "%autoreload 2"
   ]
  },
  {
   "cell_type": "markdown",
   "metadata": {},
   "source": [
    "## File Locations"
   ]
  },
  {
   "cell_type": "code",
   "execution_count": 2,
   "metadata": {},
   "outputs": [],
   "source": [
    "data_dir = \"../data/\"\n",
    "images_dir = data_dir + 'images/'\n",
    "indices_dir = data_dir + 'indices/'\n",
    "pos_mask_dir = data_dir + 'pos_masks/'\n",
    "neg_mask_dir = data_dir + 'neg_masks/'\n",
    "\n",
    "if not os.path.exists(data_dir):\n",
    "    os.makedirs(data_dir)\n",
    "if not os.path.exists(images_dir):\n",
    "    os.makedirs(images_dir)\n",
    "if not os.path.exists(indices_dir):\n",
    "    os.makedirs(indices_dir)\n",
    "if not os.path.exists(pos_mask_dir):\n",
    "    os.makedirs(pos_mask_dir)\n",
    "if not os.path.exists(neg_mask_dir):\n",
    "    os.makedirs(neg_mask_dir)\n",
    "\n",
    "areas = ['maicao', 'riohacha', 'uribia', 'arauca', 'cucuta', 'tibu', 'arauquita', 'soacha', 'bogota']"
   ]
  },
  {
   "cell_type": "markdown",
   "metadata": {},
   "source": [
    "## Download Files from GCS"
   ]
  },
  {
   "cell_type": "code",
   "execution_count": 3,
   "metadata": {},
   "outputs": [
    {
     "name": "stdout",
     "output_type": "stream",
     "text": [
      "Operations completed.\n"
     ]
    }
   ],
   "source": [
    "!gsutil -q -m cp gs://immap-images/20200501/*.tif {images_dir}\n",
    "!gsutil -q -m cp gs://immap-indices/20200421/*.tif {indices_dir}\n",
    "!gsutil -q -m cp gs://immap-masks-pos/20200507/*.gpkg {pos_mask_dir}\n",
    "!gsutil -q -m cp gs://immap-masks-neg/20200507/*.gpkg {neg_mask_dir}\n",
    "print('Operations completed.')"
   ]
  },
  {
   "cell_type": "markdown",
   "metadata": {},
   "source": [
    "## Area Filepath Dictionary\n",
    "The following cell returns a dictionary containing the image filepaths for each area."
   ]
  },
  {
   "cell_type": "code",
   "execution_count": 4,
   "metadata": {},
   "outputs": [
    {
     "name": "stdout",
     "output_type": "stream",
     "text": [
      "Image filepaths for Bogota:\n"
     ]
    },
    {
     "data": {
      "text/plain": [
       "{'pos_mask_gpkg': '../data/pos_masks/bogota_pos.gpkg',\n",
       " 'neg_mask_gpkg': '../data/neg_masks/bogota_neg.gpkg',\n",
       " 'images': ['../data/images/bogota_2015-2016.tif',\n",
       "  '../data/images/bogota_2017-2018.tif',\n",
       "  '../data/images/bogota_2019-2020.tif'],\n",
       " 'indices': ['../data/indices/indices_bogota_2015-2016.tif',\n",
       "  '../data/indices/indices_bogota_2017-2018.tif',\n",
       "  '../data/indices/indices_bogota_2019-2020.tif']}"
      ]
     },
     "execution_count": 4,
     "metadata": {},
     "output_type": "execute_result"
    }
   ],
   "source": [
    "area_dict = geoutils.get_filepaths(areas, images_dir, indices_dir, pos_mask_dir, neg_mask_dir)\n",
    "print(\"Image filepaths for Bogota:\")\n",
    "area_dict['bogota']"
   ]
  },
  {
   "cell_type": "markdown",
   "metadata": {},
   "source": [
    "## Generate TIFF Files for Indices\n",
    "The following script is used to generate TIFF files for the derived indices for each of the images. There is no need to run this if the indices have already been generated. "
   ]
  },
  {
   "cell_type": "code",
   "execution_count": 5,
   "metadata": {},
   "outputs": [],
   "source": [
    "for area in areas:\n",
    "    area_dict = geoutils.write_indices(area_dict, area, indices_dir)"
   ]
  },
  {
   "cell_type": "markdown",
   "metadata": {},
   "source": [
    "## Generate Target Raster Masks\n",
    "The following scripts generate TIFF masks for the vector GPKG files of both positive (new informal settlements) and negative (non-new informal settlement) samples."
   ]
  },
  {
   "cell_type": "markdown",
   "metadata": {},
   "source": [
    "### Positive Labels: Informal Settlements"
   ]
  },
  {
   "cell_type": "code",
   "execution_count": 8,
   "metadata": {},
   "outputs": [
    {
     "name": "stdout",
     "output_type": "stream",
     "text": [
      "Raster filepath for maicao: ../data/pos_masks/maicao_pos.tiff\n",
      "Raster filepath for riohacha: ../data/pos_masks/riohacha_pos.tiff\n",
      "Raster filepath for uribia: ../data/pos_masks/uribia_pos.tiff\n",
      "Raster filepath for arauca: ../data/pos_masks/arauca_pos.tiff\n",
      "Raster filepath for cucuta: ../data/pos_masks/cucuta_pos.tiff\n",
      "Raster filepath for tibu: ../data/pos_masks/tibu_pos.tiff\n",
      "Raster filepath for arauquita: ../data/pos_masks/arauquita_pos.tiff\n",
      "Raster filepath for soacha: ../data/pos_masks/soacha_pos.tiff\n",
      "Raster filepath for bogota: ../data/pos_masks/bogota_pos.tiff\n"
     ]
    }
   ],
   "source": [
    "area_dict = geoutils.get_pos_raster_mask(area_dict)\n",
    "for area in areas:\n",
    "    print(\"Raster filepath for {}: {}\".format(area, area_dict[area]['pos_mask_tiff']))"
   ]
  },
  {
   "cell_type": "markdown",
   "metadata": {},
   "source": [
    "### Negative Labels: Formal Settlements and Unoccupied Land"
   ]
  },
  {
   "cell_type": "code",
   "execution_count": 9,
   "metadata": {},
   "outputs": [
    {
     "name": "stdout",
     "output_type": "stream",
     "text": [
      "Target value codes: {'Formal Settlement': 2, 'Unoccupied Land': 3, 'Informal settlement': 1}\n",
      "Raster filepath for maicao: ../data/neg_masks/maicao_neg.tiff\n",
      "Raster filepath for riohacha: ../data/neg_masks/riohacha_neg.tiff\n",
      "Raster filepath for uribia: ../data/neg_masks/uribia_neg.tiff\n",
      "Raster filepath for arauca: ../data/neg_masks/arauca_neg.tiff\n",
      "Raster filepath for cucuta: ../data/neg_masks/cucuta_neg.tiff\n",
      "Raster filepath for tibu: ../data/neg_masks/tibu_neg.tiff\n",
      "Raster filepath for arauquita: ../data/neg_masks/arauquita_neg.tiff\n",
      "Raster filepath for soacha: ../data/neg_masks/soacha_neg.tiff\n",
      "Raster filepath for bogota: ../data/neg_masks/bogota_neg.tiff\n"
     ]
    }
   ],
   "source": [
    "area_dict, target_dict = geoutils.get_neg_raster_mask(area_dict)\n",
    "print(\"Target value codes: {}\".format(target_dict))\n",
    "for area in areas:\n",
    "    print(\"Raster filepath for {}: {}\".format(area, area_dict[area]['neg_mask_tiff']))"
   ]
  },
  {
   "cell_type": "markdown",
   "metadata": {},
   "source": [
    "## Generate Training Set"
   ]
  },
  {
   "cell_type": "code",
   "execution_count": 11,
   "metadata": {},
   "outputs": [
    {
     "name": "stdout",
     "output_type": "stream",
     "text": [
      "Reading maicao...\n",
      "Reading riohacha...\n",
      "Reading uribia...\n",
      "Reading arauca...\n",
      "Reading cucuta...\n",
      "Reading tibu...\n",
      "Reading arauquita...\n",
      "Reading soacha...\n",
      "Reading bogota...\n",
      "Area code: {'maicao': 0, 'riohacha': 1, 'uribia': 2, 'arauca': 3, 'cucuta': 4, 'tibu': 5, 'arauquita': 6, 'soacha': 7, 'bogota': 8}\n",
      "Data dimensions: (1029869, 69)\n"
     ]
    },
    {
     "data": {
      "text/html": [
       "<div>\n",
       "<style scoped>\n",
       "    .dataframe tbody tr th:only-of-type {\n",
       "        vertical-align: middle;\n",
       "    }\n",
       "\n",
       "    .dataframe tbody tr th {\n",
       "        vertical-align: top;\n",
       "    }\n",
       "\n",
       "    .dataframe thead th {\n",
       "        text-align: right;\n",
       "    }\n",
       "</style>\n",
       "<table border=\"1\" class=\"dataframe\">\n",
       "  <thead>\n",
       "    <tr style=\"text-align: right;\">\n",
       "      <th></th>\n",
       "      <th>B1_2015-2016</th>\n",
       "      <th>B2_2015-2016</th>\n",
       "      <th>B3_2015-2016</th>\n",
       "      <th>B4_2015-2016</th>\n",
       "      <th>B5_2015-2016</th>\n",
       "      <th>B6_2015-2016</th>\n",
       "      <th>B7_2015-2016</th>\n",
       "      <th>B8_2015-2016</th>\n",
       "      <th>B9_2015-2016</th>\n",
       "      <th>B10_2015-2016</th>\n",
       "      <th>...</th>\n",
       "      <th>mndwi_2019-2020</th>\n",
       "      <th>ui_2019-2020</th>\n",
       "      <th>nbi_2019-2020</th>\n",
       "      <th>brba_2019-2020</th>\n",
       "      <th>nbai_2019-2020</th>\n",
       "      <th>mbi_2019-2020</th>\n",
       "      <th>baei_2019-2020</th>\n",
       "      <th>target</th>\n",
       "      <th>uid</th>\n",
       "      <th>area</th>\n",
       "    </tr>\n",
       "  </thead>\n",
       "  <tbody>\n",
       "    <tr>\n",
       "      <th>1133983</th>\n",
       "      <td>0.15100</td>\n",
       "      <td>0.13225</td>\n",
       "      <td>0.14240</td>\n",
       "      <td>0.16430</td>\n",
       "      <td>0.1899</td>\n",
       "      <td>0.25700</td>\n",
       "      <td>0.2960</td>\n",
       "      <td>0.25510</td>\n",
       "      <td>0.32295</td>\n",
       "      <td>0.0396</td>\n",
       "      <td>...</td>\n",
       "      <td>-0.438625</td>\n",
       "      <td>0.151655</td>\n",
       "      <td>0.209614</td>\n",
       "      <td>0.479385</td>\n",
       "      <td>-0.665204</td>\n",
       "      <td>-0.060444</td>\n",
       "      <td>0.948025</td>\n",
       "      <td>3</td>\n",
       "      <td>39</td>\n",
       "      <td>0</td>\n",
       "    </tr>\n",
       "    <tr>\n",
       "      <th>1133984</th>\n",
       "      <td>0.15100</td>\n",
       "      <td>0.12885</td>\n",
       "      <td>0.13790</td>\n",
       "      <td>0.16185</td>\n",
       "      <td>0.1899</td>\n",
       "      <td>0.25700</td>\n",
       "      <td>0.2960</td>\n",
       "      <td>0.25755</td>\n",
       "      <td>0.32295</td>\n",
       "      <td>0.0396</td>\n",
       "      <td>...</td>\n",
       "      <td>-0.435450</td>\n",
       "      <td>0.151655</td>\n",
       "      <td>0.213526</td>\n",
       "      <td>0.488330</td>\n",
       "      <td>-0.663010</td>\n",
       "      <td>-0.059064</td>\n",
       "      <td>0.952352</td>\n",
       "      <td>3</td>\n",
       "      <td>39</td>\n",
       "      <td>0</td>\n",
       "    </tr>\n",
       "    <tr>\n",
       "      <th>1133985</th>\n",
       "      <td>0.15895</td>\n",
       "      <td>0.13730</td>\n",
       "      <td>0.15185</td>\n",
       "      <td>0.18915</td>\n",
       "      <td>0.2264</td>\n",
       "      <td>0.28555</td>\n",
       "      <td>0.3268</td>\n",
       "      <td>0.28085</td>\n",
       "      <td>0.35740</td>\n",
       "      <td>0.0416</td>\n",
       "      <td>...</td>\n",
       "      <td>-0.447333</td>\n",
       "      <td>0.145385</td>\n",
       "      <td>0.222971</td>\n",
       "      <td>0.473118</td>\n",
       "      <td>-0.661291</td>\n",
       "      <td>-0.060496</td>\n",
       "      <td>0.911748</td>\n",
       "      <td>3</td>\n",
       "      <td>39</td>\n",
       "      <td>0</td>\n",
       "    </tr>\n",
       "  </tbody>\n",
       "</table>\n",
       "<p>3 rows × 69 columns</p>\n",
       "</div>"
      ],
      "text/plain": [
       "         B1_2015-2016  B2_2015-2016  B3_2015-2016  B4_2015-2016  B5_2015-2016  \\\n",
       "1133983       0.15100       0.13225       0.14240       0.16430        0.1899   \n",
       "1133984       0.15100       0.12885       0.13790       0.16185        0.1899   \n",
       "1133985       0.15895       0.13730       0.15185       0.18915        0.2264   \n",
       "\n",
       "         B6_2015-2016  B7_2015-2016  B8_2015-2016  B9_2015-2016  \\\n",
       "1133983       0.25700        0.2960       0.25510       0.32295   \n",
       "1133984       0.25700        0.2960       0.25755       0.32295   \n",
       "1133985       0.28555        0.3268       0.28085       0.35740   \n",
       "\n",
       "         B10_2015-2016  ...  mndwi_2019-2020  ui_2019-2020  nbi_2019-2020  \\\n",
       "1133983         0.0396  ...        -0.438625      0.151655       0.209614   \n",
       "1133984         0.0396  ...        -0.435450      0.151655       0.213526   \n",
       "1133985         0.0416  ...        -0.447333      0.145385       0.222971   \n",
       "\n",
       "         brba_2019-2020  nbai_2019-2020  mbi_2019-2020  baei_2019-2020  \\\n",
       "1133983        0.479385       -0.665204      -0.060444        0.948025   \n",
       "1133984        0.488330       -0.663010      -0.059064        0.952352   \n",
       "1133985        0.473118       -0.661291      -0.060496        0.911748   \n",
       "\n",
       "         target  uid  area  \n",
       "1133983       3   39     0  \n",
       "1133984       3   39     0  \n",
       "1133985       3   39     0  \n",
       "\n",
       "[3 rows x 69 columns]"
      ]
     },
     "execution_count": 11,
     "metadata": {},
     "output_type": "execute_result"
    }
   ],
   "source": [
    "data, area_code = geoutils.generate_training_data(area_dict)\n",
    "print('Area code: {}'.format(area_code))\n",
    "print('Data dimensions: {}'.format(data.shape))\n",
    "data.head(3)"
   ]
  },
  {
   "cell_type": "markdown",
   "metadata": {},
   "source": [
    "## Save and Upload Final Dataset"
   ]
  },
  {
   "cell_type": "code",
   "execution_count": 12,
   "metadata": {},
   "outputs": [],
   "source": [
    "output_file = data_dir + '20200509_dataset.csv'\n",
    "data.to_csv(output_file, index=False)"
   ]
  },
  {
   "cell_type": "code",
   "execution_count": 13,
   "metadata": {},
   "outputs": [],
   "source": [
    "!gsutil -q -m cp {output_file} gs://immap-training/"
   ]
  }
 ],
 "metadata": {
  "kernelspec": {
   "display_name": "venv",
   "language": "python",
   "name": "venv"
  },
  "language_info": {
   "codemirror_mode": {
    "name": "ipython",
    "version": 3
   },
   "file_extension": ".py",
   "mimetype": "text/x-python",
   "name": "python",
   "nbconvert_exporter": "python",
   "pygments_lexer": "ipython3",
   "version": "3.7.4"
  }
 },
 "nbformat": 4,
 "nbformat_minor": 4
}
