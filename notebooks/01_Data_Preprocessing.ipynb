{
 "cells": [
  {
   "cell_type": "markdown",
   "metadata": {},
   "source": [
    "# Sentinel-2 Image Processing \n",
    "\n",
    "The notebook presents the training data generation script.\n",
    "\n",
    "### About Informal Settlement Dataset\n",
    "The Informal Settlement Dataset was received from iMMAP on March 5, 2020. The dataset contains ground-validated locations of informal migrant settlements in Northern Colombia. Through visual interpretation, we generated ground-truth polygons of the informal settlements. This script contains code for converting the vector shapefiles to raster masks.\n",
    "\n",
    "### About Sentinel-2 Imagery\n",
    "\n",
    "SENTINEL-2 is a wide-swath, high-resolution, multi-spectral imaging mission, supporting Copernicus Land Monitoring studies, including the monitoring of vegetation, soil and water cover, as well as observation of inland waterways and coastal areas ([Source](https://sentinel.esa.int/web/sentinel/user-guides/sentinel-2-msi/overview)). \n",
    "\n",
    "**Note**: \n",
    "- For 2016 and 2017 satellite imagery, we obtained L-1C Sentinel2 Imagery. \n",
    "- For 2018 - 2020 satellite imagery we obtained L-2A Sentinel2 Imagery. "
   ]
  },
  {
   "cell_type": "markdown",
   "metadata": {},
   "source": [
    "## Imports and Setup"
   ]
  },
  {
   "cell_type": "code",
   "execution_count": 1,
   "metadata": {},
   "outputs": [],
   "source": [
    "import os\n",
    "import operator\n",
    "from tqdm import tqdm\n",
    "import pandas as pd\n",
    "import numpy as np\n",
    "pd.set_option('use_inf_as_na', True)\n",
    "\n",
    "import geopandas as gpd\n",
    "import rasterio as rio\n",
    "\n",
    "import sys\n",
    "sys.path.insert(0, '../utils')\n",
    "import geoutils\n",
    "\n",
    "import logging\n",
    "import warnings\n",
    "logging.getLogger().setLevel(logging.ERROR)\n",
    "warnings.filterwarnings(\"ignore\")\n",
    "\n",
    "import matplotlib.pyplot as plt\n",
    "%matplotlib inline\n",
    "\n",
    "%load_ext autoreload\n",
    "%autoreload 2"
   ]
  },
  {
   "cell_type": "markdown",
   "metadata": {},
   "source": [
    "## File Locations"
   ]
  },
  {
   "cell_type": "code",
   "execution_count": 2,
   "metadata": {},
   "outputs": [],
   "source": [
    "data_dir = \"../data/\"\n",
    "pos_mask_dir = data_dir + 'pos_masks/'\n",
    "neg_mask_dir = data_dir + 'neg_masks/'\n",
    "sentinel_dir = data_dir + 'sentinel2/'\n",
    "\n",
    "if not os.path.exists(data_dir):\n",
    "    os.makedirs(data_dir)\n",
    "if not os.path.exists(sentinel_dir):\n",
    "    os.makedirs(sentinel_dir)\n",
    "if not os.path.exists(pos_mask_dir):\n",
    "    os.makedirs(pos_mask_dir)\n",
    "if not os.path.exists(neg_mask_dir):\n",
    "    os.makedirs(neg_mask_dir)\n",
    "\n",
    "areas = ['maicao', 'riohacha', 'uribia']"
   ]
  },
  {
   "cell_type": "markdown",
   "metadata": {},
   "source": [
    "## Download Files from GCS"
   ]
  },
  {
   "cell_type": "code",
   "execution_count": 3,
   "metadata": {},
   "outputs": [
    {
     "name": "stdout",
     "output_type": "stream",
     "text": [
      "Operations completed.\n"
     ]
    }
   ],
   "source": [
    "!gsutil -q -m cp gs://immap-gee/DEFLATED_gee_*.tif {sentinel_dir}\n",
    "!gsutil -q -m cp gs://immap-gee/CROPPED_gee_*.tif {sentinel_dir}\n",
    "!gsutil -q -m cp gs://immap-masks/informal_settlement_masks/*.gpkg {pos_mask_dir}\n",
    "!gsutil -q -m cp gs://immap-masks/negative_sample_masks/*.gpkg {neg_mask_dir}\n",
    "!gsutil -q -m cp gs://immap-masks/admin_boundaries/admin_bounds.gpkg {data_dir} \n",
    "print('Operations completed.')"
   ]
  },
  {
   "cell_type": "markdown",
   "metadata": {},
   "source": [
    "## Generate TIFF Files for Indices"
   ]
  },
  {
   "cell_type": "code",
   "execution_count": 3,
   "metadata": {},
   "outputs": [],
   "source": [
    "for area in areas:\n",
    "    geoutils.write_indices(area_dict, area)"
   ]
  },
  {
   "cell_type": "markdown",
   "metadata": {},
   "source": [
    "## Area Filepath Dictionary\n",
    "The following cell returns a dictionary containing the image filepaths for each area."
   ]
  },
  {
   "cell_type": "code",
   "execution_count": 5,
   "metadata": {},
   "outputs": [
    {
     "name": "stdout",
     "output_type": "stream",
     "text": [
      "Image filepaths for Maicao:\n"
     ]
    },
    {
     "data": {
      "text/plain": [
       "{'pos_mask_gpkg': '../data/pos_masks/maicao_mask.gpkg',\n",
       " 'neg_mask_gpkg': '../data/neg_masks/maicao-samples.gpkg',\n",
       " 'images': ['../data/sentinel2/DEFLATED_gee_maicao_2016.tif',\n",
       "  '../data/sentinel2/DEFLATED_gee_maicao_2017.tif',\n",
       "  '../data/sentinel2/DEFLATED_gee_maicao_2018.tif',\n",
       "  '../data/sentinel2/DEFLATED_gee_maicao_2019.tif',\n",
       "  '../data/sentinel2/DEFLATED_gee_maicao_2020.tif'],\n",
       " 'images_cropped': ['../data/sentinel2/CROPPED_gee_maicao_2016.tif',\n",
       "  '../data/sentinel2/CROPPED_gee_maicao_2017.tif',\n",
       "  '../data/sentinel2/CROPPED_gee_maicao_2018.tif',\n",
       "  '../data/sentinel2/CROPPED_gee_maicao_2019.tif',\n",
       "  '../data/sentinel2/CROPPED_gee_maicao_2020.tif'],\n",
       " 'indices_cropped': ['../data/sentinel2/CROPPED_INDICES_gee_maicao_2016.tif',\n",
       "  '../data/sentinel2/CROPPED_INDICES_gee_maicao_2017.tif',\n",
       "  '../data/sentinel2/CROPPED_INDICES_gee_maicao_2018.tif',\n",
       "  '../data/sentinel2/CROPPED_INDICES_gee_maicao_2019.tif',\n",
       "  '../data/sentinel2/CROPPED_INDICES_gee_maicao_2020.tif']}"
      ]
     },
     "execution_count": 5,
     "metadata": {},
     "output_type": "execute_result"
    }
   ],
   "source": [
    "area_dict = geoutils.get_filepaths(areas, sentinel_dir, pos_mask_dir, neg_mask_dir)\n",
    "print(\"Image filepaths for Maicao:\")\n",
    "area_dict['maicao']"
   ]
  },
  {
   "cell_type": "markdown",
   "metadata": {},
   "source": [
    "## Generate Target Raster Masks\n",
    "The following scripts generate TIFF masks for the vector GPKG files of both positive (new informal settlements) and negative (non-new informal settlement) samples."
   ]
  },
  {
   "cell_type": "markdown",
   "metadata": {},
   "source": [
    "### Positive Labels: Informal Settlements"
   ]
  },
  {
   "cell_type": "code",
   "execution_count": 4,
   "metadata": {},
   "outputs": [
    {
     "name": "stdout",
     "output_type": "stream",
     "text": [
      "Raster filepath for maicao: ../data/pos_masks/maicao_mask.tiff\n",
      "Raster filepath for riohacha: ../data/pos_masks/riohacha_mask.tiff\n",
      "Raster filepath for uribia: ../data/pos_masks/uribia_mask.tiff\n"
     ]
    }
   ],
   "source": [
    "area_dict = geoutils.get_pos_raster_mask(area_dict)\n",
    "for area in areas:\n",
    "    print(\"Raster filepath for {}: {}\".format(area, area_dict[area]['pos_mask_tiff']))"
   ]
  },
  {
   "cell_type": "markdown",
   "metadata": {},
   "source": [
    "### Negative Labels: Formal Settlements and Unoccupied Land"
   ]
  },
  {
   "cell_type": "code",
   "execution_count": 5,
   "metadata": {},
   "outputs": [
    {
     "name": "stdout",
     "output_type": "stream",
     "text": [
      "Target value codes: {'formal settlement': 2, 'unoccupied land': 3, 'informal settlement': 1}\n",
      "Raster filepath for maicao: ../data/neg_masks/maicao-samples.tiff\n",
      "Raster filepath for riohacha: ../data/neg_masks/riohacha-samples.tiff\n",
      "Raster filepath for uribia: ../data/neg_masks/uribia-samples.tiff\n"
     ]
    }
   ],
   "source": [
    "area_dict, target_dict = geoutils.get_neg_raster_mask(area_dict)\n",
    "print(\"Target value codes: {}\".format(target_dict))\n",
    "for area in areas:\n",
    "    print(\"Raster filepath for {}: {}\".format(area, area_dict[area]['neg_mask_tiff']))"
   ]
  },
  {
   "cell_type": "markdown",
   "metadata": {},
   "source": [
    "## Generate Training Set"
   ]
  },
  {
   "cell_type": "code",
   "execution_count": 8,
   "metadata": {},
   "outputs": [
    {
     "name": "stdout",
     "output_type": "stream",
     "text": [
      "Reading maicao...\n"
     ]
    },
    {
     "name": "stderr",
     "output_type": "stream",
     "text": [
      "\n",
      "  0%|          | 0/5 [00:00<?, ?it/s]\u001b[A\n",
      " 20%|██        | 1/5 [00:17<01:09, 17.48s/it]\u001b[A\n",
      " 40%|████      | 2/5 [00:35<00:52, 17.60s/it]\u001b[A\n",
      " 60%|██████    | 3/5 [00:52<00:34, 17.36s/it]\u001b[A\n",
      " 80%|████████  | 4/5 [01:09<00:17, 17.36s/it]\u001b[A\n",
      "100%|██████████| 5/5 [01:26<00:00, 17.34s/it]\u001b[A\n"
     ]
    },
    {
     "name": "stdout",
     "output_type": "stream",
     "text": [
      "Reading riohacha...\n"
     ]
    },
    {
     "name": "stderr",
     "output_type": "stream",
     "text": [
      "\n",
      "  0%|          | 0/5 [00:00<?, ?it/s]\u001b[A\n",
      " 20%|██        | 1/5 [00:29<01:59, 29.88s/it]\u001b[A\n",
      " 40%|████      | 2/5 [00:59<01:29, 29.69s/it]\u001b[A\n",
      " 60%|██████    | 3/5 [01:28<00:59, 29.63s/it]\u001b[A\n",
      " 80%|████████  | 4/5 [01:58<00:29, 29.63s/it]\u001b[A\n",
      "100%|██████████| 5/5 [02:27<00:00, 29.43s/it]\u001b[A\n",
      "\n",
      "  0%|          | 0/5 [00:00<?, ?it/s]\u001b[A"
     ]
    },
    {
     "name": "stdout",
     "output_type": "stream",
     "text": [
      "Reading uribia...\n"
     ]
    },
    {
     "name": "stderr",
     "output_type": "stream",
     "text": [
      "\n",
      " 20%|██        | 1/5 [00:03<00:15,  3.80s/it]\u001b[A\n",
      " 40%|████      | 2/5 [00:07<00:11,  3.76s/it]\u001b[A\n",
      " 60%|██████    | 3/5 [00:11<00:07,  3.74s/it]\u001b[A\n",
      " 80%|████████  | 4/5 [00:14<00:03,  3.67s/it]\u001b[A\n",
      "100%|██████████| 5/5 [00:18<00:00,  3.60s/it]\u001b[A\n"
     ]
    },
    {
     "name": "stdout",
     "output_type": "stream",
     "text": [
      "Area code: {'maicao': 0, 'riohacha': 1, 'uribia': 2}\n",
      "Data dimensions: (74436996, 112)\n"
     ]
    },
    {
     "data": {
      "text/html": [
       "<div>\n",
       "<style scoped>\n",
       "    .dataframe tbody tr th:only-of-type {\n",
       "        vertical-align: middle;\n",
       "    }\n",
       "\n",
       "    .dataframe tbody tr th {\n",
       "        vertical-align: top;\n",
       "    }\n",
       "\n",
       "    .dataframe thead th {\n",
       "        text-align: right;\n",
       "    }\n",
       "</style>\n",
       "<table border=\"1\" class=\"dataframe\">\n",
       "  <thead>\n",
       "    <tr style=\"text-align: right;\">\n",
       "      <th></th>\n",
       "      <th>B1_2016</th>\n",
       "      <th>B2_2016</th>\n",
       "      <th>B3_2016</th>\n",
       "      <th>B4_2016</th>\n",
       "      <th>B5_2016</th>\n",
       "      <th>B6_2016</th>\n",
       "      <th>B7_2016</th>\n",
       "      <th>B8_2016</th>\n",
       "      <th>B9_2016</th>\n",
       "      <th>B10_2016</th>\n",
       "      <th>...</th>\n",
       "      <th>savi_2020</th>\n",
       "      <th>mndwi_2020</th>\n",
       "      <th>ui_2020</th>\n",
       "      <th>nbi_2020</th>\n",
       "      <th>brba_2020</th>\n",
       "      <th>nbai_2020</th>\n",
       "      <th>mbi_2020</th>\n",
       "      <th>baei_2020</th>\n",
       "      <th>target</th>\n",
       "      <th>area</th>\n",
       "    </tr>\n",
       "  </thead>\n",
       "  <tbody>\n",
       "    <tr>\n",
       "      <th>11131</th>\n",
       "      <td>0.1492</td>\n",
       "      <td>0.1331</td>\n",
       "      <td>0.1373</td>\n",
       "      <td>0.1587</td>\n",
       "      <td>0.1735</td>\n",
       "      <td>0.2247</td>\n",
       "      <td>0.2654</td>\n",
       "      <td>0.2486</td>\n",
       "      <td>0.3075</td>\n",
       "      <td>0.0377</td>\n",
       "      <td>...</td>\n",
       "      <td>0.189059</td>\n",
       "      <td>-0.535041</td>\n",
       "      <td>0.132327</td>\n",
       "      <td>0.202685</td>\n",
       "      <td>0.397793</td>\n",
       "      <td>-0.735885</td>\n",
       "      <td>-0.043378</td>\n",
       "      <td>0.940504</td>\n",
       "      <td>0</td>\n",
       "      <td>0</td>\n",
       "    </tr>\n",
       "    <tr>\n",
       "      <th>16695</th>\n",
       "      <td>0.1492</td>\n",
       "      <td>0.1359</td>\n",
       "      <td>0.1543</td>\n",
       "      <td>0.1761</td>\n",
       "      <td>0.1799</td>\n",
       "      <td>0.2381</td>\n",
       "      <td>0.2838</td>\n",
       "      <td>0.2657</td>\n",
       "      <td>0.3186</td>\n",
       "      <td>0.0377</td>\n",
       "      <td>...</td>\n",
       "      <td>0.173231</td>\n",
       "      <td>-0.486839</td>\n",
       "      <td>0.113795</td>\n",
       "      <td>0.215935</td>\n",
       "      <td>0.454976</td>\n",
       "      <td>-0.712210</td>\n",
       "      <td>-0.043490</td>\n",
       "      <td>0.960000</td>\n",
       "      <td>0</td>\n",
       "      <td>0</td>\n",
       "    </tr>\n",
       "    <tr>\n",
       "      <th>16696</th>\n",
       "      <td>0.1492</td>\n",
       "      <td>0.1395</td>\n",
       "      <td>0.1514</td>\n",
       "      <td>0.1644</td>\n",
       "      <td>0.1799</td>\n",
       "      <td>0.2381</td>\n",
       "      <td>0.2838</td>\n",
       "      <td>0.2652</td>\n",
       "      <td>0.3186</td>\n",
       "      <td>0.0377</td>\n",
       "      <td>...</td>\n",
       "      <td>0.197578</td>\n",
       "      <td>-0.508728</td>\n",
       "      <td>0.113795</td>\n",
       "      <td>0.198205</td>\n",
       "      <td>0.417619</td>\n",
       "      <td>-0.726255</td>\n",
       "      <td>-0.049508</td>\n",
       "      <td>0.945952</td>\n",
       "      <td>0</td>\n",
       "      <td>0</td>\n",
       "    </tr>\n",
       "  </tbody>\n",
       "</table>\n",
       "<p>3 rows × 112 columns</p>\n",
       "</div>"
      ],
      "text/plain": [
       "       B1_2016  B2_2016  B3_2016  B4_2016  B5_2016  B6_2016  B7_2016  B8_2016  \\\n",
       "11131   0.1492   0.1331   0.1373   0.1587   0.1735   0.2247   0.2654   0.2486   \n",
       "16695   0.1492   0.1359   0.1543   0.1761   0.1799   0.2381   0.2838   0.2657   \n",
       "16696   0.1492   0.1395   0.1514   0.1644   0.1799   0.2381   0.2838   0.2652   \n",
       "\n",
       "       B9_2016  B10_2016  ...  savi_2020  mndwi_2020   ui_2020  nbi_2020  \\\n",
       "11131   0.3075    0.0377  ...   0.189059   -0.535041  0.132327  0.202685   \n",
       "16695   0.3186    0.0377  ...   0.173231   -0.486839  0.113795  0.215935   \n",
       "16696   0.3186    0.0377  ...   0.197578   -0.508728  0.113795  0.198205   \n",
       "\n",
       "       brba_2020  nbai_2020  mbi_2020  baei_2020  target  area  \n",
       "11131   0.397793  -0.735885 -0.043378   0.940504       0     0  \n",
       "16695   0.454976  -0.712210 -0.043490   0.960000       0     0  \n",
       "16696   0.417619  -0.726255 -0.049508   0.945952       0     0  \n",
       "\n",
       "[3 rows x 112 columns]"
      ]
     },
     "execution_count": 8,
     "metadata": {},
     "output_type": "execute_result"
    }
   ],
   "source": [
    "data, area_code = geoutils.generate_training_data(area_dict)\n",
    "print('Area code: {}'.format(area_code))\n",
    "print('Data dimensions: {}'.format(data.shape))\n",
    "data.head(3)"
   ]
  },
  {
   "cell_type": "markdown",
   "metadata": {},
   "source": [
    "## Save and Upload Final Dataset"
   ]
  },
  {
   "cell_type": "code",
   "execution_count": 9,
   "metadata": {},
   "outputs": [
    {
     "name": "stdout",
     "output_type": "stream",
     "text": [
      "Data dimensions: (334524, 112)\n"
     ]
    },
    {
     "data": {
      "text/html": [
       "<div>\n",
       "<style scoped>\n",
       "    .dataframe tbody tr th:only-of-type {\n",
       "        vertical-align: middle;\n",
       "    }\n",
       "\n",
       "    .dataframe tbody tr th {\n",
       "        vertical-align: top;\n",
       "    }\n",
       "\n",
       "    .dataframe thead th {\n",
       "        text-align: right;\n",
       "    }\n",
       "</style>\n",
       "<table border=\"1\" class=\"dataframe\">\n",
       "  <thead>\n",
       "    <tr style=\"text-align: right;\">\n",
       "      <th></th>\n",
       "      <th>B1_2016</th>\n",
       "      <th>B2_2016</th>\n",
       "      <th>B3_2016</th>\n",
       "      <th>B4_2016</th>\n",
       "      <th>B5_2016</th>\n",
       "      <th>B6_2016</th>\n",
       "      <th>B7_2016</th>\n",
       "      <th>B8_2016</th>\n",
       "      <th>B9_2016</th>\n",
       "      <th>B10_2016</th>\n",
       "      <th>...</th>\n",
       "      <th>savi_2020</th>\n",
       "      <th>mndwi_2020</th>\n",
       "      <th>ui_2020</th>\n",
       "      <th>nbi_2020</th>\n",
       "      <th>brba_2020</th>\n",
       "      <th>nbai_2020</th>\n",
       "      <th>mbi_2020</th>\n",
       "      <th>baei_2020</th>\n",
       "      <th>target</th>\n",
       "      <th>area</th>\n",
       "    </tr>\n",
       "  </thead>\n",
       "  <tbody>\n",
       "    <tr>\n",
       "      <th>1133983</th>\n",
       "      <td>0.15970</td>\n",
       "      <td>0.13735</td>\n",
       "      <td>0.1531</td>\n",
       "      <td>0.18700</td>\n",
       "      <td>0.2090</td>\n",
       "      <td>0.26320</td>\n",
       "      <td>0.30515</td>\n",
       "      <td>0.26965</td>\n",
       "      <td>0.3327</td>\n",
       "      <td>0.0411</td>\n",
       "      <td>...</td>\n",
       "      <td>0.187614</td>\n",
       "      <td>-0.509745</td>\n",
       "      <td>0.105128</td>\n",
       "      <td>0.239614</td>\n",
       "      <td>0.449106</td>\n",
       "      <td>-0.718433</td>\n",
       "      <td>-0.042537</td>\n",
       "      <td>0.901237</td>\n",
       "      <td>3</td>\n",
       "      <td>0</td>\n",
       "    </tr>\n",
       "    <tr>\n",
       "      <th>1133984</th>\n",
       "      <td>0.15970</td>\n",
       "      <td>0.13905</td>\n",
       "      <td>0.1454</td>\n",
       "      <td>0.17845</td>\n",
       "      <td>0.2090</td>\n",
       "      <td>0.26320</td>\n",
       "      <td>0.30515</td>\n",
       "      <td>0.26395</td>\n",
       "      <td>0.3327</td>\n",
       "      <td>0.0411</td>\n",
       "      <td>...</td>\n",
       "      <td>0.177058</td>\n",
       "      <td>-0.507485</td>\n",
       "      <td>0.105128</td>\n",
       "      <td>0.247826</td>\n",
       "      <td>0.464498</td>\n",
       "      <td>-0.716955</td>\n",
       "      <td>-0.039760</td>\n",
       "      <td>0.911490</td>\n",
       "      <td>3</td>\n",
       "      <td>0</td>\n",
       "    </tr>\n",
       "    <tr>\n",
       "      <th>1133985</th>\n",
       "      <td>0.16675</td>\n",
       "      <td>0.14875</td>\n",
       "      <td>0.1589</td>\n",
       "      <td>0.18605</td>\n",
       "      <td>0.2258</td>\n",
       "      <td>0.27945</td>\n",
       "      <td>0.32070</td>\n",
       "      <td>0.28085</td>\n",
       "      <td>0.3452</td>\n",
       "      <td>0.0416</td>\n",
       "      <td>...</td>\n",
       "      <td>0.179191</td>\n",
       "      <td>-0.524371</td>\n",
       "      <td>0.073259</td>\n",
       "      <td>0.262348</td>\n",
       "      <td>0.446475</td>\n",
       "      <td>-0.722188</td>\n",
       "      <td>-0.033995</td>\n",
       "      <td>0.875915</td>\n",
       "      <td>3</td>\n",
       "      <td>0</td>\n",
       "    </tr>\n",
       "  </tbody>\n",
       "</table>\n",
       "<p>3 rows × 112 columns</p>\n",
       "</div>"
      ],
      "text/plain": [
       "         B1_2016  B2_2016  B3_2016  B4_2016  B5_2016  B6_2016  B7_2016  \\\n",
       "1133983  0.15970  0.13735   0.1531  0.18700   0.2090  0.26320  0.30515   \n",
       "1133984  0.15970  0.13905   0.1454  0.17845   0.2090  0.26320  0.30515   \n",
       "1133985  0.16675  0.14875   0.1589  0.18605   0.2258  0.27945  0.32070   \n",
       "\n",
       "         B8_2016  B9_2016  B10_2016  ...  savi_2020  mndwi_2020   ui_2020  \\\n",
       "1133983  0.26965   0.3327    0.0411  ...   0.187614   -0.509745  0.105128   \n",
       "1133984  0.26395   0.3327    0.0411  ...   0.177058   -0.507485  0.105128   \n",
       "1133985  0.28085   0.3452    0.0416  ...   0.179191   -0.524371  0.073259   \n",
       "\n",
       "         nbi_2020  brba_2020  nbai_2020  mbi_2020  baei_2020  target  area  \n",
       "1133983  0.239614   0.449106  -0.718433 -0.042537   0.901237       3     0  \n",
       "1133984  0.247826   0.464498  -0.716955 -0.039760   0.911490       3     0  \n",
       "1133985  0.262348   0.446475  -0.722188 -0.033995   0.875915       3     0  \n",
       "\n",
       "[3 rows x 112 columns]"
      ]
     },
     "execution_count": 9,
     "metadata": {},
     "output_type": "execute_result"
    }
   ],
   "source": [
    "output_file = data_dir + '20200326_dataset.csv'\n",
    "data = data[data['target'] != 0]\n",
    "data.to_csv(output_file, index=False)\n",
    "print('Data dimensions: {}'.format(data.shape))\n",
    "data.head(3)"
   ]
  },
  {
   "cell_type": "code",
   "execution_count": 10,
   "metadata": {},
   "outputs": [
    {
     "name": "stdout",
     "output_type": "stream",
     "text": [
      "Copying file://../data/20200326_dataset.csv [Content-Type=text/csv]...\n",
      "==> NOTE: You are uploading one or more large file(s), which would run\n",
      "significantly faster if you enable parallel composite uploads. This\n",
      "feature can be enabled by editing the\n",
      "\"parallel_composite_upload_threshold\" value in your .boto\n",
      "configuration file. However, note that if you do this large files will\n",
      "be uploaded as `composite objects\n",
      "<https://cloud.google.com/storage/docs/composite-objects>`_,which\n",
      "means that any user who downloads such objects will need to have a\n",
      "compiled crcmod installed (see \"gsutil help crcmod\"). This is because\n",
      "without a compiled crcmod, computing checksums on composite objects is\n",
      "so slow that gsutil disables downloads of composite objects.\n",
      "\n",
      "- [1/1 files][319.1 MiB/319.1 MiB] 100% Done                                    \n",
      "Operation completed over 1 objects/319.1 MiB.                                    \n"
     ]
    }
   ],
   "source": [
    "!gsutil -m cp {output_file} gs://immap-training/"
   ]
  }
 ],
 "metadata": {
  "kernelspec": {
   "display_name": "venv",
   "language": "python",
   "name": "venv"
  },
  "language_info": {
   "codemirror_mode": {
    "name": "ipython",
    "version": 3
   },
   "file_extension": ".py",
   "mimetype": "text/x-python",
   "name": "python",
   "nbconvert_exporter": "python",
   "pygments_lexer": "ipython3",
   "version": "3.7.4"
  }
 },
 "nbformat": 4,
 "nbformat_minor": 4
}
