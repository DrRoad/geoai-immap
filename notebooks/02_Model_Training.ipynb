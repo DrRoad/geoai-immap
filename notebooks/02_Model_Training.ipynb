{
 "cells": [
  {
   "cell_type": "markdown",
   "metadata": {},
   "source": [
    "# Model Experimentation\n",
    "This notebook contains a minimal template for running ML experiments. "
   ]
  },
  {
   "cell_type": "markdown",
   "metadata": {},
   "source": [
    "## Imports and Setup"
   ]
  },
  {
   "cell_type": "code",
   "execution_count": null,
   "metadata": {},
   "outputs": [],
   "source": [
    "import pandas as pd\n",
    "import numpy as np\n",
    "\n",
    "import matplotlib.pyplot as plt\n",
    "import seaborn as sns\n",
    "sns.set(style=\"whitegrid\")\n",
    "\n",
    "import sys\n",
    "sys.path.insert(0, '../utils')\n",
    "import model_utils\n",
    "import geoutils\n",
    "\n",
    "import logging\n",
    "import warnings\n",
    "logging.getLogger().setLevel(logging.ERROR)\n",
    "warnings.filterwarnings(\"ignore\")\n",
    "\n",
    "SEED = 42\n",
    "\n",
    "%load_ext autoreload\n",
    "%autoreload 2"
   ]
  },
  {
   "cell_type": "markdown",
   "metadata": {},
   "source": [
    "## File Locations"
   ]
  },
  {
   "cell_type": "code",
   "execution_count": null,
   "metadata": {},
   "outputs": [],
   "source": [
    "data_dir = \"../data/\"\n",
    "input_file = data_dir + '20200501_dataset.csv'\n",
    "output_dir = \"../outputs/\"\n",
    "\n",
    "images_dir = data_dir + 'images/'\n",
    "indices_dir = data_dir + 'indices/'\n",
    "pos_mask_dir = data_dir + 'pos_masks/'\n",
    "neg_mask_dir = data_dir + 'neg_masks/'\n",
    "\n",
    "areas = ['maicao', 'riohacha', 'uribia', 'arauca', 'cucuta', 'arauquita', 'tibu']"
   ]
  },
  {
   "cell_type": "markdown",
   "metadata": {},
   "source": [
    "## Load Dataset"
   ]
  },
  {
   "cell_type": "code",
   "execution_count": null,
   "metadata": {},
   "outputs": [],
   "source": [
    "data = pd.read_csv(input_file).reset_index(drop=True).fillna(0)\n",
    "class_dist = data['target'].value_counts().rename(index=model_utils.VALUE_CODES)\n",
    "\n",
    "print('Data dimensions: {}'.format(data.shape))\n",
    "print('\\nClass distribution:\\n{}\\n'.format(class_dist))\n",
    "\n",
    "data.head()"
   ]
  },
  {
   "cell_type": "markdown",
   "metadata": {},
   "source": [
    "## Resample Dataset"
   ]
  },
  {
   "cell_type": "code",
   "execution_count": null,
   "metadata": {},
   "outputs": [],
   "source": [
    "neg_dist = {'Formal settlement': (2/5), 'Unoccupied land': (3/5)}\n",
    "data = model_utils.resample(data, num_neg_samples=50000, neg_dist=neg_dist, random_state=SEED)\n",
    "\n",
    "class_dist = data['target'].value_counts().rename(index=model_utils.VALUE_CODES)\n",
    "area_dist = data['area'].value_counts().rename(index=model_utils.AREA_CODES)\n",
    "\n",
    "print('Data dimensions: {}'.format(data.shape))\n",
    "print('\\nArea distribution:\\n{}'.format(area_dist))\n",
    "print('\\nClass distribution:\\n{}'.format(class_dist))\n",
    "print('\\nClass distribution (normalized):\\n{}\\n'.format(class_dist/len(data)))\n",
    "\n",
    "data.head(3)"
   ]
  },
  {
   "cell_type": "markdown",
   "metadata": {},
   "source": [
    "## ML Pipeline"
   ]
  },
  {
   "cell_type": "code",
   "execution_count": null,
   "metadata": {},
   "outputs": [],
   "source": [
    "from sklearn.linear_model import LogisticRegression"
   ]
  },
  {
   "cell_type": "markdown",
   "metadata": {},
   "source": [
    "### Model Training & Evaluation"
   ]
  },
  {
   "cell_type": "code",
   "execution_count": null,
   "metadata": {},
   "outputs": [],
   "source": [
    "label = 'target'\n",
    "features = [column  for column in data.columns[:-2]]\n",
    "data[label] = data[label].replace({2:0, 3:0})\n",
    "\n",
    "splits = data[['area']]\n",
    "X = data[features]\n",
    "y = data[label]\n",
    "\n",
    "print('Class distribution:\\n{}'.format(data['target'].value_counts()))"
   ]
  },
  {
   "cell_type": "markdown",
   "metadata": {},
   "source": [
    "### Nested Spatial Cross Validation"
   ]
  },
  {
   "cell_type": "code",
   "execution_count": null,
   "metadata": {},
   "outputs": [],
   "source": [
    "clf =  LogisticRegression()\n",
    "param_grid = {'classifier__C':[0.001, 0.01, 1.0, 5.0, 10]}\n",
    "model_utils.nested_spatial_cv(clf, X, y, splits=splits, param_grid=param_grid, verbose=2);"
   ]
  },
  {
   "cell_type": "markdown",
   "metadata": {},
   "source": [
    "## Train Model"
   ]
  },
  {
   "cell_type": "code",
   "execution_count": null,
   "metadata": {},
   "outputs": [],
   "source": [
    "clf = LogisticRegression()\n",
    "X = data[features].fillna(0)\n",
    "y = data[label]\n",
    "clf.fit(X, y);"
   ]
  },
  {
   "cell_type": "markdown",
   "metadata": {},
   "source": [
    "## Prediction"
   ]
  },
  {
   "cell_type": "code",
   "execution_count": null,
   "metadata": {},
   "outputs": [],
   "source": [
    "pd.set_option('use_inf_as_na', True)\n",
    "area_dict = geoutils.get_filepaths(areas, images_dir, indices_dir, pos_mask_dir, neg_mask_dir)\n",
    "data = geoutils.read_bands(area_dict, 'uribia')\n",
    "print('Data dimensions: {}'.format(data.shape))\n",
    "data.head(3)"
   ]
  },
  {
   "cell_type": "code",
   "execution_count": null,
   "metadata": {},
   "outputs": [],
   "source": [
    "preds = clf.predict_proba(data[features].fillna(0))[:, 1]\n",
    "preds[(data.iloc[:, :-1].sum(axis=1) == 0)] = -1\n",
    "\n",
    "geoutils.save_predictions(\n",
    "    preds, \n",
    "    image_src=area_dict['uribia']['images'][0], \n",
    "    output_file=output_dir+'20200501_uribia.tiff'\n",
    ")"
   ]
  }
 ],
 "metadata": {
  "kernelspec": {
   "display_name": "venv",
   "language": "python",
   "name": "venv"
  },
  "language_info": {
   "codemirror_mode": {
    "name": "ipython",
    "version": 3
   },
   "file_extension": ".py",
   "mimetype": "text/x-python",
   "name": "python",
   "nbconvert_exporter": "python",
   "pygments_lexer": "ipython3",
   "version": "3.7.4"
  }
 },
 "nbformat": 4,
 "nbformat_minor": 4
}
