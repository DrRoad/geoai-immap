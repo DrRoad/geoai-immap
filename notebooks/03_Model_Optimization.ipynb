{
 "cells": [
  {
   "cell_type": "markdown",
   "metadata": {},
   "source": [
    "# Model Experimentation: Hyperparameter Optimization\n",
    "This notebook conducts experiments on hyperparameter optimization."
   ]
  },
  {
   "cell_type": "markdown",
   "metadata": {},
   "source": [
    "## Imports and Setup"
   ]
  },
  {
   "cell_type": "code",
   "execution_count": 1,
   "metadata": {},
   "outputs": [],
   "source": [
    "import pandas as pd\n",
    "import numpy as np\n",
    "import scipy\n",
    "\n",
    "import matplotlib.pyplot as plt\n",
    "import seaborn as sns\n",
    "sns.set(style=\"whitegrid\")\n",
    "\n",
    "import sys\n",
    "sys.path.insert(0, '../utils')\n",
    "import model_utils\n",
    "import geoutils\n",
    "\n",
    "import logging\n",
    "import warnings\n",
    "logging.getLogger().setLevel(logging.ERROR)\n",
    "warnings.filterwarnings(\"ignore\")\n",
    "\n",
    "SEED = 42\n",
    "\n",
    "%load_ext autoreload\n",
    "%autoreload 2"
   ]
  },
  {
   "cell_type": "markdown",
   "metadata": {},
   "source": [
    "## File Location"
   ]
  },
  {
   "cell_type": "code",
   "execution_count": 2,
   "metadata": {},
   "outputs": [],
   "source": [
    "version = '20200509'\n",
    "data_dir = \"../data/\"\n",
    "output_dir = \"../outputs/\"\n",
    "input_file = data_dir + '{}_dataset.csv'.format(version)\n",
    "\n",
    "images_dir = data_dir + 'images/'\n",
    "indices_dir = data_dir + 'indices/'\n",
    "pos_mask_dir = data_dir + 'pos_masks/'\n",
    "neg_mask_dir = data_dir + 'neg_masks/'"
   ]
  },
  {
   "cell_type": "markdown",
   "metadata": {},
   "source": [
    "## Load Dataset"
   ]
  },
  {
   "cell_type": "code",
   "execution_count": 3,
   "metadata": {},
   "outputs": [
    {
     "name": "stdout",
     "output_type": "stream",
     "text": [
      "Data dimensions: (1029869, 69)\n",
      "CPU times: user 14.4 s, sys: 907 ms, total: 15.3 s\n",
      "Wall time: 15.1 s\n"
     ]
    },
    {
     "data": {
      "text/html": [
       "<div>\n",
       "<style scoped>\n",
       "    .dataframe tbody tr th:only-of-type {\n",
       "        vertical-align: middle;\n",
       "    }\n",
       "\n",
       "    .dataframe tbody tr th {\n",
       "        vertical-align: top;\n",
       "    }\n",
       "\n",
       "    .dataframe thead th {\n",
       "        text-align: right;\n",
       "    }\n",
       "</style>\n",
       "<table border=\"1\" class=\"dataframe\">\n",
       "  <thead>\n",
       "    <tr style=\"text-align: right;\">\n",
       "      <th></th>\n",
       "      <th>B1_2015-2016</th>\n",
       "      <th>B2_2015-2016</th>\n",
       "      <th>B3_2015-2016</th>\n",
       "      <th>B4_2015-2016</th>\n",
       "      <th>B5_2015-2016</th>\n",
       "      <th>B6_2015-2016</th>\n",
       "      <th>B7_2015-2016</th>\n",
       "      <th>B8_2015-2016</th>\n",
       "      <th>B9_2015-2016</th>\n",
       "      <th>B10_2015-2016</th>\n",
       "      <th>...</th>\n",
       "      <th>mndwi_2019-2020</th>\n",
       "      <th>ui_2019-2020</th>\n",
       "      <th>nbi_2019-2020</th>\n",
       "      <th>brba_2019-2020</th>\n",
       "      <th>nbai_2019-2020</th>\n",
       "      <th>mbi_2019-2020</th>\n",
       "      <th>baei_2019-2020</th>\n",
       "      <th>target</th>\n",
       "      <th>uid</th>\n",
       "      <th>area</th>\n",
       "    </tr>\n",
       "  </thead>\n",
       "  <tbody>\n",
       "    <tr>\n",
       "      <th>0</th>\n",
       "      <td>0.15100</td>\n",
       "      <td>0.13225</td>\n",
       "      <td>0.14240</td>\n",
       "      <td>0.16430</td>\n",
       "      <td>0.1899</td>\n",
       "      <td>0.25700</td>\n",
       "      <td>0.2960</td>\n",
       "      <td>0.25510</td>\n",
       "      <td>0.32295</td>\n",
       "      <td>0.0396</td>\n",
       "      <td>...</td>\n",
       "      <td>-0.438625</td>\n",
       "      <td>0.151655</td>\n",
       "      <td>0.209614</td>\n",
       "      <td>0.479385</td>\n",
       "      <td>-0.665204</td>\n",
       "      <td>-0.060444</td>\n",
       "      <td>0.948025</td>\n",
       "      <td>3</td>\n",
       "      <td>39</td>\n",
       "      <td>0</td>\n",
       "    </tr>\n",
       "    <tr>\n",
       "      <th>1</th>\n",
       "      <td>0.15100</td>\n",
       "      <td>0.12885</td>\n",
       "      <td>0.13790</td>\n",
       "      <td>0.16185</td>\n",
       "      <td>0.1899</td>\n",
       "      <td>0.25700</td>\n",
       "      <td>0.2960</td>\n",
       "      <td>0.25755</td>\n",
       "      <td>0.32295</td>\n",
       "      <td>0.0396</td>\n",
       "      <td>...</td>\n",
       "      <td>-0.435450</td>\n",
       "      <td>0.151655</td>\n",
       "      <td>0.213526</td>\n",
       "      <td>0.488330</td>\n",
       "      <td>-0.663010</td>\n",
       "      <td>-0.059064</td>\n",
       "      <td>0.952352</td>\n",
       "      <td>3</td>\n",
       "      <td>39</td>\n",
       "      <td>0</td>\n",
       "    </tr>\n",
       "    <tr>\n",
       "      <th>2</th>\n",
       "      <td>0.15895</td>\n",
       "      <td>0.13730</td>\n",
       "      <td>0.15185</td>\n",
       "      <td>0.18915</td>\n",
       "      <td>0.2264</td>\n",
       "      <td>0.28555</td>\n",
       "      <td>0.3268</td>\n",
       "      <td>0.28085</td>\n",
       "      <td>0.35740</td>\n",
       "      <td>0.0416</td>\n",
       "      <td>...</td>\n",
       "      <td>-0.447333</td>\n",
       "      <td>0.145385</td>\n",
       "      <td>0.222971</td>\n",
       "      <td>0.473118</td>\n",
       "      <td>-0.661291</td>\n",
       "      <td>-0.060496</td>\n",
       "      <td>0.911748</td>\n",
       "      <td>3</td>\n",
       "      <td>39</td>\n",
       "      <td>0</td>\n",
       "    </tr>\n",
       "  </tbody>\n",
       "</table>\n",
       "<p>3 rows × 69 columns</p>\n",
       "</div>"
      ],
      "text/plain": [
       "   B1_2015-2016  B2_2015-2016  B3_2015-2016  B4_2015-2016  B5_2015-2016  \\\n",
       "0       0.15100       0.13225       0.14240       0.16430        0.1899   \n",
       "1       0.15100       0.12885       0.13790       0.16185        0.1899   \n",
       "2       0.15895       0.13730       0.15185       0.18915        0.2264   \n",
       "\n",
       "   B6_2015-2016  B7_2015-2016  B8_2015-2016  B9_2015-2016  B10_2015-2016  ...  \\\n",
       "0       0.25700        0.2960       0.25510       0.32295         0.0396  ...   \n",
       "1       0.25700        0.2960       0.25755       0.32295         0.0396  ...   \n",
       "2       0.28555        0.3268       0.28085       0.35740         0.0416  ...   \n",
       "\n",
       "   mndwi_2019-2020  ui_2019-2020  nbi_2019-2020  brba_2019-2020  \\\n",
       "0        -0.438625      0.151655       0.209614        0.479385   \n",
       "1        -0.435450      0.151655       0.213526        0.488330   \n",
       "2        -0.447333      0.145385       0.222971        0.473118   \n",
       "\n",
       "   nbai_2019-2020  mbi_2019-2020  baei_2019-2020  target  uid  area  \n",
       "0       -0.665204      -0.060444        0.948025       3   39     0  \n",
       "1       -0.663010      -0.059064        0.952352       3   39     0  \n",
       "2       -0.661291      -0.060496        0.911748       3   39     0  \n",
       "\n",
       "[3 rows x 69 columns]"
      ]
     },
     "execution_count": 3,
     "metadata": {},
     "output_type": "execute_result"
    }
   ],
   "source": [
    "%%time\n",
    "data = pd.read_csv(input_file).reset_index(drop=True)\n",
    "print('Data dimensions: {}'.format(data.shape))\n",
    "data.head(3)"
   ]
  },
  {
   "cell_type": "markdown",
   "metadata": {},
   "source": [
    "## Resample Dataset"
   ]
  },
  {
   "cell_type": "code",
   "execution_count": 4,
   "metadata": {},
   "outputs": [
    {
     "name": "stdout",
     "output_type": "stream",
     "text": [
      "Data dimensions: (293756, 69)\n"
     ]
    },
    {
     "data": {
      "text/html": [
       "<div>\n",
       "<style scoped>\n",
       "    .dataframe tbody tr th:only-of-type {\n",
       "        vertical-align: middle;\n",
       "    }\n",
       "\n",
       "    .dataframe tbody tr th {\n",
       "        vertical-align: top;\n",
       "    }\n",
       "\n",
       "    .dataframe thead th {\n",
       "        text-align: right;\n",
       "    }\n",
       "</style>\n",
       "<table border=\"1\" class=\"dataframe\">\n",
       "  <thead>\n",
       "    <tr style=\"text-align: right;\">\n",
       "      <th></th>\n",
       "      <th>B1_2015-2016</th>\n",
       "      <th>B2_2015-2016</th>\n",
       "      <th>B3_2015-2016</th>\n",
       "      <th>B4_2015-2016</th>\n",
       "      <th>B5_2015-2016</th>\n",
       "      <th>B6_2015-2016</th>\n",
       "      <th>B7_2015-2016</th>\n",
       "      <th>B8_2015-2016</th>\n",
       "      <th>B9_2015-2016</th>\n",
       "      <th>B10_2015-2016</th>\n",
       "      <th>...</th>\n",
       "      <th>mndwi_2019-2020</th>\n",
       "      <th>ui_2019-2020</th>\n",
       "      <th>nbi_2019-2020</th>\n",
       "      <th>brba_2019-2020</th>\n",
       "      <th>nbai_2019-2020</th>\n",
       "      <th>mbi_2019-2020</th>\n",
       "      <th>baei_2019-2020</th>\n",
       "      <th>target</th>\n",
       "      <th>uid</th>\n",
       "      <th>area</th>\n",
       "    </tr>\n",
       "  </thead>\n",
       "  <tbody>\n",
       "    <tr>\n",
       "      <th>0</th>\n",
       "      <td>0.1748</td>\n",
       "      <td>0.12640</td>\n",
       "      <td>0.12590</td>\n",
       "      <td>0.12075</td>\n",
       "      <td>0.1288</td>\n",
       "      <td>0.2291</td>\n",
       "      <td>0.28325</td>\n",
       "      <td>0.2551</td>\n",
       "      <td>0.31165</td>\n",
       "      <td>0.03960</td>\n",
       "      <td>...</td>\n",
       "      <td>-0.325365</td>\n",
       "      <td>0.336843</td>\n",
       "      <td>0.097095</td>\n",
       "      <td>0.493299</td>\n",
       "      <td>-0.683798</td>\n",
       "      <td>-0.120547</td>\n",
       "      <td>1.149291</td>\n",
       "      <td>2</td>\n",
       "      <td>62</td>\n",
       "      <td>0</td>\n",
       "    </tr>\n",
       "    <tr>\n",
       "      <th>1</th>\n",
       "      <td>0.2093</td>\n",
       "      <td>0.19810</td>\n",
       "      <td>0.20230</td>\n",
       "      <td>0.21700</td>\n",
       "      <td>0.2178</td>\n",
       "      <td>0.2767</td>\n",
       "      <td>0.32240</td>\n",
       "      <td>0.3020</td>\n",
       "      <td>0.34780</td>\n",
       "      <td>0.03530</td>\n",
       "      <td>...</td>\n",
       "      <td>-0.212563</td>\n",
       "      <td>0.098564</td>\n",
       "      <td>0.242471</td>\n",
       "      <td>0.716410</td>\n",
       "      <td>-0.623340</td>\n",
       "      <td>-0.022285</td>\n",
       "      <td>1.042249</td>\n",
       "      <td>2</td>\n",
       "      <td>64</td>\n",
       "      <td>0</td>\n",
       "    </tr>\n",
       "    <tr>\n",
       "      <th>2</th>\n",
       "      <td>0.2062</td>\n",
       "      <td>0.20505</td>\n",
       "      <td>0.21575</td>\n",
       "      <td>0.23320</td>\n",
       "      <td>0.2083</td>\n",
       "      <td>0.2836</td>\n",
       "      <td>0.33810</td>\n",
       "      <td>0.3109</td>\n",
       "      <td>0.37400</td>\n",
       "      <td>0.03575</td>\n",
       "      <td>...</td>\n",
       "      <td>-0.235786</td>\n",
       "      <td>0.266124</td>\n",
       "      <td>0.158668</td>\n",
       "      <td>0.655587</td>\n",
       "      <td>-0.632521</td>\n",
       "      <td>-0.078219</td>\n",
       "      <td>1.101300</td>\n",
       "      <td>2</td>\n",
       "      <td>60</td>\n",
       "      <td>0</td>\n",
       "    </tr>\n",
       "  </tbody>\n",
       "</table>\n",
       "<p>3 rows × 69 columns</p>\n",
       "</div>"
      ],
      "text/plain": [
       "   B1_2015-2016  B2_2015-2016  B3_2015-2016  B4_2015-2016  B5_2015-2016  \\\n",
       "0        0.1748       0.12640       0.12590       0.12075        0.1288   \n",
       "1        0.2093       0.19810       0.20230       0.21700        0.2178   \n",
       "2        0.2062       0.20505       0.21575       0.23320        0.2083   \n",
       "\n",
       "   B6_2015-2016  B7_2015-2016  B8_2015-2016  B9_2015-2016  B10_2015-2016  ...  \\\n",
       "0        0.2291       0.28325        0.2551       0.31165        0.03960  ...   \n",
       "1        0.2767       0.32240        0.3020       0.34780        0.03530  ...   \n",
       "2        0.2836       0.33810        0.3109       0.37400        0.03575  ...   \n",
       "\n",
       "   mndwi_2019-2020  ui_2019-2020  nbi_2019-2020  brba_2019-2020  \\\n",
       "0        -0.325365      0.336843       0.097095        0.493299   \n",
       "1        -0.212563      0.098564       0.242471        0.716410   \n",
       "2        -0.235786      0.266124       0.158668        0.655587   \n",
       "\n",
       "   nbai_2019-2020  mbi_2019-2020  baei_2019-2020  target  uid  area  \n",
       "0       -0.683798      -0.120547        1.149291       2   62     0  \n",
       "1       -0.623340      -0.022285        1.042249       2   64     0  \n",
       "2       -0.632521      -0.078219        1.101300       2   60     0  \n",
       "\n",
       "[3 rows x 69 columns]"
      ]
     },
     "execution_count": 4,
     "metadata": {},
     "output_type": "execute_result"
    }
   ],
   "source": [
    "data = model_utils.resample(data, num_neg_samples=30000, random_state=SEED)\n",
    "print('Data dimensions: {}'.format(data.shape))\n",
    "data.head(3)"
   ]
  },
  {
   "cell_type": "markdown",
   "metadata": {},
   "source": [
    "## Machine Learning Pipeline"
   ]
  },
  {
   "cell_type": "code",
   "execution_count": 5,
   "metadata": {},
   "outputs": [],
   "source": [
    "from sklearn.linear_model import RidgeClassifier\n",
    "from sklearn.linear_model import LogisticRegression\n",
    "from sklearn.ensemble import RandomForestClassifier\n",
    "from sklearn.ensemble import GradientBoostingClassifier\n",
    "from sklearn.naive_bayes import GaussianNB\n",
    "from sklearn.svm import LinearSVC\n",
    "SEED = 42"
   ]
  },
  {
   "cell_type": "markdown",
   "metadata": {},
   "source": [
    "## Define Features and Target Label"
   ]
  },
  {
   "cell_type": "code",
   "execution_count": 6,
   "metadata": {},
   "outputs": [
    {
     "name": "stdout",
     "output_type": "stream",
     "text": [
      "Data dimensions: (293756, 69)\n",
      "Class distribution:\n",
      "0    270000\n",
      "1     23756\n",
      "Name: target, dtype: int64\n"
     ]
    },
    {
     "data": {
      "text/html": [
       "<div>\n",
       "<style scoped>\n",
       "    .dataframe tbody tr th:only-of-type {\n",
       "        vertical-align: middle;\n",
       "    }\n",
       "\n",
       "    .dataframe tbody tr th {\n",
       "        vertical-align: top;\n",
       "    }\n",
       "\n",
       "    .dataframe thead th {\n",
       "        text-align: right;\n",
       "    }\n",
       "</style>\n",
       "<table border=\"1\" class=\"dataframe\">\n",
       "  <thead>\n",
       "    <tr style=\"text-align: right;\">\n",
       "      <th></th>\n",
       "      <th>B1_2015-2016</th>\n",
       "      <th>B2_2015-2016</th>\n",
       "      <th>B3_2015-2016</th>\n",
       "      <th>B4_2015-2016</th>\n",
       "      <th>B5_2015-2016</th>\n",
       "      <th>B6_2015-2016</th>\n",
       "      <th>B7_2015-2016</th>\n",
       "      <th>B8_2015-2016</th>\n",
       "      <th>B9_2015-2016</th>\n",
       "      <th>B10_2015-2016</th>\n",
       "      <th>...</th>\n",
       "      <th>ndvi_2019-2020</th>\n",
       "      <th>ndbi_2019-2020</th>\n",
       "      <th>savi_2019-2020</th>\n",
       "      <th>mndwi_2019-2020</th>\n",
       "      <th>ui_2019-2020</th>\n",
       "      <th>nbi_2019-2020</th>\n",
       "      <th>brba_2019-2020</th>\n",
       "      <th>nbai_2019-2020</th>\n",
       "      <th>mbi_2019-2020</th>\n",
       "      <th>baei_2019-2020</th>\n",
       "    </tr>\n",
       "  </thead>\n",
       "  <tbody>\n",
       "    <tr>\n",
       "      <th>0</th>\n",
       "      <td>0.1748</td>\n",
       "      <td>0.12640</td>\n",
       "      <td>0.12590</td>\n",
       "      <td>0.12075</td>\n",
       "      <td>0.1288</td>\n",
       "      <td>0.2291</td>\n",
       "      <td>0.28325</td>\n",
       "      <td>0.2551</td>\n",
       "      <td>0.31165</td>\n",
       "      <td>0.03960</td>\n",
       "      <td>...</td>\n",
       "      <td>0.361130</td>\n",
       "      <td>-0.102406</td>\n",
       "      <td>0.290864</td>\n",
       "      <td>-0.325365</td>\n",
       "      <td>0.336843</td>\n",
       "      <td>0.097095</td>\n",
       "      <td>0.493299</td>\n",
       "      <td>-0.683798</td>\n",
       "      <td>-0.120547</td>\n",
       "      <td>1.149291</td>\n",
       "    </tr>\n",
       "    <tr>\n",
       "      <th>1</th>\n",
       "      <td>0.2093</td>\n",
       "      <td>0.19810</td>\n",
       "      <td>0.20230</td>\n",
       "      <td>0.21700</td>\n",
       "      <td>0.2178</td>\n",
       "      <td>0.2767</td>\n",
       "      <td>0.32240</td>\n",
       "      <td>0.3020</td>\n",
       "      <td>0.34780</td>\n",
       "      <td>0.03530</td>\n",
       "      <td>...</td>\n",
       "      <td>0.033153</td>\n",
       "      <td>0.061558</td>\n",
       "      <td>0.076850</td>\n",
       "      <td>-0.212563</td>\n",
       "      <td>0.098564</td>\n",
       "      <td>0.242471</td>\n",
       "      <td>0.716410</td>\n",
       "      <td>-0.623340</td>\n",
       "      <td>-0.022285</td>\n",
       "      <td>1.042249</td>\n",
       "    </tr>\n",
       "    <tr>\n",
       "      <th>2</th>\n",
       "      <td>0.2062</td>\n",
       "      <td>0.20505</td>\n",
       "      <td>0.21575</td>\n",
       "      <td>0.23320</td>\n",
       "      <td>0.2083</td>\n",
       "      <td>0.2836</td>\n",
       "      <td>0.33810</td>\n",
       "      <td>0.3109</td>\n",
       "      <td>0.37400</td>\n",
       "      <td>0.03575</td>\n",
       "      <td>...</td>\n",
       "      <td>0.154722</td>\n",
       "      <td>-0.047662</td>\n",
       "      <td>0.183498</td>\n",
       "      <td>-0.235786</td>\n",
       "      <td>0.266124</td>\n",
       "      <td>0.158668</td>\n",
       "      <td>0.655587</td>\n",
       "      <td>-0.632521</td>\n",
       "      <td>-0.078219</td>\n",
       "      <td>1.101300</td>\n",
       "    </tr>\n",
       "  </tbody>\n",
       "</table>\n",
       "<p>3 rows × 66 columns</p>\n",
       "</div>"
      ],
      "text/plain": [
       "   B1_2015-2016  B2_2015-2016  B3_2015-2016  B4_2015-2016  B5_2015-2016  \\\n",
       "0        0.1748       0.12640       0.12590       0.12075        0.1288   \n",
       "1        0.2093       0.19810       0.20230       0.21700        0.2178   \n",
       "2        0.2062       0.20505       0.21575       0.23320        0.2083   \n",
       "\n",
       "   B6_2015-2016  B7_2015-2016  B8_2015-2016  B9_2015-2016  B10_2015-2016  ...  \\\n",
       "0        0.2291       0.28325        0.2551       0.31165        0.03960  ...   \n",
       "1        0.2767       0.32240        0.3020       0.34780        0.03530  ...   \n",
       "2        0.2836       0.33810        0.3109       0.37400        0.03575  ...   \n",
       "\n",
       "   ndvi_2019-2020  ndbi_2019-2020  savi_2019-2020  mndwi_2019-2020  \\\n",
       "0        0.361130       -0.102406        0.290864        -0.325365   \n",
       "1        0.033153        0.061558        0.076850        -0.212563   \n",
       "2        0.154722       -0.047662        0.183498        -0.235786   \n",
       "\n",
       "   ui_2019-2020  nbi_2019-2020  brba_2019-2020  nbai_2019-2020  mbi_2019-2020  \\\n",
       "0      0.336843       0.097095        0.493299       -0.683798      -0.120547   \n",
       "1      0.098564       0.242471        0.716410       -0.623340      -0.022285   \n",
       "2      0.266124       0.158668        0.655587       -0.632521      -0.078219   \n",
       "\n",
       "   baei_2019-2020  \n",
       "0        1.149291  \n",
       "1        1.042249  \n",
       "2        1.101300  \n",
       "\n",
       "[3 rows x 66 columns]"
      ]
     },
     "execution_count": 6,
     "metadata": {},
     "output_type": "execute_result"
    }
   ],
   "source": [
    "label = 'target'\n",
    "features = [column  for column in data.columns[:-3]]\n",
    "data[label] = data[label].replace({2:0, 3:0})\n",
    "\n",
    "grids = data['uid']\n",
    "splits = data[['area']]\n",
    "X = data[features]\n",
    "y = data[label]\n",
    "\n",
    "print('Data dimensions: {}'.format(data.shape))\n",
    "print('Class distribution:\\n{}'.format(data['target'].value_counts()))\n",
    "\n",
    "X.head(3)"
   ]
  },
  {
   "cell_type": "markdown",
   "metadata": {},
   "source": [
    "## Logistic Regression"
   ]
  },
  {
   "cell_type": "code",
   "execution_count": 19,
   "metadata": {},
   "outputs": [
    {
     "name": "stderr",
     "output_type": "stream",
     "text": [
      "100%|██████████| 9/9 [33:34<00:00, 223.78s/it]\n"
     ]
    },
    {
     "data": {
      "image/png": "[encoded data removed]",
      "text/plain": [
       "<Figure size 432x288 with 2 Axes>"
      ]
     },
     "metadata": {
      "needs_background": "light"
     },
     "output_type": "display_data"
    },
    {
     "name": "stdout",
     "output_type": "stream",
     "text": [
      "CPU times: user 7min 3s, sys: 5.56 s, total: 7min 8s\n",
      "Wall time: 33min 36s\n"
     ]
    }
   ],
   "source": [
    "%%time\n",
    "lr =  LogisticRegression()\n",
    "param_grid = {'classifier__C': [0.001, 0.1, 0.5, 1, 5, 10, 100, 1000]}\n",
    "lr_results = model_utils.nested_spatial_cv(\n",
    "    lr, X, y, splits=splits, grids=grids, param_grid=param_grid, verbose=2\n",
    ")\n",
    "lr_results_grid = model_utils.get_grid_level_results(lr_results)\n",
    "\n",
    "# Save results\n",
    "lr_results.to_csv(output_dir+'{}_logistic_regression.csv'.format(version), index=False)\n",
    "lr_results_grid.to_csv(output_dir+'{}_logistic_regression_grids.csv'.format(version), index=False);"
   ]
  },
  {
   "cell_type": "markdown",
   "metadata": {},
   "source": [
    "## LinearSVC"
   ]
  },
  {
   "cell_type": "code",
   "execution_count": null,
   "metadata": {},
   "outputs": [],
   "source": [
    "%%time\n",
    "lsvc = LinearSVC(random_state=SEED)\n",
    "param_grid = {'classifier__C': [0.001, 0.1, 0.5, 1, 5, 10, 100, 1000]}\n",
    "lsvc_results = model_utils.nested_spatial_cv(\n",
    "    lsvc, X, y, splits=splits, grids=grids, param_grid=param_grid, verbose=2\n",
    ")\n",
    "lsvc_results_grid = model_utils.get_grid_level_results(lsvc_results)\n",
    "\n",
    "# Save results\n",
    "lsvc_results.to_csv(output_dir+'{}_linear_svm.csv'.format(version), index=False)\n",
    "lsvc_results_grid.to_csv(output_dir+'{}_linear_svm_grids.csv'.format(version), index=False);"
   ]
  },
  {
   "cell_type": "markdown",
   "metadata": {},
   "source": [
    "## Naive Bayes"
   ]
  },
  {
   "cell_type": "code",
   "execution_count": 7,
   "metadata": {},
   "outputs": [
    {
     "name": "stderr",
     "output_type": "stream",
     "text": [
      "100%|██████████| 9/9 [00:05<00:00,  1.60it/s]\n"
     ]
    },
    {
     "data": {
      "image/png": "[encoded data removed]",
      "text/plain": [
       "<Figure size 432x288 with 2 Axes>"
      ]
     },
     "metadata": {
      "needs_background": "light"
     },
     "output_type": "display_data"
    },
    {
     "name": "stdout",
     "output_type": "stream",
     "text": [
      "CPU times: user 13.1 s, sys: 1.03 s, total: 14.1 s\n",
      "Wall time: 8.02 s\n"
     ]
    }
   ],
   "source": [
    "%%time\n",
    "gnb = GaussianNB()\n",
    "gnb_results = model_utils.nested_spatial_cv(\n",
    "    gnb, X, y, splits=splits, grids=grids, param_grid=None, search_type=None, feature_selection=None, verbose=2\n",
    ")\n",
    "gnb_results_grid = model_utils.get_grid_level_results(gnb_results)\n",
    "\n",
    "# Save results\n",
    "gnb_results.to_csv(output_dir+'{}_naive_bayes.csv'.format(version), index=False)\n",
    "gnb_results_grid.to_csv(output_dir+'{}_naive_bayes_grids.csv'.format(version), index=False);"
   ]
  },
  {
   "cell_type": "markdown",
   "metadata": {},
   "source": [
    "## Ridge Classifier"
   ]
  },
  {
   "cell_type": "code",
   "execution_count": 8,
   "metadata": {},
   "outputs": [
    {
     "name": "stderr",
     "output_type": "stream",
     "text": [
      "100%|██████████| 9/9 [03:21<00:00, 22.38s/it]\n"
     ]
    },
    {
     "data": {
      "image/png": "[encoded data removed]",
      "text/plain": [
       "<Figure size 432x288 with 2 Axes>"
      ]
     },
     "metadata": {
      "needs_background": "light"
     },
     "output_type": "display_data"
    },
    {
     "name": "stdout",
     "output_type": "stream",
     "text": [
      "CPU times: user 29.3 s, sys: 4.32 s, total: 33.6 s\n",
      "Wall time: 3min 23s\n"
     ]
    }
   ],
   "source": [
    "%%time\n",
    "rc =  RidgeClassifier()\n",
    "param_grid = {'classifier__alpha': [0.1, 0.2, 0.3, 0.4, 0.5, 0.6, 0.7, 0.8, 0.9, 1.0]}\n",
    "rc_results = model_utils.nested_spatial_cv(rc, X, y, splits=splits, grids=grids, param_grid=param_grid, verbose=2)\n",
    "rc_results_grid = model_utils.get_grid_level_results(rc_results)\n",
    "\n",
    "# Save results\n",
    "rc_results.to_csv(output_dir+'{}_ridge_classifier.csv'.format(version), index=False)\n",
    "rc_results_grid.to_csv(output_dir+'{}_ridge_classifier_grids.csv'.format(version), index=False);"
   ]
  },
  {
   "cell_type": "code",
   "execution_count": 33,
   "metadata": {},
   "outputs": [
    {
     "data": {
      "image/png": "[encoded data removed]",
      "text/plain": [
       "<Figure size 432x288 with 2 Axes>"
      ]
     },
     "metadata": {
      "needs_background": "light"
     },
     "output_type": "display_data"
    }
   ],
   "source": [
    "classifiers = ['Logistic Regression', 'Ridge Classifier', 'Gaussian Naive Bayes']\n",
    "results_list = [lr_results_grid, rc_results_grid, gnb_results_grid]\n",
    "model_utils.plot_precision_recall(results_list, classifiers=classifiers)"
   ]
  },
  {
   "cell_type": "markdown",
   "metadata": {},
   "source": [
    "## Random Forest"
   ]
  },
  {
   "cell_type": "code",
   "execution_count": null,
   "metadata": {},
   "outputs": [],
   "source": [
    "%%time\n",
    "param_grid = {\n",
    "    'classifier__n_estimators': [int(x) for x in np.linspace(start=10, stop=500, num=10)],\n",
    "    'classifier__max_features': ['auto', 'sqrt'],\n",
    "    'classifier__max_depth': [5, 6, 7, 8, 9, 10],\n",
    "    'classifier__min_samples_split': [2, 5, 10],\n",
    "    'classifier__min_samples_leaf': [1, 2, 4],\n",
    "    'classifier__bootstrap': [True, False]\n",
    "}\n",
    "rf = RandomForestClassifier(random_state=SEED)\n",
    "rf_results = model_utils.nested_spatial_cv(\n",
    "    rf, X, y, splits=splits, param_grid=param_grid, search_type='random', verbose=2\n",
    ");"
   ]
  },
  {
   "cell_type": "markdown",
   "metadata": {},
   "source": [
    "## Gradient Boosted Trees"
   ]
  },
  {
   "cell_type": "code",
   "execution_count": null,
   "metadata": {},
   "outputs": [],
   "source": [
    "%%time\n",
    "param_grid = {\n",
    "    'classifier__loss': ['deviance', 'exponential'],\n",
    "    'classifier__learning_rate': [0.01, 0.05, 0.1, 0.25, 0.5, 1.0],\n",
    "    'classifier__n_estimators': [int(x) for x in np.linspace(start=10, stop=500, num=10)],\n",
    "    'classifier__max_features': ['auto', 'sqrt'],\n",
    "    'classifier__max_depth': [5, 6, 7, 8, 9, 10],\n",
    "    'classifier__min_samples_split': [2, 5, 10],\n",
    "    'classifier__min_samples_leaf': [1, 2, 4],\n",
    "}\n",
    "gbc = GradientBoostingClassifier(random_state=SEED)\n",
    "gbc_results = model_utils.nested_spatial_cv(\n",
    "    gbc, X, y, splits=splits, param_grid=param_grid, search_type='random', verbose=2\n",
    ");"
   ]
  }
 ],
 "metadata": {
  "kernelspec": {
   "display_name": "venv",
   "language": "python",
   "name": "venv"
  },
  "language_info": {
   "codemirror_mode": {
    "name": "ipython",
    "version": 3
   },
   "file_extension": ".py",
   "mimetype": "text/x-python",
   "name": "python",
   "nbconvert_exporter": "python",
   "pygments_lexer": "ipython3",
   "version": "3.7.4"
  }
 },
 "nbformat": 4,
 "nbformat_minor": 4
}
