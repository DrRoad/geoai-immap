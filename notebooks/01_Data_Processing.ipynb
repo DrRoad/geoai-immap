{
 "cells": [
  {
   "cell_type": "markdown",
   "metadata": {},
   "source": [
    "# Data Processing Notebook"
   ]
  },
  {
   "cell_type": "markdown",
   "metadata": {},
   "source": [
    "## Imports and Setup"
   ]
  },
  {
   "cell_type": "code",
   "execution_count": 1,
   "metadata": {},
   "outputs": [],
   "source": [
    "import os\n",
    "import pandas as pd\n",
    "import numpy as np\n",
    "\n",
    "import geopandas as gpd\n",
    "import rasterio as rio\n",
    "\n",
    "import sys\n",
    "sys.path.insert(0, '../utils')\n",
    "import geoutils\n",
    "\n",
    "import logging\n",
    "import warnings\n",
    "logging.getLogger().setLevel(logging.ERROR)\n",
    "warnings.filterwarnings(\"ignore\")\n",
    "\n",
    "import matplotlib.pyplot as plt\n",
    "%matplotlib inline\n",
    "\n",
    "%load_ext autoreload\n",
    "%autoreload 2"
   ]
  },
  {
   "cell_type": "markdown",
   "metadata": {},
   "source": [
    "## File Locations"
   ]
  },
  {
   "cell_type": "code",
   "execution_count": 3,
   "metadata": {},
   "outputs": [],
   "source": [
    "data_dir = \"../data/\"\n",
    "pos_mask_dir = data_dir + 'pos_masks/'\n",
    "neg_mask_dir = data_dir + 'neg_masks/'\n",
    "sentinel_dir = data_dir + 'sentinel2/'\n",
    "\n",
    "if not os.path.exists(data_dir):\n",
    "    os.makedirs(data_dir)\n",
    "if not os.path.exists(sentinel_dir):\n",
    "    os.makedirs(sentinel_dir)\n",
    "if not os.path.exists(pos_mask_dir):\n",
    "    os.makedirs(pos_mask_dir)\n",
    "if not os.path.exists(neg_mask_dir):\n",
    "    os.makedirs(neg_mask_dir)"
   ]
  },
  {
   "cell_type": "markdown",
   "metadata": {},
   "source": [
    "## Download Files from GCS"
   ]
  },
  {
   "cell_type": "code",
   "execution_count": 3,
   "metadata": {},
   "outputs": [
    {
     "name": "stdout",
     "output_type": "stream",
     "text": [
      "Operations completed.\n"
     ]
    }
   ],
   "source": [
    "!gsutil -q -m cp gs://immap-gee/DEFLATED_gee_*.tif {sentinel_dir}\n",
    "!gsutil -q -m cp gs://immap-gee/CROPPED_gee_*.tif {sentinel_dir}\n",
    "!gsutil -q -m cp gs://immap-masks/informal_settlement_masks/*.gpkg {pos_mask_dir}\n",
    "!gsutil -q -m cp gs://immap-masks/negative_sample_masks/*.gpkg {neg_mask_dir}\n",
    "!gsutil -q -m cp gs://immap-masks/admin_boundaries/admin_bounds.gpkg {data_dir} \n",
    "print('Operations completed.')"
   ]
  },
  {
   "cell_type": "markdown",
   "metadata": {},
   "source": [
    "## Create Area Dictionary"
   ]
  },
  {
   "cell_type": "code",
   "execution_count": 3,
   "metadata": {},
   "outputs": [
    {
     "data": {
      "text/plain": [
       "{'pos_mask_gpkg': '../data/pos_masks/maicao_mask.gpkg',\n",
       " 'neg_mask_gpkg': '../data/neg_masks/maicao-samples.gpkg',\n",
       " 'images': ['../data/sentinel2/DEFLATED_gee_maicao_2016.tif',\n",
       "  '../data/sentinel2/DEFLATED_gee_maicao_2017.tif',\n",
       "  '../data/sentinel2/DEFLATED_gee_maicao_2018.tif',\n",
       "  '../data/sentinel2/DEFLATED_gee_maicao_2019.tif',\n",
       "  '../data/sentinel2/DEFLATED_gee_maicao_2020.tif'],\n",
       " 'images_cropped': ['../data/sentinel2/CROPPED_gee_maicao_2016.tif',\n",
       "  '../data/sentinel2/CROPPED_gee_maicao_2017.tif',\n",
       "  '../data/sentinel2/CROPPED_gee_maicao_2018.tif',\n",
       "  '../data/sentinel2/CROPPED_gee_maicao_2019.tif',\n",
       "  '../data/sentinel2/CROPPED_gee_maicao_2020.tif']}"
      ]
     },
     "execution_count": 3,
     "metadata": {},
     "output_type": "execute_result"
    }
   ],
   "source": [
    "area_dict = {area : dict() for area in ['maicao', 'riohacha', 'uribia']}\n",
    "for area in area_dict:\n",
    "    area_dict[area]['pos_mask_gpkg'] = '{}{}_mask.gpkg'.format(pos_mask_dir, area)\n",
    "    area_dict[area]['neg_mask_gpkg'] = '{}{}-samples.gpkg'.format(neg_mask_dir, area)\n",
    "    image_files, image_cropped = [], []\n",
    "    for image_file in os.listdir(sentinel_dir):\n",
    "        if area in image_file and 'DEFLATE' in image_file:\n",
    "            image_files.append(sentinel_dir+image_file)\n",
    "        if area in image_file and 'CROPPED' in image_file:\n",
    "            image_cropped.append(sentinel_dir+image_file)\n",
    "    area_dict[area]['images'] = sorted(image_files)\n",
    "    area_dict[area]['images_cropped'] = sorted(image_cropped)\n",
    "    \n",
    "area_dict['maicao']"
   ]
  },
  {
   "cell_type": "markdown",
   "metadata": {},
   "source": [
    "## Generate Target Raster Masks"
   ]
  },
  {
   "cell_type": "markdown",
   "metadata": {},
   "source": [
    "### Positive Labels (Informal Settlements)"
   ]
  },
  {
   "cell_type": "code",
   "execution_count": 4,
   "metadata": {},
   "outputs": [],
   "source": [
    "for area, value in area_dict.items():\n",
    "    tiff_file = value['images_cropped'][0]\n",
    "    shape_file = value['pos_mask_gpkg']\n",
    "    target_file = shape_file.replace('gpkg', 'tiff')\n",
    "    \n",
    "    geoutils.generate_mask(\n",
    "         tiff_file=tiff_file, \n",
    "         shape_file=shape_file, \n",
    "         output_file=target_file, \n",
    "         plot=False\n",
    "    )\n",
    "    area_dict[area]['pos_mask_tiff'] = target_file"
   ]
  },
  {
   "cell_type": "markdown",
   "metadata": {},
   "source": [
    "### Negative Labels (Formal Settlements and Unoccupied Land)"
   ]
  },
  {
   "cell_type": "code",
   "execution_count": 5,
   "metadata": {},
   "outputs": [
    {
     "data": {
      "text/plain": [
       "{'formal settlement': 2, 'unoccupied land': 3, 'informal settlement': 1}"
      ]
     },
     "execution_count": 5,
     "metadata": {},
     "output_type": "execute_result"
    }
   ],
   "source": [
    "for area, value in area_dict.items():\n",
    "    tiff_file = value['images_cropped'][0]\n",
    "    shape_file = value['neg_mask_gpkg']\n",
    "    target_file = shape_file.replace('gpkg', 'tiff')\n",
    "    \n",
    "    if os.path.isfile(shape_file):\n",
    "        gdf = gpd.read_file(shape_file)\n",
    "        gdf['class'] = gdf['class'].str.lower() \n",
    "        gdf = gdf[\n",
    "            (gdf['class'] == 'unoccupied land') \n",
    "            | (gdf['class'] == 'formal settlement')\n",
    "        ]\n",
    "        shape_file = shape_file.replace('samples', 'masks')\n",
    "        gdf.to_file(shape_file, driver='GPKG')\n",
    "    \n",
    "        _, target_dict = geoutils.generate_mask(\n",
    "             tiff_file=tiff_file, \n",
    "             shape_file=shape_file, \n",
    "             output_file=target_file, \n",
    "             plot=False\n",
    "        )\n",
    "    area_dict[area]['neg_mask_tiff'] = target_file\n",
    "\n",
    "target_dict"
   ]
  },
  {
   "cell_type": "markdown",
   "metadata": {},
   "source": [
    "## Generate Training Set"
   ]
  },
  {
   "cell_type": "code",
   "execution_count": 6,
   "metadata": {},
   "outputs": [
    {
     "name": "stdout",
     "output_type": "stream",
     "text": [
      "Reading maicao...\n"
     ]
    },
    {
     "name": "stderr",
     "output_type": "stream",
     "text": [
      "100%|██████████| 5/5 [00:48<00:00,  9.63s/it]\n"
     ]
    },
    {
     "name": "stdout",
     "output_type": "stream",
     "text": [
      "Reading riohacha...\n"
     ]
    },
    {
     "name": "stderr",
     "output_type": "stream",
     "text": [
      "100%|██████████| 5/5 [01:19<00:00, 15.86s/it]\n",
      "  0%|          | 0/5 [00:00<?, ?it/s]"
     ]
    },
    {
     "name": "stdout",
     "output_type": "stream",
     "text": [
      "Reading uribia...\n"
     ]
    },
    {
     "name": "stderr",
     "output_type": "stream",
     "text": [
      "100%|██████████| 5/5 [00:11<00:00,  2.32s/it]\n"
     ]
    },
    {
     "name": "stdout",
     "output_type": "stream",
     "text": [
      "Area code: {'maicao': 0, 'riohacha': 1, 'uribia': 2}\n",
      "Data dimensions: (74436996, 62)\n"
     ]
    },
    {
     "data": {
      "text/html": [
       "<div>\n",
       "<style scoped>\n",
       "    .dataframe tbody tr th:only-of-type {\n",
       "        vertical-align: middle;\n",
       "    }\n",
       "\n",
       "    .dataframe tbody tr th {\n",
       "        vertical-align: top;\n",
       "    }\n",
       "\n",
       "    .dataframe thead th {\n",
       "        text-align: right;\n",
       "    }\n",
       "</style>\n",
       "<table border=\"1\" class=\"dataframe\">\n",
       "  <thead>\n",
       "    <tr style=\"text-align: right;\">\n",
       "      <th></th>\n",
       "      <th>band1_2016</th>\n",
       "      <th>band2_2016</th>\n",
       "      <th>band3_2016</th>\n",
       "      <th>band4_2016</th>\n",
       "      <th>band5_2016</th>\n",
       "      <th>band6_2016</th>\n",
       "      <th>band7_2016</th>\n",
       "      <th>band8_2016</th>\n",
       "      <th>band9_2016</th>\n",
       "      <th>band10_2016</th>\n",
       "      <th>...</th>\n",
       "      <th>band5_2020</th>\n",
       "      <th>band6_2020</th>\n",
       "      <th>band7_2020</th>\n",
       "      <th>band8_2020</th>\n",
       "      <th>band9_2020</th>\n",
       "      <th>band10_2020</th>\n",
       "      <th>band11_2020</th>\n",
       "      <th>band12_2020</th>\n",
       "      <th>target</th>\n",
       "      <th>area</th>\n",
       "    </tr>\n",
       "  </thead>\n",
       "  <tbody>\n",
       "    <tr>\n",
       "      <th>11131</th>\n",
       "      <td>0.1492</td>\n",
       "      <td>0.1331</td>\n",
       "      <td>0.1373</td>\n",
       "      <td>0.1587</td>\n",
       "      <td>0.1735</td>\n",
       "      <td>0.2247</td>\n",
       "      <td>0.2654</td>\n",
       "      <td>0.2486</td>\n",
       "      <td>0.3075</td>\n",
       "      <td>0.0377</td>\n",
       "      <td>...</td>\n",
       "      <td>0.1754</td>\n",
       "      <td>0.2019</td>\n",
       "      <td>0.2289</td>\n",
       "      <td>0.2352</td>\n",
       "      <td>0.2579</td>\n",
       "      <td>0.2738</td>\n",
       "      <td>0.3625</td>\n",
       "      <td>0.2616</td>\n",
       "      <td>0</td>\n",
       "      <td>0</td>\n",
       "    </tr>\n",
       "    <tr>\n",
       "      <th>16695</th>\n",
       "      <td>0.1492</td>\n",
       "      <td>0.1359</td>\n",
       "      <td>0.1543</td>\n",
       "      <td>0.1761</td>\n",
       "      <td>0.1799</td>\n",
       "      <td>0.2381</td>\n",
       "      <td>0.2838</td>\n",
       "      <td>0.2657</td>\n",
       "      <td>0.3186</td>\n",
       "      <td>0.0377</td>\n",
       "      <td>...</td>\n",
       "      <td>0.1908</td>\n",
       "      <td>0.2187</td>\n",
       "      <td>0.2398</td>\n",
       "      <td>0.2530</td>\n",
       "      <td>0.2711</td>\n",
       "      <td>0.2738</td>\n",
       "      <td>0.3587</td>\n",
       "      <td>0.2642</td>\n",
       "      <td>0</td>\n",
       "      <td>0</td>\n",
       "    </tr>\n",
       "    <tr>\n",
       "      <th>16696</th>\n",
       "      <td>0.1492</td>\n",
       "      <td>0.1395</td>\n",
       "      <td>0.1514</td>\n",
       "      <td>0.1644</td>\n",
       "      <td>0.1799</td>\n",
       "      <td>0.2381</td>\n",
       "      <td>0.2838</td>\n",
       "      <td>0.2652</td>\n",
       "      <td>0.3186</td>\n",
       "      <td>0.0377</td>\n",
       "      <td>...</td>\n",
       "      <td>0.1908</td>\n",
       "      <td>0.2187</td>\n",
       "      <td>0.2398</td>\n",
       "      <td>0.2464</td>\n",
       "      <td>0.2711</td>\n",
       "      <td>0.2738</td>\n",
       "      <td>0.3587</td>\n",
       "      <td>0.2642</td>\n",
       "      <td>0</td>\n",
       "      <td>0</td>\n",
       "    </tr>\n",
       "  </tbody>\n",
       "</table>\n",
       "<p>3 rows × 62 columns</p>\n",
       "</div>"
      ],
      "text/plain": [
       "       band1_2016  band2_2016  band3_2016  band4_2016  band5_2016  band6_2016  \\\n",
       "11131      0.1492      0.1331      0.1373      0.1587      0.1735      0.2247   \n",
       "16695      0.1492      0.1359      0.1543      0.1761      0.1799      0.2381   \n",
       "16696      0.1492      0.1395      0.1514      0.1644      0.1799      0.2381   \n",
       "\n",
       "       band7_2016  band8_2016  band9_2016  band10_2016  ...  band5_2020  \\\n",
       "11131      0.2654      0.2486      0.3075       0.0377  ...      0.1754   \n",
       "16695      0.2838      0.2657      0.3186       0.0377  ...      0.1908   \n",
       "16696      0.2838      0.2652      0.3186       0.0377  ...      0.1908   \n",
       "\n",
       "       band6_2020  band7_2020  band8_2020  band9_2020  band10_2020  \\\n",
       "11131      0.2019      0.2289      0.2352      0.2579       0.2738   \n",
       "16695      0.2187      0.2398      0.2530      0.2711       0.2738   \n",
       "16696      0.2187      0.2398      0.2464      0.2711       0.2738   \n",
       "\n",
       "       band11_2020  band12_2020  target  area  \n",
       "11131       0.3625       0.2616       0     0  \n",
       "16695       0.3587       0.2642       0     0  \n",
       "16696       0.3587       0.2642       0     0  \n",
       "\n",
       "[3 rows x 62 columns]"
      ]
     },
     "execution_count": 6,
     "metadata": {},
     "output_type": "execute_result"
    }
   ],
   "source": [
    "from tqdm import tqdm\n",
    "\n",
    "data_all = []\n",
    "area_code = {}\n",
    "for idx, area in enumerate(area_dict):\n",
    "    print('Reading {}...'.format(area))\n",
    "    \n",
    "    # Read positive target mask\n",
    "    pos_mask = rio.open(area_dict[area]['pos_mask_tiff'])\n",
    "    pos_mask = pos_mask.read(1).ravel()\n",
    "    \n",
    "    # Read negative mask\n",
    "    neg_mask = rio.open(area_dict[area]['neg_mask_tiff'])\n",
    "    neg_mask = neg_mask.read(1).ravel()\n",
    "    \n",
    "    # Get sum of postive and negative mask\n",
    "    mask = pos_mask + neg_mask\n",
    "\n",
    "    data = dict()\n",
    "    \n",
    "    # Iterate over each year\n",
    "    image_list = area_dict[area]['images_cropped']\n",
    "    for image_file in tqdm(image_list, total=len(image_list)):\n",
    "        year = image_file.split('_')[-1].split('.')[0]\n",
    "        \n",
    "        # Read each band\n",
    "        raster = rio.open(image_file)\n",
    "        for band_idx in range(raster.count):\n",
    "            band = raster.read(band_idx+1).ravel()\n",
    "            data['band{}_{}'.format(band_idx+1, year)] = band\n",
    "    \n",
    "    # cast to pandas dataframe\n",
    "    data = pd.DataFrame(data)\n",
    "    data['target'] = mask\n",
    "    data['area'] = idx\n",
    "    area_code[area] = idx\n",
    "\n",
    "    data = data[data.values.sum(axis=1) != 0] \n",
    "    data_all.append(data)\n",
    "\n",
    "# Concatenate all areas\n",
    "data = pd.concat(data_all)\n",
    "print('Area code: {}'.format(area_code))\n",
    "print('Data dimensions: {}'.format(data.shape))\n",
    "data.head(3)"
   ]
  },
  {
   "cell_type": "markdown",
   "metadata": {},
   "source": [
    "## Save and Upload Final Dataset"
   ]
  },
  {
   "cell_type": "code",
   "execution_count": 5,
   "metadata": {},
   "outputs": [
    {
     "name": "stdout",
     "output_type": "stream",
     "text": [
      "Data dimensions: (334524, 62)\n",
      "Class distribution:\n",
      "3    248172\n",
      "2     71796\n",
      "1     14556\n",
      "Name: target, dtype: int64\n",
      "Class distribution (normalized):\n",
      "3    0.741866\n",
      "2    0.214621\n",
      "1    0.043513\n",
      "Name: target, dtype: float64\n"
     ]
    },
    {
     "data": {
      "text/html": [
       "<div>\n",
       "<style scoped>\n",
       "    .dataframe tbody tr th:only-of-type {\n",
       "        vertical-align: middle;\n",
       "    }\n",
       "\n",
       "    .dataframe tbody tr th {\n",
       "        vertical-align: top;\n",
       "    }\n",
       "\n",
       "    .dataframe thead th {\n",
       "        text-align: right;\n",
       "    }\n",
       "</style>\n",
       "<table border=\"1\" class=\"dataframe\">\n",
       "  <thead>\n",
       "    <tr style=\"text-align: right;\">\n",
       "      <th></th>\n",
       "      <th>band1_2016</th>\n",
       "      <th>band2_2016</th>\n",
       "      <th>band3_2016</th>\n",
       "      <th>band4_2016</th>\n",
       "      <th>band5_2016</th>\n",
       "      <th>band6_2016</th>\n",
       "      <th>band7_2016</th>\n",
       "      <th>band8_2016</th>\n",
       "      <th>band9_2016</th>\n",
       "      <th>band10_2016</th>\n",
       "      <th>...</th>\n",
       "      <th>band5_2020</th>\n",
       "      <th>band6_2020</th>\n",
       "      <th>band7_2020</th>\n",
       "      <th>band8_2020</th>\n",
       "      <th>band9_2020</th>\n",
       "      <th>band10_2020</th>\n",
       "      <th>band11_2020</th>\n",
       "      <th>band12_2020</th>\n",
       "      <th>target</th>\n",
       "      <th>area</th>\n",
       "    </tr>\n",
       "  </thead>\n",
       "  <tbody>\n",
       "    <tr>\n",
       "      <th>0</th>\n",
       "      <td>0.15970</td>\n",
       "      <td>0.13735</td>\n",
       "      <td>0.1531</td>\n",
       "      <td>0.18700</td>\n",
       "      <td>0.2090</td>\n",
       "      <td>0.26320</td>\n",
       "      <td>0.30515</td>\n",
       "      <td>0.26965</td>\n",
       "      <td>0.3327</td>\n",
       "      <td>0.0411</td>\n",
       "      <td>...</td>\n",
       "      <td>0.22685</td>\n",
       "      <td>0.25790</td>\n",
       "      <td>0.28015</td>\n",
       "      <td>0.2858</td>\n",
       "      <td>0.30410</td>\n",
       "      <td>0.32715</td>\n",
       "      <td>0.4028</td>\n",
       "      <td>0.32155</td>\n",
       "      <td>3</td>\n",
       "      <td>0</td>\n",
       "    </tr>\n",
       "    <tr>\n",
       "      <th>1</th>\n",
       "      <td>0.15970</td>\n",
       "      <td>0.13905</td>\n",
       "      <td>0.1454</td>\n",
       "      <td>0.17845</td>\n",
       "      <td>0.2090</td>\n",
       "      <td>0.26320</td>\n",
       "      <td>0.30515</td>\n",
       "      <td>0.26395</td>\n",
       "      <td>0.3327</td>\n",
       "      <td>0.0411</td>\n",
       "      <td>...</td>\n",
       "      <td>0.22685</td>\n",
       "      <td>0.25790</td>\n",
       "      <td>0.28015</td>\n",
       "      <td>0.2852</td>\n",
       "      <td>0.30410</td>\n",
       "      <td>0.32715</td>\n",
       "      <td>0.4028</td>\n",
       "      <td>0.32155</td>\n",
       "      <td>3</td>\n",
       "      <td>0</td>\n",
       "    </tr>\n",
       "    <tr>\n",
       "      <th>2</th>\n",
       "      <td>0.16675</td>\n",
       "      <td>0.14875</td>\n",
       "      <td>0.1589</td>\n",
       "      <td>0.18605</td>\n",
       "      <td>0.2258</td>\n",
       "      <td>0.27945</td>\n",
       "      <td>0.32070</td>\n",
       "      <td>0.28085</td>\n",
       "      <td>0.3452</td>\n",
       "      <td>0.0416</td>\n",
       "      <td>...</td>\n",
       "      <td>0.25490</td>\n",
       "      <td>0.27375</td>\n",
       "      <td>0.29520</td>\n",
       "      <td>0.2902</td>\n",
       "      <td>0.31015</td>\n",
       "      <td>0.33455</td>\n",
       "      <td>0.4269</td>\n",
       "      <td>0.35250</td>\n",
       "      <td>3</td>\n",
       "      <td>0</td>\n",
       "    </tr>\n",
       "  </tbody>\n",
       "</table>\n",
       "<p>3 rows × 62 columns</p>\n",
       "</div>"
      ],
      "text/plain": [
       "   band1_2016  band2_2016  band3_2016  band4_2016  band5_2016  band6_2016  \\\n",
       "0     0.15970     0.13735      0.1531     0.18700      0.2090     0.26320   \n",
       "1     0.15970     0.13905      0.1454     0.17845      0.2090     0.26320   \n",
       "2     0.16675     0.14875      0.1589     0.18605      0.2258     0.27945   \n",
       "\n",
       "   band7_2016  band8_2016  band9_2016  band10_2016  ...  band5_2020  \\\n",
       "0     0.30515     0.26965      0.3327       0.0411  ...     0.22685   \n",
       "1     0.30515     0.26395      0.3327       0.0411  ...     0.22685   \n",
       "2     0.32070     0.28085      0.3452       0.0416  ...     0.25490   \n",
       "\n",
       "   band6_2020  band7_2020  band8_2020  band9_2020  band10_2020  band11_2020  \\\n",
       "0     0.25790     0.28015      0.2858     0.30410      0.32715       0.4028   \n",
       "1     0.25790     0.28015      0.2852     0.30410      0.32715       0.4028   \n",
       "2     0.27375     0.29520      0.2902     0.31015      0.33455       0.4269   \n",
       "\n",
       "   band12_2020  target  area  \n",
       "0      0.32155       3     0  \n",
       "1      0.32155       3     0  \n",
       "2      0.35250       3     0  \n",
       "\n",
       "[3 rows x 62 columns]"
      ]
     },
     "execution_count": 5,
     "metadata": {},
     "output_type": "execute_result"
    }
   ],
   "source": [
    "output_file = data_dir + '20200324_dataset.csv'\n",
    "#data = data[data['target'] != 0]\n",
    "#data.to_csv(output_file, index=False)\n",
    "print('Data dimensions: {}'.format(data.shape))\n",
    "print('Class distribution:\\n{}'.format(data['target'].value_counts()))\n",
    "print('Class distribution (normalized):\\n{}'.format(data['target'].value_counts()/len(data)))\n",
    "data.head(3)"
   ]
  },
  {
   "cell_type": "code",
   "execution_count": 8,
   "metadata": {},
   "outputs": [
    {
     "ename": "OSError",
     "evalue": "[Errno 12] Cannot allocate memory",
     "output_type": "error",
     "traceback": [
      "\u001b[0;31m---------------------------------------------------------------------------\u001b[0m",
      "\u001b[0;31mOSError\u001b[0m                                   Traceback (most recent call last)",
      "\u001b[0;32m<ipython-input-8-3227dcc6d995>\u001b[0m in \u001b[0;36m<module>\u001b[0;34m\u001b[0m\n\u001b[0;32m----> 1\u001b[0;31m \u001b[0mget_ipython\u001b[0m\u001b[0;34m(\u001b[0m\u001b[0;34m)\u001b[0m\u001b[0;34m.\u001b[0m\u001b[0msystem\u001b[0m\u001b[0;34m(\u001b[0m\u001b[0;34m'gsutil -m cp {output_file} gs://immap-training/'\u001b[0m\u001b[0;34m)\u001b[0m\u001b[0;34m\u001b[0m\u001b[0;34m\u001b[0m\u001b[0m\n\u001b[0m",
      "\u001b[0;32m~/anaconda3/lib/python3.7/site-packages/IPython/core/interactiveshell.py\u001b[0m in \u001b[0;36msystem_piped\u001b[0;34m(self, cmd)\u001b[0m\n\u001b[1;32m   2451\u001b[0m         \u001b[0;31m# a non-None value would trigger :func:`sys.displayhook` calls.\u001b[0m\u001b[0;34m\u001b[0m\u001b[0;34m\u001b[0m\u001b[0;34m\u001b[0m\u001b[0m\n\u001b[1;32m   2452\u001b[0m         \u001b[0;31m# Instead, we store the exit_code in user_ns.\u001b[0m\u001b[0;34m\u001b[0m\u001b[0;34m\u001b[0m\u001b[0;34m\u001b[0m\u001b[0m\n\u001b[0;32m-> 2453\u001b[0;31m         \u001b[0mself\u001b[0m\u001b[0;34m.\u001b[0m\u001b[0muser_ns\u001b[0m\u001b[0;34m[\u001b[0m\u001b[0;34m'_exit_code'\u001b[0m\u001b[0;34m]\u001b[0m \u001b[0;34m=\u001b[0m \u001b[0msystem\u001b[0m\u001b[0;34m(\u001b[0m\u001b[0mself\u001b[0m\u001b[0;34m.\u001b[0m\u001b[0mvar_expand\u001b[0m\u001b[0;34m(\u001b[0m\u001b[0mcmd\u001b[0m\u001b[0;34m,\u001b[0m \u001b[0mdepth\u001b[0m\u001b[0;34m=\u001b[0m\u001b[0;36m1\u001b[0m\u001b[0;34m)\u001b[0m\u001b[0;34m)\u001b[0m\u001b[0;34m\u001b[0m\u001b[0;34m\u001b[0m\u001b[0m\n\u001b[0m\u001b[1;32m   2454\u001b[0m \u001b[0;34m\u001b[0m\u001b[0m\n\u001b[1;32m   2455\u001b[0m     \u001b[0;32mdef\u001b[0m \u001b[0msystem_raw\u001b[0m\u001b[0;34m(\u001b[0m\u001b[0mself\u001b[0m\u001b[0;34m,\u001b[0m \u001b[0mcmd\u001b[0m\u001b[0;34m)\u001b[0m\u001b[0;34m:\u001b[0m\u001b[0;34m\u001b[0m\u001b[0;34m\u001b[0m\u001b[0m\n",
      "\u001b[0;32m~/anaconda3/lib/python3.7/site-packages/IPython/utils/_process_posix.py\u001b[0m in \u001b[0;36msystem\u001b[0;34m(self, cmd)\u001b[0m\n\u001b[1;32m    154\u001b[0m                 \u001b[0mchild\u001b[0m \u001b[0;34m=\u001b[0m \u001b[0mpexpect\u001b[0m\u001b[0;34m.\u001b[0m\u001b[0mspawnb\u001b[0m\u001b[0;34m(\u001b[0m\u001b[0mself\u001b[0m\u001b[0;34m.\u001b[0m\u001b[0msh\u001b[0m\u001b[0;34m,\u001b[0m \u001b[0margs\u001b[0m\u001b[0;34m=\u001b[0m\u001b[0;34m[\u001b[0m\u001b[0;34m'-c'\u001b[0m\u001b[0;34m,\u001b[0m \u001b[0mcmd\u001b[0m\u001b[0;34m]\u001b[0m\u001b[0;34m)\u001b[0m \u001b[0;31m# Pexpect-U\u001b[0m\u001b[0;34m\u001b[0m\u001b[0;34m\u001b[0m\u001b[0m\n\u001b[1;32m    155\u001b[0m             \u001b[0;32melse\u001b[0m\u001b[0;34m:\u001b[0m\u001b[0;34m\u001b[0m\u001b[0;34m\u001b[0m\u001b[0m\n\u001b[0;32m--> 156\u001b[0;31m                 \u001b[0mchild\u001b[0m \u001b[0;34m=\u001b[0m \u001b[0mpexpect\u001b[0m\u001b[0;34m.\u001b[0m\u001b[0mspawn\u001b[0m\u001b[0;34m(\u001b[0m\u001b[0mself\u001b[0m\u001b[0;34m.\u001b[0m\u001b[0msh\u001b[0m\u001b[0;34m,\u001b[0m \u001b[0margs\u001b[0m\u001b[0;34m=\u001b[0m\u001b[0;34m[\u001b[0m\u001b[0;34m'-c'\u001b[0m\u001b[0;34m,\u001b[0m \u001b[0mcmd\u001b[0m\u001b[0;34m]\u001b[0m\u001b[0;34m)\u001b[0m  \u001b[0;31m# Vanilla Pexpect\u001b[0m\u001b[0;34m\u001b[0m\u001b[0;34m\u001b[0m\u001b[0m\n\u001b[0m\u001b[1;32m    157\u001b[0m             \u001b[0mflush\u001b[0m \u001b[0;34m=\u001b[0m \u001b[0msys\u001b[0m\u001b[0;34m.\u001b[0m\u001b[0mstdout\u001b[0m\u001b[0;34m.\u001b[0m\u001b[0mflush\u001b[0m\u001b[0;34m\u001b[0m\u001b[0;34m\u001b[0m\u001b[0m\n\u001b[1;32m    158\u001b[0m             \u001b[0;32mwhile\u001b[0m \u001b[0;32mTrue\u001b[0m\u001b[0;34m:\u001b[0m\u001b[0;34m\u001b[0m\u001b[0;34m\u001b[0m\u001b[0m\n",
      "\u001b[0;32m~/anaconda3/lib/python3.7/site-packages/pexpect/pty_spawn.py\u001b[0m in \u001b[0;36m__init__\u001b[0;34m(self, command, args, timeout, maxread, searchwindowsize, logfile, cwd, env, ignore_sighup, echo, preexec_fn, encoding, codec_errors, dimensions, use_poll)\u001b[0m\n\u001b[1;32m    202\u001b[0m             \u001b[0mself\u001b[0m\u001b[0;34m.\u001b[0m\u001b[0mname\u001b[0m \u001b[0;34m=\u001b[0m \u001b[0;34m'<pexpect factory incomplete>'\u001b[0m\u001b[0;34m\u001b[0m\u001b[0;34m\u001b[0m\u001b[0m\n\u001b[1;32m    203\u001b[0m         \u001b[0;32melse\u001b[0m\u001b[0;34m:\u001b[0m\u001b[0;34m\u001b[0m\u001b[0;34m\u001b[0m\u001b[0m\n\u001b[0;32m--> 204\u001b[0;31m             \u001b[0mself\u001b[0m\u001b[0;34m.\u001b[0m\u001b[0m_spawn\u001b[0m\u001b[0;34m(\u001b[0m\u001b[0mcommand\u001b[0m\u001b[0;34m,\u001b[0m \u001b[0margs\u001b[0m\u001b[0;34m,\u001b[0m \u001b[0mpreexec_fn\u001b[0m\u001b[0;34m,\u001b[0m \u001b[0mdimensions\u001b[0m\u001b[0;34m)\u001b[0m\u001b[0;34m\u001b[0m\u001b[0;34m\u001b[0m\u001b[0m\n\u001b[0m\u001b[1;32m    205\u001b[0m         \u001b[0mself\u001b[0m\u001b[0;34m.\u001b[0m\u001b[0muse_poll\u001b[0m \u001b[0;34m=\u001b[0m \u001b[0muse_poll\u001b[0m\u001b[0;34m\u001b[0m\u001b[0;34m\u001b[0m\u001b[0m\n\u001b[1;32m    206\u001b[0m \u001b[0;34m\u001b[0m\u001b[0m\n",
      "\u001b[0;32m~/anaconda3/lib/python3.7/site-packages/pexpect/pty_spawn.py\u001b[0m in \u001b[0;36m_spawn\u001b[0;34m(self, command, args, preexec_fn, dimensions)\u001b[0m\n\u001b[1;32m    301\u001b[0m \u001b[0;34m\u001b[0m\u001b[0m\n\u001b[1;32m    302\u001b[0m         self.ptyproc = self._spawnpty(self.args, env=self.env,\n\u001b[0;32m--> 303\u001b[0;31m                                      cwd=self.cwd, **kwargs)\n\u001b[0m\u001b[1;32m    304\u001b[0m \u001b[0;34m\u001b[0m\u001b[0m\n\u001b[1;32m    305\u001b[0m         \u001b[0mself\u001b[0m\u001b[0;34m.\u001b[0m\u001b[0mpid\u001b[0m \u001b[0;34m=\u001b[0m \u001b[0mself\u001b[0m\u001b[0;34m.\u001b[0m\u001b[0mptyproc\u001b[0m\u001b[0;34m.\u001b[0m\u001b[0mpid\u001b[0m\u001b[0;34m\u001b[0m\u001b[0;34m\u001b[0m\u001b[0m\n",
      "\u001b[0;32m~/anaconda3/lib/python3.7/site-packages/pexpect/pty_spawn.py\u001b[0m in \u001b[0;36m_spawnpty\u001b[0;34m(self, args, **kwargs)\u001b[0m\n\u001b[1;32m    312\u001b[0m     \u001b[0;32mdef\u001b[0m \u001b[0m_spawnpty\u001b[0m\u001b[0;34m(\u001b[0m\u001b[0mself\u001b[0m\u001b[0;34m,\u001b[0m \u001b[0margs\u001b[0m\u001b[0;34m,\u001b[0m \u001b[0;34m**\u001b[0m\u001b[0mkwargs\u001b[0m\u001b[0;34m)\u001b[0m\u001b[0;34m:\u001b[0m\u001b[0;34m\u001b[0m\u001b[0;34m\u001b[0m\u001b[0m\n\u001b[1;32m    313\u001b[0m         \u001b[0;34m'''Spawn a pty and return an instance of PtyProcess.'''\u001b[0m\u001b[0;34m\u001b[0m\u001b[0;34m\u001b[0m\u001b[0m\n\u001b[0;32m--> 314\u001b[0;31m         \u001b[0;32mreturn\u001b[0m \u001b[0mptyprocess\u001b[0m\u001b[0;34m.\u001b[0m\u001b[0mPtyProcess\u001b[0m\u001b[0;34m.\u001b[0m\u001b[0mspawn\u001b[0m\u001b[0;34m(\u001b[0m\u001b[0margs\u001b[0m\u001b[0;34m,\u001b[0m \u001b[0;34m**\u001b[0m\u001b[0mkwargs\u001b[0m\u001b[0;34m)\u001b[0m\u001b[0;34m\u001b[0m\u001b[0;34m\u001b[0m\u001b[0m\n\u001b[0m\u001b[1;32m    315\u001b[0m \u001b[0;34m\u001b[0m\u001b[0m\n\u001b[1;32m    316\u001b[0m     \u001b[0;32mdef\u001b[0m \u001b[0mclose\u001b[0m\u001b[0;34m(\u001b[0m\u001b[0mself\u001b[0m\u001b[0;34m,\u001b[0m \u001b[0mforce\u001b[0m\u001b[0;34m=\u001b[0m\u001b[0;32mTrue\u001b[0m\u001b[0;34m)\u001b[0m\u001b[0;34m:\u001b[0m\u001b[0;34m\u001b[0m\u001b[0;34m\u001b[0m\u001b[0m\n",
      "\u001b[0;32m~/anaconda3/lib/python3.7/site-packages/ptyprocess/ptyprocess.py\u001b[0m in \u001b[0;36mspawn\u001b[0;34m(cls, argv, cwd, env, echo, preexec_fn, dimensions)\u001b[0m\n\u001b[1;32m    224\u001b[0m \u001b[0;34m\u001b[0m\u001b[0m\n\u001b[1;32m    225\u001b[0m         \u001b[0;32mif\u001b[0m \u001b[0muse_native_pty_fork\u001b[0m\u001b[0;34m:\u001b[0m\u001b[0;34m\u001b[0m\u001b[0;34m\u001b[0m\u001b[0m\n\u001b[0;32m--> 226\u001b[0;31m             \u001b[0mpid\u001b[0m\u001b[0;34m,\u001b[0m \u001b[0mfd\u001b[0m \u001b[0;34m=\u001b[0m \u001b[0mpty\u001b[0m\u001b[0;34m.\u001b[0m\u001b[0mfork\u001b[0m\u001b[0;34m(\u001b[0m\u001b[0;34m)\u001b[0m\u001b[0;34m\u001b[0m\u001b[0;34m\u001b[0m\u001b[0m\n\u001b[0m\u001b[1;32m    227\u001b[0m         \u001b[0;32melse\u001b[0m\u001b[0;34m:\u001b[0m\u001b[0;34m\u001b[0m\u001b[0;34m\u001b[0m\u001b[0m\n\u001b[1;32m    228\u001b[0m             \u001b[0;31m# Use internal fork_pty, for Solaris\u001b[0m\u001b[0;34m\u001b[0m\u001b[0;34m\u001b[0m\u001b[0;34m\u001b[0m\u001b[0m\n",
      "\u001b[0;32m~/anaconda3/lib/python3.7/pty.py\u001b[0m in \u001b[0;36mfork\u001b[0;34m()\u001b[0m\n\u001b[1;32m     95\u001b[0m \u001b[0;34m\u001b[0m\u001b[0m\n\u001b[1;32m     96\u001b[0m     \u001b[0mmaster_fd\u001b[0m\u001b[0;34m,\u001b[0m \u001b[0mslave_fd\u001b[0m \u001b[0;34m=\u001b[0m \u001b[0mopenpty\u001b[0m\u001b[0;34m(\u001b[0m\u001b[0;34m)\u001b[0m\u001b[0;34m\u001b[0m\u001b[0;34m\u001b[0m\u001b[0m\n\u001b[0;32m---> 97\u001b[0;31m     \u001b[0mpid\u001b[0m \u001b[0;34m=\u001b[0m \u001b[0mos\u001b[0m\u001b[0;34m.\u001b[0m\u001b[0mfork\u001b[0m\u001b[0;34m(\u001b[0m\u001b[0;34m)\u001b[0m\u001b[0;34m\u001b[0m\u001b[0;34m\u001b[0m\u001b[0m\n\u001b[0m\u001b[1;32m     98\u001b[0m     \u001b[0;32mif\u001b[0m \u001b[0mpid\u001b[0m \u001b[0;34m==\u001b[0m \u001b[0mCHILD\u001b[0m\u001b[0;34m:\u001b[0m\u001b[0;34m\u001b[0m\u001b[0;34m\u001b[0m\u001b[0m\n\u001b[1;32m     99\u001b[0m         \u001b[0;31m# Establish a new session.\u001b[0m\u001b[0;34m\u001b[0m\u001b[0;34m\u001b[0m\u001b[0;34m\u001b[0m\u001b[0m\n",
      "\u001b[0;31mOSError\u001b[0m: [Errno 12] Cannot allocate memory"
     ]
    }
   ],
   "source": [
    "!gsutil -m cp {output_file} gs://immap-training/"
   ]
  }
 ],
 "metadata": {
  "kernelspec": {
   "display_name": "venv",
   "language": "python",
   "name": "venv"
  },
  "language_info": {
   "codemirror_mode": {
    "name": "ipython",
    "version": 3
   },
   "file_extension": ".py",
   "mimetype": "text/x-python",
   "name": "python",
   "nbconvert_exporter": "python",
   "pygments_lexer": "ipython3",
   "version": "3.7.4"
  }
 },
 "nbformat": 4,
 "nbformat_minor": 4
}
