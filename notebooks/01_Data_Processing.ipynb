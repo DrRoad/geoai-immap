{
 "cells": [
  {
   "cell_type": "markdown",
   "metadata": {},
   "source": [
    "# Data Processing Notebook"
   ]
  },
  {
   "cell_type": "markdown",
   "metadata": {},
   "source": [
    "## 1. Imports and Setup"
   ]
  },
  {
   "cell_type": "code",
   "execution_count": 1,
   "metadata": {},
   "outputs": [],
   "source": [
    "import os\n",
    "import pandas as pd\n",
    "import numpy as np\n",
    "\n",
    "import geopandas as gpd\n",
    "import rasterio as rio\n",
    "\n",
    "import sys\n",
    "sys.path.insert(0, '../utils')\n",
    "import geoutils\n",
    "\n",
    "import logging\n",
    "import warnings\n",
    "logging.getLogger().setLevel(logging.ERROR)\n",
    "warnings.filterwarnings(\"ignore\")\n",
    "\n",
    "import matplotlib.pyplot as plt\n",
    "%matplotlib inline\n",
    "\n",
    "%load_ext autoreload\n",
    "%autoreload 2"
   ]
  },
  {
   "cell_type": "markdown",
   "metadata": {},
   "source": [
    "## 2. File Locations"
   ]
  },
  {
   "cell_type": "code",
   "execution_count": 2,
   "metadata": {},
   "outputs": [],
   "source": [
    "data_dir = \"../data/\"\n",
    "pos_mask_dir = data_dir + 'pos_masks/'\n",
    "neg_mask_dir = data_dir + 'neg_masks/'\n",
    "sentinel_dir = data_dir + 'sentinel2/'\n",
    "\n",
    "if not os.path.exists(data_dir):\n",
    "    os.makedirs(data_dir)\n",
    "if not os.path.exists(sentinel_dir):\n",
    "    os.makedirs(sentinel_dir)\n",
    "if not os.path.exists(pos_mask_dir):\n",
    "    os.makedirs(pos_mask_dir)\n",
    "if not os.path.exists(neg_mask_dir):\n",
    "    os.makedirs(neg_mask_dir)"
   ]
  },
  {
   "cell_type": "markdown",
   "metadata": {},
   "source": [
    "## 3. Download Files from GCS"
   ]
  },
  {
   "cell_type": "code",
   "execution_count": 3,
   "metadata": {},
   "outputs": [
    {
     "name": "stdout",
     "output_type": "stream",
     "text": [
      "Operations completed.\n"
     ]
    }
   ],
   "source": [
    "!gsutil -q -m cp gs://immap-gee/DEFLATED_gee_*.tif {sentinel_dir}\n",
    "!gsutil -q -m cp gs://immap-gee/CROPPED_gee_*.tif {sentinel_dir}\n",
    "!gsutil -q -m cp gs://immap-masks/informal_settlement_masks/*.gpkg {pos_mask_dir}\n",
    "!gsutil -q -m cp gs://immap-masks/negative_sample_masks/*.gpkg {neg_mask_dir}\n",
    "!gsutil -q -m cp gs://immap-masks/admin_boundaries/admin_bounds.gpkg {data_dir} \n",
    "print('Operations completed.')"
   ]
  },
  {
   "cell_type": "markdown",
   "metadata": {},
   "source": [
    "## 4. Create Area Dictionary"
   ]
  },
  {
   "cell_type": "code",
   "execution_count": 3,
   "metadata": {},
   "outputs": [
    {
     "data": {
      "text/plain": [
       "{'pos_mask_gpkg': '../data/pos_masks/maicao_mask.gpkg',\n",
       " 'neg_mask_gpkg': '../data/neg_masks/maicao-samples.gpkg',\n",
       " 'images': ['../data/sentinel2/DEFLATED_gee_maicao_2016.tif',\n",
       "  '../data/sentinel2/DEFLATED_gee_maicao_2017.tif',\n",
       "  '../data/sentinel2/DEFLATED_gee_maicao_2018.tif',\n",
       "  '../data/sentinel2/DEFLATED_gee_maicao_2019.tif',\n",
       "  '../data/sentinel2/DEFLATED_gee_maicao_2020.tif'],\n",
       " 'images_cropped': ['../data/sentinel2/CROPPED_gee_maicao_2016.tif',\n",
       "  '../data/sentinel2/CROPPED_gee_maicao_2017.tif',\n",
       "  '../data/sentinel2/CROPPED_gee_maicao_2018.tif',\n",
       "  '../data/sentinel2/CROPPED_gee_maicao_2019.tif',\n",
       "  '../data/sentinel2/CROPPED_gee_maicao_2020.tif']}"
      ]
     },
     "execution_count": 3,
     "metadata": {},
     "output_type": "execute_result"
    }
   ],
   "source": [
    "area_dict = {area : dict() for area in ['maicao', 'riohacha', 'uribia']}\n",
    "for area in area_dict:\n",
    "    area_dict[area]['pos_mask_gpkg'] = '{}{}_mask.gpkg'.format(pos_mask_dir, area)\n",
    "    area_dict[area]['neg_mask_gpkg'] = '{}{}-samples.gpkg'.format(neg_mask_dir, area)\n",
    "    image_files, image_cropped = [], []\n",
    "    for image_file in os.listdir(sentinel_dir):\n",
    "        if area in image_file and 'DEFLATE' in image_file:\n",
    "            image_files.append(sentinel_dir+image_file)\n",
    "        if area in image_file and 'CROPPED' in image_file:\n",
    "            image_cropped.append(sentinel_dir+image_file)\n",
    "    area_dict[area]['images'] = sorted(image_files)\n",
    "    area_dict[area]['images_cropped'] = sorted(image_cropped)\n",
    "    \n",
    "area_dict['maicao']"
   ]
  },
  {
   "cell_type": "markdown",
   "metadata": {},
   "source": [
    "## 5. Generate Cropped TIFF Files\n",
    "<font color='red'>**Note**: No need to run the cells in this section if the CROPPED files are already downloaded!</font>"
   ]
  },
  {
   "cell_type": "markdown",
   "metadata": {},
   "source": [
    "### Read Administrative Boundaries Geopackage"
   ]
  },
  {
   "cell_type": "code",
   "execution_count": 4,
   "metadata": {},
   "outputs": [
    {
     "data": {
      "text/html": [
       "<div>\n",
       "<style scoped>\n",
       "    .dataframe tbody tr th:only-of-type {\n",
       "        vertical-align: middle;\n",
       "    }\n",
       "\n",
       "    .dataframe tbody tr th {\n",
       "        vertical-align: top;\n",
       "    }\n",
       "\n",
       "    .dataframe thead th {\n",
       "        text-align: right;\n",
       "    }\n",
       "</style>\n",
       "<table border=\"1\" class=\"dataframe\">\n",
       "  <thead>\n",
       "    <tr style=\"text-align: right;\">\n",
       "      <th></th>\n",
       "      <th>admin0Name</th>\n",
       "      <th>admin0Pcod</th>\n",
       "      <th>admin1Name</th>\n",
       "      <th>admin1Pcod</th>\n",
       "      <th>admin2Name</th>\n",
       "      <th>admin2Pcod</th>\n",
       "      <th>admin2RefN</th>\n",
       "      <th>admin2AltN</th>\n",
       "      <th>admin2Al_1</th>\n",
       "      <th>date</th>\n",
       "      <th>validOn</th>\n",
       "      <th>validTo</th>\n",
       "      <th>Shape_Leng</th>\n",
       "      <th>Shape_Area</th>\n",
       "      <th>geometry</th>\n",
       "    </tr>\n",
       "  </thead>\n",
       "  <tbody>\n",
       "    <tr>\n",
       "      <th>0</th>\n",
       "      <td>Colombia</td>\n",
       "      <td>CO</td>\n",
       "      <td>La Guajira</td>\n",
       "      <td>CO44</td>\n",
       "      <td>UribÃ­a</td>\n",
       "      <td>CO44847</td>\n",
       "      <td>Uribia</td>\n",
       "      <td>None</td>\n",
       "      <td>None</td>\n",
       "      <td>2009-01-01</td>\n",
       "      <td>2014-10-29</td>\n",
       "      <td>None</td>\n",
       "      <td>5.356435</td>\n",
       "      <td>0.657424</td>\n",
       "      <td>MULTIPOLYGON (((-71.97857 11.63127, -71.97948 ...</td>\n",
       "    </tr>\n",
       "    <tr>\n",
       "      <th>1</th>\n",
       "      <td>Colombia</td>\n",
       "      <td>CO</td>\n",
       "      <td>La Guajira</td>\n",
       "      <td>CO44</td>\n",
       "      <td>Manaure</td>\n",
       "      <td>CO44560</td>\n",
       "      <td>Manaure</td>\n",
       "      <td>None</td>\n",
       "      <td>None</td>\n",
       "      <td>2009-01-01</td>\n",
       "      <td>2014-10-29</td>\n",
       "      <td>None</td>\n",
       "      <td>2.034267</td>\n",
       "      <td>0.134340</td>\n",
       "      <td>MULTIPOLYGON (((-72.26228 11.52743, -72.26231 ...</td>\n",
       "    </tr>\n",
       "  </tbody>\n",
       "</table>\n",
       "</div>"
      ],
      "text/plain": [
       "  admin0Name admin0Pcod  admin1Name admin1Pcod admin2Name admin2Pcod  \\\n",
       "0   Colombia         CO  La Guajira       CO44    UribÃ­a    CO44847   \n",
       "1   Colombia         CO  La Guajira       CO44    Manaure    CO44560   \n",
       "\n",
       "  admin2RefN admin2AltN admin2Al_1        date     validOn validTo  \\\n",
       "0     Uribia       None       None  2009-01-01  2014-10-29    None   \n",
       "1    Manaure       None       None  2009-01-01  2014-10-29    None   \n",
       "\n",
       "   Shape_Leng  Shape_Area                                           geometry  \n",
       "0    5.356435    0.657424  MULTIPOLYGON (((-71.97857 11.63127, -71.97948 ...  \n",
       "1    2.034267    0.134340  MULTIPOLYGON (((-72.26228 11.52743, -72.26231 ...  "
      ]
     },
     "execution_count": 4,
     "metadata": {},
     "output_type": "execute_result"
    }
   ],
   "source": [
    "admin_bounds_file = data_dir + 'admin_bounds.gpkg'\n",
    "admin_bounds = gpd.read_file(admin_bounds_file)\n",
    "admin_bounds.head(2)"
   ]
  },
  {
   "cell_type": "markdown",
   "metadata": {},
   "source": [
    "### Generate Cropped TIFF: Masking a Raster based on a Shapefile\n",
    "**Source**: https://rasterio.readthedocs.io/en/latest/topics/masking-by-shapefile.html"
   ]
  },
  {
   "cell_type": "code",
   "execution_count": 6,
   "metadata": {},
   "outputs": [],
   "source": [
    "for area in area_dict:\n",
    "    geometry = admin_bounds[admin_bounds.admin2RefN == area.title()]\n",
    "    geometry = [geoutils.explode(geometry)['geometry'].values[0]]  \n",
    "    \n",
    "    images_cropped = []\n",
    "    for image_file in area_dict[area]['images']: \n",
    "        output_file = image_file.replace('DEFLATED', 'CROPPED')\n",
    "        with rio.open(image_file) as src:\n",
    "            out_image, out_transform = rasterio.mask.mask(src, geometry, crop=True)\n",
    "            out_meta = src.meta\n",
    "            \n",
    "        out_meta.update({\n",
    "            \"driver\": \"GTiff\",\n",
    "            \"height\": out_image.shape[1],\n",
    "            \"width\": out_image.shape[2],\n",
    "            \"transform\": out_transform,\n",
    "            'nodata': 0\n",
    "        })\n",
    "        with rio.open(output_file, \"w\", **out_meta, compress='deflate') as dest:\n",
    "            dest.write(out_image)\n",
    "        images_cropped.append(output_file)\n",
    "        \n",
    "    area_dict[area]['images_cropped'] = sorted(images_cropped)\n",
    "\n",
    "# Upload to GCS\n",
    "for area in area_dict:\n",
    "    for image_file in area_dict[area]['images_cropped']:\n",
    "        !gsutil -q -m cp {image_file} gs://immap-gee/"
   ]
  },
  {
   "cell_type": "markdown",
   "metadata": {},
   "source": [
    "## 6. Generate Target Raster Masks"
   ]
  },
  {
   "cell_type": "markdown",
   "metadata": {},
   "source": [
    "### Positive Labels"
   ]
  },
  {
   "cell_type": "code",
   "execution_count": 6,
   "metadata": {},
   "outputs": [],
   "source": [
    "for area, value in area_dict.items():\n",
    "    tiff_file = value['images_cropped'][0]\n",
    "    shape_file = value['pos_mask_gpkg']\n",
    "    target_file = shape_file.replace('gpkg', 'tiff')\n",
    "    \n",
    "    geoutils.generate_mask(\n",
    "         tiff_file=tiff_file, \n",
    "         shape_file=shape_file, \n",
    "         output_file=target_file, \n",
    "         plot=False\n",
    "    )\n",
    "    area_dict[area]['pos_mask_tiff'] = target_file"
   ]
  },
  {
   "cell_type": "markdown",
   "metadata": {},
   "source": [
    "### Negative Labels"
   ]
  },
  {
   "cell_type": "code",
   "execution_count": 7,
   "metadata": {},
   "outputs": [],
   "source": [
    "for area, value in area_dict.items():\n",
    "    tiff_file = value['images_cropped'][0]\n",
    "    shape_file = value['neg_mask_gpkg']\n",
    "    target_file = shape_file.replace('gpkg', 'tiff')\n",
    "    \n",
    "    if os.path.isfile(shape_file):\n",
    "        gdf = gpd.read_file(shape_file)\n",
    "        gdf['class'] = gdf['class'].str.lower() \n",
    "        gdf = gdf[\n",
    "            (gdf['class'] == 'unoccupied land') \n",
    "            | (gdf['class'] == 'formal settlement')\n",
    "        ]\n",
    "        shape_file = shape_file.replace('samples', 'masks')\n",
    "        gdf.to_file(shape_file, driver='GPKG')\n",
    "    \n",
    "        geoutils.generate_mask(\n",
    "             tiff_file=tiff_file, \n",
    "             shape_file=shape_file, \n",
    "             output_file=target_file, \n",
    "             plot=False\n",
    "        )\n",
    "    area_dict[area]['neg_mask_tiff'] = target_file"
   ]
  },
  {
   "cell_type": "markdown",
   "metadata": {},
   "source": [
    "## 7. Generate Training Set"
   ]
  },
  {
   "cell_type": "code",
   "execution_count": 8,
   "metadata": {},
   "outputs": [
    {
     "name": "stdout",
     "output_type": "stream",
     "text": [
      "Reading maicao...\n"
     ]
    },
    {
     "name": "stderr",
     "output_type": "stream",
     "text": [
      "100%|██████████| 5/5 [00:36<00:00,  7.25s/it]\n"
     ]
    },
    {
     "name": "stdout",
     "output_type": "stream",
     "text": [
      "Reading riohacha...\n"
     ]
    },
    {
     "name": "stderr",
     "output_type": "stream",
     "text": [
      "100%|██████████| 5/5 [00:57<00:00, 11.57s/it]\n"
     ]
    },
    {
     "name": "stdout",
     "output_type": "stream",
     "text": [
      "Data dimensions: (48242797, 61)\n"
     ]
    },
    {
     "data": {
      "text/html": [
       "<div>\n",
       "<style scoped>\n",
       "    .dataframe tbody tr th:only-of-type {\n",
       "        vertical-align: middle;\n",
       "    }\n",
       "\n",
       "    .dataframe tbody tr th {\n",
       "        vertical-align: top;\n",
       "    }\n",
       "\n",
       "    .dataframe thead th {\n",
       "        text-align: right;\n",
       "    }\n",
       "</style>\n",
       "<table border=\"1\" class=\"dataframe\">\n",
       "  <thead>\n",
       "    <tr style=\"text-align: right;\">\n",
       "      <th></th>\n",
       "      <th>band1_2016</th>\n",
       "      <th>band2_2016</th>\n",
       "      <th>band3_2016</th>\n",
       "      <th>band4_2016</th>\n",
       "      <th>band5_2016</th>\n",
       "      <th>band6_2016</th>\n",
       "      <th>band7_2016</th>\n",
       "      <th>band8_2016</th>\n",
       "      <th>band9_2016</th>\n",
       "      <th>band10_2016</th>\n",
       "      <th>...</th>\n",
       "      <th>band4_2020</th>\n",
       "      <th>band5_2020</th>\n",
       "      <th>band6_2020</th>\n",
       "      <th>band7_2020</th>\n",
       "      <th>band8_2020</th>\n",
       "      <th>band9_2020</th>\n",
       "      <th>band10_2020</th>\n",
       "      <th>band11_2020</th>\n",
       "      <th>band12_2020</th>\n",
       "      <th>target</th>\n",
       "    </tr>\n",
       "  </thead>\n",
       "  <tbody>\n",
       "    <tr>\n",
       "      <th>11131</th>\n",
       "      <td>0.1492</td>\n",
       "      <td>0.1331</td>\n",
       "      <td>0.1373</td>\n",
       "      <td>0.1587</td>\n",
       "      <td>0.1735</td>\n",
       "      <td>0.2247</td>\n",
       "      <td>0.2654</td>\n",
       "      <td>0.2486</td>\n",
       "      <td>0.3075</td>\n",
       "      <td>0.0377</td>\n",
       "      <td>...</td>\n",
       "      <td>0.1442</td>\n",
       "      <td>0.1754</td>\n",
       "      <td>0.2019</td>\n",
       "      <td>0.2289</td>\n",
       "      <td>0.2352</td>\n",
       "      <td>0.2579</td>\n",
       "      <td>0.2738</td>\n",
       "      <td>0.3625</td>\n",
       "      <td>0.2616</td>\n",
       "      <td>0</td>\n",
       "    </tr>\n",
       "    <tr>\n",
       "      <th>16695</th>\n",
       "      <td>0.1492</td>\n",
       "      <td>0.1359</td>\n",
       "      <td>0.1543</td>\n",
       "      <td>0.1761</td>\n",
       "      <td>0.1799</td>\n",
       "      <td>0.2381</td>\n",
       "      <td>0.2838</td>\n",
       "      <td>0.2657</td>\n",
       "      <td>0.3186</td>\n",
       "      <td>0.0377</td>\n",
       "      <td>...</td>\n",
       "      <td>0.1632</td>\n",
       "      <td>0.1908</td>\n",
       "      <td>0.2187</td>\n",
       "      <td>0.2398</td>\n",
       "      <td>0.2530</td>\n",
       "      <td>0.2711</td>\n",
       "      <td>0.2738</td>\n",
       "      <td>0.3587</td>\n",
       "      <td>0.2642</td>\n",
       "      <td>0</td>\n",
       "    </tr>\n",
       "    <tr>\n",
       "      <th>16696</th>\n",
       "      <td>0.1492</td>\n",
       "      <td>0.1395</td>\n",
       "      <td>0.1514</td>\n",
       "      <td>0.1644</td>\n",
       "      <td>0.1799</td>\n",
       "      <td>0.2381</td>\n",
       "      <td>0.2838</td>\n",
       "      <td>0.2652</td>\n",
       "      <td>0.3186</td>\n",
       "      <td>0.0377</td>\n",
       "      <td>...</td>\n",
       "      <td>0.1498</td>\n",
       "      <td>0.1908</td>\n",
       "      <td>0.2187</td>\n",
       "      <td>0.2398</td>\n",
       "      <td>0.2464</td>\n",
       "      <td>0.2711</td>\n",
       "      <td>0.2738</td>\n",
       "      <td>0.3587</td>\n",
       "      <td>0.2642</td>\n",
       "      <td>0</td>\n",
       "    </tr>\n",
       "  </tbody>\n",
       "</table>\n",
       "<p>3 rows × 61 columns</p>\n",
       "</div>"
      ],
      "text/plain": [
       "       band1_2016  band2_2016  band3_2016  band4_2016  band5_2016  band6_2016  \\\n",
       "11131      0.1492      0.1331      0.1373      0.1587      0.1735      0.2247   \n",
       "16695      0.1492      0.1359      0.1543      0.1761      0.1799      0.2381   \n",
       "16696      0.1492      0.1395      0.1514      0.1644      0.1799      0.2381   \n",
       "\n",
       "       band7_2016  band8_2016  band9_2016  band10_2016  ...  band4_2020  \\\n",
       "11131      0.2654      0.2486      0.3075       0.0377  ...      0.1442   \n",
       "16695      0.2838      0.2657      0.3186       0.0377  ...      0.1632   \n",
       "16696      0.2838      0.2652      0.3186       0.0377  ...      0.1498   \n",
       "\n",
       "       band5_2020  band6_2020  band7_2020  band8_2020  band9_2020  \\\n",
       "11131      0.1754      0.2019      0.2289      0.2352      0.2579   \n",
       "16695      0.1908      0.2187      0.2398      0.2530      0.2711   \n",
       "16696      0.1908      0.2187      0.2398      0.2464      0.2711   \n",
       "\n",
       "       band10_2020  band11_2020  band12_2020  target  \n",
       "11131       0.2738       0.3625       0.2616       0  \n",
       "16695       0.2738       0.3587       0.2642       0  \n",
       "16696       0.2738       0.3587       0.2642       0  \n",
       "\n",
       "[3 rows x 61 columns]"
      ]
     },
     "execution_count": 8,
     "metadata": {},
     "output_type": "execute_result"
    }
   ],
   "source": [
    "from tqdm import tqdm\n",
    "\n",
    "data_all = []\n",
    "for area in ['maicao', 'riohacha']: #area_dict\n",
    "    print('Reading {}...'.format(area))\n",
    "    \n",
    "    # Read positive target mask\n",
    "    pos_mask = rio.open(area_dict[area]['pos_mask_tiff'])\n",
    "    pos_mask = pos_mask.read(1).ravel()\n",
    "    \n",
    "    # Read negative mask\n",
    "    neg_mask = rio.open(area_dict[area]['neg_mask_tiff'])\n",
    "    neg_mask = neg_mask.read(1).ravel()\n",
    "    \n",
    "    # Get sum of postive and negative mask\n",
    "    mask = pos_mask + neg_mask\n",
    "\n",
    "    data = dict()\n",
    "    \n",
    "    # Iterate over each year\n",
    "    image_list = area_dict[area]['images_cropped']\n",
    "    for image_file in tqdm(image_list, total=len(image_list)):\n",
    "        year = image_file.split('_')[-1].split('.')[0]\n",
    "        \n",
    "        # Read each band\n",
    "        raster = rio.open(image_file)\n",
    "        for band_idx in range(raster.count):\n",
    "            band = raster.read(band_idx+1).ravel()\n",
    "            data['band{}_{}'.format(band_idx+1, year)] = band\n",
    "    \n",
    "    # cast to pandas dataframe\n",
    "    data = pd.DataFrame(data)\n",
    "    data['target'] = mask\n",
    "\n",
    "    data = data[data.values.sum(axis=1) != 0] \n",
    "    data_all.append(data)\n",
    "\n",
    "# Concatenate all areas\n",
    "data = pd.concat(data_all)\n",
    "print('Data dimensions: {}'.format(data.shape))\n",
    "data.head(3)"
   ]
  },
  {
   "cell_type": "code",
   "execution_count": 14,
   "metadata": {},
   "outputs": [
    {
     "data": {
      "text/plain": [
       "(159515, 61)"
      ]
     },
     "execution_count": 14,
     "metadata": {},
     "output_type": "execute_result"
    }
   ],
   "source": [
    "data[data['target'] != 0].shape"
   ]
  },
  {
   "cell_type": "code",
   "execution_count": 12,
   "metadata": {},
   "outputs": [
    {
     "data": {
      "text/plain": [
       "(121984, 61)"
      ]
     },
     "execution_count": 12,
     "metadata": {},
     "output_type": "execute_result"
    }
   ],
   "source": [
    "data[data['target'] == 2].shape"
   ]
  }
 ],
 "metadata": {
  "kernelspec": {
   "display_name": "venv",
   "language": "python",
   "name": "venv"
  },
  "language_info": {
   "codemirror_mode": {
    "name": "ipython",
    "version": 3
   },
   "file_extension": ".py",
   "mimetype": "text/x-python",
   "name": "python",
   "nbconvert_exporter": "python",
   "pygments_lexer": "ipython3",
   "version": "3.7.4"
  }
 },
 "nbformat": 4,
 "nbformat_minor": 4
}
