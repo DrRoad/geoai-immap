{
 "cells": [
  {
   "cell_type": "markdown",
   "metadata": {},
   "source": [
    "# Sentinel-2 Image Processing"
   ]
  },
  {
   "cell_type": "markdown",
   "metadata": {},
   "source": [
    "This notebook removes clouds from satellite images (using fmask tif files as input) and gets the median pixel value for all bands across multiple tif files."
   ]
  },
  {
   "cell_type": "markdown",
   "metadata": {},
   "source": [
    "## Imports and Setup"
   ]
  },
  {
   "cell_type": "code",
   "execution_count": 1,
   "metadata": {},
   "outputs": [],
   "source": [
    "import logging\n",
    "import warnings\n",
    "logging.getLogger().setLevel(logging.ERROR)\n",
    "warnings.filterwarnings(\"ignore\")\n",
    "\n",
    "import os\n",
    "import sys\n",
    "sys.path.insert(0, '../utils')\n",
    "import geoutils\n",
    "\n",
    "import matplotlib.pyplot as plt\n",
    "%matplotlib inline\n",
    "\n",
    "%load_ext autoreload\n",
    "%autoreload 2"
   ]
  },
  {
   "cell_type": "markdown",
   "metadata": {},
   "source": [
    "## File Locations"
   ]
  },
  {
   "cell_type": "code",
   "execution_count": 3,
   "metadata": {},
   "outputs": [
    {
     "data": {
      "text/plain": [
       "['../data/Sentinel2/TIFF_10m/',\n",
       " '../data/Sentinel2/TIFF_20m/',\n",
       " '../data/Sentinel2/TIFF_60m/']"
      ]
     },
     "execution_count": 3,
     "metadata": {},
     "output_type": "execute_result"
    }
   ],
   "source": [
    "data_dir = \"../data/\"\n",
    "sentinel_dir = data_dir + 'Sentinel2/'\n",
    "cloudmask_dir = data_dir + 'CloudMasks/'\n",
    "tmp_dir = data_dir + 'tmp/'\n",
    "\n",
    "if not os.path.exists(tmp_dir):\n",
    "    os.makedirs(tmp_dir)\n",
    "    \n",
    "tiff_dirs = []\n",
    "resolutions = ['10', '20', '60']\n",
    "for resolution in resolutions:\n",
    "    tiff_dir = sentinel_dir + 'TIFF_{}m/'.format(resolution)\n",
    "    tiff_dirs.append(tiff_dir)\n",
    "    if not os.path.exists(tiff_dir):\n",
    "        os.makedirs(tiff_dir)\n",
    "tiff_dirs"
   ]
  },
  {
   "cell_type": "markdown",
   "metadata": {},
   "source": [
    "## Get Directories"
   ]
  },
  {
   "cell_type": "code",
   "execution_count": 4,
   "metadata": {},
   "outputs": [
    {
     "data": {
      "text/plain": [
       "{'band_locations_10m': '../data/Sentinel2/S2A_MSIL2A_20190325T152641_N0211_R025_T18PYT_20190325T211142.SAFE/GRANULE/L2A_T18PYT_A019613_20190325T152920/IMG_DATA/R10m/',\n",
       " 'bands_10m': ['T18PYT_20190325T152641_AOT_10m.jp2',\n",
       "  'T18PYT_20190325T152641_B02_10m.jp2',\n",
       "  'T18PYT_20190325T152641_B03_10m.jp2',\n",
       "  'T18PYT_20190325T152641_B04_10m.jp2',\n",
       "  'T18PYT_20190325T152641_B08_10m.jp2',\n",
       "  'T18PYT_20190325T152641_TCI_10m.jp2',\n",
       "  'T18PYT_20190325T152641_WVP_10m.jp2'],\n",
       " 'band_locations_20m': '../data/Sentinel2/S2A_MSIL2A_20190325T152641_N0211_R025_T18PYT_20190325T211142.SAFE/GRANULE/L2A_T18PYT_A019613_20190325T152920/IMG_DATA/R20m/',\n",
       " 'bands_20m': ['T18PYT_20190325T152641_AOT_20m.jp2',\n",
       "  'T18PYT_20190325T152641_B02_20m.jp2',\n",
       "  'T18PYT_20190325T152641_B03_20m.jp2',\n",
       "  'T18PYT_20190325T152641_B04_20m.jp2',\n",
       "  'T18PYT_20190325T152641_B05_20m.jp2',\n",
       "  'T18PYT_20190325T152641_B06_20m.jp2',\n",
       "  'T18PYT_20190325T152641_B07_20m.jp2',\n",
       "  'T18PYT_20190325T152641_B11_20m.jp2',\n",
       "  'T18PYT_20190325T152641_B12_20m.jp2',\n",
       "  'T18PYT_20190325T152641_B8A_20m.jp2',\n",
       "  'T18PYT_20190325T152641_SCL_20m.jp2',\n",
       "  'T18PYT_20190325T152641_TCI_20m.jp2',\n",
       "  'T18PYT_20190325T152641_WVP_20m.jp2'],\n",
       " 'band_locations_60m': '../data/Sentinel2/S2A_MSIL2A_20190325T152641_N0211_R025_T18PYT_20190325T211142.SAFE/GRANULE/L2A_T18PYT_A019613_20190325T152920/IMG_DATA/R60m/',\n",
       " 'bands_60m': ['T18PYT_20190325T152641_AOT_60m.jp2',\n",
       "  'T18PYT_20190325T152641_B01_60m.jp2',\n",
       "  'T18PYT_20190325T152641_B02_60m.jp2',\n",
       "  'T18PYT_20190325T152641_B03_60m.jp2',\n",
       "  'T18PYT_20190325T152641_B04_60m.jp2',\n",
       "  'T18PYT_20190325T152641_B05_60m.jp2',\n",
       "  'T18PYT_20190325T152641_B06_60m.jp2',\n",
       "  'T18PYT_20190325T152641_B07_60m.jp2',\n",
       "  'T18PYT_20190325T152641_B09_60m.jp2',\n",
       "  'T18PYT_20190325T152641_B11_60m.jp2',\n",
       "  'T18PYT_20190325T152641_B12_60m.jp2',\n",
       "  'T18PYT_20190325T152641_B8A_60m.jp2',\n",
       "  'T18PYT_20190325T152641_SCL_60m.jp2',\n",
       "  'T18PYT_20190325T152641_TCI_60m.jp2',\n",
       "  'T18PYT_20190325T152641_WVP_60m.jp2']}"
      ]
     },
     "execution_count": 4,
     "metadata": {},
     "output_type": "execute_result"
    }
   ],
   "source": [
    "directory_dict = dict()\n",
    "for sentinel_folder in os.listdir(sentinel_dir):\n",
    "    sentinel_name = sentinel_folder.replace('.SAFE', '')\n",
    "    \n",
    "    if 'L2A' in sentinel_name:\n",
    "        directory_dict[sentinel_name] = {}\n",
    "        directory = sentinel_dir + sentinel_folder + '/GRANULE/'\n",
    "        \n",
    "        for resolution in resolutions:\n",
    "            for folder in os.listdir(directory):\n",
    "                band_directory = directory + folder + '/IMG_DATA/R{}m/'.format(resolution)\n",
    "                directory_dict[sentinel_name]['band_locations_{}m'.format(resolution)] = band_directory\n",
    "                directory_dict[sentinel_name]['bands_{}m'.format(resolution)] = []\n",
    "                for band in os.listdir(band_directory):\n",
    "                    directory_dict[sentinel_name]['bands_{}m'.format(resolution)].append(band)\n",
    "                directory_dict[sentinel_name]['bands_{}m'.format(resolution)].sort()\n",
    "\n",
    "directory_dict['S2A_MSIL2A_20190325T152641_N0211_R025_T18PYT_20190325T211142']"
   ]
  },
  {
   "cell_type": "markdown",
   "metadata": {},
   "source": [
    "## Generate Multiband TIFF File"
   ]
  },
  {
   "cell_type": "code",
   "execution_count": 10,
   "metadata": {},
   "outputs": [
    {
     "name": "stdout",
     "output_type": "stream",
     "text": [
      "Processing S2A_MSIL2A_20190325T152641_N0211_R025_T18PYT_20190325T211142...\n",
      "Processing S2A_MSIL2A_20181225T152631_N0211_R025_T18PYT_20181225T174326...\n",
      "Processing S2A_MSIL2A_20200208T152631_N0214_R025_T18PYT_20200208T173911...\n",
      "Processing S2A_MSIL2A_20190114T152641_N0211_R025_T18PYT_20190114T174404...\n",
      "Processing S2A_MSIL2A_20170723T152641_N9999_R025_T18PYT_20200312T045113...\n",
      "Processing S2A_MSIL2A_20180320T152641_N9999_R025_T18PYT_20200312T041414...\n",
      "Processing S2A_MSIL2A_20160618T152642_N9999_R025_T18PYT_20200319T104853...\n",
      "Processing S2A_MSIL2A_20190703T152641_N0212_R025_T18PYT_20190703T211344...\n",
      "Processing S2A_MSIL2A_20190325T152641_N0211_R025_T18PYT_20190325T211142...\n",
      "Processing S2A_MSIL2A_20181225T152631_N0211_R025_T18PYT_20181225T174326...\n",
      "Processing S2A_MSIL2A_20200208T152631_N0214_R025_T18PYT_20200208T173911...\n",
      "Processing S2A_MSIL2A_20190114T152641_N0211_R025_T18PYT_20190114T174404...\n",
      "Processing S2A_MSIL2A_20170723T152641_N9999_R025_T18PYT_20200312T045113...\n",
      "Processing S2A_MSIL2A_20180320T152641_N9999_R025_T18PYT_20200312T041414...\n",
      "Processing S2A_MSIL2A_20170104T152622_N9999_R025_T18PYT_20200312T054507...\n",
      "Processing S2A_MSIL2A_20160618T152642_N9999_R025_T18PYT_20200319T104853...\n",
      "Processing S2A_MSIL2A_20190703T152641_N0212_R025_T18PYT_20190703T211344...\n"
     ]
    }
   ],
   "source": [
    "for resolution, tiff_dir in zip(resolutions, tiff_dirs):\n",
    "    for image_name in directory_dict:\n",
    "        print('Processing {}...'.format(image_name))\n",
    "        image_path = directory_dict[image_name]['band_locations_{}m'.format(resolution)]\n",
    "        band_files = [image_path + x for x in directory_dict[image_name]['bands_{}m'.format(resolution)]]\n",
    "        geoutils.combine_bands(\n",
    "            image_name, \n",
    "            band_files, \n",
    "            sentinel_dir, \n",
    "            output_dir=tiff_dir, \n",
    "            plot=False\n",
    "        )"
   ]
  },
  {
   "cell_type": "markdown",
   "metadata": {},
   "source": [
    "### Upload files to GCS\n",
    "No need to run this cell if the files are already uploaded. "
   ]
  },
  {
   "cell_type": "code",
   "execution_count": null,
   "metadata": {},
   "outputs": [],
   "source": [
    "#gcs_folders = ['TIFF_10m', 'TIFF_20m', 'TIFF_60m']\n",
    "#for tiff_dir, gcs_folder in zip(tiff_dirs, gcs_folders):\n",
    "#    for image_file in os.listdir(tiff_dir):\n",
    "#        !gsutil -q -m cp {tiff_dir + image_file} gs://immap-sentinel2/{gcs_folder}/"
   ]
  },
  {
   "cell_type": "markdown",
   "metadata": {},
   "source": [
    "## Median Aggregation and Mosaic Generation"
   ]
  },
  {
   "cell_type": "code",
   "execution_count": 5,
   "metadata": {},
   "outputs": [
    {
     "name": "stderr",
     "output_type": "stream",
     "text": [
      "100%|██████████| 100/100 [1:01:58<00:00, 37.18s/it]\n"
     ]
    },
    {
     "name": "stdout",
     "output_type": "stream",
     "text": [
      "CPU times: user 19min 1s, sys: 13min 36s, total: 32min 37s\n",
      "Wall time: 1h 2min 2s\n"
     ]
    }
   ],
   "source": [
    "%%time\n",
    "image_files = [\n",
    "    'S2A_MSIL2A_20190114T152641_N0211_R025_T18PYT_20190114T174404',\n",
    "    'S2A_MSIL2A_20190325T152641_N0211_R025_T18PYT_20190325T211142',\n",
    "    'S2A_MSIL2A_20190703T152641_N0212_R025_T18PYT_20190703T211344'\n",
    "]\n",
    "mosaic = geoutils.aggregate(\n",
    "    image_files, \n",
    "    input_dir=tiff_dir[0], \n",
    "    cloudmask_dir=cloudmask_dir, \n",
    "    tmp_dir=tmp_dir, \n",
    "    method='median',\n",
    "    plot=False\n",
    ");"
   ]
  }
 ],
 "metadata": {
  "kernelspec": {
   "display_name": "Python 3",
   "language": "python",
   "name": "python3"
  },
  "language_info": {
   "codemirror_mode": {
    "name": "ipython",
    "version": 3
   },
   "file_extension": ".py",
   "mimetype": "text/x-python",
   "name": "python",
   "nbconvert_exporter": "python",
   "pygments_lexer": "ipython3",
   "version": "3.7.4"
  }
 },
 "nbformat": 4,
 "nbformat_minor": 4
}
