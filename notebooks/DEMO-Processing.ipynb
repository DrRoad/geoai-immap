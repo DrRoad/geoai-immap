{
 "cells": [
  {
   "cell_type": "markdown",
   "metadata": {},
   "source": [
    "# 00_Data_Download.ipynb"
   ]
  },
  {
   "cell_type": "markdown",
   "metadata": {},
   "source": [
    "### How to Install"
   ]
  },
  {
   "cell_type": "markdown",
   "metadata": {},
   "source": [
    "1. Install GEE in GCE by following: https://developers.google.com/earth-engine/python_install-conda\n",
    "\n",
    "  - if encountered jupyter command not found, add conda to path\n",
    "  \n",
    "```\n",
    "    export PATH=~/anaconda3/bin:$PATH\n",
    "```\n",
    "\n",
    "2. Make new kernel to use in jupylab\n",
    "\n",
    "```\n",
    "conda install ipykernel\n",
    "ipython kernel install --name ee --user\n",
    "```\n",
    "\n",
    "3. Update kernel.json with 3.8.2 python (what gee uses)\n",
    "\n",
    "```\n",
    "jupyter kernelspec list\n",
    "vim /home/cholo/.local/share/jupyter/kernels/ee/kernel.json\n",
    "```\n",
    "\n",
    "    - update via vim with this python\n",
    "  \n",
    "```\n",
    "    /home/cholo/anaconda3/envs/ee/bin/python\n",
    "```\n",
    "\n",
    "4. Install gdal\n",
    "\n",
    "```\n",
    "conda activate ee\n",
    "conda install gdal\n",
    "```\n",
    "\n",
    "5. In new notebook from jupylab, select kernel 'ee'\n",
    "\n",
    "To bypass ee.Authenticate, you can run 'earthengine authenticate' in terminal"
   ]
  },
  {
   "cell_type": "markdown",
   "metadata": {},
   "source": [
    "### How to Add New Areas"
   ]
  },
  {
   "cell_type": "markdown",
   "metadata": {
    "jupyter": {
     "source_hidden": true
    }
   },
   "source": [
    "In utils/gee_settings.py\n",
    "1. In 'areas' list, include area, removing spaces i.e. Villa del Rosario > villadelrosario\n",
    "2. In BBOX dict, add bounding box arranged as a list of 4 numbers, upper left and lower right\n",
    "3. In CLOUD_PARAMS dict, specify cloud filter and if will be masked or not\n",
    "4. In admin2RefN, add name in Admin Boundary shapefile\n",
    "\n",
    "Once downloaded file shows in gs://immap-gee\n",
    "1. check if the area is split into multiple files\n",
    "2. If yes, add area to multi-part list in Section Input params"
   ]
  },
  {
   "cell_type": "markdown",
   "metadata": {},
   "source": [
    "## Load tools"
   ]
  },
  {
   "cell_type": "code",
   "execution_count": 1,
   "metadata": {},
   "outputs": [
    {
     "data": {
      "text/html": [
       "<p>To authorize access needed by Earth Engine, open the following\n",
       "        URL in a web browser and follow the instructions:</p>\n",
       "        <p><a href=https://accounts.google.com/o/oauth2/auth?client_id=517222506229-vsmmajv00ul0bs7p89v5m89qs8eb9359.apps.googleusercontent.com&scope=https%3A%2F%2Fwww.googleapis.com%2Fauth%2Fearthengine+https%3A%2F%2Fwww.googleapis.com%2Fauth%2Fdevstorage.full_control&redirect_uri=urn%3Aietf%3Awg%3Aoauth%3A2.0%3Aoob&response_type=code&code_challenge=YeXm3ZGgHGCg-i4dEofQdanW4A65ARiJHdY4JsCUj6I&code_challenge_method=S256>https://accounts.google.com/o/oauth2/auth?client_id=517222506229-vsmmajv00ul0bs7p89v5m89qs8eb9359.apps.googleusercontent.com&scope=https%3A%2F%2Fwww.googleapis.com%2Fauth%2Fearthengine+https%3A%2F%2Fwww.googleapis.com%2Fauth%2Fdevstorage.full_control&redirect_uri=urn%3Aietf%3Awg%3Aoauth%3A2.0%3Aoob&response_type=code&code_challenge=YeXm3ZGgHGCg-i4dEofQdanW4A65ARiJHdY4JsCUj6I&code_challenge_method=S256</a></p>\n",
       "        <p>The authorization workflow will generate a code, which you\n",
       "        should paste in the box below</p>\n",
       "        "
      ],
      "text/plain": [
       "<IPython.core.display.HTML object>"
      ]
     },
     "metadata": {},
     "output_type": "display_data"
    },
    {
     "name": "stdin",
     "output_type": "stream",
     "text": [
      "Enter verification code:  4/0QExz2LHB4p8JucEVg_VF-v2Txcxnmbda3TRw6T_-JQEZpV8gYvg2Vk\n"
     ]
    },
    {
     "name": "stdout",
     "output_type": "stream",
     "text": [
      "\n",
      "Successfully saved authorization token.\n"
     ]
    }
   ],
   "source": [
    "import geopandas as gpd\n",
    "from fiona.crs import to_string\n",
    "import pathlib\n",
    "from tqdm import tqdm\n",
    "\n",
    "import sys\n",
    "sys.path.insert(0, '../utils')\n",
    "from gee import sen2median, deflatecrop1\n",
    "\n",
    "data_dir = \"../data/\""
   ]
  },
  {
   "cell_type": "code",
   "execution_count": 10,
   "metadata": {},
   "outputs": [],
   "source": [
    "adm_dir = data_dir + 'admin_bounds/'\n",
    "img_dir = data_dir + 'images/'\n",
    "tmp_dir = data_dir + 'tmp/'\n",
    "\n",
    "dirs = [adm_dir, img_dir, tmp_dir]\n",
    "for dir_ in dirs:\n",
    "    with pathlib.Path(dir_) as path:\n",
    "        if not path.exists():\n",
    "            path.mkdir(parents=True, exist_ok=True)"
   ]
  },
  {
   "cell_type": "code",
   "execution_count": 3,
   "metadata": {},
   "outputs": [],
   "source": [
    "# gee_settings.py\n",
    "# substitute of: from gee_settings import BBOX, CLOUD_PARAMS, admin2RefN\n",
    "BBOX = {'testuribia': [-72.292152, 11.734492, -72.244001, 11.686520]}\n",
    "CLOUD_PARAMS = {'testuribia': {'2015-2016': (40, True), '2017-2018': (40, True), '2019-2020': (40, True)}}"
   ]
  },
  {
   "cell_type": "markdown",
   "metadata": {},
   "source": [
    "## Input params"
   ]
  },
  {
   "cell_type": "code",
   "execution_count": 4,
   "metadata": {},
   "outputs": [],
   "source": [
    "PRODUCT = 'COPERNICUS/S2' # L1C\n",
    "years = ['2015-2016']\n",
    "def get_minmaxdt(year_str):\n",
    "    list_ = year_str.split('-')\n",
    "    return list_[0] + '-01-01', list_[1] + '-12-31'\n",
    "\n",
    "areas = ['testuribia']"
   ]
  },
  {
   "cell_type": "markdown",
   "metadata": {},
   "source": [
    "## Download from GEE"
   ]
  },
  {
   "cell_type": "code",
   "execution_count": 5,
   "metadata": {},
   "outputs": [
    {
     "name": "stdout",
     "output_type": "stream",
     "text": [
      "Processing gee_testuribia_2015-2016\n",
      "using COPERNICUS/S2\n",
      "Filtering to images with cloud cover < 40\n",
      "with mask\n",
      "Task started\n"
     ]
    }
   ],
   "source": [
    "for area in areas:\n",
    "    for year in years:\n",
    "        cloud_pct, mask = CLOUD_PARAMS[area][year]\n",
    "        min_dt, max_dt = get_minmaxdt(year)\n",
    "        sen2median(\n",
    "            BBOX[area], \n",
    "            FILENAME = f'gee_{area}_{year}', \n",
    "            min_dt = min_dt, \n",
    "            max_dt = max_dt,\n",
    "            cloud_pct = cloud_pct, \n",
    "            mask = mask,\n",
    "            PRODUCT = PRODUCT,\n",
    "            verbose = 1\n",
    "        )"
   ]
  },
  {
   "cell_type": "code",
   "execution_count": 11,
   "metadata": {
    "scrolled": true
   },
   "outputs": [
    {
     "name": "stdout",
     "output_type": "stream",
     "text": [
      "--2020-06-01 15:05:15--  https://docs.google.com/uc?export=download&confirm=&id=1PBVw3QJW4ZcSpcHjPBRhLMoS0xlLDFp3\n",
      "Resolving docs.google.com (docs.google.com)... 108.177.112.138, 108.177.112.100, 108.177.112.113, ...\n",
      "Connecting to docs.google.com (docs.google.com)|108.177.112.138|:443... connected.\n",
      "HTTP request sent, awaiting response... 302 Moved Temporarily\n",
      "Location: https://doc-00-ao-docs.googleusercontent.com/docs/securesc/97b8p6p160ot8g6bctn5r196ftb7n5id/f291e091thpjsqmv4e8t4fab1864dpsn/1591023900000/13853625020392332200/10527760265070548984Z/1PBVw3QJW4ZcSpcHjPBRhLMoS0xlLDFp3?e=download [following]\n",
      "--2020-06-01 15:05:16--  https://doc-00-ao-docs.googleusercontent.com/docs/securesc/97b8p6p160ot8g6bctn5r196ftb7n5id/f291e091thpjsqmv4e8t4fab1864dpsn/1591023900000/13853625020392332200/10527760265070548984Z/1PBVw3QJW4ZcSpcHjPBRhLMoS0xlLDFp3?e=download\n",
      "Resolving doc-00-ao-docs.googleusercontent.com (doc-00-ao-docs.googleusercontent.com)... 74.125.124.132, 2607:f8b0:4001:c14::84\n",
      "Connecting to doc-00-ao-docs.googleusercontent.com (doc-00-ao-docs.googleusercontent.com)|74.125.124.132|:443... connected.\n",
      "HTTP request sent, awaiting response... 302 Found\n",
      "Location: https://docs.google.com/nonceSigner?nonce=qahu0hg5tqt30&continue=https://doc-00-ao-docs.googleusercontent.com/docs/securesc/97b8p6p160ot8g6bctn5r196ftb7n5id/f291e091thpjsqmv4e8t4fab1864dpsn/1591023900000/13853625020392332200/10527760265070548984Z/1PBVw3QJW4ZcSpcHjPBRhLMoS0xlLDFp3?e%3Ddownload&hash=rg65j9398rgjh1kpo2vh5vle1raj8c5n [following]\n",
      "--2020-06-01 15:05:16--  https://docs.google.com/nonceSigner?nonce=qahu0hg5tqt30&continue=https://doc-00-ao-docs.googleusercontent.com/docs/securesc/97b8p6p160ot8g6bctn5r196ftb7n5id/f291e091thpjsqmv4e8t4fab1864dpsn/1591023900000/13853625020392332200/10527760265070548984Z/1PBVw3QJW4ZcSpcHjPBRhLMoS0xlLDFp3?e%3Ddownload&hash=rg65j9398rgjh1kpo2vh5vle1raj8c5n\n",
      "Connecting to docs.google.com (docs.google.com)|108.177.112.138|:443... connected.\n",
      "HTTP request sent, awaiting response... 302 Found\n",
      "Location: https://doc-00-ao-docs.googleusercontent.com/docs/securesc/97b8p6p160ot8g6bctn5r196ftb7n5id/f291e091thpjsqmv4e8t4fab1864dpsn/1591023900000/13853625020392332200/10527760265070548984Z/1PBVw3QJW4ZcSpcHjPBRhLMoS0xlLDFp3?e=download&nonce=qahu0hg5tqt30&user=10527760265070548984Z&hash=jnpha3bpr1ed3o5oao1rusua1da97e5l [following]\n",
      "--2020-06-01 15:05:16--  https://doc-00-ao-docs.googleusercontent.com/docs/securesc/97b8p6p160ot8g6bctn5r196ftb7n5id/f291e091thpjsqmv4e8t4fab1864dpsn/1591023900000/13853625020392332200/10527760265070548984Z/1PBVw3QJW4ZcSpcHjPBRhLMoS0xlLDFp3?e=download&nonce=qahu0hg5tqt30&user=10527760265070548984Z&hash=jnpha3bpr1ed3o5oao1rusua1da97e5l\n",
      "Connecting to doc-00-ao-docs.googleusercontent.com (doc-00-ao-docs.googleusercontent.com)|74.125.124.132|:443... connected.\n",
      "HTTP request sent, awaiting response... 200 OK\n",
      "Length: unspecified [image/tiff]\n",
      "Saving to: ‘/home/cholo/geoai-immap/data/images/gee_testuribia_2015-2016.tif’\n",
      "\n",
      "/home/cholo/geoai-i     [ <=>                ]  10.46M  --.-KB/s    in 0.1s    \n",
      "\n",
      "2020-06-01 15:05:16 (93.6 MB/s) - ‘/home/cholo/geoai-immap/data/images/gee_testuribia_2015-2016.tif’ saved [10967531]\n",
      "\n"
     ]
    }
   ],
   "source": [
    "# Download from GDrive: https://medium.com/@acpanjan/download-google-drive-files-using-wget-3c2c025a8b99\n",
    "# !sudo apt-get install unzip\n",
    "# used absolute path because relative path ../data is temporarily not working\n",
    "\n",
    "# gee_testuribia_2015-2016.tif\n",
    "out_dir = '/home/cholo/geoai-immap/data/images/'\n",
    "!wget --load-cookies /tmp/cookies.txt \"https://docs.google.com/uc?export=download&confirm=$(wget --quiet --save-cookies /tmp/cookies.txt --keep-session-cookies --no-check-certificate 'https://docs.google.com/uc?export=download&id=1PBVw3QJW4ZcSpcHjPBRhLMoS0xlLDFp3' -O- | sed -rn 's/.*confirm=([0-9A-Za-z_]+).*/\\1\\n/p')&id=1PBVw3QJW4ZcSpcHjPBRhLMoS0xlLDFp3\" -O {out_dir}gee_testuribia_2015-2016.tif && rm -rf /tmp/cookies.txt\n",
    "\n",
    "# testuribia_shp.zip\n",
    "out_dir = '/home/cholo/geoai-immap/data/admin_bounds/'\n",
    "!wget --load-cookies /tmp/cookies.txt \"https://docs.google.com/uc?export=download&confirm=$(wget --quiet --save-cookies /tmp/cookies.txt --keep-session-cookies --no-check-certificate 'https://docs.google.com/uc?export=download&id=1hBTSs6zFqoP8Qug45rp8tf55CBvVysgD' -O- | sed -rn 's/.*confirm=([0-9A-Za-z_]+).*/\\1\\n/p')&id=1hBTSs6zFqoP8Qug45rp8tf55CBvVysgD\" -O {out_dir}testuribia_shp.zip && rm -rf /tmp/cookies.txt\n",
    "!unzip -d {out_dir} {out_dir}testuribia_shp.zip"
   ]
  },
  {
   "cell_type": "markdown",
   "metadata": {},
   "source": [
    "## Deflate and crop"
   ]
  },
  {
   "cell_type": "code",
   "execution_count": 33,
   "metadata": {},
   "outputs": [],
   "source": [
    "# not yet working when run as python cell\n",
    "# snippet of gee.py > deflatecrop1 function\n",
    "import subprocess\n",
    "area = 'testuribia'\n",
    "img_dir = '/home/cholo/geoai-immap/data/images/'\n",
    "adm_dir = '/home/cholo/geoai-immap/data/admin_bounds/'\n",
    "# make shapefile for area of interest\n",
    "text = '''\n",
    "eval \"$(conda shell.bash hook)\"\n",
    "conda activate ee\n",
    "gdalwarp -cutline {adm_dir}{area}.shp -srcnodata -dstnodata {img_dir}gee_{area}_2015-2016.tif {img_dir}{area}_2015-2016.tif\n",
    "'''\n",
    "replacement_txt = text.replace('{area}', area).replace('{img_dir}', img_dir).replace('{adm_dir}', adm_dir)\n",
    "f = open(\"deflatecrop.sh\", \"w\")\n",
    "f.write(replacement_txt)\n",
    "f.close()\n",
    "print(replacement_txt)\n",
    "# result = subprocess.run('sh deflatecrop.sh', shell = True, stdout=subprocess.PIPE)\n",
    "# print(result.stdout)"
   ]
  },
  {
   "cell_type": "markdown",
   "metadata": {},
   "source": [
    "# 01_Data_Preprocessing.ipynb"
   ]
  },
  {
   "cell_type": "code",
   "execution_count": 35,
   "metadata": {},
   "outputs": [],
   "source": [
    "import os\n",
    "import operator\n",
    "from tqdm import tqdm\n",
    "import pandas as pd\n",
    "import numpy as np\n",
    "pd.set_option('use_inf_as_na', True)\n",
    "\n",
    "import geopandas as gpd\n",
    "import rasterio as rio\n",
    "\n",
    "import sys\n",
    "sys.path.insert(0, '../utils')\n",
    "import geoutils\n",
    "\n",
    "import logging\n",
    "import warnings\n",
    "logging.getLogger().setLevel(logging.ERROR)\n",
    "warnings.filterwarnings(\"ignore\")\n",
    "\n",
    "import matplotlib.pyplot as plt\n",
    "%matplotlib inline\n",
    "\n",
    "%load_ext autoreload\n",
    "%autoreload 2"
   ]
  },
  {
   "cell_type": "code",
   "execution_count": 36,
   "metadata": {},
   "outputs": [],
   "source": [
    "data_dir = \"../data/\"\n",
    "images_dir = data_dir + 'images/'\n",
    "indices_dir = data_dir + 'indices/'\n",
    "pos_mask_dir = data_dir + 'pos_masks/'\n",
    "neg_mask_dir = data_dir + 'neg_masks/'\n",
    "\n",
    "if not os.path.exists(data_dir):\n",
    "    os.makedirs(data_dir)\n",
    "if not os.path.exists(images_dir):\n",
    "    os.makedirs(images_dir)\n",
    "if not os.path.exists(indices_dir):\n",
    "    os.makedirs(indices_dir)\n",
    "if not os.path.exists(pos_mask_dir):\n",
    "    os.makedirs(pos_mask_dir)\n",
    "if not os.path.exists(neg_mask_dir):\n",
    "    os.makedirs(neg_mask_dir)"
   ]
  },
  {
   "cell_type": "markdown",
   "metadata": {},
   "source": [
    "## Generate TIFF Files for Indices\n",
    "The following script is used to generate TIFF files for the derived indices for each of the images. There is no need to run this if the indices have already been generated. "
   ]
  },
  {
   "cell_type": "code",
   "execution_count": 38,
   "metadata": {
    "scrolled": true
   },
   "outputs": [
    {
     "name": "stderr",
     "output_type": "stream",
     "text": [
      "  0%|          | 0/1 [00:00<?, ?it/s]"
     ]
    },
    {
     "name": "stdout",
     "output_type": "stream",
     "text": [
      "Image filepaths:\n",
      "{'pos_mask_gpkg': '../data/pos_masks/testuribia_pos.gpkg', 'neg_mask_gpkg': '../data/neg_masks/testuribia_neg.gpkg', 'images': ['../data/images/gee_testuribia_2015-2016.tif'], 'indices': []}\n",
      "Calculating indices\n"
     ]
    },
    {
     "name": "stderr",
     "output_type": "stream",
     "text": [
      "100%|██████████| 1/1 [00:02<00:00,  2.77s/it]"
     ]
    },
    {
     "name": "stdout",
     "output_type": "stream",
     "text": [
      "Operations completed.\n"
     ]
    },
    {
     "name": "stderr",
     "output_type": "stream",
     "text": [
      "\n"
     ]
    }
   ],
   "source": [
    "for area in areas:\n",
    "    \n",
    "    area_dict = geoutils.get_filepaths([area], images_dir, indices_dir, pos_mask_dir, neg_mask_dir)\n",
    "    print(\"Image filepaths:\")\n",
    "    print(area_dict[area])\n",
    "    \n",
    "    print('Calculating indices')\n",
    "    area_dict = geoutils.write_indices(area_dict, area, indices_dir)\n",
    "    \n",
    "    print('Operations completed.')"
   ]
  },
  {
   "cell_type": "code",
   "execution_count": null,
   "metadata": {},
   "outputs": [],
   "source": []
  },
  {
   "cell_type": "code",
   "execution_count": null,
   "metadata": {},
   "outputs": [],
   "source": []
  }
 ],
 "metadata": {
  "kernelspec": {
   "display_name": "ee",
   "language": "python",
   "name": "ee"
  },
  "language_info": {
   "codemirror_mode": {
    "name": "ipython",
    "version": 3
   },
   "file_extension": ".py",
   "mimetype": "text/x-python",
   "name": "python",
   "nbconvert_exporter": "python",
   "pygments_lexer": "ipython3",
   "version": "3.8.2"
  }
 },
 "nbformat": 4,
 "nbformat_minor": 4
}
