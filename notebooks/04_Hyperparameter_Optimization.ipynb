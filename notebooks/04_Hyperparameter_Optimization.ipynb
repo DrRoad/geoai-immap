{
 "cells": [
  {
   "cell_type": "markdown",
   "metadata": {},
   "source": [
    "# Model Experimentation: Hyperparameter Optimization\n",
    "This notebook conducts experiments on hyperparameter optimization."
   ]
  },
  {
   "cell_type": "markdown",
   "metadata": {},
   "source": [
    "## Imports and Setup"
   ]
  },
  {
   "cell_type": "code",
   "execution_count": 1,
   "metadata": {},
   "outputs": [],
   "source": [
    "import pandas as pd\n",
    "import numpy as np\n",
    "\n",
    "import matplotlib.pyplot as plt\n",
    "import seaborn as sns\n",
    "sns.set(style=\"whitegrid\")\n",
    "\n",
    "import sys\n",
    "sys.path.insert(0, '../utils')\n",
    "import model_utils\n",
    "import geoutils\n",
    "\n",
    "import logging\n",
    "import warnings\n",
    "logging.getLogger().setLevel(logging.ERROR)\n",
    "warnings.filterwarnings(\"ignore\")\n",
    "\n",
    "SEED = 42\n",
    "\n",
    "%load_ext autoreload\n",
    "%autoreload 2"
   ]
  },
  {
   "cell_type": "markdown",
   "metadata": {},
   "source": [
    "## File Location"
   ]
  },
  {
   "cell_type": "code",
   "execution_count": 2,
   "metadata": {},
   "outputs": [],
   "source": [
    "data_dir = \"../data/\"\n",
    "input_file = data_dir + '20200326_dataset.csv'\n",
    "\n",
    "pos_mask_dir = data_dir + 'pos_masks/'\n",
    "neg_mask_dir = data_dir + 'neg_masks/'\n",
    "sentinel_dir = data_dir + 'sentinel2/'\n",
    "\n",
    "areas = ['maicao', 'riohacha', 'uribia']"
   ]
  },
  {
   "cell_type": "markdown",
   "metadata": {},
   "source": [
    "## Load Dataset"
   ]
  },
  {
   "cell_type": "code",
   "execution_count": 3,
   "metadata": {},
   "outputs": [
    {
     "name": "stdout",
     "output_type": "stream",
     "text": [
      "Data dimensions: (334524, 112)\n"
     ]
    },
    {
     "data": {
      "text/html": [
       "<div>\n",
       "<style scoped>\n",
       "    .dataframe tbody tr th:only-of-type {\n",
       "        vertical-align: middle;\n",
       "    }\n",
       "\n",
       "    .dataframe tbody tr th {\n",
       "        vertical-align: top;\n",
       "    }\n",
       "\n",
       "    .dataframe thead th {\n",
       "        text-align: right;\n",
       "    }\n",
       "</style>\n",
       "<table border=\"1\" class=\"dataframe\">\n",
       "  <thead>\n",
       "    <tr style=\"text-align: right;\">\n",
       "      <th></th>\n",
       "      <th>B1_2016</th>\n",
       "      <th>B2_2016</th>\n",
       "      <th>B3_2016</th>\n",
       "      <th>B4_2016</th>\n",
       "      <th>B5_2016</th>\n",
       "      <th>B6_2016</th>\n",
       "      <th>B7_2016</th>\n",
       "      <th>B8_2016</th>\n",
       "      <th>B9_2016</th>\n",
       "      <th>B10_2016</th>\n",
       "      <th>...</th>\n",
       "      <th>savi_2020</th>\n",
       "      <th>mndwi_2020</th>\n",
       "      <th>ui_2020</th>\n",
       "      <th>nbi_2020</th>\n",
       "      <th>brba_2020</th>\n",
       "      <th>nbai_2020</th>\n",
       "      <th>mbi_2020</th>\n",
       "      <th>baei_2020</th>\n",
       "      <th>target</th>\n",
       "      <th>area</th>\n",
       "    </tr>\n",
       "  </thead>\n",
       "  <tbody>\n",
       "    <tr>\n",
       "      <th>0</th>\n",
       "      <td>0.15970</td>\n",
       "      <td>0.13735</td>\n",
       "      <td>0.1531</td>\n",
       "      <td>0.18700</td>\n",
       "      <td>0.2090</td>\n",
       "      <td>0.26320</td>\n",
       "      <td>0.30515</td>\n",
       "      <td>0.26965</td>\n",
       "      <td>0.3327</td>\n",
       "      <td>0.0411</td>\n",
       "      <td>...</td>\n",
       "      <td>0.187614</td>\n",
       "      <td>-0.509745</td>\n",
       "      <td>0.105128</td>\n",
       "      <td>0.239614</td>\n",
       "      <td>0.449106</td>\n",
       "      <td>-0.718433</td>\n",
       "      <td>-0.042537</td>\n",
       "      <td>0.901237</td>\n",
       "      <td>3</td>\n",
       "      <td>0</td>\n",
       "    </tr>\n",
       "    <tr>\n",
       "      <th>1</th>\n",
       "      <td>0.15970</td>\n",
       "      <td>0.13905</td>\n",
       "      <td>0.1454</td>\n",
       "      <td>0.17845</td>\n",
       "      <td>0.2090</td>\n",
       "      <td>0.26320</td>\n",
       "      <td>0.30515</td>\n",
       "      <td>0.26395</td>\n",
       "      <td>0.3327</td>\n",
       "      <td>0.0411</td>\n",
       "      <td>...</td>\n",
       "      <td>0.177058</td>\n",
       "      <td>-0.507485</td>\n",
       "      <td>0.105128</td>\n",
       "      <td>0.247826</td>\n",
       "      <td>0.464498</td>\n",
       "      <td>-0.716955</td>\n",
       "      <td>-0.039760</td>\n",
       "      <td>0.911490</td>\n",
       "      <td>3</td>\n",
       "      <td>0</td>\n",
       "    </tr>\n",
       "    <tr>\n",
       "      <th>2</th>\n",
       "      <td>0.16675</td>\n",
       "      <td>0.14875</td>\n",
       "      <td>0.1589</td>\n",
       "      <td>0.18605</td>\n",
       "      <td>0.2258</td>\n",
       "      <td>0.27945</td>\n",
       "      <td>0.32070</td>\n",
       "      <td>0.28085</td>\n",
       "      <td>0.3452</td>\n",
       "      <td>0.0416</td>\n",
       "      <td>...</td>\n",
       "      <td>0.179191</td>\n",
       "      <td>-0.524371</td>\n",
       "      <td>0.073259</td>\n",
       "      <td>0.262348</td>\n",
       "      <td>0.446475</td>\n",
       "      <td>-0.722188</td>\n",
       "      <td>-0.033995</td>\n",
       "      <td>0.875915</td>\n",
       "      <td>3</td>\n",
       "      <td>0</td>\n",
       "    </tr>\n",
       "  </tbody>\n",
       "</table>\n",
       "<p>3 rows × 112 columns</p>\n",
       "</div>"
      ],
      "text/plain": [
       "   B1_2016  B2_2016  B3_2016  B4_2016  B5_2016  B6_2016  B7_2016  B8_2016  \\\n",
       "0  0.15970  0.13735   0.1531  0.18700   0.2090  0.26320  0.30515  0.26965   \n",
       "1  0.15970  0.13905   0.1454  0.17845   0.2090  0.26320  0.30515  0.26395   \n",
       "2  0.16675  0.14875   0.1589  0.18605   0.2258  0.27945  0.32070  0.28085   \n",
       "\n",
       "   B9_2016  B10_2016  ...  savi_2020  mndwi_2020   ui_2020  nbi_2020  \\\n",
       "0   0.3327    0.0411  ...   0.187614   -0.509745  0.105128  0.239614   \n",
       "1   0.3327    0.0411  ...   0.177058   -0.507485  0.105128  0.247826   \n",
       "2   0.3452    0.0416  ...   0.179191   -0.524371  0.073259  0.262348   \n",
       "\n",
       "   brba_2020  nbai_2020  mbi_2020  baei_2020  target  area  \n",
       "0   0.449106  -0.718433 -0.042537   0.901237       3     0  \n",
       "1   0.464498  -0.716955 -0.039760   0.911490       3     0  \n",
       "2   0.446475  -0.722188 -0.033995   0.875915       3     0  \n",
       "\n",
       "[3 rows x 112 columns]"
      ]
     },
     "execution_count": 3,
     "metadata": {},
     "output_type": "execute_result"
    }
   ],
   "source": [
    "data = pd.read_csv(input_file).reset_index(drop=True)\n",
    "print('Data dimensions: {}'.format(data.shape))\n",
    "data.head(3)"
   ]
  },
  {
   "cell_type": "markdown",
   "metadata": {},
   "source": [
    "## Resample Dataset\n",
    "Resamples 30,000 negative examples per area."
   ]
  },
  {
   "cell_type": "code",
   "execution_count": 4,
   "metadata": {},
   "outputs": [
    {
     "name": "stdout",
     "output_type": "stream",
     "text": [
      "Data dimensions: (104556, 112)\n"
     ]
    },
    {
     "data": {
      "text/html": [
       "<div>\n",
       "<style scoped>\n",
       "    .dataframe tbody tr th:only-of-type {\n",
       "        vertical-align: middle;\n",
       "    }\n",
       "\n",
       "    .dataframe tbody tr th {\n",
       "        vertical-align: top;\n",
       "    }\n",
       "\n",
       "    .dataframe thead th {\n",
       "        text-align: right;\n",
       "    }\n",
       "</style>\n",
       "<table border=\"1\" class=\"dataframe\">\n",
       "  <thead>\n",
       "    <tr style=\"text-align: right;\">\n",
       "      <th></th>\n",
       "      <th>B1_2016</th>\n",
       "      <th>B2_2016</th>\n",
       "      <th>B3_2016</th>\n",
       "      <th>B4_2016</th>\n",
       "      <th>B5_2016</th>\n",
       "      <th>B6_2016</th>\n",
       "      <th>B7_2016</th>\n",
       "      <th>B8_2016</th>\n",
       "      <th>B9_2016</th>\n",
       "      <th>B10_2016</th>\n",
       "      <th>...</th>\n",
       "      <th>savi_2020</th>\n",
       "      <th>mndwi_2020</th>\n",
       "      <th>ui_2020</th>\n",
       "      <th>nbi_2020</th>\n",
       "      <th>brba_2020</th>\n",
       "      <th>nbai_2020</th>\n",
       "      <th>mbi_2020</th>\n",
       "      <th>baei_2020</th>\n",
       "      <th>target</th>\n",
       "      <th>area</th>\n",
       "    </tr>\n",
       "  </thead>\n",
       "  <tbody>\n",
       "    <tr>\n",
       "      <th>0</th>\n",
       "      <td>0.22620</td>\n",
       "      <td>0.18300</td>\n",
       "      <td>0.1790</td>\n",
       "      <td>0.1831</td>\n",
       "      <td>0.18860</td>\n",
       "      <td>0.2509</td>\n",
       "      <td>0.2981</td>\n",
       "      <td>0.2653</td>\n",
       "      <td>0.3291</td>\n",
       "      <td>0.0431</td>\n",
       "      <td>...</td>\n",
       "      <td>0.231549</td>\n",
       "      <td>-0.594230</td>\n",
       "      <td>0.211756</td>\n",
       "      <td>0.102407</td>\n",
       "      <td>0.321400</td>\n",
       "      <td>-0.798628</td>\n",
       "      <td>-0.067515</td>\n",
       "      <td>1.196927</td>\n",
       "      <td>3</td>\n",
       "      <td>0</td>\n",
       "    </tr>\n",
       "    <tr>\n",
       "      <th>1</th>\n",
       "      <td>0.14955</td>\n",
       "      <td>0.12935</td>\n",
       "      <td>0.1270</td>\n",
       "      <td>0.1223</td>\n",
       "      <td>0.13935</td>\n",
       "      <td>0.2424</td>\n",
       "      <td>0.2846</td>\n",
       "      <td>0.2662</td>\n",
       "      <td>0.3236</td>\n",
       "      <td>0.0388</td>\n",
       "      <td>...</td>\n",
       "      <td>0.219911</td>\n",
       "      <td>-0.529955</td>\n",
       "      <td>0.153344</td>\n",
       "      <td>0.208832</td>\n",
       "      <td>0.384915</td>\n",
       "      <td>-0.705785</td>\n",
       "      <td>-0.057656</td>\n",
       "      <td>0.871430</td>\n",
       "      <td>3</td>\n",
       "      <td>0</td>\n",
       "    </tr>\n",
       "    <tr>\n",
       "      <th>2</th>\n",
       "      <td>0.16860</td>\n",
       "      <td>0.15970</td>\n",
       "      <td>0.1612</td>\n",
       "      <td>0.1616</td>\n",
       "      <td>0.18550</td>\n",
       "      <td>0.3246</td>\n",
       "      <td>0.3985</td>\n",
       "      <td>0.3127</td>\n",
       "      <td>0.4143</td>\n",
       "      <td>0.0454</td>\n",
       "      <td>...</td>\n",
       "      <td>0.205571</td>\n",
       "      <td>-0.536190</td>\n",
       "      <td>0.136678</td>\n",
       "      <td>0.237628</td>\n",
       "      <td>0.413957</td>\n",
       "      <td>-0.706110</td>\n",
       "      <td>-0.052031</td>\n",
       "      <td>0.864904</td>\n",
       "      <td>3</td>\n",
       "      <td>0</td>\n",
       "    </tr>\n",
       "  </tbody>\n",
       "</table>\n",
       "<p>3 rows × 112 columns</p>\n",
       "</div>"
      ],
      "text/plain": [
       "   B1_2016  B2_2016  B3_2016  B4_2016  B5_2016  B6_2016  B7_2016  B8_2016  \\\n",
       "0  0.22620  0.18300   0.1790   0.1831  0.18860   0.2509   0.2981   0.2653   \n",
       "1  0.14955  0.12935   0.1270   0.1223  0.13935   0.2424   0.2846   0.2662   \n",
       "2  0.16860  0.15970   0.1612   0.1616  0.18550   0.3246   0.3985   0.3127   \n",
       "\n",
       "   B9_2016  B10_2016  ...  savi_2020  mndwi_2020   ui_2020  nbi_2020  \\\n",
       "0   0.3291    0.0431  ...   0.231549   -0.594230  0.211756  0.102407   \n",
       "1   0.3236    0.0388  ...   0.219911   -0.529955  0.153344  0.208832   \n",
       "2   0.4143    0.0454  ...   0.205571   -0.536190  0.136678  0.237628   \n",
       "\n",
       "   brba_2020  nbai_2020  mbi_2020  baei_2020  target  area  \n",
       "0   0.321400  -0.798628 -0.067515   1.196927       3     0  \n",
       "1   0.384915  -0.705785 -0.057656   0.871430       3     0  \n",
       "2   0.413957  -0.706110 -0.052031   0.864904       3     0  \n",
       "\n",
       "[3 rows x 112 columns]"
      ]
     },
     "execution_count": 4,
     "metadata": {},
     "output_type": "execute_result"
    }
   ],
   "source": [
    "data = model_utils.resample(data, num_neg_samples=30000, random_state=SEED)\n",
    "print('Data dimensions: {}'.format(data.shape))\n",
    "data.head(3)"
   ]
  },
  {
   "cell_type": "markdown",
   "metadata": {},
   "source": [
    "## Machine Learning Pipeline"
   ]
  },
  {
   "cell_type": "code",
   "execution_count": 5,
   "metadata": {},
   "outputs": [],
   "source": [
    "from sklearn.linear_model import LogisticRegression\n",
    "from sklearn.ensemble import RandomForestClassifier\n",
    "from sklearn.naive_bayes import GaussianNB\n",
    "from sklearn.svm import LinearSVC\n",
    "from lightgbm import LGBMClassifier\n",
    "SEED = 42"
   ]
  },
  {
   "cell_type": "markdown",
   "metadata": {},
   "source": [
    "## Define Features and Target Label"
   ]
  },
  {
   "cell_type": "code",
   "execution_count": 6,
   "metadata": {},
   "outputs": [
    {
     "name": "stdout",
     "output_type": "stream",
     "text": [
      "Data dimensions: (104556, 112)\n",
      "Class distribution:\n",
      "0    90000\n",
      "1    14556\n",
      "Name: target, dtype: int64\n"
     ]
    }
   ],
   "source": [
    "# Get target and feature columns\n",
    "label = 'target'\n",
    "features = [column for column in data.columns[:-2] if 'mndwi' not in column]\n",
    "\n",
    "# Convert target labels to binary\n",
    "data[label] = data[label].replace({2:0, 3:0})\n",
    "\n",
    "print('Data dimensions: {}'.format(data.shape))\n",
    "print('Class distribution:\\n{}'.format(data['target'].value_counts()))"
   ]
  },
  {
   "cell_type": "markdown",
   "metadata": {},
   "source": [
    "## Define Best Feature Set\n",
    "Based on experiments run in `notebooks/03_Feature_Selection.ipynb`."
   ]
  },
  {
   "cell_type": "markdown",
   "metadata": {},
   "source": [
    "## LinearSVC"
   ]
  },
  {
   "cell_type": "code",
   "execution_count": 72,
   "metadata": {},
   "outputs": [],
   "source": [
    "lsvc_best_features = [\n",
    "    'B2_2016', 'B11_2016', 'B12_2016', 'nbi_2016', 'mbi_2016', 'B1_2017', 'B5_2017', \n",
    "    'B11_2017', 'ui_2017', 'B10_2018', 'ui_2018', 'nbai_2018', 'mbi_2018', 'B2_2019', \n",
    "    'B6_2019', 'B7_2019', 'B9_2019', 'B10_2019', 'B12_2019', 'ndbi_2019', 'savi_2019', \n",
    "    'nbi_2019', 'brba_2019', 'mbi_2019', 'B1_2020', 'B4_2020', 'B6_2020', 'B9_2020', \n",
    "    'B12_2020', 'savi_2020'\n",
    "]"
   ]
  },
  {
   "cell_type": "markdown",
   "metadata": {},
   "source": [
    "### [Baseline] LinearSVC Results Sans Hyperparamater Optimization"
   ]
  },
  {
   "cell_type": "code",
   "execution_count": 73,
   "metadata": {},
   "outputs": [
    {
     "name": "stdout",
     "output_type": "stream",
     "text": [
      "\n",
      "Test set: MAICAO\n",
      "[[29698   302]\n",
      " [  151   559]]\n",
      "              precision    recall  f1-score   support\n",
      "\n",
      "           0       0.99      0.99      0.99     30000\n",
      "           1       0.65      0.79      0.71       710\n",
      "\n",
      "    accuracy                           0.99     30710\n",
      "   macro avg       0.82      0.89      0.85     30710\n",
      "weighted avg       0.99      0.99      0.99     30710\n",
      "\n",
      "MAICAO Results: \n",
      "- F1 Score: 0.7116\n",
      "- Kappa Statistics: 0.7042\n",
      "- Precision: 0.6492\n",
      "- Recall: 0.7873\n",
      "- Accuracy: 0.9852\n",
      "\n",
      "Test set: RIOHACHA\n",
      "[[29843   157]\n",
      " [  737  2764]]\n",
      "              precision    recall  f1-score   support\n",
      "\n",
      "           0       0.98      0.99      0.99     30000\n",
      "           1       0.95      0.79      0.86      3501\n",
      "\n",
      "    accuracy                           0.97     33501\n",
      "   macro avg       0.96      0.89      0.92     33501\n",
      "weighted avg       0.97      0.97      0.97     33501\n",
      "\n",
      "RIOHACHA Results: \n",
      "- F1 Score: 0.8608\n",
      "- Kappa Statistics: 0.8462\n",
      "- Precision: 0.9463\n",
      "- Recall: 0.7895\n",
      "- Accuracy: 0.9733\n",
      "\n",
      "Test set: URIBIA\n",
      "[[29823   177]\n",
      " [ 1041  9304]]\n",
      "              precision    recall  f1-score   support\n",
      "\n",
      "           0       0.97      0.99      0.98     30000\n",
      "           1       0.98      0.90      0.94     10345\n",
      "\n",
      "    accuracy                           0.97     40345\n",
      "   macro avg       0.97      0.95      0.96     40345\n",
      "weighted avg       0.97      0.97      0.97     40345\n",
      "\n",
      "URIBIA Results: \n",
      "- F1 Score: 0.9386\n",
      "- Kappa Statistics: 0.9186\n",
      "- Precision: 0.9813\n",
      "- Recall: 0.8994\n",
      "- Accuracy: 0.9698\n",
      "\n",
      "Average F1 Score: 0.8370\n",
      "Average Kappa statistic: 0.8230\n",
      "Average Precision: 0.8589\n",
      "Average Recall: 0.8254\n",
      "Average Accuracy: 0.9761\n",
      "\n"
     ]
    }
   ],
   "source": [
    "lsvc = LinearSVC(random_state=SEED)\n",
    "results, clfs = model_utils.geospatialcv(data, lsvc_best_features, label, lsvc, verbose=2);"
   ]
  },
  {
   "cell_type": "markdown",
   "metadata": {},
   "source": [
    "### Grid Search Cross Validation\n",
    "Reference: https://towardsdatascience.com/svm-hyper-parameter-tuning-using-gridsearchcv-49c0bc55ce29"
   ]
  },
  {
   "cell_type": "code",
   "execution_count": 74,
   "metadata": {},
   "outputs": [
    {
     "name": "stdout",
     "output_type": "stream",
     "text": [
      "Fitting 3 folds for each of 6 candidates, totalling 18 fits\n"
     ]
    },
    {
     "name": "stderr",
     "output_type": "stream",
     "text": [
      "[Parallel(n_jobs=-1)]: Using backend LokyBackend with 8 concurrent workers.\n",
      "[Parallel(n_jobs=-1)]: Done  13 out of  18 | elapsed:    6.7s remaining:    2.6s\n",
      "[Parallel(n_jobs=-1)]: Done  18 out of  18 | elapsed:   13.2s finished\n"
     ]
    },
    {
     "name": "stdout",
     "output_type": "stream",
     "text": [
      "Best Paramaters: {'classifier__C': 100}\n"
     ]
    }
   ],
   "source": [
    "lsvc = LinearSVC(random_state=SEED)\n",
    "param_grid = {'classifier__C': [0.001, 0.1, 1, 10, 100, 1000]}\n",
    "lsvc_grid_search = model_utils.hyperparameter_optimization(\n",
    "    data, lsvc_best_features, label, lsvc, param_grid, scoring='f1', verbose=2\n",
    ")"
   ]
  },
  {
   "cell_type": "markdown",
   "metadata": {},
   "source": [
    "### LinearSVC Results with Hyperparameter Optimization"
   ]
  },
  {
   "cell_type": "code",
   "execution_count": 75,
   "metadata": {},
   "outputs": [
    {
     "name": "stdout",
     "output_type": "stream",
     "text": [
      "\n",
      "Test set: MAICAO\n",
      "[[29741   259]\n",
      " [  173   537]]\n",
      "              precision    recall  f1-score   support\n",
      "\n",
      "           0       0.99      0.99      0.99     30000\n",
      "           1       0.67      0.76      0.71       710\n",
      "\n",
      "    accuracy                           0.99     30710\n",
      "   macro avg       0.83      0.87      0.85     30710\n",
      "weighted avg       0.99      0.99      0.99     30710\n",
      "\n",
      "MAICAO Results: \n",
      "- F1 Score: 0.7131\n",
      "- Kappa Statistics: 0.7060\n",
      "- Precision: 0.6746\n",
      "- Recall: 0.7563\n",
      "- Accuracy: 0.9859\n",
      "\n",
      "Test set: RIOHACHA\n",
      "[[29958    42]\n",
      " [  576  2925]]\n",
      "              precision    recall  f1-score   support\n",
      "\n",
      "           0       0.98      1.00      0.99     30000\n",
      "           1       0.99      0.84      0.90      3501\n",
      "\n",
      "    accuracy                           0.98     33501\n",
      "   macro avg       0.98      0.92      0.95     33501\n",
      "weighted avg       0.98      0.98      0.98     33501\n",
      "\n",
      "RIOHACHA Results: \n",
      "- F1 Score: 0.9045\n",
      "- Kappa Statistics: 0.8943\n",
      "- Precision: 0.9858\n",
      "- Recall: 0.8355\n",
      "- Accuracy: 0.9816\n",
      "\n",
      "Test set: URIBIA\n",
      "[[29779   221]\n",
      " [  934  9411]]\n",
      "              precision    recall  f1-score   support\n",
      "\n",
      "           0       0.97      0.99      0.98     30000\n",
      "           1       0.98      0.91      0.94     10345\n",
      "\n",
      "    accuracy                           0.97     40345\n",
      "   macro avg       0.97      0.95      0.96     40345\n",
      "weighted avg       0.97      0.97      0.97     40345\n",
      "\n",
      "URIBIA Results: \n",
      "- F1 Score: 0.9422\n",
      "- Kappa Statistics: 0.9232\n",
      "- Precision: 0.9771\n",
      "- Recall: 0.9097\n",
      "- Accuracy: 0.9714\n",
      "\n",
      "Average F1 Score: 0.8533\n",
      "Average Kappa statistic: 0.8412\n",
      "Average Precision: 0.8792\n",
      "Average Recall: 0.8338\n",
      "Average Accuracy: 0.9796\n",
      "\n"
     ]
    }
   ],
   "source": [
    "lsvc = LinearSVC(C=100, random_state=SEED)\n",
    "results, clfs = model_utils.geospatialcv(data, lsvc_best_features, label, lsvc, verbose=2);"
   ]
  },
  {
   "cell_type": "markdown",
   "metadata": {},
   "source": [
    "## Logistic Regression"
   ]
  },
  {
   "cell_type": "code",
   "execution_count": 71,
   "metadata": {},
   "outputs": [],
   "source": [
    "lr_best_features = [\n",
    "    'nbi_2016', 'B1_2017', 'B2_2018', 'B12_2018', 'B1_2019', 'B10_2019', \n",
    "    'B12_2019', 'savi_2019', 'B1_2020', 'B12_2020'\n",
    "]"
   ]
  },
  {
   "cell_type": "markdown",
   "metadata": {},
   "source": [
    "### [Baseline] Logistic Regression Results Sans Hyperparamater Optimization"
   ]
  },
  {
   "cell_type": "code",
   "execution_count": 60,
   "metadata": {},
   "outputs": [
    {
     "name": "stdout",
     "output_type": "stream",
     "text": [
      "\n",
      "Test set: MAICAO\n",
      "[[29528   472]\n",
      " [  158   552]]\n",
      "              precision    recall  f1-score   support\n",
      "\n",
      "           0       0.99      0.98      0.99     30000\n",
      "           1       0.54      0.78      0.64       710\n",
      "\n",
      "    accuracy                           0.98     30710\n",
      "   macro avg       0.77      0.88      0.81     30710\n",
      "weighted avg       0.98      0.98      0.98     30710\n",
      "\n",
      "MAICAO Results: \n",
      "- F1 Score: 0.6367\n",
      "- Kappa Statistics: 0.6265\n",
      "- Precision: 0.5391\n",
      "- Recall: 0.7775\n",
      "- Accuracy: 0.9795\n",
      "\n",
      "Test set: RIOHACHA\n",
      "[[29847   153]\n",
      " [  679  2822]]\n",
      "              precision    recall  f1-score   support\n",
      "\n",
      "           0       0.98      0.99      0.99     30000\n",
      "           1       0.95      0.81      0.87      3501\n",
      "\n",
      "    accuracy                           0.98     33501\n",
      "   macro avg       0.96      0.90      0.93     33501\n",
      "weighted avg       0.97      0.98      0.97     33501\n",
      "\n",
      "RIOHACHA Results: \n",
      "- F1 Score: 0.8715\n",
      "- Kappa Statistics: 0.8579\n",
      "- Precision: 0.9486\n",
      "- Recall: 0.8061\n",
      "- Accuracy: 0.9752\n",
      "\n",
      "Test set: URIBIA\n",
      "[[29898   102]\n",
      " [ 1275  9070]]\n",
      "              precision    recall  f1-score   support\n",
      "\n",
      "           0       0.96      1.00      0.98     30000\n",
      "           1       0.99      0.88      0.93     10345\n",
      "\n",
      "    accuracy                           0.97     40345\n",
      "   macro avg       0.97      0.94      0.95     40345\n",
      "weighted avg       0.97      0.97      0.97     40345\n",
      "\n",
      "URIBIA Results: \n",
      "- F1 Score: 0.9294\n",
      "- Kappa Statistics: 0.9070\n",
      "- Precision: 0.9889\n",
      "- Recall: 0.8768\n",
      "- Accuracy: 0.9659\n",
      "\n",
      "Average F1 Score: 0.8125\n",
      "Average Kappa statistic: 0.7971\n",
      "Average Precision: 0.8255\n",
      "Average Recall: 0.8201\n",
      "Average Accuracy: 0.9735\n",
      "\n"
     ]
    }
   ],
   "source": [
    "lr = LogisticRegression()\n",
    "results, clfs = model_utils.geospatialcv(data, lr_best_features, label, lr, verbose=2);"
   ]
  },
  {
   "cell_type": "markdown",
   "metadata": {},
   "source": [
    "### Grid Search Cross Validation"
   ]
  },
  {
   "cell_type": "code",
   "execution_count": 69,
   "metadata": {},
   "outputs": [
    {
     "name": "stdout",
     "output_type": "stream",
     "text": [
      "Fitting 3 folds for each of 16 candidates, totalling 48 fits\n"
     ]
    },
    {
     "name": "stderr",
     "output_type": "stream",
     "text": [
      "[Parallel(n_jobs=-1)]: Using backend LokyBackend with 8 concurrent workers.\n",
      "[Parallel(n_jobs=-1)]: Done  25 tasks      | elapsed:   10.0s\n",
      "[Parallel(n_jobs=-1)]: Done  48 out of  48 | elapsed:   24.6s finished\n"
     ]
    },
    {
     "name": "stdout",
     "output_type": "stream",
     "text": [
      "Best Paramaters: {'classifier__C': 1.0, 'classifier__penalty': 'l2'}\n"
     ]
    }
   ],
   "source": [
    "param_grid = {\n",
    "    'classifier__penalty': ['l1', 'l2'],\n",
    "    'classifier__C':[0.001, 0.009, 0.01, 0.09, 1.0, 5.0, 10, 25]\n",
    "}\n",
    "lr_grid_search = model_utils.hyperparameter_optimization(\n",
    "    data, lr_best_features, label, lr, param_grid, scoring='f1', verbose=2\n",
    ")"
   ]
  },
  {
   "cell_type": "code",
   "execution_count": 70,
   "metadata": {},
   "outputs": [
    {
     "name": "stdout",
     "output_type": "stream",
     "text": [
      "\n",
      "Test set: MAICAO\n",
      "[[29528   472]\n",
      " [  158   552]]\n",
      "              precision    recall  f1-score   support\n",
      "\n",
      "           0       0.99      0.98      0.99     30000\n",
      "           1       0.54      0.78      0.64       710\n",
      "\n",
      "    accuracy                           0.98     30710\n",
      "   macro avg       0.77      0.88      0.81     30710\n",
      "weighted avg       0.98      0.98      0.98     30710\n",
      "\n",
      "MAICAO Results: \n",
      "- F1 Score: 0.6367\n",
      "- Kappa Statistics: 0.6265\n",
      "- Precision: 0.5391\n",
      "- Recall: 0.7775\n",
      "- Accuracy: 0.9795\n",
      "\n",
      "Test set: RIOHACHA\n",
      "[[29847   153]\n",
      " [  679  2822]]\n",
      "              precision    recall  f1-score   support\n",
      "\n",
      "           0       0.98      0.99      0.99     30000\n",
      "           1       0.95      0.81      0.87      3501\n",
      "\n",
      "    accuracy                           0.98     33501\n",
      "   macro avg       0.96      0.90      0.93     33501\n",
      "weighted avg       0.97      0.98      0.97     33501\n",
      "\n",
      "RIOHACHA Results: \n",
      "- F1 Score: 0.8715\n",
      "- Kappa Statistics: 0.8579\n",
      "- Precision: 0.9486\n",
      "- Recall: 0.8061\n",
      "- Accuracy: 0.9752\n",
      "\n",
      "Test set: URIBIA\n",
      "[[29898   102]\n",
      " [ 1275  9070]]\n",
      "              precision    recall  f1-score   support\n",
      "\n",
      "           0       0.96      1.00      0.98     30000\n",
      "           1       0.99      0.88      0.93     10345\n",
      "\n",
      "    accuracy                           0.97     40345\n",
      "   macro avg       0.97      0.94      0.95     40345\n",
      "weighted avg       0.97      0.97      0.97     40345\n",
      "\n",
      "URIBIA Results: \n",
      "- F1 Score: 0.9294\n",
      "- Kappa Statistics: 0.9070\n",
      "- Precision: 0.9889\n",
      "- Recall: 0.8768\n",
      "- Accuracy: 0.9659\n",
      "\n",
      "Average F1 Score: 0.8125\n",
      "Average Kappa statistic: 0.7971\n",
      "Average Precision: 0.8255\n",
      "Average Recall: 0.8201\n",
      "Average Accuracy: 0.9735\n",
      "\n"
     ]
    }
   ],
   "source": [
    "lr = LogisticRegression(C=1.0, penalty='l2')\n",
    "results, clfs = model_utils.geospatialcv(data, lr_best_features, label, lr, verbose=2);"
   ]
  }
 ],
 "metadata": {
  "kernelspec": {
   "display_name": "venv",
   "language": "python",
   "name": "venv"
  },
  "language_info": {
   "codemirror_mode": {
    "name": "ipython",
    "version": 3
   },
   "file_extension": ".py",
   "mimetype": "text/x-python",
   "name": "python",
   "nbconvert_exporter": "python",
   "pygments_lexer": "ipython3",
   "version": "3.7.4"
  }
 },
 "nbformat": 4,
 "nbformat_minor": 4
}
