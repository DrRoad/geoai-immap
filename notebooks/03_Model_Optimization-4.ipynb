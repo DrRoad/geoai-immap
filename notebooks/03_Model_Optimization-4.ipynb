{
 "cells": [
  {
   "cell_type": "markdown",
   "metadata": {},
   "source": [
    "# Model Experimentation: Hyperparameter Optimization\n",
    "This notebook conducts experiments on hyperparameter optimization."
   ]
  },
  {
   "cell_type": "markdown",
   "metadata": {},
   "source": [
    "## Imports and Setup"
   ]
  },
  {
   "cell_type": "code",
   "execution_count": 1,
   "metadata": {},
   "outputs": [],
   "source": [
    "import pandas as pd\n",
    "import numpy as np\n",
    "\n",
    "import matplotlib.pyplot as plt\n",
    "import seaborn as sns\n",
    "sns.set(style=\"whitegrid\")\n",
    "\n",
    "import sys\n",
    "sys.path.insert(0, '../utils')\n",
    "import model_utils\n",
    "import geoutils\n",
    "\n",
    "import logging\n",
    "import warnings\n",
    "logging.getLogger().setLevel(logging.ERROR)\n",
    "warnings.filterwarnings(\"ignore\")\n",
    "\n",
    "SEED = 42\n",
    "\n",
    "%load_ext autoreload\n",
    "%autoreload 2"
   ]
  },
  {
   "cell_type": "markdown",
   "metadata": {},
   "source": [
    "## File Location"
   ]
  },
  {
   "cell_type": "code",
   "execution_count": 2,
   "metadata": {},
   "outputs": [],
   "source": [
    "data_dir = \"../data/\"\n",
    "input_file = data_dir + '20200409_dataset.csv'\n",
    "\n",
    "pos_mask_dir = data_dir + 'pos_masks/'\n",
    "neg_mask_dir = data_dir + 'neg_masks/'\n",
    "sentinel_dir = data_dir + 'sentinel2/'\n",
    "false_pos_dir = data_dir + 'false_pos/'\n",
    "\n",
    "areas = ['maicao', 'riohacha', 'uribia']"
   ]
  },
  {
   "cell_type": "markdown",
   "metadata": {},
   "source": [
    "## Load Dataset"
   ]
  },
  {
   "cell_type": "code",
   "execution_count": 3,
   "metadata": {},
   "outputs": [
    {
     "name": "stdout",
     "output_type": "stream",
     "text": [
      "Data dimensions: (384534, 112)\n"
     ]
    },
    {
     "data": {
      "text/html": [
       "<div>\n",
       "<style scoped>\n",
       "    .dataframe tbody tr th:only-of-type {\n",
       "        vertical-align: middle;\n",
       "    }\n",
       "\n",
       "    .dataframe tbody tr th {\n",
       "        vertical-align: top;\n",
       "    }\n",
       "\n",
       "    .dataframe thead th {\n",
       "        text-align: right;\n",
       "    }\n",
       "</style>\n",
       "<table border=\"1\" class=\"dataframe\">\n",
       "  <thead>\n",
       "    <tr style=\"text-align: right;\">\n",
       "      <th></th>\n",
       "      <th>B1_2016</th>\n",
       "      <th>B2_2016</th>\n",
       "      <th>B3_2016</th>\n",
       "      <th>B4_2016</th>\n",
       "      <th>B5_2016</th>\n",
       "      <th>B6_2016</th>\n",
       "      <th>B7_2016</th>\n",
       "      <th>B8_2016</th>\n",
       "      <th>B9_2016</th>\n",
       "      <th>B10_2016</th>\n",
       "      <th>...</th>\n",
       "      <th>savi_2020</th>\n",
       "      <th>mndwi_2020</th>\n",
       "      <th>ui_2020</th>\n",
       "      <th>nbi_2020</th>\n",
       "      <th>brba_2020</th>\n",
       "      <th>nbai_2020</th>\n",
       "      <th>mbi_2020</th>\n",
       "      <th>baei_2020</th>\n",
       "      <th>target</th>\n",
       "      <th>area</th>\n",
       "    </tr>\n",
       "  </thead>\n",
       "  <tbody>\n",
       "    <tr>\n",
       "      <th>0</th>\n",
       "      <td>0.15970</td>\n",
       "      <td>0.13735</td>\n",
       "      <td>0.1531</td>\n",
       "      <td>0.18700</td>\n",
       "      <td>0.2090</td>\n",
       "      <td>0.26320</td>\n",
       "      <td>0.30515</td>\n",
       "      <td>0.26965</td>\n",
       "      <td>0.3327</td>\n",
       "      <td>0.0411</td>\n",
       "      <td>...</td>\n",
       "      <td>0.187614</td>\n",
       "      <td>-0.509745</td>\n",
       "      <td>0.105128</td>\n",
       "      <td>0.239614</td>\n",
       "      <td>0.449106</td>\n",
       "      <td>-0.718433</td>\n",
       "      <td>-0.042537</td>\n",
       "      <td>0.901237</td>\n",
       "      <td>3</td>\n",
       "      <td>0</td>\n",
       "    </tr>\n",
       "    <tr>\n",
       "      <th>1</th>\n",
       "      <td>0.15970</td>\n",
       "      <td>0.13905</td>\n",
       "      <td>0.1454</td>\n",
       "      <td>0.17845</td>\n",
       "      <td>0.2090</td>\n",
       "      <td>0.26320</td>\n",
       "      <td>0.30515</td>\n",
       "      <td>0.26395</td>\n",
       "      <td>0.3327</td>\n",
       "      <td>0.0411</td>\n",
       "      <td>...</td>\n",
       "      <td>0.177058</td>\n",
       "      <td>-0.507485</td>\n",
       "      <td>0.105128</td>\n",
       "      <td>0.247826</td>\n",
       "      <td>0.464498</td>\n",
       "      <td>-0.716955</td>\n",
       "      <td>-0.039760</td>\n",
       "      <td>0.911490</td>\n",
       "      <td>3</td>\n",
       "      <td>0</td>\n",
       "    </tr>\n",
       "    <tr>\n",
       "      <th>2</th>\n",
       "      <td>0.16675</td>\n",
       "      <td>0.14875</td>\n",
       "      <td>0.1589</td>\n",
       "      <td>0.18605</td>\n",
       "      <td>0.2258</td>\n",
       "      <td>0.27945</td>\n",
       "      <td>0.32070</td>\n",
       "      <td>0.28085</td>\n",
       "      <td>0.3452</td>\n",
       "      <td>0.0416</td>\n",
       "      <td>...</td>\n",
       "      <td>0.179191</td>\n",
       "      <td>-0.524371</td>\n",
       "      <td>0.073259</td>\n",
       "      <td>0.262348</td>\n",
       "      <td>0.446475</td>\n",
       "      <td>-0.722188</td>\n",
       "      <td>-0.033995</td>\n",
       "      <td>0.875915</td>\n",
       "      <td>3</td>\n",
       "      <td>0</td>\n",
       "    </tr>\n",
       "  </tbody>\n",
       "</table>\n",
       "<p>3 rows × 112 columns</p>\n",
       "</div>"
      ],
      "text/plain": [
       "   B1_2016  B2_2016  B3_2016  B4_2016  B5_2016  B6_2016  B7_2016  B8_2016  \\\n",
       "0  0.15970  0.13735   0.1531  0.18700   0.2090  0.26320  0.30515  0.26965   \n",
       "1  0.15970  0.13905   0.1454  0.17845   0.2090  0.26320  0.30515  0.26395   \n",
       "2  0.16675  0.14875   0.1589  0.18605   0.2258  0.27945  0.32070  0.28085   \n",
       "\n",
       "   B9_2016  B10_2016  ...  savi_2020  mndwi_2020   ui_2020  nbi_2020  \\\n",
       "0   0.3327    0.0411  ...   0.187614   -0.509745  0.105128  0.239614   \n",
       "1   0.3327    0.0411  ...   0.177058   -0.507485  0.105128  0.247826   \n",
       "2   0.3452    0.0416  ...   0.179191   -0.524371  0.073259  0.262348   \n",
       "\n",
       "   brba_2020  nbai_2020  mbi_2020  baei_2020  target  area  \n",
       "0   0.449106  -0.718433 -0.042537   0.901237       3     0  \n",
       "1   0.464498  -0.716955 -0.039760   0.911490       3     0  \n",
       "2   0.446475  -0.722188 -0.033995   0.875915       3     0  \n",
       "\n",
       "[3 rows x 112 columns]"
      ]
     },
     "execution_count": 3,
     "metadata": {},
     "output_type": "execute_result"
    }
   ],
   "source": [
    "data = pd.read_csv(input_file).reset_index(drop=True)\n",
    "data = data[(data['area'] == 0) | (data['area'] == 1) | (data['area'] == 2)]\n",
    "print('Data dimensions: {}'.format(data.shape))\n",
    "data.head(3)"
   ]
  },
  {
   "cell_type": "markdown",
   "metadata": {},
   "source": [
    "## Resample Dataset"
   ]
  },
  {
   "cell_type": "code",
   "execution_count": 4,
   "metadata": {},
   "outputs": [
    {
     "name": "stdout",
     "output_type": "stream",
     "text": [
      "Data dimensions: (104556, 112)\n"
     ]
    },
    {
     "data": {
      "text/html": [
       "<div>\n",
       "<style scoped>\n",
       "    .dataframe tbody tr th:only-of-type {\n",
       "        vertical-align: middle;\n",
       "    }\n",
       "\n",
       "    .dataframe tbody tr th {\n",
       "        vertical-align: top;\n",
       "    }\n",
       "\n",
       "    .dataframe thead th {\n",
       "        text-align: right;\n",
       "    }\n",
       "</style>\n",
       "<table border=\"1\" class=\"dataframe\">\n",
       "  <thead>\n",
       "    <tr style=\"text-align: right;\">\n",
       "      <th></th>\n",
       "      <th>B1_2016</th>\n",
       "      <th>B2_2016</th>\n",
       "      <th>B3_2016</th>\n",
       "      <th>B4_2016</th>\n",
       "      <th>B5_2016</th>\n",
       "      <th>B6_2016</th>\n",
       "      <th>B7_2016</th>\n",
       "      <th>B8_2016</th>\n",
       "      <th>B9_2016</th>\n",
       "      <th>B10_2016</th>\n",
       "      <th>...</th>\n",
       "      <th>savi_2020</th>\n",
       "      <th>mndwi_2020</th>\n",
       "      <th>ui_2020</th>\n",
       "      <th>nbi_2020</th>\n",
       "      <th>brba_2020</th>\n",
       "      <th>nbai_2020</th>\n",
       "      <th>mbi_2020</th>\n",
       "      <th>baei_2020</th>\n",
       "      <th>target</th>\n",
       "      <th>area</th>\n",
       "    </tr>\n",
       "  </thead>\n",
       "  <tbody>\n",
       "    <tr>\n",
       "      <th>0</th>\n",
       "      <td>0.1809</td>\n",
       "      <td>0.17790</td>\n",
       "      <td>0.1972</td>\n",
       "      <td>0.2371</td>\n",
       "      <td>0.2427</td>\n",
       "      <td>0.3009</td>\n",
       "      <td>0.33460</td>\n",
       "      <td>0.2913</td>\n",
       "      <td>0.3655</td>\n",
       "      <td>0.04435</td>\n",
       "      <td>...</td>\n",
       "      <td>0.114438</td>\n",
       "      <td>-0.388713</td>\n",
       "      <td>0.040390</td>\n",
       "      <td>0.386829</td>\n",
       "      <td>0.574649</td>\n",
       "      <td>-0.603260</td>\n",
       "      <td>-0.010778</td>\n",
       "      <td>0.810930</td>\n",
       "      <td>4</td>\n",
       "      <td>0</td>\n",
       "    </tr>\n",
       "    <tr>\n",
       "      <th>1</th>\n",
       "      <td>0.1684</td>\n",
       "      <td>0.13690</td>\n",
       "      <td>0.1425</td>\n",
       "      <td>0.1458</td>\n",
       "      <td>0.1686</td>\n",
       "      <td>0.2696</td>\n",
       "      <td>0.30675</td>\n",
       "      <td>0.2652</td>\n",
       "      <td>0.3501</td>\n",
       "      <td>0.03810</td>\n",
       "      <td>...</td>\n",
       "      <td>0.259128</td>\n",
       "      <td>-0.602441</td>\n",
       "      <td>0.098756</td>\n",
       "      <td>0.199285</td>\n",
       "      <td>0.318486</td>\n",
       "      <td>-0.752879</td>\n",
       "      <td>-0.057824</td>\n",
       "      <td>0.809911</td>\n",
       "      <td>4</td>\n",
       "      <td>0</td>\n",
       "    </tr>\n",
       "    <tr>\n",
       "      <th>2</th>\n",
       "      <td>0.1635</td>\n",
       "      <td>0.13655</td>\n",
       "      <td>0.1327</td>\n",
       "      <td>0.1346</td>\n",
       "      <td>0.1311</td>\n",
       "      <td>0.1754</td>\n",
       "      <td>0.20490</td>\n",
       "      <td>0.2100</td>\n",
       "      <td>0.2202</td>\n",
       "      <td>0.03560</td>\n",
       "      <td>...</td>\n",
       "      <td>0.215928</td>\n",
       "      <td>-0.506141</td>\n",
       "      <td>0.128252</td>\n",
       "      <td>0.180842</td>\n",
       "      <td>0.403433</td>\n",
       "      <td>-0.754468</td>\n",
       "      <td>-0.048452</td>\n",
       "      <td>0.950226</td>\n",
       "      <td>4</td>\n",
       "      <td>0</td>\n",
       "    </tr>\n",
       "  </tbody>\n",
       "</table>\n",
       "<p>3 rows × 112 columns</p>\n",
       "</div>"
      ],
      "text/plain": [
       "   B1_2016  B2_2016  B3_2016  B4_2016  B5_2016  B6_2016  B7_2016  B8_2016  \\\n",
       "0   0.1809  0.17790   0.1972   0.2371   0.2427   0.3009  0.33460   0.2913   \n",
       "1   0.1684  0.13690   0.1425   0.1458   0.1686   0.2696  0.30675   0.2652   \n",
       "2   0.1635  0.13655   0.1327   0.1346   0.1311   0.1754  0.20490   0.2100   \n",
       "\n",
       "   B9_2016  B10_2016  ...  savi_2020  mndwi_2020   ui_2020  nbi_2020  \\\n",
       "0   0.3655   0.04435  ...   0.114438   -0.388713  0.040390  0.386829   \n",
       "1   0.3501   0.03810  ...   0.259128   -0.602441  0.098756  0.199285   \n",
       "2   0.2202   0.03560  ...   0.215928   -0.506141  0.128252  0.180842   \n",
       "\n",
       "   brba_2020  nbai_2020  mbi_2020  baei_2020  target  area  \n",
       "0   0.574649  -0.603260 -0.010778   0.810930       4     0  \n",
       "1   0.318486  -0.752879 -0.057824   0.809911       4     0  \n",
       "2   0.403433  -0.754468 -0.048452   0.950226       4     0  \n",
       "\n",
       "[3 rows x 112 columns]"
      ]
     },
     "execution_count": 4,
     "metadata": {},
     "output_type": "execute_result"
    }
   ],
   "source": [
    "data = model_utils.resample(data, num_neg_samples=30000, false_pos_samples=5000, random_state=SEED)\n",
    "print('Data dimensions: {}'.format(data.shape))\n",
    "data.head(3)"
   ]
  },
  {
   "cell_type": "markdown",
   "metadata": {},
   "source": [
    "## Machine Learning Pipeline"
   ]
  },
  {
   "cell_type": "code",
   "execution_count": 5,
   "metadata": {},
   "outputs": [],
   "source": [
    "from sklearn.linear_model import LogisticRegression\n",
    "from sklearn.ensemble import RandomForestClassifier\n",
    "from sklearn.naive_bayes import GaussianNB\n",
    "from sklearn.svm import LinearSVC\n",
    "from lightgbm import LGBMClassifier\n",
    "SEED = 42"
   ]
  },
  {
   "cell_type": "markdown",
   "metadata": {},
   "source": [
    "## Define Features and Target Label"
   ]
  },
  {
   "cell_type": "code",
   "execution_count": 6,
   "metadata": {},
   "outputs": [
    {
     "name": "stdout",
     "output_type": "stream",
     "text": [
      "Data dimensions: (104556, 112)\n",
      "Class distribution:\n",
      "0    90000\n",
      "1    14556\n",
      "Name: target, dtype: int64\n"
     ]
    }
   ],
   "source": [
    "# Get target and feature columns\n",
    "label = 'target'\n",
    "features = [column for column in data.columns[:-2]]\n",
    "\n",
    "# Convert target labels to binary\n",
    "data[label] = data[label].replace({2:0, 3:0, 4:0})\n",
    "\n",
    "print('Data dimensions: {}'.format(data.shape))\n",
    "print('Class distribution:\\n{}'.format(data['target'].value_counts()))"
   ]
  },
  {
   "cell_type": "markdown",
   "metadata": {},
   "source": [
    "## Logistic Regression"
   ]
  },
  {
   "cell_type": "markdown",
   "metadata": {},
   "source": [
    "### Feature Selection: Recursive Feature Elimination CV"
   ]
  },
  {
   "cell_type": "code",
   "execution_count": 7,
   "metadata": {},
   "outputs": [
    {
     "name": "stdout",
     "output_type": "stream",
     "text": [
      "['B7_2016', 'B10_2016', 'ui_2016', 'nbi_2016', 'B1_2017', 'B2_2017', 'B5_2017', 'savi_2017', 'ui_2017', 'brba_2017', 'mbi_2017', 'B1_2018', 'B2_2018', 'B12_2018', 'ui_2018', 'B1_2019', 'B2_2019', 'B5_2019', 'B6_2019', 'B10_2019', 'B12_2019', 'savi_2019', 'mndwi_2019', 'nbi_2019', 'nbai_2019', 'mbi_2019', 'B1_2020', 'B2_2020', 'B5_2020', 'B8_2020', 'B9_2020', 'B11_2020', 'B12_2020', 'ndvi_2020', 'savi_2020', 'mndwi_2020', 'brba_2020', 'nbai_2020', 'mbi_2020', 'baei_2020']\n"
     ]
    }
   ],
   "source": [
    "lr = LogisticRegression()\n",
    "lr_best_features = model_utils.rfecv_feature_selection(\n",
    "    lr, data, features, label, scoring='f1', step=10, verbose=0\n",
    ")\n",
    "print(lr_best_features)"
   ]
  },
  {
   "cell_type": "markdown",
   "metadata": {},
   "source": [
    "### [Baseline] Logistic Regression Results Sans Hyperparamater Optimization"
   ]
  },
  {
   "cell_type": "code",
   "execution_count": 8,
   "metadata": {},
   "outputs": [
    {
     "name": "stdout",
     "output_type": "stream",
     "text": [
      "\n",
      "Test set: MAICAO\n",
      "[[28248  1752]\n",
      " [  295   415]]\n",
      "              precision    recall  f1-score   support\n",
      "\n",
      "           0       0.99      0.94      0.97     30000\n",
      "           1       0.19      0.58      0.29       710\n",
      "\n",
      "    accuracy                           0.93     30710\n",
      "   macro avg       0.59      0.76      0.63     30710\n",
      "weighted avg       0.97      0.93      0.95     30710\n",
      "\n",
      "MAICAO Results: \n",
      "- F1 Score: 0.2885\n",
      "- Kappa Statistics: 0.2628\n",
      "- Precision: 0.1915\n",
      "- Recall: 0.5845\n",
      "- Accuracy: 0.9333\n",
      "\n",
      "Test set: RIOHACHA\n",
      "[[28861  1139]\n",
      " [ 1683  1818]]\n",
      "              precision    recall  f1-score   support\n",
      "\n",
      "           0       0.94      0.96      0.95     30000\n",
      "           1       0.61      0.52      0.56      3501\n",
      "\n",
      "    accuracy                           0.92     33501\n",
      "   macro avg       0.78      0.74      0.76     33501\n",
      "weighted avg       0.91      0.92      0.91     33501\n",
      "\n",
      "RIOHACHA Results: \n",
      "- F1 Score: 0.5630\n",
      "- Kappa Statistics: 0.5168\n",
      "- Precision: 0.6148\n",
      "- Recall: 0.5193\n",
      "- Accuracy: 0.9158\n",
      "\n",
      "Test set: URIBIA\n",
      "[[29988    12]\n",
      " [ 8545  1800]]\n",
      "              precision    recall  f1-score   support\n",
      "\n",
      "           0       0.78      1.00      0.88     30000\n",
      "           1       0.99      0.17      0.30     10345\n",
      "\n",
      "    accuracy                           0.79     40345\n",
      "   macro avg       0.89      0.59      0.59     40345\n",
      "weighted avg       0.83      0.79      0.73     40345\n",
      "\n",
      "URIBIA Results: \n",
      "- F1 Score: 0.2961\n",
      "- Kappa Statistics: 0.2379\n",
      "- Precision: 0.9934\n",
      "- Recall: 0.1740\n",
      "- Accuracy: 0.7879\n",
      "\n",
      "Average F1 Score: 0.3825\n",
      "Average Kappa statistic: 0.3392\n",
      "Average Precision: 0.5999\n",
      "Average Recall: 0.4259\n",
      "Average Accuracy: 0.8790\n",
      "\n"
     ]
    }
   ],
   "source": [
    "lr = LogisticRegression()\n",
    "results, clfs = model_utils.geospatialcv(data, lr_best_features, label, lr, verbose=2);"
   ]
  },
  {
   "cell_type": "markdown",
   "metadata": {},
   "source": [
    "### Grid Search Cross Validation"
   ]
  },
  {
   "cell_type": "code",
   "execution_count": 9,
   "metadata": {},
   "outputs": [
    {
     "name": "stdout",
     "output_type": "stream",
     "text": [
      "Fitting 3 folds for each of 6 candidates, totalling 18 fits\n"
     ]
    },
    {
     "name": "stderr",
     "output_type": "stream",
     "text": [
      "[Parallel(n_jobs=-1)]: Using backend LokyBackend with 8 concurrent workers.\n",
      "[Parallel(n_jobs=-1)]: Done  13 out of  18 | elapsed:    4.2s remaining:    1.6s\n",
      "[Parallel(n_jobs=-1)]: Done  18 out of  18 | elapsed:    5.9s finished\n"
     ]
    },
    {
     "name": "stdout",
     "output_type": "stream",
     "text": [
      "Best Paramaters: {'classifier__C': 10, 'classifier__penalty': 'l2'}\n"
     ]
    }
   ],
   "source": [
    "param_grid = {\n",
    "    'classifier__penalty': ['l2'],\n",
    "    'classifier__C':[0.001, 0.01, 1.0, 5.0, 10, 100]\n",
    "}\n",
    "lr_grid_search = model_utils.hyperparameter_optimization(\n",
    "    data, lr_best_features, label, lr, param_grid, scoring='f1', verbose=2\n",
    ")"
   ]
  },
  {
   "cell_type": "markdown",
   "metadata": {},
   "source": [
    "### Logistic Regression Results with Hyperparameter Optimization"
   ]
  },
  {
   "cell_type": "code",
   "execution_count": 15,
   "metadata": {},
   "outputs": [
    {
     "name": "stdout",
     "output_type": "stream",
     "text": [
      "\n",
      "Test set: MAICAO\n",
      "[[28115  1885]\n",
      " [  300   410]]\n",
      "              precision    recall  f1-score   support\n",
      "\n",
      "           0       0.99      0.94      0.96     30000\n",
      "           1       0.18      0.58      0.27       710\n",
      "\n",
      "    accuracy                           0.93     30710\n",
      "   macro avg       0.58      0.76      0.62     30710\n",
      "weighted avg       0.97      0.93      0.95     30710\n",
      "\n",
      "MAICAO Results: \n",
      "- F1 Score: 0.2729\n",
      "- Kappa Statistics: 0.2463\n",
      "- Precision: 0.1786\n",
      "- Recall: 0.5775\n",
      "- Accuracy: 0.9289\n",
      "\n",
      "Test set: RIOHACHA\n",
      "[[29321   679]\n",
      " [ 1419  2082]]\n",
      "              precision    recall  f1-score   support\n",
      "\n",
      "           0       0.95      0.98      0.97     30000\n",
      "           1       0.75      0.59      0.66      3501\n",
      "\n",
      "    accuracy                           0.94     33501\n",
      "   macro avg       0.85      0.79      0.82     33501\n",
      "weighted avg       0.93      0.94      0.93     33501\n",
      "\n",
      "RIOHACHA Results: \n",
      "- F1 Score: 0.6650\n",
      "- Kappa Statistics: 0.6310\n",
      "- Precision: 0.7541\n",
      "- Recall: 0.5947\n",
      "- Accuracy: 0.9374\n",
      "\n",
      "Test set: URIBIA\n",
      "[[29947    53]\n",
      " [ 8531  1814]]\n",
      "              precision    recall  f1-score   support\n",
      "\n",
      "           0       0.78      1.00      0.87     30000\n",
      "           1       0.97      0.18      0.30     10345\n",
      "\n",
      "    accuracy                           0.79     40345\n",
      "   macro avg       0.87      0.59      0.59     40345\n",
      "weighted avg       0.83      0.79      0.73     40345\n",
      "\n",
      "URIBIA Results: \n",
      "- F1 Score: 0.2971\n",
      "- Kappa Statistics: 0.2373\n",
      "- Precision: 0.9716\n",
      "- Recall: 0.1754\n",
      "- Accuracy: 0.7872\n",
      "\n",
      "Average F1 Score: 0.4116\n",
      "Average Kappa statistic: 0.3715\n",
      "Average Precision: 0.6348\n",
      "Average Recall: 0.4492\n",
      "Average Accuracy: 0.8845\n",
      "\n"
     ]
    }
   ],
   "source": [
    "lr = LogisticRegression(C=10)\n",
    "results, clfs = model_utils.geospatialcv(data, lr_best_features, label, lr, verbose=2);"
   ]
  },
  {
   "cell_type": "markdown",
   "metadata": {},
   "source": [
    "## LinearSVC"
   ]
  },
  {
   "cell_type": "code",
   "execution_count": 11,
   "metadata": {},
   "outputs": [
    {
     "name": "stdout",
     "output_type": "stream",
     "text": [
      "['B1_2017', 'B2_2017', 'ui_2017', 'mbi_2017', 'B1_2019', 'B10_2019', 'mbi_2019', 'B6_2020', 'B11_2020', 'B12_2020']\n"
     ]
    }
   ],
   "source": [
    "lsvc = LinearSVC(random_state=SEED)\n",
    "lsvc_best_features = model_utils.rfecv_feature_selection(\n",
    "    lr, data, features, label, scoring='f1', step=10, verbose=0\n",
    ")\n",
    "print(lsvc_best_features)"
   ]
  },
  {
   "cell_type": "markdown",
   "metadata": {},
   "source": [
    "### [Baseline] LinearSVC Results Sans Hyperparamater Optimization"
   ]
  },
  {
   "cell_type": "code",
   "execution_count": 12,
   "metadata": {},
   "outputs": [
    {
     "name": "stdout",
     "output_type": "stream",
     "text": [
      "\n",
      "Test set: MAICAO\n",
      "[[29065   935]\n",
      " [  456   254]]\n",
      "              precision    recall  f1-score   support\n",
      "\n",
      "           0       0.98      0.97      0.98     30000\n",
      "           1       0.21      0.36      0.27       710\n",
      "\n",
      "    accuracy                           0.95     30710\n",
      "   macro avg       0.60      0.66      0.62     30710\n",
      "weighted avg       0.97      0.95      0.96     30710\n",
      "\n",
      "MAICAO Results: \n",
      "- F1 Score: 0.2675\n",
      "- Kappa Statistics: 0.2457\n",
      "- Precision: 0.2136\n",
      "- Recall: 0.3577\n",
      "- Accuracy: 0.9547\n",
      "\n",
      "Test set: RIOHACHA\n",
      "[[29146   854]\n",
      " [ 1104  2397]]\n",
      "              precision    recall  f1-score   support\n",
      "\n",
      "           0       0.96      0.97      0.97     30000\n",
      "           1       0.74      0.68      0.71      3501\n",
      "\n",
      "    accuracy                           0.94     33501\n",
      "   macro avg       0.85      0.83      0.84     33501\n",
      "weighted avg       0.94      0.94      0.94     33501\n",
      "\n",
      "RIOHACHA Results: \n",
      "- F1 Score: 0.7100\n",
      "- Kappa Statistics: 0.6776\n",
      "- Precision: 0.7373\n",
      "- Recall: 0.6847\n",
      "- Accuracy: 0.9416\n",
      "\n",
      "Test set: URIBIA\n",
      "[[29942    58]\n",
      " [ 5290  5055]]\n",
      "              precision    recall  f1-score   support\n",
      "\n",
      "           0       0.85      1.00      0.92     30000\n",
      "           1       0.99      0.49      0.65     10345\n",
      "\n",
      "    accuracy                           0.87     40345\n",
      "   macro avg       0.92      0.74      0.79     40345\n",
      "weighted avg       0.89      0.87      0.85     40345\n",
      "\n",
      "URIBIA Results: \n",
      "- F1 Score: 0.6540\n",
      "- Kappa Statistics: 0.5834\n",
      "- Precision: 0.9887\n",
      "- Recall: 0.4886\n",
      "- Accuracy: 0.8674\n",
      "\n",
      "Average F1 Score: 0.5439\n",
      "Average Kappa statistic: 0.5022\n",
      "Average Precision: 0.6465\n",
      "Average Recall: 0.5103\n",
      "Average Accuracy: 0.9212\n",
      "\n"
     ]
    }
   ],
   "source": [
    "lsvc = LinearSVC(random_state=SEED)\n",
    "results, clfs = model_utils.geospatialcv(data, lsvc_best_features, label, lsvc, verbose=2);"
   ]
  },
  {
   "cell_type": "markdown",
   "metadata": {},
   "source": [
    "### Grid Search Cross Validation\n",
    "Reference: https://towardsdatascience.com/svm-hyper-parameter-tuning-using-gridsearchcv-49c0bc55ce29"
   ]
  },
  {
   "cell_type": "code",
   "execution_count": 13,
   "metadata": {},
   "outputs": [
    {
     "name": "stdout",
     "output_type": "stream",
     "text": [
      "Fitting 3 folds for each of 6 candidates, totalling 18 fits\n"
     ]
    },
    {
     "name": "stderr",
     "output_type": "stream",
     "text": [
      "[Parallel(n_jobs=-1)]: Using backend LokyBackend with 8 concurrent workers.\n",
      "[Parallel(n_jobs=-1)]: Done  13 out of  18 | elapsed:   10.7s remaining:    4.1s\n",
      "[Parallel(n_jobs=-1)]: Done  18 out of  18 | elapsed:   13.2s finished\n"
     ]
    },
    {
     "name": "stdout",
     "output_type": "stream",
     "text": [
      "Best Paramaters: {'classifier__C': 10}\n"
     ]
    }
   ],
   "source": [
    "lsvc = LinearSVC(random_state=SEED)\n",
    "param_grid = {'classifier__C': [0.001, 0.1, 1, 10, 100, 1000]}\n",
    "lsvc_grid_search = model_utils.hyperparameter_optimization(\n",
    "    data, lsvc_best_features, label, lsvc, param_grid, scoring='f1', verbose=2\n",
    ")"
   ]
  },
  {
   "cell_type": "markdown",
   "metadata": {},
   "source": [
    "### LinearSVC Results with Hyperparameter Optimization"
   ]
  },
  {
   "cell_type": "code",
   "execution_count": 14,
   "metadata": {},
   "outputs": [
    {
     "name": "stdout",
     "output_type": "stream",
     "text": [
      "\n",
      "Test set: MAICAO\n",
      "[[28019  1981]\n",
      " [  359   351]]\n",
      "              precision    recall  f1-score   support\n",
      "\n",
      "           0       0.99      0.93      0.96     30000\n",
      "           1       0.15      0.49      0.23       710\n",
      "\n",
      "    accuracy                           0.92     30710\n",
      "   macro avg       0.57      0.71      0.60     30710\n",
      "weighted avg       0.97      0.92      0.94     30710\n",
      "\n",
      "MAICAO Results: \n",
      "- F1 Score: 0.2308\n",
      "- Kappa Statistics: 0.2025\n",
      "- Precision: 0.1505\n",
      "- Recall: 0.4944\n",
      "- Accuracy: 0.9238\n",
      "\n",
      "Test set: RIOHACHA\n",
      "[[29323   677]\n",
      " [ 1249  2252]]\n",
      "              precision    recall  f1-score   support\n",
      "\n",
      "           0       0.96      0.98      0.97     30000\n",
      "           1       0.77      0.64      0.70      3501\n",
      "\n",
      "    accuracy                           0.94     33501\n",
      "   macro avg       0.86      0.81      0.83     33501\n",
      "weighted avg       0.94      0.94      0.94     33501\n",
      "\n",
      "RIOHACHA Results: \n",
      "- F1 Score: 0.7005\n",
      "- Kappa Statistics: 0.6689\n",
      "- Precision: 0.7689\n",
      "- Recall: 0.6432\n",
      "- Accuracy: 0.9425\n",
      "\n",
      "Test set: URIBIA\n",
      "[[29971    29]\n",
      " [ 5974  4371]]\n",
      "              precision    recall  f1-score   support\n",
      "\n",
      "           0       0.83      1.00      0.91     30000\n",
      "           1       0.99      0.42      0.59     10345\n",
      "\n",
      "    accuracy                           0.85     40345\n",
      "   macro avg       0.91      0.71      0.75     40345\n",
      "weighted avg       0.87      0.85      0.83     40345\n",
      "\n",
      "URIBIA Results: \n",
      "- F1 Score: 0.5929\n",
      "- Kappa Statistics: 0.5193\n",
      "- Precision: 0.9934\n",
      "- Recall: 0.4225\n",
      "- Accuracy: 0.8512\n",
      "\n",
      "Average F1 Score: 0.5080\n",
      "Average Kappa statistic: 0.4636\n",
      "Average Precision: 0.6376\n",
      "Average Recall: 0.5200\n",
      "Average Accuracy: 0.9058\n",
      "\n"
     ]
    }
   ],
   "source": [
    "lsvc = LinearSVC(C=100, random_state=SEED)\n",
    "results, clfs = model_utils.geospatialcv(data, lsvc_best_features, label, lsvc, verbose=2);"
   ]
  }
 ],
 "metadata": {
  "kernelspec": {
   "display_name": "venv",
   "language": "python",
   "name": "venv"
  },
  "language_info": {
   "codemirror_mode": {
    "name": "ipython",
    "version": 3
   },
   "file_extension": ".py",
   "mimetype": "text/x-python",
   "name": "python",
   "nbconvert_exporter": "python",
   "pygments_lexer": "ipython3",
   "version": "3.7.4"
  }
 },
 "nbformat": 4,
 "nbformat_minor": 4
}
