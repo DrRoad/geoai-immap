{
 "cells": [
  {
   "cell_type": "markdown",
   "metadata": {},
   "source": [
    "# Data Download"
   ]
  },
  {
   "cell_type": "markdown",
   "metadata": {},
   "source": [
    "### How to Install"
   ]
  },
  {
   "cell_type": "markdown",
   "metadata": {
    "jupyter": {
     "source_hidden": true
    }
   },
   "source": [
    "1. Install GEE in GCE by following: https://developers.google.com/earth-engine/python_install-conda\n",
    "\n",
    "  - if encountered jupyter command not found, add conda to path\n",
    "  \n",
    "```\n",
    "    export PATH=~/anaconda3/bin:$PATH\n",
    "```\n",
    "\n",
    "2. Make new kernel to use in jupylab\n",
    "\n",
    "```\n",
    "conda install ipykernel\n",
    "ipython kernel install --name ee --user\n",
    "```\n",
    "\n",
    "3. Update kernel.json with 3.8.2 python (what gee uses)\n",
    "\n",
    "```\n",
    "jupyter kernelspec list\n",
    "vim /home/cholo/.local/share/jupyter/kernels/ee/kernel.json\n",
    "```\n",
    "\n",
    "    - update via vim with this python\n",
    "  \n",
    "```\n",
    "    /home/cholo/anaconda3/envs/ee/bin/python\n",
    "```\n",
    "\n",
    "To bypass ee.Authenticate, run 'earthengine authenticate' in terminal"
   ]
  },
  {
   "cell_type": "markdown",
   "metadata": {},
   "source": [
    "## GEE DL"
   ]
  },
  {
   "cell_type": "code",
   "execution_count": 1,
   "metadata": {},
   "outputs": [
    {
     "data": {
      "text/html": [
       "<p>To authorize access needed by Earth Engine, open the following\n",
       "        URL in a web browser and follow the instructions:</p>\n",
       "        <p><a href=https://accounts.google.com/o/oauth2/auth?client_id=517222506229-vsmmajv00ul0bs7p89v5m89qs8eb9359.apps.googleusercontent.com&scope=https%3A%2F%2Fwww.googleapis.com%2Fauth%2Fearthengine+https%3A%2F%2Fwww.googleapis.com%2Fauth%2Fdevstorage.full_control&redirect_uri=urn%3Aietf%3Awg%3Aoauth%3A2.0%3Aoob&response_type=code&code_challenge=O4qrbOVlNQ4flRVpLCV9S62BcLiLf2HTWhjDqY5hRIM&code_challenge_method=S256>https://accounts.google.com/o/oauth2/auth?client_id=517222506229-vsmmajv00ul0bs7p89v5m89qs8eb9359.apps.googleusercontent.com&scope=https%3A%2F%2Fwww.googleapis.com%2Fauth%2Fearthengine+https%3A%2F%2Fwww.googleapis.com%2Fauth%2Fdevstorage.full_control&redirect_uri=urn%3Aietf%3Awg%3Aoauth%3A2.0%3Aoob&response_type=code&code_challenge=O4qrbOVlNQ4flRVpLCV9S62BcLiLf2HTWhjDqY5hRIM&code_challenge_method=S256</a></p>\n",
       "        <p>The authorization workflow will generate a code, which you\n",
       "        should paste in the box below</p>\n",
       "        "
      ],
      "text/plain": [
       "<IPython.core.display.HTML object>"
      ]
     },
     "metadata": {},
     "output_type": "display_data"
    },
    {
     "name": "stdin",
     "output_type": "stream",
     "text": [
      "Enter verification code:  4/ygHq0y3v1k3sUapKuPKGfTPJjhilD5IQgHd4EUQSECx_eZAs4r3Lb9o\n"
     ]
    },
    {
     "name": "stdout",
     "output_type": "stream",
     "text": [
      "\n",
      "Successfully saved authorization token.\n"
     ]
    }
   ],
   "source": [
    "import sys\n",
    "sys.path.insert(0, '../utils')\n",
    "\n",
    "import gee"
   ]
  },
  {
   "cell_type": "code",
   "execution_count": 2,
   "metadata": {},
   "outputs": [],
   "source": [
    "BBOX = {\n",
    "    'arauquita': [-71.69980876899996,6.526376968000022,-70.86773583299998,7.054700505000028], \n",
    "#     'cucuta': [-72.60807671699996,7.723856582000053,-72.34649040099998,8.431575791000057], \n",
    "    'tibu': [-73.07343705199997,8.251246337000055,-72.47112479799995,9.142041082000048], \n",
    "#     'soacha': [-74.30657295399999,4.382138206000036,-74.17129610699999,4.633509322000066], \n",
    "#     'villadelrosario': [-72.52267855299993,7.64295204900003,-72.44465188199996,7.902600765000045],\n",
    "    'saravena': [-72.09962277499994,6.745921904000056,-71.69442685499996,7.0810649060000515]\n",
    "}"
   ]
  },
  {
   "cell_type": "code",
   "execution_count": 3,
   "metadata": {},
   "outputs": [],
   "source": [
    "years = [2016, 2017, 2018, 2019, 2020]\n",
    "areas = ['arauquita', 'tibu', 'saravena']"
   ]
  },
  {
   "cell_type": "code",
   "execution_count": 4,
   "metadata": {},
   "outputs": [
    {
     "name": "stdout",
     "output_type": "stream",
     "text": [
      "Processing gee_arauquita_2016\n",
      "using COPERNICUS/S2\n",
      "Task started\n",
      "Processing gee_arauquita_2017\n",
      "using COPERNICUS/S2\n",
      "Task started\n",
      "Processing gee_arauquita_2018\n",
      "using COPERNICUS/S2_SR\n",
      "Task started\n",
      "Processing gee_arauquita_2019\n",
      "using COPERNICUS/S2_SR\n",
      "Task started\n",
      "Processing gee_arauquita_2020\n",
      "using COPERNICUS/S2_SR\n",
      "Task started\n",
      "Processing gee_tibu_2016\n",
      "using COPERNICUS/S2\n",
      "Task started\n",
      "Processing gee_tibu_2017\n",
      "using COPERNICUS/S2\n",
      "Task started\n",
      "Processing gee_tibu_2018\n",
      "using COPERNICUS/S2_SR\n",
      "Task started\n",
      "Processing gee_tibu_2019\n",
      "using COPERNICUS/S2_SR\n",
      "Task started\n",
      "Processing gee_tibu_2020\n",
      "using COPERNICUS/S2_SR\n",
      "Task started\n",
      "Processing gee_saravena_2016\n",
      "using COPERNICUS/S2\n",
      "Task started\n",
      "Processing gee_saravena_2017\n",
      "using COPERNICUS/S2\n",
      "Task started\n",
      "Processing gee_saravena_2018\n",
      "using COPERNICUS/S2_SR\n",
      "Task started\n",
      "Processing gee_saravena_2019\n",
      "using COPERNICUS/S2_SR\n",
      "Task started\n",
      "Processing gee_saravena_2020\n",
      "using COPERNICUS/S2_SR\n",
      "Task started\n"
     ]
    }
   ],
   "source": [
    "for area in areas:\n",
    "    for year in years:\n",
    "        gee.sen2median(BBOX[area], year, FILENAME = f'gee_{area}_{year}')"
   ]
  },
  {
   "cell_type": "code",
   "execution_count": null,
   "metadata": {},
   "outputs": [],
   "source": []
  },
  {
   "cell_type": "code",
   "execution_count": null,
   "metadata": {},
   "outputs": [],
   "source": []
  }
 ],
 "metadata": {
  "kernelspec": {
   "display_name": "ee",
   "language": "python",
   "name": "ee"
  },
  "language_info": {
   "codemirror_mode": {
    "name": "ipython",
    "version": 3
   },
   "file_extension": ".py",
   "mimetype": "text/x-python",
   "name": "python",
   "nbconvert_exporter": "python",
   "pygments_lexer": "ipython3",
   "version": "3.8.2"
  }
 },
 "nbformat": 4,
 "nbformat_minor": 4
}
