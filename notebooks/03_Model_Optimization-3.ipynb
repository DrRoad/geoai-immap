{
 "cells": [
  {
   "cell_type": "markdown",
   "metadata": {},
   "source": [
    "# Model Experimentation: Hyperparameter Optimization\n",
    "This notebook conducts experiments on hyperparameter optimization."
   ]
  },
  {
   "cell_type": "markdown",
   "metadata": {},
   "source": [
    "## Imports and Setup"
   ]
  },
  {
   "cell_type": "code",
   "execution_count": 1,
   "metadata": {},
   "outputs": [],
   "source": [
    "import pandas as pd\n",
    "import numpy as np\n",
    "\n",
    "import matplotlib.pyplot as plt\n",
    "import seaborn as sns\n",
    "sns.set(style=\"whitegrid\")\n",
    "\n",
    "import sys\n",
    "sys.path.insert(0, '../utils')\n",
    "import model_utils\n",
    "import geoutils\n",
    "\n",
    "import logging\n",
    "import warnings\n",
    "logging.getLogger().setLevel(logging.ERROR)\n",
    "warnings.filterwarnings(\"ignore\")\n",
    "\n",
    "SEED = 42\n",
    "\n",
    "%load_ext autoreload\n",
    "%autoreload 2"
   ]
  },
  {
   "cell_type": "markdown",
   "metadata": {},
   "source": [
    "## File Location"
   ]
  },
  {
   "cell_type": "code",
   "execution_count": 2,
   "metadata": {},
   "outputs": [],
   "source": [
    "data_dir = \"../data/\"\n",
    "input_file = data_dir + '20200409_dataset.csv'\n",
    "\n",
    "pos_mask_dir = data_dir + 'pos_masks/'\n",
    "neg_mask_dir = data_dir + 'neg_masks/'\n",
    "sentinel_dir = data_dir + 'sentinel2/'\n",
    "false_pos_dir = data_dir + 'false_pos/'\n",
    "\n",
    "areas = ['maicao', 'riohacha', 'uribia']"
   ]
  },
  {
   "cell_type": "markdown",
   "metadata": {},
   "source": [
    "## Load Dataset"
   ]
  },
  {
   "cell_type": "code",
   "execution_count": 3,
   "metadata": {},
   "outputs": [
    {
     "name": "stdout",
     "output_type": "stream",
     "text": [
      "Data dimensions: (690163, 112)\n"
     ]
    },
    {
     "data": {
      "text/html": [
       "<div>\n",
       "<style scoped>\n",
       "    .dataframe tbody tr th:only-of-type {\n",
       "        vertical-align: middle;\n",
       "    }\n",
       "\n",
       "    .dataframe tbody tr th {\n",
       "        vertical-align: top;\n",
       "    }\n",
       "\n",
       "    .dataframe thead th {\n",
       "        text-align: right;\n",
       "    }\n",
       "</style>\n",
       "<table border=\"1\" class=\"dataframe\">\n",
       "  <thead>\n",
       "    <tr style=\"text-align: right;\">\n",
       "      <th></th>\n",
       "      <th>B1_2016</th>\n",
       "      <th>B2_2016</th>\n",
       "      <th>B3_2016</th>\n",
       "      <th>B4_2016</th>\n",
       "      <th>B5_2016</th>\n",
       "      <th>B6_2016</th>\n",
       "      <th>B7_2016</th>\n",
       "      <th>B8_2016</th>\n",
       "      <th>B9_2016</th>\n",
       "      <th>B10_2016</th>\n",
       "      <th>...</th>\n",
       "      <th>savi_2020</th>\n",
       "      <th>mndwi_2020</th>\n",
       "      <th>ui_2020</th>\n",
       "      <th>nbi_2020</th>\n",
       "      <th>brba_2020</th>\n",
       "      <th>nbai_2020</th>\n",
       "      <th>mbi_2020</th>\n",
       "      <th>baei_2020</th>\n",
       "      <th>target</th>\n",
       "      <th>area</th>\n",
       "    </tr>\n",
       "  </thead>\n",
       "  <tbody>\n",
       "    <tr>\n",
       "      <th>0</th>\n",
       "      <td>0.15970</td>\n",
       "      <td>0.13735</td>\n",
       "      <td>0.1531</td>\n",
       "      <td>0.18700</td>\n",
       "      <td>0.2090</td>\n",
       "      <td>0.26320</td>\n",
       "      <td>0.30515</td>\n",
       "      <td>0.26965</td>\n",
       "      <td>0.3327</td>\n",
       "      <td>0.0411</td>\n",
       "      <td>...</td>\n",
       "      <td>0.187614</td>\n",
       "      <td>-0.509745</td>\n",
       "      <td>0.105128</td>\n",
       "      <td>0.239614</td>\n",
       "      <td>0.449106</td>\n",
       "      <td>-0.718433</td>\n",
       "      <td>-0.042537</td>\n",
       "      <td>0.901237</td>\n",
       "      <td>3</td>\n",
       "      <td>0</td>\n",
       "    </tr>\n",
       "    <tr>\n",
       "      <th>1</th>\n",
       "      <td>0.15970</td>\n",
       "      <td>0.13905</td>\n",
       "      <td>0.1454</td>\n",
       "      <td>0.17845</td>\n",
       "      <td>0.2090</td>\n",
       "      <td>0.26320</td>\n",
       "      <td>0.30515</td>\n",
       "      <td>0.26395</td>\n",
       "      <td>0.3327</td>\n",
       "      <td>0.0411</td>\n",
       "      <td>...</td>\n",
       "      <td>0.177058</td>\n",
       "      <td>-0.507485</td>\n",
       "      <td>0.105128</td>\n",
       "      <td>0.247826</td>\n",
       "      <td>0.464498</td>\n",
       "      <td>-0.716955</td>\n",
       "      <td>-0.039760</td>\n",
       "      <td>0.911490</td>\n",
       "      <td>3</td>\n",
       "      <td>0</td>\n",
       "    </tr>\n",
       "    <tr>\n",
       "      <th>2</th>\n",
       "      <td>0.16675</td>\n",
       "      <td>0.14875</td>\n",
       "      <td>0.1589</td>\n",
       "      <td>0.18605</td>\n",
       "      <td>0.2258</td>\n",
       "      <td>0.27945</td>\n",
       "      <td>0.32070</td>\n",
       "      <td>0.28085</td>\n",
       "      <td>0.3452</td>\n",
       "      <td>0.0416</td>\n",
       "      <td>...</td>\n",
       "      <td>0.179191</td>\n",
       "      <td>-0.524371</td>\n",
       "      <td>0.073259</td>\n",
       "      <td>0.262348</td>\n",
       "      <td>0.446475</td>\n",
       "      <td>-0.722188</td>\n",
       "      <td>-0.033995</td>\n",
       "      <td>0.875915</td>\n",
       "      <td>3</td>\n",
       "      <td>0</td>\n",
       "    </tr>\n",
       "  </tbody>\n",
       "</table>\n",
       "<p>3 rows × 112 columns</p>\n",
       "</div>"
      ],
      "text/plain": [
       "   B1_2016  B2_2016  B3_2016  B4_2016  B5_2016  B6_2016  B7_2016  B8_2016  \\\n",
       "0  0.15970  0.13735   0.1531  0.18700   0.2090  0.26320  0.30515  0.26965   \n",
       "1  0.15970  0.13905   0.1454  0.17845   0.2090  0.26320  0.30515  0.26395   \n",
       "2  0.16675  0.14875   0.1589  0.18605   0.2258  0.27945  0.32070  0.28085   \n",
       "\n",
       "   B9_2016  B10_2016  ...  savi_2020  mndwi_2020   ui_2020  nbi_2020  \\\n",
       "0   0.3327    0.0411  ...   0.187614   -0.509745  0.105128  0.239614   \n",
       "1   0.3327    0.0411  ...   0.177058   -0.507485  0.105128  0.247826   \n",
       "2   0.3452    0.0416  ...   0.179191   -0.524371  0.073259  0.262348   \n",
       "\n",
       "   brba_2020  nbai_2020  mbi_2020  baei_2020  target  area  \n",
       "0   0.449106  -0.718433 -0.042537   0.901237       3     0  \n",
       "1   0.464498  -0.716955 -0.039760   0.911490       3     0  \n",
       "2   0.446475  -0.722188 -0.033995   0.875915       3     0  \n",
       "\n",
       "[3 rows x 112 columns]"
      ]
     },
     "execution_count": 3,
     "metadata": {},
     "output_type": "execute_result"
    }
   ],
   "source": [
    "data = pd.read_csv(input_file).reset_index(drop=True)\n",
    "print('Data dimensions: {}'.format(data.shape))\n",
    "data.head(3)"
   ]
  },
  {
   "cell_type": "markdown",
   "metadata": {},
   "source": [
    "## Resample Dataset"
   ]
  },
  {
   "cell_type": "code",
   "execution_count": 4,
   "metadata": {},
   "outputs": [
    {
     "name": "stdout",
     "output_type": "stream",
     "text": [
      "Data dimensions: (223439, 113)\n"
     ]
    },
    {
     "data": {
      "text/html": [
       "<div>\n",
       "<style scoped>\n",
       "    .dataframe tbody tr th:only-of-type {\n",
       "        vertical-align: middle;\n",
       "    }\n",
       "\n",
       "    .dataframe tbody tr th {\n",
       "        vertical-align: top;\n",
       "    }\n",
       "\n",
       "    .dataframe thead th {\n",
       "        text-align: right;\n",
       "    }\n",
       "</style>\n",
       "<table border=\"1\" class=\"dataframe\">\n",
       "  <thead>\n",
       "    <tr style=\"text-align: right;\">\n",
       "      <th></th>\n",
       "      <th>B1_2016</th>\n",
       "      <th>B2_2016</th>\n",
       "      <th>B3_2016</th>\n",
       "      <th>B4_2016</th>\n",
       "      <th>B5_2016</th>\n",
       "      <th>B6_2016</th>\n",
       "      <th>B7_2016</th>\n",
       "      <th>B8_2016</th>\n",
       "      <th>B9_2016</th>\n",
       "      <th>B10_2016</th>\n",
       "      <th>...</th>\n",
       "      <th>mndwi_2020</th>\n",
       "      <th>ui_2020</th>\n",
       "      <th>nbi_2020</th>\n",
       "      <th>brba_2020</th>\n",
       "      <th>nbai_2020</th>\n",
       "      <th>mbi_2020</th>\n",
       "      <th>baei_2020</th>\n",
       "      <th>la_guajira</th>\n",
       "      <th>target</th>\n",
       "      <th>area</th>\n",
       "    </tr>\n",
       "  </thead>\n",
       "  <tbody>\n",
       "    <tr>\n",
       "      <th>0</th>\n",
       "      <td>0.1809</td>\n",
       "      <td>0.17790</td>\n",
       "      <td>0.1972</td>\n",
       "      <td>0.2371</td>\n",
       "      <td>0.2427</td>\n",
       "      <td>0.3009</td>\n",
       "      <td>0.33460</td>\n",
       "      <td>0.2913</td>\n",
       "      <td>0.3655</td>\n",
       "      <td>0.04435</td>\n",
       "      <td>...</td>\n",
       "      <td>-0.388713</td>\n",
       "      <td>0.040390</td>\n",
       "      <td>0.386829</td>\n",
       "      <td>0.574649</td>\n",
       "      <td>-0.603260</td>\n",
       "      <td>-0.010778</td>\n",
       "      <td>0.810930</td>\n",
       "      <td>1</td>\n",
       "      <td>4</td>\n",
       "      <td>0</td>\n",
       "    </tr>\n",
       "    <tr>\n",
       "      <th>1</th>\n",
       "      <td>0.1684</td>\n",
       "      <td>0.13690</td>\n",
       "      <td>0.1425</td>\n",
       "      <td>0.1458</td>\n",
       "      <td>0.1686</td>\n",
       "      <td>0.2696</td>\n",
       "      <td>0.30675</td>\n",
       "      <td>0.2652</td>\n",
       "      <td>0.3501</td>\n",
       "      <td>0.03810</td>\n",
       "      <td>...</td>\n",
       "      <td>-0.602441</td>\n",
       "      <td>0.098756</td>\n",
       "      <td>0.199285</td>\n",
       "      <td>0.318486</td>\n",
       "      <td>-0.752879</td>\n",
       "      <td>-0.057824</td>\n",
       "      <td>0.809911</td>\n",
       "      <td>1</td>\n",
       "      <td>4</td>\n",
       "      <td>0</td>\n",
       "    </tr>\n",
       "    <tr>\n",
       "      <th>2</th>\n",
       "      <td>0.1635</td>\n",
       "      <td>0.13655</td>\n",
       "      <td>0.1327</td>\n",
       "      <td>0.1346</td>\n",
       "      <td>0.1311</td>\n",
       "      <td>0.1754</td>\n",
       "      <td>0.20490</td>\n",
       "      <td>0.2100</td>\n",
       "      <td>0.2202</td>\n",
       "      <td>0.03560</td>\n",
       "      <td>...</td>\n",
       "      <td>-0.506141</td>\n",
       "      <td>0.128252</td>\n",
       "      <td>0.180842</td>\n",
       "      <td>0.403433</td>\n",
       "      <td>-0.754468</td>\n",
       "      <td>-0.048452</td>\n",
       "      <td>0.950226</td>\n",
       "      <td>1</td>\n",
       "      <td>4</td>\n",
       "      <td>0</td>\n",
       "    </tr>\n",
       "  </tbody>\n",
       "</table>\n",
       "<p>3 rows × 113 columns</p>\n",
       "</div>"
      ],
      "text/plain": [
       "   B1_2016  B2_2016  B3_2016  B4_2016  B5_2016  B6_2016  B7_2016  B8_2016  \\\n",
       "0   0.1809  0.17790   0.1972   0.2371   0.2427   0.3009  0.33460   0.2913   \n",
       "1   0.1684  0.13690   0.1425   0.1458   0.1686   0.2696  0.30675   0.2652   \n",
       "2   0.1635  0.13655   0.1327   0.1346   0.1311   0.1754  0.20490   0.2100   \n",
       "\n",
       "   B9_2016  B10_2016  ...  mndwi_2020   ui_2020  nbi_2020  brba_2020  \\\n",
       "0   0.3655   0.04435  ...   -0.388713  0.040390  0.386829   0.574649   \n",
       "1   0.3501   0.03810  ...   -0.602441  0.098756  0.199285   0.318486   \n",
       "2   0.2202   0.03560  ...   -0.506141  0.128252  0.180842   0.403433   \n",
       "\n",
       "   nbai_2020  mbi_2020  baei_2020  la_guajira  target  area  \n",
       "0  -0.603260 -0.010778   0.810930           1       4     0  \n",
       "1  -0.752879 -0.057824   0.809911           1       4     0  \n",
       "2  -0.754468 -0.048452   0.950226           1       4     0  \n",
       "\n",
       "[3 rows x 113 columns]"
      ]
     },
     "execution_count": 4,
     "metadata": {},
     "output_type": "execute_result"
    }
   ],
   "source": [
    "la_guajira = data['area'].apply(lambda x: model_utils.get_la_guajira(x)) \n",
    "data.insert(len(data.columns)-2, 'la_guajira', la_guajira)\n",
    "\n",
    "data = model_utils.resample(data, num_neg_samples=50000, false_pos_samples=10000, random_state=SEED)\n",
    "print('Data dimensions: {}'.format(data.shape))\n",
    "data.head(3)"
   ]
  },
  {
   "cell_type": "markdown",
   "metadata": {},
   "source": [
    "## Machine Learning Pipeline"
   ]
  },
  {
   "cell_type": "code",
   "execution_count": 5,
   "metadata": {},
   "outputs": [],
   "source": [
    "from sklearn.linear_model import LogisticRegression\n",
    "from sklearn.ensemble import RandomForestClassifier\n",
    "from sklearn.naive_bayes import GaussianNB\n",
    "from sklearn.svm import LinearSVC\n",
    "from lightgbm import LGBMClassifier\n",
    "SEED = 42"
   ]
  },
  {
   "cell_type": "markdown",
   "metadata": {},
   "source": [
    "## Define Features and Target Label"
   ]
  },
  {
   "cell_type": "code",
   "execution_count": 6,
   "metadata": {},
   "outputs": [
    {
     "name": "stdout",
     "output_type": "stream",
     "text": [
      "Data dimensions: (223439, 113)\n",
      "Class distribution:\n",
      "0    203792\n",
      "1     19647\n",
      "Name: target, dtype: int64\n"
     ]
    }
   ],
   "source": [
    "# Get target and feature columns\n",
    "label = 'target'\n",
    "features = [column for column in data.columns[:-2]]\n",
    "\n",
    "# Convert target labels to binary\n",
    "data[label] = data[label].replace({2:0, 3:0, 4:0})\n",
    "\n",
    "print('Data dimensions: {}'.format(data.shape))\n",
    "print('Class distribution:\\n{}'.format(data['target'].value_counts()))"
   ]
  },
  {
   "cell_type": "markdown",
   "metadata": {},
   "source": [
    "## Logistic Regression"
   ]
  },
  {
   "cell_type": "markdown",
   "metadata": {},
   "source": [
    "### Feature Selection: Recursive Feature Eleimination CV"
   ]
  },
  {
   "cell_type": "code",
   "execution_count": 7,
   "metadata": {},
   "outputs": [
    {
     "name": "stdout",
     "output_type": "stream",
     "text": [
      "['B3_2016', 'B4_2016', 'B7_2016', 'B10_2016', 'B11_2016', 'B12_2016', 'ui_2016', 'nbi_2016', 'nbai_2016', 'mbi_2016', 'baei_2016', 'B1_2017', 'B2_2017', 'B5_2017', 'B6_2017', 'B9_2017', 'B11_2017', 'B12_2017', 'mndwi_2017', 'ui_2017', 'mbi_2017', 'B2_2018', 'B7_2018', 'ndbi_2018', 'savi_2018', 'ui_2018', 'nbi_2018', 'mbi_2018', 'baei_2018', 'B1_2019', 'B2_2019', 'B5_2019', 'B6_2019', 'B7_2019', 'B9_2019', 'B10_2019', 'B12_2019', 'savi_2019', 'mndwi_2019', 'nbi_2019', 'nbai_2019', 'mbi_2019', 'B1_2020', 'B2_2020', 'B5_2020', 'B6_2020', 'B7_2020', 'B8_2020', 'B9_2020', 'B10_2020', 'B11_2020', 'B12_2020', 'ndbi_2020', 'savi_2020', 'mndwi_2020', 'ui_2020', 'brba_2020', 'nbai_2020', 'mbi_2020', 'baei_2020', 'la_guajira']\n"
     ]
    }
   ],
   "source": [
    "lr = LogisticRegression()\n",
    "lr_best_features = model_utils.rfecv_feature_selection(\n",
    "    lr, data, features, label, scoring='f1', step=10, verbose=0\n",
    ")\n",
    "print(lr_best_features)"
   ]
  },
  {
   "cell_type": "markdown",
   "metadata": {},
   "source": [
    "### [Baseline] Logistic Regression Results Sans Hyperparamater Optimization"
   ]
  },
  {
   "cell_type": "code",
   "execution_count": 8,
   "metadata": {},
   "outputs": [
    {
     "name": "stdout",
     "output_type": "stream",
     "text": [
      "\n",
      "Test set: MAICAO\n",
      "[[46976  3024]\n",
      " [  361   349]]\n",
      "              precision    recall  f1-score   support\n",
      "\n",
      "           0       0.99      0.94      0.97     50000\n",
      "           1       0.10      0.49      0.17       710\n",
      "\n",
      "    accuracy                           0.93     50710\n",
      "   macro avg       0.55      0.72      0.57     50710\n",
      "weighted avg       0.98      0.93      0.95     50710\n",
      "\n",
      "MAICAO Results: \n",
      "- F1 Score: 0.1710\n",
      "- Kappa Statistics: 0.1513\n",
      "- Precision: 0.1035\n",
      "- Recall: 0.4915\n",
      "- Accuracy: 0.9332\n",
      "\n",
      "Test set: RIOHACHA\n",
      "[[37323  1125]\n",
      " [ 2406  1095]]\n",
      "              precision    recall  f1-score   support\n",
      "\n",
      "           0       0.94      0.97      0.95     38448\n",
      "           1       0.49      0.31      0.38      3501\n",
      "\n",
      "    accuracy                           0.92     41949\n",
      "   macro avg       0.72      0.64      0.67     41949\n",
      "weighted avg       0.90      0.92      0.91     41949\n",
      "\n",
      "RIOHACHA Results: \n",
      "- F1 Score: 0.3828\n",
      "- Kappa Statistics: 0.3401\n",
      "- Precision: 0.4932\n",
      "- Recall: 0.3128\n",
      "- Accuracy: 0.9158\n",
      "\n",
      "Test set: URIBIA\n",
      "[[38448     0]\n",
      " [ 9952   393]]\n",
      "              precision    recall  f1-score   support\n",
      "\n",
      "           0       0.79      1.00      0.89     38448\n",
      "           1       1.00      0.04      0.07     10345\n",
      "\n",
      "    accuracy                           0.80     48793\n",
      "   macro avg       0.90      0.52      0.48     48793\n",
      "weighted avg       0.84      0.80      0.71     48793\n",
      "\n",
      "URIBIA Results: \n",
      "- F1 Score: 0.0732\n",
      "- Kappa Statistics: 0.0586\n",
      "- Precision: 1.0000\n",
      "- Recall: 0.0380\n",
      "- Accuracy: 0.7960\n",
      "\n",
      "Test set: ARAUCA1\n",
      "[[38241   207]\n",
      " [ 1375  1051]]\n",
      "              precision    recall  f1-score   support\n",
      "\n",
      "           0       0.97      0.99      0.98     38448\n",
      "           1       0.84      0.43      0.57      2426\n",
      "\n",
      "    accuracy                           0.96     40874\n",
      "   macro avg       0.90      0.71      0.78     40874\n",
      "weighted avg       0.96      0.96      0.96     40874\n",
      "\n",
      "ARAUCA1 Results: \n",
      "- F1 Score: 0.5706\n",
      "- Kappa Statistics: 0.5524\n",
      "- Precision: 0.8355\n",
      "- Recall: 0.4332\n",
      "- Accuracy: 0.9613\n",
      "\n",
      "Test set: CUCUTA\n",
      "[[37796   652]\n",
      " [  297  2368]]\n",
      "              precision    recall  f1-score   support\n",
      "\n",
      "           0       0.99      0.98      0.99     38448\n",
      "           1       0.78      0.89      0.83      2665\n",
      "\n",
      "    accuracy                           0.98     41113\n",
      "   macro avg       0.89      0.94      0.91     41113\n",
      "weighted avg       0.98      0.98      0.98     41113\n",
      "\n",
      "CUCUTA Results: \n",
      "- F1 Score: 0.8331\n",
      "- Kappa Statistics: 0.8207\n",
      "- Precision: 0.7841\n",
      "- Recall: 0.8886\n",
      "- Accuracy: 0.9769\n",
      "\n",
      "Average F1 Score: 0.4061\n",
      "Average Kappa statistic: 0.3846\n",
      "Average Precision: 0.6433\n",
      "Average Recall: 0.4328\n",
      "Average Accuracy: 0.9167\n",
      "\n"
     ]
    }
   ],
   "source": [
    "lr = LogisticRegression()\n",
    "results, clfs = model_utils.geospatialcv(data, lr_best_features, label, lr, verbose=2);"
   ]
  },
  {
   "cell_type": "markdown",
   "metadata": {},
   "source": [
    "### Grid Search Cross Validation"
   ]
  },
  {
   "cell_type": "code",
   "execution_count": 9,
   "metadata": {},
   "outputs": [
    {
     "name": "stdout",
     "output_type": "stream",
     "text": [
      "Fitting 5 folds for each of 5 candidates, totalling 25 fits\n"
     ]
    },
    {
     "name": "stderr",
     "output_type": "stream",
     "text": [
      "[Parallel(n_jobs=-1)]: Using backend LokyBackend with 8 concurrent workers.\n",
      "[Parallel(n_jobs=-1)]: Done  23 out of  25 | elapsed:   28.8s remaining:    2.5s\n",
      "[Parallel(n_jobs=-1)]: Done  25 out of  25 | elapsed:   34.3s finished\n"
     ]
    },
    {
     "name": "stdout",
     "output_type": "stream",
     "text": [
      "Best Paramaters: {'classifier__C': 10, 'classifier__penalty': 'l2'}\n"
     ]
    }
   ],
   "source": [
    "param_grid = {\n",
    "    'classifier__penalty': ['l2'],\n",
    "    'classifier__C':[0.001, 0.01, 1.0, 5.0, 10]\n",
    "}\n",
    "lr_grid_search = model_utils.hyperparameter_optimization(\n",
    "    data, lr_best_features, label, lr, param_grid, scoring='f1', verbose=2\n",
    ")"
   ]
  },
  {
   "cell_type": "markdown",
   "metadata": {},
   "source": [
    "### Logistic Regression Results with Hyperparameter Optimization"
   ]
  },
  {
   "cell_type": "code",
   "execution_count": 10,
   "metadata": {},
   "outputs": [
    {
     "name": "stdout",
     "output_type": "stream",
     "text": [
      "\n",
      "Test set: MAICAO\n",
      "[[46331  3669]\n",
      " [  296   414]]\n",
      "              precision    recall  f1-score   support\n",
      "\n",
      "           0       0.99      0.93      0.96     50000\n",
      "           1       0.10      0.58      0.17       710\n",
      "\n",
      "    accuracy                           0.92     50710\n",
      "   macro avg       0.55      0.75      0.57     50710\n",
      "weighted avg       0.98      0.92      0.95     50710\n",
      "\n",
      "MAICAO Results: \n",
      "- F1 Score: 0.1728\n",
      "- Kappa Statistics: 0.1525\n",
      "- Precision: 0.1014\n",
      "- Recall: 0.5831\n",
      "- Accuracy: 0.9218\n",
      "\n",
      "Test set: RIOHACHA\n",
      "[[37783   665]\n",
      " [ 2241  1260]]\n",
      "              precision    recall  f1-score   support\n",
      "\n",
      "           0       0.94      0.98      0.96     38448\n",
      "           1       0.65      0.36      0.46      3501\n",
      "\n",
      "    accuracy                           0.93     41949\n",
      "   macro avg       0.80      0.67      0.71     41949\n",
      "weighted avg       0.92      0.93      0.92     41949\n",
      "\n",
      "RIOHACHA Results: \n",
      "- F1 Score: 0.4644\n",
      "- Kappa Statistics: 0.4307\n",
      "- Precision: 0.6545\n",
      "- Recall: 0.3599\n",
      "- Accuracy: 0.9307\n",
      "\n",
      "Test set: URIBIA\n",
      "[[38448     0]\n",
      " [ 9957   388]]\n",
      "              precision    recall  f1-score   support\n",
      "\n",
      "           0       0.79      1.00      0.89     38448\n",
      "           1       1.00      0.04      0.07     10345\n",
      "\n",
      "    accuracy                           0.80     48793\n",
      "   macro avg       0.90      0.52      0.48     48793\n",
      "weighted avg       0.84      0.80      0.71     48793\n",
      "\n",
      "URIBIA Results: \n",
      "- F1 Score: 0.0723\n",
      "- Kappa Statistics: 0.0579\n",
      "- Precision: 1.0000\n",
      "- Recall: 0.0375\n",
      "- Accuracy: 0.7959\n",
      "\n",
      "Test set: ARAUCA1\n",
      "[[38043   405]\n",
      " [ 1103  1323]]\n",
      "              precision    recall  f1-score   support\n",
      "\n",
      "           0       0.97      0.99      0.98     38448\n",
      "           1       0.77      0.55      0.64      2426\n",
      "\n",
      "    accuracy                           0.96     40874\n",
      "   macro avg       0.87      0.77      0.81     40874\n",
      "weighted avg       0.96      0.96      0.96     40874\n",
      "\n",
      "ARAUCA1 Results: \n",
      "- F1 Score: 0.6370\n",
      "- Kappa Statistics: 0.6181\n",
      "- Precision: 0.7656\n",
      "- Recall: 0.5453\n",
      "- Accuracy: 0.9631\n",
      "\n",
      "Test set: CUCUTA\n",
      "[[37781   667]\n",
      " [  310  2355]]\n",
      "              precision    recall  f1-score   support\n",
      "\n",
      "           0       0.99      0.98      0.99     38448\n",
      "           1       0.78      0.88      0.83      2665\n",
      "\n",
      "    accuracy                           0.98     41113\n",
      "   macro avg       0.89      0.93      0.91     41113\n",
      "weighted avg       0.98      0.98      0.98     41113\n",
      "\n",
      "CUCUTA Results: \n",
      "- F1 Score: 0.8282\n",
      "- Kappa Statistics: 0.8155\n",
      "- Precision: 0.7793\n",
      "- Recall: 0.8837\n",
      "- Accuracy: 0.9762\n",
      "\n",
      "Average F1 Score: 0.4349\n",
      "Average Kappa statistic: 0.4149\n",
      "Average Precision: 0.6602\n",
      "Average Recall: 0.4819\n",
      "Average Accuracy: 0.9176\n",
      "\n"
     ]
    }
   ],
   "source": [
    "lr = LogisticRegression(C=10)\n",
    "results, clfs = model_utils.geospatialcv(data, lr_best_features, label, lr, verbose=2);"
   ]
  },
  {
   "cell_type": "markdown",
   "metadata": {},
   "source": [
    "## LinearSVC"
   ]
  },
  {
   "cell_type": "code",
   "execution_count": 11,
   "metadata": {},
   "outputs": [
    {
     "name": "stdout",
     "output_type": "stream",
     "text": [
      "['B10_2016', 'B1_2017', 'B5_2017', 'B10_2017', 'B12_2017', 'B7_2019', 'B9_2019', 'B1_2020', 'B2_2020', 'B6_2020', 'mbi_2020']\n"
     ]
    }
   ],
   "source": [
    "lsvc = LinearSVC(random_state=SEED)\n",
    "lsvc_best_features = model_utils.rfecv_feature_selection(\n",
    "    lr, data, features, label, scoring='f1', step=10, verbose=0\n",
    ")\n",
    "print(lsvc_best_features)"
   ]
  },
  {
   "cell_type": "markdown",
   "metadata": {},
   "source": [
    "### [Baseline] LinearSVC Results Sans Hyperparamater Optimization"
   ]
  },
  {
   "cell_type": "code",
   "execution_count": 12,
   "metadata": {},
   "outputs": [
    {
     "name": "stdout",
     "output_type": "stream",
     "text": [
      "\n",
      "Test set: MAICAO\n",
      "[[48895  1105]\n",
      " [  560   150]]\n",
      "              precision    recall  f1-score   support\n",
      "\n",
      "           0       0.99      0.98      0.98     50000\n",
      "           1       0.12      0.21      0.15       710\n",
      "\n",
      "    accuracy                           0.97     50710\n",
      "   macro avg       0.55      0.59      0.57     50710\n",
      "weighted avg       0.98      0.97      0.97     50710\n",
      "\n",
      "MAICAO Results: \n",
      "- F1 Score: 0.1527\n",
      "- Kappa Statistics: 0.1372\n",
      "- Precision: 0.1195\n",
      "- Recall: 0.2113\n",
      "- Accuracy: 0.9672\n",
      "\n",
      "Test set: RIOHACHA\n",
      "[[35596  2852]\n",
      " [ 1682  1819]]\n",
      "              precision    recall  f1-score   support\n",
      "\n",
      "           0       0.95      0.93      0.94     38448\n",
      "           1       0.39      0.52      0.45      3501\n",
      "\n",
      "    accuracy                           0.89     41949\n",
      "   macro avg       0.67      0.72      0.69     41949\n",
      "weighted avg       0.91      0.89      0.90     41949\n",
      "\n",
      "RIOHACHA Results: \n",
      "- F1 Score: 0.4452\n",
      "- Kappa Statistics: 0.3867\n",
      "- Precision: 0.3894\n",
      "- Recall: 0.5196\n",
      "- Accuracy: 0.8919\n",
      "\n",
      "Test set: URIBIA\n",
      "[[38414    34]\n",
      " [ 7459  2886]]\n",
      "              precision    recall  f1-score   support\n",
      "\n",
      "           0       0.84      1.00      0.91     38448\n",
      "           1       0.99      0.28      0.44     10345\n",
      "\n",
      "    accuracy                           0.85     48793\n",
      "   macro avg       0.91      0.64      0.67     48793\n",
      "weighted avg       0.87      0.85      0.81     48793\n",
      "\n",
      "URIBIA Results: \n",
      "- F1 Score: 0.4351\n",
      "- Kappa Statistics: 0.3770\n",
      "- Precision: 0.9884\n",
      "- Recall: 0.2790\n",
      "- Accuracy: 0.8464\n",
      "\n",
      "Test set: ARAUCA1\n",
      "[[38389    59]\n",
      " [ 1970   456]]\n",
      "              precision    recall  f1-score   support\n",
      "\n",
      "           0       0.95      1.00      0.97     38448\n",
      "           1       0.89      0.19      0.31      2426\n",
      "\n",
      "    accuracy                           0.95     40874\n",
      "   macro avg       0.92      0.59      0.64     40874\n",
      "weighted avg       0.95      0.95      0.93     40874\n",
      "\n",
      "ARAUCA1 Results: \n",
      "- F1 Score: 0.3101\n",
      "- Kappa Statistics: 0.2955\n",
      "- Precision: 0.8854\n",
      "- Recall: 0.1880\n",
      "- Accuracy: 0.9504\n",
      "\n",
      "Test set: CUCUTA\n",
      "[[37689   759]\n",
      " [  260  2405]]\n",
      "              precision    recall  f1-score   support\n",
      "\n",
      "           0       0.99      0.98      0.99     38448\n",
      "           1       0.76      0.90      0.83      2665\n",
      "\n",
      "    accuracy                           0.98     41113\n",
      "   macro avg       0.88      0.94      0.91     41113\n",
      "weighted avg       0.98      0.98      0.98     41113\n",
      "\n",
      "CUCUTA Results: \n",
      "- F1 Score: 0.8252\n",
      "- Kappa Statistics: 0.8120\n",
      "- Precision: 0.7601\n",
      "- Recall: 0.9024\n",
      "- Accuracy: 0.9752\n",
      "\n",
      "Average F1 Score: 0.4337\n",
      "Average Kappa statistic: 0.4017\n",
      "Average Precision: 0.6286\n",
      "Average Recall: 0.4200\n",
      "Average Accuracy: 0.9262\n",
      "\n"
     ]
    }
   ],
   "source": [
    "lsvc = LinearSVC(random_state=SEED)\n",
    "results, clfs = model_utils.geospatialcv(data, lsvc_best_features, label, lsvc, verbose=2);"
   ]
  },
  {
   "cell_type": "markdown",
   "metadata": {},
   "source": [
    "### Grid Search Cross Validation\n",
    "Reference: https://towardsdatascience.com/svm-hyper-parameter-tuning-using-gridsearchcv-49c0bc55ce29"
   ]
  },
  {
   "cell_type": "code",
   "execution_count": 13,
   "metadata": {},
   "outputs": [
    {
     "name": "stdout",
     "output_type": "stream",
     "text": [
      "Fitting 5 folds for each of 6 candidates, totalling 30 fits\n"
     ]
    },
    {
     "name": "stderr",
     "output_type": "stream",
     "text": [
      "[Parallel(n_jobs=-1)]: Using backend LokyBackend with 8 concurrent workers.\n",
      "[Parallel(n_jobs=-1)]: Done  30 out of  30 | elapsed:  1.9min finished\n"
     ]
    },
    {
     "name": "stdout",
     "output_type": "stream",
     "text": [
      "Best Paramaters: {'classifier__C': 10}\n"
     ]
    }
   ],
   "source": [
    "lsvc = LinearSVC(random_state=SEED)\n",
    "param_grid = {'classifier__C': [0.001, 0.1, 1, 10, 100, 1000]}\n",
    "lsvc_grid_search = model_utils.hyperparameter_optimization(\n",
    "    data, lsvc_best_features, label, lsvc, param_grid, scoring='f1', verbose=2\n",
    ")"
   ]
  },
  {
   "cell_type": "markdown",
   "metadata": {},
   "source": [
    "### LinearSVC Results with Hyperparameter Optimization"
   ]
  },
  {
   "cell_type": "code",
   "execution_count": 14,
   "metadata": {},
   "outputs": [
    {
     "name": "stdout",
     "output_type": "stream",
     "text": [
      "\n",
      "Test set: MAICAO\n",
      "[[48523  1477]\n",
      " [  544   166]]\n",
      "              precision    recall  f1-score   support\n",
      "\n",
      "           0       0.99      0.97      0.98     50000\n",
      "           1       0.10      0.23      0.14       710\n",
      "\n",
      "    accuracy                           0.96     50710\n",
      "   macro avg       0.54      0.60      0.56     50710\n",
      "weighted avg       0.98      0.96      0.97     50710\n",
      "\n",
      "MAICAO Results: \n",
      "- F1 Score: 0.1411\n",
      "- Kappa Statistics: 0.1240\n",
      "- Precision: 0.1010\n",
      "- Recall: 0.2338\n",
      "- Accuracy: 0.9601\n",
      "\n",
      "Test set: RIOHACHA\n",
      "[[33570  4878]\n",
      " [  955  2546]]\n",
      "              precision    recall  f1-score   support\n",
      "\n",
      "           0       0.97      0.87      0.92     38448\n",
      "           1       0.34      0.73      0.47      3501\n",
      "\n",
      "    accuracy                           0.86     41949\n",
      "   macro avg       0.66      0.80      0.69     41949\n",
      "weighted avg       0.92      0.86      0.88     41949\n",
      "\n",
      "RIOHACHA Results: \n",
      "- F1 Score: 0.4661\n",
      "- Kappa Statistics: 0.3978\n",
      "- Precision: 0.3429\n",
      "- Recall: 0.7272\n",
      "- Accuracy: 0.8610\n",
      "\n",
      "Test set: URIBIA\n",
      "[[38417    31]\n",
      " [ 7537  2808]]\n",
      "              precision    recall  f1-score   support\n",
      "\n",
      "           0       0.84      1.00      0.91     38448\n",
      "           1       0.99      0.27      0.43     10345\n",
      "\n",
      "    accuracy                           0.84     48793\n",
      "   macro avg       0.91      0.64      0.67     48793\n",
      "weighted avg       0.87      0.84      0.81     48793\n",
      "\n",
      "URIBIA Results: \n",
      "- F1 Score: 0.4260\n",
      "- Kappa Statistics: 0.3683\n",
      "- Precision: 0.9891\n",
      "- Recall: 0.2714\n",
      "- Accuracy: 0.8449\n",
      "\n",
      "Test set: ARAUCA1\n",
      "[[38415    33]\n",
      " [ 2142   284]]\n",
      "              precision    recall  f1-score   support\n",
      "\n",
      "           0       0.95      1.00      0.97     38448\n",
      "           1       0.90      0.12      0.21      2426\n",
      "\n",
      "    accuracy                           0.95     40874\n",
      "   macro avg       0.92      0.56      0.59     40874\n",
      "weighted avg       0.94      0.95      0.93     40874\n",
      "\n",
      "ARAUCA1 Results: \n",
      "- F1 Score: 0.2071\n",
      "- Kappa Statistics: 0.1960\n",
      "- Precision: 0.8959\n",
      "- Recall: 0.1171\n",
      "- Accuracy: 0.9468\n",
      "\n",
      "Test set: CUCUTA\n",
      "[[37897   551]\n",
      " [  352  2313]]\n",
      "              precision    recall  f1-score   support\n",
      "\n",
      "           0       0.99      0.99      0.99     38448\n",
      "           1       0.81      0.87      0.84      2665\n",
      "\n",
      "    accuracy                           0.98     41113\n",
      "   macro avg       0.90      0.93      0.91     41113\n",
      "weighted avg       0.98      0.98      0.98     41113\n",
      "\n",
      "CUCUTA Results: \n",
      "- F1 Score: 0.8367\n",
      "- Kappa Statistics: 0.8249\n",
      "- Precision: 0.8076\n",
      "- Recall: 0.8679\n",
      "- Accuracy: 0.9780\n",
      "\n",
      "Average F1 Score: 0.4154\n",
      "Average Kappa statistic: 0.3822\n",
      "Average Precision: 0.6273\n",
      "Average Recall: 0.4435\n",
      "Average Accuracy: 0.9182\n",
      "\n"
     ]
    }
   ],
   "source": [
    "lsvc = LinearSVC(C=1000, random_state=SEED)\n",
    "results, clfs = model_utils.geospatialcv(data, lsvc_best_features, label, lsvc, verbose=2);"
   ]
  }
 ],
 "metadata": {
  "kernelspec": {
   "display_name": "venv",
   "language": "python",
   "name": "venv"
  },
  "language_info": {
   "codemirror_mode": {
    "name": "ipython",
    "version": 3
   },
   "file_extension": ".py",
   "mimetype": "text/x-python",
   "name": "python",
   "nbconvert_exporter": "python",
   "pygments_lexer": "ipython3",
   "version": "3.7.4"
  }
 },
 "nbformat": 4,
 "nbformat_minor": 4
}
